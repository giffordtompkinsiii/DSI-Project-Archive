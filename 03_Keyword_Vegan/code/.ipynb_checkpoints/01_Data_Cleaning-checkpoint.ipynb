{
 "cells": [
  {
   "cell_type": "markdown",
   "metadata": {},
   "source": [
    "# <img src=\"../images/vegan-logo-resized.png\" style=\"float: right; margin: 10px;\">\n",
    "\n",
    "# Data Cleaning and Exploratory Data Analysis\n",
    "\n",
    "Author: Gifford Tompkins\n",
    "\n",
    "---\n",
    "\n",
    "Project 03 | Notebook 1 of 6\n",
    "\n",
    "## OBJECTIVE\n",
    "This notebook will establish a Base Model to compare our final model's success to. We will then clean the data and make it ready fro analysis. We will then begin some Exploratory Data Analysis and attempt to get a sense of whether or not we will be able to answer our problem statement given our body of data. If so, we will also have a sense for how to develop a strategy for building our model."
   ]
  },
  {
   "cell_type": "markdown",
   "metadata": {},
   "source": [
    "# Import Libraries and Dataset"
   ]
  },
  {
   "cell_type": "code",
   "execution_count": 1,
   "metadata": {},
   "outputs": [],
   "source": [
    "import pandas as pd\n",
    "import numpy as np\n",
    "import time\n",
    "import regex as re\n",
    "\n",
    "from nltk.stem import WordNetLemmatizer\n",
    "from sklearn.naive_bayes import GaussianNB, MultinomialNB\n",
    "\n",
    "from sklearn.feature_extraction.text import CountVectorizer, TfidfVectorizer\n",
    "from sklearn.model_selection import train_test_split, GridSearchCV\n",
    "from sklearn.pipeline import Pipeline"
   ]
  },
  {
   "cell_type": "code",
   "execution_count": 2,
   "metadata": {},
   "outputs": [],
   "source": [
    "df = pd.read_csv('../datasets/api_data.csv')\n",
    "df = df.drop_duplicates()"
   ]
  },
  {
   "cell_type": "markdown",
   "metadata": {},
   "source": [
    "## Drop Duplicates\n",
    "Before establishing a baseline model, we will remove any duplicates from our data set to establish a valid class distribution."
   ]
  },
  {
   "cell_type": "code",
   "execution_count": 3,
   "metadata": {},
   "outputs": [
    {
     "data": {
      "text/plain": [
       "0    0.502602\n",
       "1    0.497398\n",
       "Name: vegan, dtype: float64"
      ]
     },
     "execution_count": 3,
     "metadata": {},
     "output_type": "execute_result"
    }
   ],
   "source": [
    "df['vegan'].value_counts(normalize=True)"
   ]
  },
  {
   "cell_type": "markdown",
   "metadata": {},
   "source": [
    "# Baseline Model\n",
    "\n",
    "Our baseline model is the majority class distribution of our data set. We will attempt to create a model with more accuracy than a naive guess. \n",
    "\n",
    "We have a class distribution of \n",
    "\n",
    "|Vegan|Vegetarian|\n",
    "|---|---|\n",
    "|49.7%|50.3%|\n",
    "\n",
    "So our baseline score is that of the majority class **Vegetarians**, at **50.42%**."
   ]
  },
  {
   "cell_type": "code",
   "execution_count": 4,
   "metadata": {},
   "outputs": [],
   "source": [
    "base_score = 1 - df['vegan'].mean()"
   ]
  },
  {
   "cell_type": "markdown",
   "metadata": {},
   "source": [
    "# Data Cleaning\n",
    "We will look through our data and see if anything needs to be cleaned."
   ]
  },
  {
   "cell_type": "code",
   "execution_count": 5,
   "metadata": {
    "scrolled": true
   },
   "outputs": [
    {
     "data": {
      "text/html": [
       "<div>\n",
       "<style scoped>\n",
       "    .dataframe tbody tr th:only-of-type {\n",
       "        vertical-align: middle;\n",
       "    }\n",
       "\n",
       "    .dataframe tbody tr th {\n",
       "        vertical-align: top;\n",
       "    }\n",
       "\n",
       "    .dataframe thead th {\n",
       "        text-align: right;\n",
       "    }\n",
       "</style>\n",
       "<table border=\"1\" class=\"dataframe\">\n",
       "  <thead>\n",
       "    <tr style=\"text-align: right;\">\n",
       "      <th></th>\n",
       "      <th>title</th>\n",
       "      <th>selftext</th>\n",
       "      <th>vegan</th>\n",
       "    </tr>\n",
       "  </thead>\n",
       "  <tbody>\n",
       "    <tr>\n",
       "      <td>0</td>\n",
       "      <td>Lentil soup with sliced Beyond Meat sausage ta...</td>\n",
       "      <td>NaN</td>\n",
       "      <td>0</td>\n",
       "    </tr>\n",
       "    <tr>\n",
       "      <td>1</td>\n",
       "      <td>Lentil soup with sliced Beyond Meat sausage ta...</td>\n",
       "      <td>NaN</td>\n",
       "      <td>0</td>\n",
       "    </tr>\n",
       "    <tr>\n",
       "      <td>2</td>\n",
       "      <td>Recipes for thanksgiving?</td>\n",
       "      <td>Hi! My bf’s sister is hosting thanksgiving thi...</td>\n",
       "      <td>0</td>\n",
       "    </tr>\n",
       "    <tr>\n",
       "      <td>3</td>\n",
       "      <td>What Happens IMMEDIATELY After You Die?? The T...</td>\n",
       "      <td>[https://www.youtube.com/watch?v=Dyvl\\_8SoAjc...</td>\n",
       "      <td>0</td>\n",
       "    </tr>\n",
       "    <tr>\n",
       "      <td>4</td>\n",
       "      <td>Vegetarian Chili for a cold October evening</td>\n",
       "      <td>NaN</td>\n",
       "      <td>0</td>\n",
       "    </tr>\n",
       "    <tr>\n",
       "      <td>5</td>\n",
       "      <td>Any suggestions for vegetarian meal delivery s...</td>\n",
       "      <td>[removed]</td>\n",
       "      <td>0</td>\n",
       "    </tr>\n",
       "    <tr>\n",
       "      <td>6</td>\n",
       "      <td>Vegetarian =/= healthy. Garbage plate!</td>\n",
       "      <td>NaN</td>\n",
       "      <td>0</td>\n",
       "    </tr>\n",
       "    <tr>\n",
       "      <td>7</td>\n",
       "      <td>Lazy chickpea pot pie!</td>\n",
       "      <td>NaN</td>\n",
       "      <td>0</td>\n",
       "    </tr>\n",
       "    <tr>\n",
       "      <td>8</td>\n",
       "      <td>Ask me if I miss eating meat.</td>\n",
       "      <td>NaN</td>\n",
       "      <td>0</td>\n",
       "    </tr>\n",
       "    <tr>\n",
       "      <td>9</td>\n",
       "      <td>Would you fill out this survey?</td>\n",
       "      <td>[removed]</td>\n",
       "      <td>0</td>\n",
       "    </tr>\n",
       "  </tbody>\n",
       "</table>\n",
       "</div>"
      ],
      "text/plain": [
       "                                               title  \\\n",
       "0  Lentil soup with sliced Beyond Meat sausage ta...   \n",
       "1  Lentil soup with sliced Beyond Meat sausage ta...   \n",
       "2                          Recipes for thanksgiving?   \n",
       "3  What Happens IMMEDIATELY After You Die?? The T...   \n",
       "4        Vegetarian Chili for a cold October evening   \n",
       "5  Any suggestions for vegetarian meal delivery s...   \n",
       "6             Vegetarian =/= healthy. Garbage plate!   \n",
       "7                             Lazy chickpea pot pie!   \n",
       "8                      Ask me if I miss eating meat.   \n",
       "9                    Would you fill out this survey?   \n",
       "\n",
       "                                            selftext  vegan  \n",
       "0                                                NaN      0  \n",
       "1                                                NaN      0  \n",
       "2  Hi! My bf’s sister is hosting thanksgiving thi...      0  \n",
       "3   [https://www.youtube.com/watch?v=Dyvl\\_8SoAjc...      0  \n",
       "4                                                NaN      0  \n",
       "5                                          [removed]      0  \n",
       "6                                                NaN      0  \n",
       "7                                                NaN      0  \n",
       "8                                                NaN      0  \n",
       "9                                          [removed]      0  "
      ]
     },
     "execution_count": 5,
     "metadata": {},
     "output_type": "execute_result"
    }
   ],
   "source": [
    "df.head(10)"
   ]
  },
  {
   "cell_type": "code",
   "execution_count": 6,
   "metadata": {},
   "outputs": [
    {
     "data": {
      "text/plain": [
       "title       0.000000\n",
       "selftext    0.568235\n",
       "vegan       0.000000\n",
       "dtype: float64"
      ]
     },
     "execution_count": 6,
     "metadata": {},
     "output_type": "execute_result"
    }
   ],
   "source": [
    "df.isnull().mean()"
   ]
  },
  {
   "cell_type": "markdown",
   "metadata": {},
   "source": [
    "## Missing Values\n",
    "The `'selftext'` column has many `null` values as well as several instances of the phrase `'[removed]'`. This is how the API records the fact that a post contained body text but that text was then removed (either by the user or the subreddit or reddit moderators).  \n",
    "\n",
    "We will address both of these issues by replacing them with the empty string. The textual version of a `null` value.\n",
    "\n",
    "Fortunately, `'titles'` and `'vegan'`  have no missing values."
   ]
  },
  {
   "cell_type": "code",
   "execution_count": 7,
   "metadata": {},
   "outputs": [
    {
     "data": {
      "text/plain": [
       "vegan\n",
       "0    520\n",
       "1    258\n",
       "Name: selftext, dtype: int64"
      ]
     },
     "execution_count": 7,
     "metadata": {},
     "output_type": "execute_result"
    }
   ],
   "source": [
    "mask_removed = df['selftext']=='[removed]'\n",
    "df[mask_removed].groupby(by='vegan')['selftext'].count()"
   ]
  },
  {
   "cell_type": "markdown",
   "metadata": {},
   "source": [
    "### Create `'removed'` column\n",
    "Vegans twice as many `'[removed]'` posts as Vegetarians. This fact might end up being signaling, so I am going to save that information in a new column called 'removed_post'. I will then remove the `'[removed]'` string from the column."
   ]
  },
  {
   "cell_type": "code",
   "execution_count": 8,
   "metadata": {},
   "outputs": [],
   "source": [
    "df['removed'] = (mask_removed).astype(int)"
   ]
  },
  {
   "cell_type": "code",
   "execution_count": 9,
   "metadata": {},
   "outputs": [
    {
     "data": {
      "text/plain": [
       "vegan\n",
       "0    520\n",
       "1    258\n",
       "Name: removed, dtype: int64"
      ]
     },
     "execution_count": 9,
     "metadata": {},
     "output_type": "execute_result"
    }
   ],
   "source": [
    "# Confirm that the new column was created correctly.\n",
    "df.groupby(by='vegan')['removed'].sum()"
   ]
  },
  {
   "cell_type": "code",
   "execution_count": 10,
   "metadata": {},
   "outputs": [
    {
     "data": {
      "text/html": [
       "<div>\n",
       "<style scoped>\n",
       "    .dataframe tbody tr th:only-of-type {\n",
       "        vertical-align: middle;\n",
       "    }\n",
       "\n",
       "    .dataframe tbody tr th {\n",
       "        vertical-align: top;\n",
       "    }\n",
       "\n",
       "    .dataframe thead th {\n",
       "        text-align: right;\n",
       "    }\n",
       "</style>\n",
       "<table border=\"1\" class=\"dataframe\">\n",
       "  <thead>\n",
       "    <tr style=\"text-align: right;\">\n",
       "      <th></th>\n",
       "      <th>title</th>\n",
       "      <th>selftext</th>\n",
       "      <th>vegan</th>\n",
       "      <th>removed</th>\n",
       "    </tr>\n",
       "  </thead>\n",
       "  <tbody>\n",
       "    <tr>\n",
       "      <td>5</td>\n",
       "      <td>Any suggestions for vegetarian meal delivery s...</td>\n",
       "      <td>[removed]</td>\n",
       "      <td>0</td>\n",
       "      <td>1</td>\n",
       "    </tr>\n",
       "    <tr>\n",
       "      <td>9</td>\n",
       "      <td>Would you fill out this survey?</td>\n",
       "      <td>[removed]</td>\n",
       "      <td>0</td>\n",
       "      <td>1</td>\n",
       "    </tr>\n",
       "    <tr>\n",
       "      <td>31</td>\n",
       "      <td>Reddit hates vegetarians</td>\n",
       "      <td>[removed]</td>\n",
       "      <td>0</td>\n",
       "      <td>1</td>\n",
       "    </tr>\n",
       "    <tr>\n",
       "      <td>34</td>\n",
       "      <td>Vegetarian in an omnivore family?</td>\n",
       "      <td>[removed]</td>\n",
       "      <td>0</td>\n",
       "      <td>1</td>\n",
       "    </tr>\n",
       "    <tr>\n",
       "      <td>48</td>\n",
       "      <td>Supplements for new vegetarian?</td>\n",
       "      <td>[removed]</td>\n",
       "      <td>0</td>\n",
       "      <td>1</td>\n",
       "    </tr>\n",
       "  </tbody>\n",
       "</table>\n",
       "</div>"
      ],
      "text/plain": [
       "                                                title   selftext  vegan  \\\n",
       "5   Any suggestions for vegetarian meal delivery s...  [removed]      0   \n",
       "9                     Would you fill out this survey?  [removed]      0   \n",
       "31                           Reddit hates vegetarians  [removed]      0   \n",
       "34                  Vegetarian in an omnivore family?  [removed]      0   \n",
       "48                    Supplements for new vegetarian?  [removed]      0   \n",
       "\n",
       "    removed  \n",
       "5         1  \n",
       "9         1  \n",
       "31        1  \n",
       "34        1  \n",
       "48        1  "
      ]
     },
     "execution_count": 10,
     "metadata": {},
     "output_type": "execute_result"
    }
   ],
   "source": [
    "df[mask_removed].head()"
   ]
  },
  {
   "cell_type": "code",
   "execution_count": 11,
   "metadata": {},
   "outputs": [],
   "source": [
    "# Replace all '[removed]' values with null values\n",
    "df['selftext'] = df['selftext'].where(~mask_removed,np.nan)"
   ]
  },
  {
   "cell_type": "code",
   "execution_count": 12,
   "metadata": {},
   "outputs": [
    {
     "data": {
      "text/html": [
       "<div>\n",
       "<style scoped>\n",
       "    .dataframe tbody tr th:only-of-type {\n",
       "        vertical-align: middle;\n",
       "    }\n",
       "\n",
       "    .dataframe tbody tr th {\n",
       "        vertical-align: top;\n",
       "    }\n",
       "\n",
       "    .dataframe thead th {\n",
       "        text-align: right;\n",
       "    }\n",
       "</style>\n",
       "<table border=\"1\" class=\"dataframe\">\n",
       "  <thead>\n",
       "    <tr style=\"text-align: right;\">\n",
       "      <th></th>\n",
       "      <th>title</th>\n",
       "      <th>selftext</th>\n",
       "      <th>vegan</th>\n",
       "      <th>removed</th>\n",
       "    </tr>\n",
       "  </thead>\n",
       "  <tbody>\n",
       "    <tr>\n",
       "      <td>5</td>\n",
       "      <td>Any suggestions for vegetarian meal delivery s...</td>\n",
       "      <td>NaN</td>\n",
       "      <td>0</td>\n",
       "      <td>1</td>\n",
       "    </tr>\n",
       "    <tr>\n",
       "      <td>9</td>\n",
       "      <td>Would you fill out this survey?</td>\n",
       "      <td>NaN</td>\n",
       "      <td>0</td>\n",
       "      <td>1</td>\n",
       "    </tr>\n",
       "    <tr>\n",
       "      <td>31</td>\n",
       "      <td>Reddit hates vegetarians</td>\n",
       "      <td>NaN</td>\n",
       "      <td>0</td>\n",
       "      <td>1</td>\n",
       "    </tr>\n",
       "    <tr>\n",
       "      <td>34</td>\n",
       "      <td>Vegetarian in an omnivore family?</td>\n",
       "      <td>NaN</td>\n",
       "      <td>0</td>\n",
       "      <td>1</td>\n",
       "    </tr>\n",
       "    <tr>\n",
       "      <td>48</td>\n",
       "      <td>Supplements for new vegetarian?</td>\n",
       "      <td>NaN</td>\n",
       "      <td>0</td>\n",
       "      <td>1</td>\n",
       "    </tr>\n",
       "    <tr>\n",
       "      <td>...</td>\n",
       "      <td>...</td>\n",
       "      <td>...</td>\n",
       "      <td>...</td>\n",
       "      <td>...</td>\n",
       "    </tr>\n",
       "    <tr>\n",
       "      <td>20729</td>\n",
       "      <td>Let’s Convince Bumble To Add A Vegan Filter</td>\n",
       "      <td>NaN</td>\n",
       "      <td>1</td>\n",
       "      <td>1</td>\n",
       "    </tr>\n",
       "    <tr>\n",
       "      <td>20903</td>\n",
       "      <td>How to be vegan with numerous food intolerances?</td>\n",
       "      <td>NaN</td>\n",
       "      <td>1</td>\n",
       "      <td>1</td>\n",
       "    </tr>\n",
       "    <tr>\n",
       "      <td>20906</td>\n",
       "      <td>If you eat meat, you only care about the envir...</td>\n",
       "      <td>NaN</td>\n",
       "      <td>1</td>\n",
       "      <td>1</td>\n",
       "    </tr>\n",
       "    <tr>\n",
       "      <td>20943</td>\n",
       "      <td>herbal cigarettes?</td>\n",
       "      <td>NaN</td>\n",
       "      <td>1</td>\n",
       "      <td>1</td>\n",
       "    </tr>\n",
       "    <tr>\n",
       "      <td>20947</td>\n",
       "      <td>Yum steak</td>\n",
       "      <td>NaN</td>\n",
       "      <td>1</td>\n",
       "      <td>1</td>\n",
       "    </tr>\n",
       "  </tbody>\n",
       "</table>\n",
       "<p>778 rows × 4 columns</p>\n",
       "</div>"
      ],
      "text/plain": [
       "                                                   title selftext  vegan  \\\n",
       "5      Any suggestions for vegetarian meal delivery s...      NaN      0   \n",
       "9                        Would you fill out this survey?      NaN      0   \n",
       "31                              Reddit hates vegetarians      NaN      0   \n",
       "34                     Vegetarian in an omnivore family?      NaN      0   \n",
       "48                       Supplements for new vegetarian?      NaN      0   \n",
       "...                                                  ...      ...    ...   \n",
       "20729        Let’s Convince Bumble To Add A Vegan Filter      NaN      1   \n",
       "20903   How to be vegan with numerous food intolerances?      NaN      1   \n",
       "20906  If you eat meat, you only care about the envir...      NaN      1   \n",
       "20943                                 herbal cigarettes?      NaN      1   \n",
       "20947                                          Yum steak      NaN      1   \n",
       "\n",
       "       removed  \n",
       "5            1  \n",
       "9            1  \n",
       "31           1  \n",
       "34           1  \n",
       "48           1  \n",
       "...        ...  \n",
       "20729        1  \n",
       "20903        1  \n",
       "20906        1  \n",
       "20943        1  \n",
       "20947        1  \n",
       "\n",
       "[778 rows x 4 columns]"
      ]
     },
     "execution_count": 12,
     "metadata": {},
     "output_type": "execute_result"
    }
   ],
   "source": [
    "# Confirm that values have been replaced.\n",
    "df[mask_removed]"
   ]
  },
  {
   "cell_type": "markdown",
   "metadata": {},
   "source": [
    "### Imputing Empty Strings\n",
    "Now, for the null values in the `selftext` column, we are going to impute empty strings."
   ]
  },
  {
   "cell_type": "code",
   "execution_count": 13,
   "metadata": {},
   "outputs": [],
   "source": [
    "df['selftext'] = df['selftext'].fillna('')"
   ]
  },
  {
   "cell_type": "code",
   "execution_count": 14,
   "metadata": {},
   "outputs": [
    {
     "data": {
      "text/plain": [
       "0"
      ]
     },
     "execution_count": 14,
     "metadata": {},
     "output_type": "execute_result"
    }
   ],
   "source": [
    "df['selftext'].isnull().sum()"
   ]
  },
  {
   "cell_type": "code",
   "execution_count": 15,
   "metadata": {},
   "outputs": [
    {
     "data": {
      "text/html": [
       "<div>\n",
       "<style scoped>\n",
       "    .dataframe tbody tr th:only-of-type {\n",
       "        vertical-align: middle;\n",
       "    }\n",
       "\n",
       "    .dataframe tbody tr th {\n",
       "        vertical-align: top;\n",
       "    }\n",
       "\n",
       "    .dataframe thead th {\n",
       "        text-align: right;\n",
       "    }\n",
       "</style>\n",
       "<table border=\"1\" class=\"dataframe\">\n",
       "  <thead>\n",
       "    <tr style=\"text-align: right;\">\n",
       "      <th></th>\n",
       "      <th>title</th>\n",
       "      <th>selftext</th>\n",
       "      <th>vegan</th>\n",
       "      <th>removed</th>\n",
       "    </tr>\n",
       "  </thead>\n",
       "  <tbody>\n",
       "    <tr>\n",
       "      <td>0</td>\n",
       "      <td>Lentil soup with sliced Beyond Meat sausage ta...</td>\n",
       "      <td></td>\n",
       "      <td>0</td>\n",
       "      <td>0</td>\n",
       "    </tr>\n",
       "    <tr>\n",
       "      <td>1</td>\n",
       "      <td>Lentil soup with sliced Beyond Meat sausage ta...</td>\n",
       "      <td></td>\n",
       "      <td>0</td>\n",
       "      <td>0</td>\n",
       "    </tr>\n",
       "    <tr>\n",
       "      <td>2</td>\n",
       "      <td>Recipes for thanksgiving?</td>\n",
       "      <td>Hi! My bf’s sister is hosting thanksgiving thi...</td>\n",
       "      <td>0</td>\n",
       "      <td>0</td>\n",
       "    </tr>\n",
       "    <tr>\n",
       "      <td>3</td>\n",
       "      <td>What Happens IMMEDIATELY After You Die?? The T...</td>\n",
       "      <td>[https://www.youtube.com/watch?v=Dyvl\\_8SoAjc...</td>\n",
       "      <td>0</td>\n",
       "      <td>0</td>\n",
       "    </tr>\n",
       "    <tr>\n",
       "      <td>4</td>\n",
       "      <td>Vegetarian Chili for a cold October evening</td>\n",
       "      <td></td>\n",
       "      <td>0</td>\n",
       "      <td>0</td>\n",
       "    </tr>\n",
       "  </tbody>\n",
       "</table>\n",
       "</div>"
      ],
      "text/plain": [
       "                                               title  \\\n",
       "0  Lentil soup with sliced Beyond Meat sausage ta...   \n",
       "1  Lentil soup with sliced Beyond Meat sausage ta...   \n",
       "2                          Recipes for thanksgiving?   \n",
       "3  What Happens IMMEDIATELY After You Die?? The T...   \n",
       "4        Vegetarian Chili for a cold October evening   \n",
       "\n",
       "                                            selftext  vegan  removed  \n",
       "0                                                         0        0  \n",
       "1                                                         0        0  \n",
       "2  Hi! My bf’s sister is hosting thanksgiving thi...      0        0  \n",
       "3   [https://www.youtube.com/watch?v=Dyvl\\_8SoAjc...      0        0  \n",
       "4                                                         0        0  "
      ]
     },
     "execution_count": 15,
     "metadata": {},
     "output_type": "execute_result"
    }
   ],
   "source": [
    "df.head()"
   ]
  },
  {
   "cell_type": "markdown",
   "metadata": {},
   "source": [
    "# Create `'text'` Column\n",
    "To simplify the vectorization, we will create a column with all of our textual data."
   ]
  },
  {
   "cell_type": "code",
   "execution_count": 16,
   "metadata": {},
   "outputs": [
    {
     "data": {
      "text/html": [
       "<div>\n",
       "<style scoped>\n",
       "    .dataframe tbody tr th:only-of-type {\n",
       "        vertical-align: middle;\n",
       "    }\n",
       "\n",
       "    .dataframe tbody tr th {\n",
       "        vertical-align: top;\n",
       "    }\n",
       "\n",
       "    .dataframe thead th {\n",
       "        text-align: right;\n",
       "    }\n",
       "</style>\n",
       "<table border=\"1\" class=\"dataframe\">\n",
       "  <thead>\n",
       "    <tr style=\"text-align: right;\">\n",
       "      <th></th>\n",
       "      <th>title</th>\n",
       "      <th>selftext</th>\n",
       "      <th>vegan</th>\n",
       "      <th>removed</th>\n",
       "      <th>text</th>\n",
       "    </tr>\n",
       "  </thead>\n",
       "  <tbody>\n",
       "    <tr>\n",
       "      <td>0</td>\n",
       "      <td>Lentil soup with sliced Beyond Meat sausage ta...</td>\n",
       "      <td></td>\n",
       "      <td>0</td>\n",
       "      <td>0</td>\n",
       "      <td>Lentil soup with sliced Beyond Meat sausage ta...</td>\n",
       "    </tr>\n",
       "    <tr>\n",
       "      <td>1</td>\n",
       "      <td>Lentil soup with sliced Beyond Meat sausage ta...</td>\n",
       "      <td></td>\n",
       "      <td>0</td>\n",
       "      <td>0</td>\n",
       "      <td>Lentil soup with sliced Beyond Meat sausage ta...</td>\n",
       "    </tr>\n",
       "    <tr>\n",
       "      <td>2</td>\n",
       "      <td>Recipes for thanksgiving?</td>\n",
       "      <td>Hi! My bf’s sister is hosting thanksgiving thi...</td>\n",
       "      <td>0</td>\n",
       "      <td>0</td>\n",
       "      <td>Recipes for thanksgiving? Hi! My bf’s sister i...</td>\n",
       "    </tr>\n",
       "    <tr>\n",
       "      <td>3</td>\n",
       "      <td>What Happens IMMEDIATELY After You Die?? The T...</td>\n",
       "      <td>[https://www.youtube.com/watch?v=Dyvl\\_8SoAjc...</td>\n",
       "      <td>0</td>\n",
       "      <td>0</td>\n",
       "      <td>What Happens IMMEDIATELY After You Die?? The T...</td>\n",
       "    </tr>\n",
       "    <tr>\n",
       "      <td>4</td>\n",
       "      <td>Vegetarian Chili for a cold October evening</td>\n",
       "      <td></td>\n",
       "      <td>0</td>\n",
       "      <td>0</td>\n",
       "      <td>Vegetarian Chili for a cold October evening</td>\n",
       "    </tr>\n",
       "  </tbody>\n",
       "</table>\n",
       "</div>"
      ],
      "text/plain": [
       "                                               title  \\\n",
       "0  Lentil soup with sliced Beyond Meat sausage ta...   \n",
       "1  Lentil soup with sliced Beyond Meat sausage ta...   \n",
       "2                          Recipes for thanksgiving?   \n",
       "3  What Happens IMMEDIATELY After You Die?? The T...   \n",
       "4        Vegetarian Chili for a cold October evening   \n",
       "\n",
       "                                            selftext  vegan  removed  \\\n",
       "0                                                         0        0   \n",
       "1                                                         0        0   \n",
       "2  Hi! My bf’s sister is hosting thanksgiving thi...      0        0   \n",
       "3   [https://www.youtube.com/watch?v=Dyvl\\_8SoAjc...      0        0   \n",
       "4                                                         0        0   \n",
       "\n",
       "                                                text  \n",
       "0  Lentil soup with sliced Beyond Meat sausage ta...  \n",
       "1  Lentil soup with sliced Beyond Meat sausage ta...  \n",
       "2  Recipes for thanksgiving? Hi! My bf’s sister i...  \n",
       "3  What Happens IMMEDIATELY After You Die?? The T...  \n",
       "4       Vegetarian Chili for a cold October evening   "
      ]
     },
     "execution_count": 16,
     "metadata": {},
     "output_type": "execute_result"
    }
   ],
   "source": [
    "df['text'] = df['title'] + ' ' + df['selftext']\n",
    "df.head()"
   ]
  },
  {
   "cell_type": "markdown",
   "metadata": {},
   "source": [
    "## Lemmatize and Standardize Text Column\n",
    "For our next piece of cleaning, we will use the custom function called `clean_string` that will strip any HTML-formatting elements from our string and then pass that string through a WordNetLemmatizer. \n",
    "\n",
    "The lemmatizer will reduce our vocabulary by converting words to their basic forms. \n",
    "- For example: \"ran\" and \"run\" will both be converted to \"run\" and counted as the same vocabulary word.\n",
    "\n",
    "We may lose some signal by doing this, but it will help out analysis in the long-run. When we convert this data into its final form for analysis, every word or phrase will be considered a feature. Thus, if we can cut down the number of features, we will cut down the amount of time and processing power necessary to fit and evaluate our models.\n",
    "\n",
    "To see the code and documentation for this function, see the [`data_cleaning`](./project_functions/data_cleaning_and_eda.py) code stored in the [`project_functions`](./project_functions/) folder in this repository."
   ]
  },
  {
   "cell_type": "code",
   "execution_count": 17,
   "metadata": {},
   "outputs": [],
   "source": [
    "from project_functions.data_cleaning_and_eda import clean_string"
   ]
  },
  {
   "cell_type": "markdown",
   "metadata": {},
   "source": [
    "## More Duplicates and the Reason for Beautiful Soup\n",
    "Notice the first two titles of our dataset. They were not removed with our initial duplicate drop and are considered unique because of a few non textual elements."
   ]
  },
  {
   "cell_type": "code",
   "execution_count": 18,
   "metadata": {},
   "outputs": [
    {
     "name": "stdout",
     "output_type": "stream",
     "text": [
      "Lentil soup with sliced Beyond Meat sausage tastes DELICIOUS.\n",
      "Lentil soup with sliced Beyond Meat sausage tastes DELICIOUS 😋\n"
     ]
    }
   ],
   "source": [
    "print(df.loc[0,'title'])\n",
    "print(df.loc[1,'title'])"
   ]
  },
  {
   "cell_type": "code",
   "execution_count": 19,
   "metadata": {},
   "outputs": [
    {
     "data": {
      "text/plain": [
       "False"
      ]
     },
     "execution_count": 19,
     "metadata": {},
     "output_type": "execute_result"
    }
   ],
   "source": [
    "# Python does not consider these two strings as identical.\n",
    "df['text'][0] == df['text'][1]"
   ]
  },
  {
   "cell_type": "markdown",
   "metadata": {},
   "source": [
    ">When we clean the strings, they will be converted into a form that is identified as identical. This will ultimately help us reduce the amount of _noise_ in our model."
   ]
  },
  {
   "cell_type": "code",
   "execution_count": 20,
   "metadata": {},
   "outputs": [
    {
     "data": {
      "text/plain": [
       "True"
      ]
     },
     "execution_count": 20,
     "metadata": {},
     "output_type": "execute_result"
    }
   ],
   "source": [
    "# Check that the cleaned versions of our strings would be read as identical.\n",
    "df['text'].map(clean_string)[0] == df['text'].map(clean_string)[1]"
   ]
  },
  {
   "cell_type": "markdown",
   "metadata": {},
   "source": [
    "> When we pass the strings through `clean_string` they are interpreted as identical. We can use this to further refine our data, drop more duplicated columns and reduce more noise.  \n",
    ">\n",
    "> We will pass the `keep='last'` parameter into the drop duplicates method so as to keep the (closest to) original post, we will also only drop duplicates from the same subreddits. Finally, we will drop any posts that, after the cleaning, are only the empty string."
   ]
  },
  {
   "cell_type": "code",
   "execution_count": 21,
   "metadata": {},
   "outputs": [],
   "source": [
    "df['text'] = df['text'].map(clean_string)"
   ]
  },
  {
   "cell_type": "code",
   "execution_count": 22,
   "metadata": {},
   "outputs": [
    {
     "name": "stdout",
     "output_type": "stream",
     "text": [
      "(19411, 5)\n",
      "(19237, 5)\n"
     ]
    }
   ],
   "source": [
    "print(df.shape)\n",
    "df = df.drop_duplicates(subset=['text','vegan'],keep='last')\n",
    "df = df[df['text'].str.strip()!='']\n",
    "print(df.shape)\n",
    "# Dropped: 174 rows"
   ]
  },
  {
   "cell_type": "code",
   "execution_count": 23,
   "metadata": {},
   "outputs": [
    {
     "data": {
      "text/html": [
       "<div>\n",
       "<style scoped>\n",
       "    .dataframe tbody tr th:only-of-type {\n",
       "        vertical-align: middle;\n",
       "    }\n",
       "\n",
       "    .dataframe tbody tr th {\n",
       "        vertical-align: top;\n",
       "    }\n",
       "\n",
       "    .dataframe thead th {\n",
       "        text-align: right;\n",
       "    }\n",
       "</style>\n",
       "<table border=\"1\" class=\"dataframe\">\n",
       "  <thead>\n",
       "    <tr style=\"text-align: right;\">\n",
       "      <th></th>\n",
       "      <th>title</th>\n",
       "      <th>selftext</th>\n",
       "      <th>vegan</th>\n",
       "      <th>removed</th>\n",
       "      <th>text</th>\n",
       "    </tr>\n",
       "  </thead>\n",
       "  <tbody>\n",
       "    <tr>\n",
       "      <td>1</td>\n",
       "      <td>Lentil soup with sliced Beyond Meat sausage ta...</td>\n",
       "      <td></td>\n",
       "      <td>0</td>\n",
       "      <td>0</td>\n",
       "      <td>lentil soup with sliced beyond meat sausage ta...</td>\n",
       "    </tr>\n",
       "    <tr>\n",
       "      <td>2</td>\n",
       "      <td>Recipes for thanksgiving?</td>\n",
       "      <td>Hi! My bf’s sister is hosting thanksgiving thi...</td>\n",
       "      <td>0</td>\n",
       "      <td>0</td>\n",
       "      <td>recipe for thanksgiving  hi  my bfs sister is ...</td>\n",
       "    </tr>\n",
       "    <tr>\n",
       "      <td>3</td>\n",
       "      <td>What Happens IMMEDIATELY After You Die?? The T...</td>\n",
       "      <td>[https://www.youtube.com/watch?v=Dyvl\\_8SoAjc...</td>\n",
       "      <td>0</td>\n",
       "      <td>0</td>\n",
       "      <td>what happens immediately after you die   the t...</td>\n",
       "    </tr>\n",
       "    <tr>\n",
       "      <td>4</td>\n",
       "      <td>Vegetarian Chili for a cold October evening</td>\n",
       "      <td></td>\n",
       "      <td>0</td>\n",
       "      <td>0</td>\n",
       "      <td>vegetarian chili for a cold october evening</td>\n",
       "    </tr>\n",
       "    <tr>\n",
       "      <td>5</td>\n",
       "      <td>Any suggestions for vegetarian meal delivery s...</td>\n",
       "      <td></td>\n",
       "      <td>0</td>\n",
       "      <td>1</td>\n",
       "      <td>any suggestion for vegetarian meal delivery se...</td>\n",
       "    </tr>\n",
       "  </tbody>\n",
       "</table>\n",
       "</div>"
      ],
      "text/plain": [
       "                                               title  \\\n",
       "1  Lentil soup with sliced Beyond Meat sausage ta...   \n",
       "2                          Recipes for thanksgiving?   \n",
       "3  What Happens IMMEDIATELY After You Die?? The T...   \n",
       "4        Vegetarian Chili for a cold October evening   \n",
       "5  Any suggestions for vegetarian meal delivery s...   \n",
       "\n",
       "                                            selftext  vegan  removed  \\\n",
       "1                                                         0        0   \n",
       "2  Hi! My bf’s sister is hosting thanksgiving thi...      0        0   \n",
       "3   [https://www.youtube.com/watch?v=Dyvl\\_8SoAjc...      0        0   \n",
       "4                                                         0        0   \n",
       "5                                                         0        1   \n",
       "\n",
       "                                                text  \n",
       "1  lentil soup with sliced beyond meat sausage ta...  \n",
       "2  recipe for thanksgiving  hi  my bfs sister is ...  \n",
       "3  what happens immediately after you die   the t...  \n",
       "4        vegetarian chili for a cold october evening  \n",
       "5  any suggestion for vegetarian meal delivery se...  "
      ]
     },
     "execution_count": 23,
     "metadata": {},
     "output_type": "execute_result"
    }
   ],
   "source": [
    "# Confirm one of our first duplicates have been resolved.\n",
    "df.head(5)"
   ]
  },
  {
   "cell_type": "markdown",
   "metadata": {},
   "source": [
    "# Save Cleaned Data Frame\n",
    "We will save our cleaned data frame and use this in our subsequent exploration."
   ]
  },
  {
   "cell_type": "code",
   "execution_count": 24,
   "metadata": {},
   "outputs": [],
   "source": [
    "data_csv = '../datasets/data.csv'\n",
    "df.to_csv(data_csv,index=False)"
   ]
  },
  {
   "cell_type": "markdown",
   "metadata": {},
   "source": [
    "# Summary and Next Steps\n",
    "In this notebook, we cleaned our data to prepare it for some exploratory analysis. We removed duplicates and empty strings and standardized our data from HTML formatting to plain text using BeautifulSoup and some custom functions. We then combined all of our textual data into a single corpus and saved this all to our [`data.csv`]('../datasets/data.csv').\n",
    "\n",
    "In our next notebook, we will perform some exploratory analysis before building our first models."
   ]
  }
 ],
 "metadata": {
  "kernelspec": {
   "display_name": "Python 3",
   "language": "python",
   "name": "python3"
  },
  "language_info": {
   "codemirror_mode": {
    "name": "ipython",
    "version": 3
   },
   "file_extension": ".py",
   "mimetype": "text/x-python",
   "name": "python",
   "nbconvert_exporter": "python",
   "pygments_lexer": "ipython3",
   "version": "3.7.1"
  },
  "toc": {
   "base_numbering": 1,
   "nav_menu": {},
   "number_sections": false,
   "sideBar": true,
   "skip_h1_title": false,
   "title_cell": "Table of Contents",
   "title_sidebar": "Contents",
   "toc_cell": false,
   "toc_position": {
    "height": "calc(100% - 180px)",
    "left": "10px",
    "top": "150px",
    "width": "165px"
   },
   "toc_section_display": true,
   "toc_window_display": true
  }
 },
 "nbformat": 4,
 "nbformat_minor": 2
}
