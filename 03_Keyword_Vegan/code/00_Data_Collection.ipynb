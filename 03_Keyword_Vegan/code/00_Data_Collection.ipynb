{
 "cells": [
  {
   "cell_type": "markdown",
   "metadata": {},
   "source": [
    "# <img src=\"../images/vegan-logo-resized.png\" style=\"float: right; margin: 10px;\">\n",
    "# Data Collection\n",
    "\n",
    "Author: Gifford Tompkins\n",
    "\n",
    "---\n",
    "\n",
    "Project 03 | Notebook 0 of 6"
   ]
  },
  {
   "cell_type": "markdown",
   "metadata": {},
   "source": [
    "# Objective\n",
    "The objective of this notebook is to scrape a substantial body of posts from the two subreddits [r/Vegan](https://www.reddit.com/r/vegan/) and [r/Vegetarian](https://www.reddit.com/r/vegetarian/) and to save them into a CSV file for preprocessing and data cleaning, to be completed in the next notebook."
   ]
  },
  {
   "cell_type": "markdown",
   "metadata": {
    "toc": true
   },
   "source": [
    "<h1>Table of Contents<span class=\"tocSkip\"></span></h1>\n",
    "<div class=\"toc\"><ul class=\"toc-item\"><li><span><a href=\"#Data-Collection\" data-toc-modified-id=\"Data-Collection-1\">Data Collection</a></span></li><li><span><a href=\"#Objective\" data-toc-modified-id=\"Objective-2\">Objective</a></span></li><li><span><a href=\"#Import-Libraries\" data-toc-modified-id=\"Import-Libraries-3\">Import Libraries</a></span></li><li><span><a href=\"#Collecting-Data-Using-pushshift.io\" data-toc-modified-id=\"Collecting-Data-Using-pushshift.io-4\">Collecting Data Using <em>pushshift.io</em></a></span><ul class=\"toc-item\"><li><span><a href=\"#Creating-the-corpus\" data-toc-modified-id=\"Creating-the-corpus-4.1\">Creating the corpus</a></span></li><li><span><a href=\"#Confirm-the-corpus\" data-toc-modified-id=\"Confirm-the-corpus-4.2\">Confirm the corpus</a></span></li></ul></li><li><span><a href=\"#Summary-and-Conclusion\" data-toc-modified-id=\"Summary-and-Conclusion-5\">Summary and Conclusion</a></span></li></ul></div>"
   ]
  },
  {
   "cell_type": "markdown",
   "metadata": {},
   "source": [
    "# Import Libraries "
   ]
  },
  {
   "cell_type": "code",
   "execution_count": 1,
   "metadata": {},
   "outputs": [],
   "source": [
    "import pandas as pd\n",
    "import requests\n",
    "import numpy as np\n",
    "import time\n",
    "from datetime import datetime, timedelta"
   ]
  },
  {
   "cell_type": "code",
   "execution_count": 2,
   "metadata": {},
   "outputs": [],
   "source": [
    "# Custom functions saved in repository\n",
    "from project_functions.data_collection import get_data_json, create_doc, append_to_corpus    "
   ]
  },
  {
   "cell_type": "markdown",
   "metadata": {},
   "source": [
    "# Collecting Data Using _pushshift.io_\n",
    "\n",
    "We will be collecting posts (or documents, as they will be referred to in this notebook) through the [pushshift.io API](https://pushshift.io/). For that we will submit a base `url` with a dictionary of parameters. One of those parameters being the name of the subbreddit, either `r/Vegan` or `r/Vegetarian`."
   ]
  },
  {
   "cell_type": "code",
   "execution_count": 5,
   "metadata": {},
   "outputs": [],
   "source": [
    "url = 'https://api.pushshift.io/reddit/submission/search'\n",
    "subreddits = ['Vegetarian','Vegan']  \n",
    "corpus_csv = '../data/corpus.csv'"
   ]
  },
  {
   "cell_type": "markdown",
   "metadata": {},
   "source": [
    "## Creating the corpus\n",
    "We will create an empty dataframe to be saved as our `api_data.csv` that we can append each new batch of documents onto. Since we will be doing multiple pulls and hopefully getting up to 20,000 rows of data, we would like to save our data as we go in the event that our connection breaks or our function or program times out.\n",
    "\n",
    "For custom functions used in this section, see the [data collection code](./project_functions/data_collection.py)."
   ]
  },
  {
   "cell_type": "code",
   "execution_count": 6,
   "metadata": {},
   "outputs": [],
   "source": [
    "# Create empty dataframe to store our corpus as a csv file\n",
    "df = pd.DataFrame(columns=['title','selftext','vegan'])\n",
    "df.to_csv(corpus_csv,index=False)"
   ]
  },
  {
   "cell_type": "code",
   "execution_count": 13,
   "metadata": {
    "scrolled": true
   },
   "outputs": [
    {
     "name": "stdout",
     "output_type": "stream",
     "text": [
      "r/Vegetarian: Pull number 1\n",
      "https://api.pushshift.io/reddit/submission/search?subreddit=Vegetarian&size=500\n",
      "100 documents appended to corpus.\n",
      "r/Vegetarian: Pull number 2\n",
      "https://api.pushshift.io/reddit/submission/search?subreddit=Vegetarian&size=500&before=1596757646\n",
      "100 documents appended to corpus.\n",
      "r/Vegetarian: Pull number 3\n",
      "https://api.pushshift.io/reddit/submission/search?subreddit=Vegetarian&size=500&before=1596569187\n",
      "100 documents appended to corpus.\n",
      "r/Vegetarian: Pull number 4\n",
      "https://api.pushshift.io/reddit/submission/search?subreddit=Vegetarian&size=500&before=1596399920\n",
      "100 documents appended to corpus.\n",
      "r/Vegetarian: Pull number 5\n",
      "https://api.pushshift.io/reddit/submission/search?subreddit=Vegetarian&size=500&before=1596205339\n",
      "100 documents appended to corpus.\n",
      "r/Vegetarian: Pull number 6\n",
      "https://api.pushshift.io/reddit/submission/search?subreddit=Vegetarian&size=500&before=1596037705\n",
      "100 documents appended to corpus.\n",
      "r/Vegetarian: Pull number 7\n",
      "https://api.pushshift.io/reddit/submission/search?subreddit=Vegetarian&size=500&before=1595832855\n",
      "100 documents appended to corpus.\n",
      "r/Vegetarian: Pull number 8\n",
      "https://api.pushshift.io/reddit/submission/search?subreddit=Vegetarian&size=500&before=1595628397\n",
      "Post: Fallen back into Vegetarianism from Vegan - some lazy veg recipes? is missing selftext. Appending title only.\n",
      "{'title': 'Fallen back into Vegetarianism from Vegan - some lazy veg recipes?', 'vegan': 0, 'selftext': None}\n",
      "100 documents appended to corpus.\n",
      "r/Vegetarian: Pull number 9\n",
      "https://api.pushshift.io/reddit/submission/search?subreddit=Vegetarian&size=500&before=1595481545\n",
      "Post: Herb 💐 is missing selftext. Appending title only.\n",
      "{'title': 'Herb 💐', 'vegan': 0, 'selftext': None}\n",
      "100 documents appended to corpus.\n",
      "r/Vegetarian: Pull number 10\n",
      "https://api.pushshift.io/reddit/submission/search?subreddit=Vegetarian&size=500&before=1595288961\n",
      "Post: Best meals without meat is missing selftext. Appending title only.\n",
      "{'title': 'Best meals without meat', 'vegan': 0, 'selftext': None}\n",
      "Post: Oat Cake is missing selftext. Appending title only.\n",
      "{'title': 'Oat Cake', 'vegan': 0, 'selftext': None}\n",
      "Post: have any of you tried flavor good cheese and/or nacho cheese seasoning? is missing selftext. Appending title only.\n",
      "{'title': 'have any of you tried flavor good cheese and/or nacho cheese seasoning?', 'vegan': 0, 'selftext': None}\n",
      "100 documents appended to corpus.\n",
      "r/Vegetarian: Pull number 11\n",
      "https://api.pushshift.io/reddit/submission/search?subreddit=Vegetarian&size=500&before=1595108534\n",
      "100 documents appended to corpus.\n",
      "r/Vegetarian: Pull number 12\n",
      "https://api.pushshift.io/reddit/submission/search?subreddit=Vegetarian&size=500&before=1594896721\n",
      "Post: after being vegetarian for almost a year the smell of meat makes me really sick now. dae get this too? is missing selftext. Appending title only.\n",
      "{'title': 'after being vegetarian for almost a year the smell of meat makes me really sick now. dae get this too?', 'vegan': 0, 'selftext': None}\n",
      "Post: No where else to turn is missing selftext. Appending title only.\n",
      "{'title': 'No where else to turn', 'vegan': 0, 'selftext': None}\n",
      "100 documents appended to corpus.\n",
      "r/Vegetarian: Pull number 13\n",
      "https://api.pushshift.io/reddit/submission/search?subreddit=Vegetarian&size=500&before=1594657708\n",
      "Post: What are some egg free chocolates in the UK? is missing selftext. Appending title only.\n",
      "{'title': 'What are some egg free chocolates in the UK?', 'vegan': 0, 'selftext': None}\n",
      "Post: Upgrade from r/vegetarian to r/vegancirclejerk for just $US 0.00 ! is missing selftext. Appending title only.\n",
      "{'title': 'Upgrade from r/vegetarian to r/vegancirclejerk for just $US 0.00 !', 'vegan': 0, 'selftext': None}\n",
      "100 documents appended to corpus.\n",
      "r/Vegetarian: Pull number 14\n",
      "https://api.pushshift.io/reddit/submission/search?subreddit=Vegetarian&size=500&before=1594491815\n",
      "Post: How do i tell my mom that I want to go vegetarian? is missing selftext. Appending title only.\n",
      "{'title': 'How do i tell my mom that I want to go vegetarian?', 'vegan': 0, 'selftext': None}\n",
      "100 documents appended to corpus.\n",
      "r/Vegetarian: Pull number 15\n",
      "https://api.pushshift.io/reddit/submission/search?subreddit=Vegetarian&size=500&before=1594324087\n",
      "Post: Im thinking of going vegetarian got any recipes is missing selftext. Appending title only.\n",
      "{'title': 'Im thinking of going vegetarian got any recipes', 'vegan': 0, 'selftext': None}\n",
      "100 documents appended to corpus.\n",
      "r/Vegetarian: Pull number 16\n",
      "https://api.pushshift.io/reddit/submission/search?subreddit=Vegetarian&size=500&before=1594134696\n",
      "Post: My friend needs help is missing selftext. Appending title only.\n",
      "{'title': 'My friend needs help', 'vegan': 0, 'selftext': None}\n",
      "100 documents appended to corpus.\n",
      "r/Vegetarian: Pull number 17\n",
      "https://api.pushshift.io/reddit/submission/search?subreddit=Vegetarian&size=500&before=1593919368\n",
      "Post: What are some of your best and worst experiences being vegetarian? is missing selftext. Appending title only.\n",
      "{'title': 'What are some of your best and worst experiences being vegetarian?', 'vegan': 0, 'selftext': None}\n",
      "100 documents appended to corpus.\n",
      "r/Vegetarian: Pull number 18\n",
      "https://api.pushshift.io/reddit/submission/search?subreddit=Vegetarian&size=500&before=1593719064\n",
      "100 documents appended to corpus.\n",
      "r/Vegetarian: Pull number 19\n",
      "https://api.pushshift.io/reddit/submission/search?subreddit=Vegetarian&size=500&before=1593506109\n",
      "Post: 3 flavors of homemade ice cream with 3 main ingredients. Eggless &amp; No churning needed. :) is missing selftext. Appending title only.\n",
      "{'title': '3 flavors of homemade ice cream with 3 main ingredients. Eggless &amp; No churning needed. :)', 'vegan': 0, 'selftext': None}\n",
      "100 documents appended to corpus.\n",
      "r/Vegetarian: Pull number 20\n",
      "https://api.pushshift.io/reddit/submission/search?subreddit=Vegetarian&size=500&before=1593233070\n",
      "100 documents appended to corpus.\n",
      "r/Vegan: Pull number 1\n",
      "https://api.pushshift.io/reddit/submission/search?subreddit=Vegan&size=500\n",
      "100 documents appended to corpus.\n",
      "r/Vegan: Pull number 2\n",
      "https://api.pushshift.io/reddit/submission/search?subreddit=Vegan&size=500&before=1596944882\n",
      "100 documents appended to corpus.\n",
      "r/Vegan: Pull number 3\n",
      "https://api.pushshift.io/reddit/submission/search?subreddit=Vegan&size=500&before=1596908517\n",
      "100 documents appended to corpus.\n",
      "r/Vegan: Pull number 4\n",
      "https://api.pushshift.io/reddit/submission/search?subreddit=Vegan&size=500&before=1596858174\n",
      "100 documents appended to corpus.\n",
      "r/Vegan: Pull number 5\n",
      "https://api.pushshift.io/reddit/submission/search?subreddit=Vegan&size=500&before=1596820157\n",
      "100 documents appended to corpus.\n",
      "r/Vegan: Pull number 6\n",
      "https://api.pushshift.io/reddit/submission/search?subreddit=Vegan&size=500&before=1596766119\n",
      "100 documents appended to corpus.\n",
      "r/Vegan: Pull number 7\n",
      "https://api.pushshift.io/reddit/submission/search?subreddit=Vegan&size=500&before=1596733340\n",
      "100 documents appended to corpus.\n",
      "r/Vegan: Pull number 8\n",
      "https://api.pushshift.io/reddit/submission/search?subreddit=Vegan&size=500&before=1596689232\n",
      "100 documents appended to corpus.\n",
      "r/Vegan: Pull number 9\n",
      "https://api.pushshift.io/reddit/submission/search?subreddit=Vegan&size=500&before=1596658145\n",
      "100 documents appended to corpus.\n",
      "r/Vegan: Pull number 10\n",
      "https://api.pushshift.io/reddit/submission/search?subreddit=Vegan&size=500&before=1596622984\n",
      "100 documents appended to corpus.\n",
      "r/Vegan: Pull number 11\n",
      "https://api.pushshift.io/reddit/submission/search?subreddit=Vegan&size=500&before=1596575119\n",
      "100 documents appended to corpus.\n",
      "r/Vegan: Pull number 12\n",
      "https://api.pushshift.io/reddit/submission/search?subreddit=Vegan&size=500&before=1596540397\n",
      "100 documents appended to corpus.\n",
      "r/Vegan: Pull number 13\n",
      "https://api.pushshift.io/reddit/submission/search?subreddit=Vegan&size=500&before=1596489701\n",
      "100 documents appended to corpus.\n",
      "r/Vegan: Pull number 14\n",
      "https://api.pushshift.io/reddit/submission/search?subreddit=Vegan&size=500&before=1596451582\n",
      "100 documents appended to corpus.\n",
      "r/Vegan: Pull number 15\n",
      "https://api.pushshift.io/reddit/submission/search?subreddit=Vegan&size=500&before=1596404597\n",
      "100 documents appended to corpus.\n",
      "r/Vegan: Pull number 16\n",
      "https://api.pushshift.io/reddit/submission/search?subreddit=Vegan&size=500&before=1596372262\n",
      "100 documents appended to corpus.\n"
     ]
    },
    {
     "name": "stdout",
     "output_type": "stream",
     "text": [
      "r/Vegan: Pull number 17\n",
      "https://api.pushshift.io/reddit/submission/search?subreddit=Vegan&size=500&before=1596310151\n",
      "100 documents appended to corpus.\n",
      "r/Vegan: Pull number 18\n",
      "https://api.pushshift.io/reddit/submission/search?subreddit=Vegan&size=500&before=1596264342\n",
      "100 documents appended to corpus.\n",
      "r/Vegan: Pull number 19\n",
      "https://api.pushshift.io/reddit/submission/search?subreddit=Vegan&size=500&before=1596219493\n",
      "100 documents appended to corpus.\n",
      "r/Vegan: Pull number 20\n",
      "https://api.pushshift.io/reddit/submission/search?subreddit=Vegan&size=500&before=1596184048\n",
      "100 documents appended to corpus.\n"
     ]
    }
   ],
   "source": [
    "# Loop through the two subreddits and pull the document batches with the pushift.io api.\n",
    "for i, sub in enumerate(subreddits):\n",
    "    \n",
    "    # Instantiate and define the url parameters dictionary.\n",
    "    url_params = {\n",
    "        'subreddit': sub,\n",
    "        'size': 500\n",
    "    }\n",
    "    \n",
    "    # Pull 20 batches of posts for each subreddit.\n",
    "    for count in range(20):\n",
    "        posts = get_data_from_json(count, url, url_params)\n",
    "        documents = []\n",
    "        \n",
    "        for post in posts:\n",
    "            # Create a document from the post using the custom function \n",
    "            # `create_doc` then classify the post as Vegan post: 1 or a Vegetarian post: 0\n",
    "            document = create_doc(i, post)\n",
    "            documents.append(document)\n",
    "            \n",
    "        append_to_corpus(documents, corpus_csv)\n",
    "        \n",
    "        # Update 'before' paramter in url_params before running next batch.\n",
    "        url_params['before'] = posts[-1]['created_utc']\n",
    "\n",
    "        # Put a delay on our loop to slow down api usage\n",
    "        time.sleep(10)\n",
    "        \n",
    "    # Remove the before parameter so that it can be redefined in the next subreddit\n",
    "    url_params.pop('before')"
   ]
  },
  {
   "cell_type": "markdown",
   "metadata": {},
   "source": [
    "## Confirm the corpus\n",
    "Confirm that the posts have been pulled and that the data looks appropriate. We will do more extensive data-cleaning and EDA in the next notebook."
   ]
  },
  {
   "cell_type": "code",
   "execution_count": 14,
   "metadata": {},
   "outputs": [],
   "source": [
    "data = pd.read_csv('../data/corpus.csv')"
   ]
  },
  {
   "cell_type": "code",
   "execution_count": 15,
   "metadata": {},
   "outputs": [
    {
     "data": {
      "text/html": [
       "<div>\n",
       "<style scoped>\n",
       "    .dataframe tbody tr th:only-of-type {\n",
       "        vertical-align: middle;\n",
       "    }\n",
       "\n",
       "    .dataframe tbody tr th {\n",
       "        vertical-align: top;\n",
       "    }\n",
       "\n",
       "    .dataframe thead th {\n",
       "        text-align: right;\n",
       "    }\n",
       "</style>\n",
       "<table border=\"1\" class=\"dataframe\">\n",
       "  <thead>\n",
       "    <tr style=\"text-align: right;\">\n",
       "      <th></th>\n",
       "      <th>title</th>\n",
       "      <th>selftext</th>\n",
       "      <th>vegan</th>\n",
       "    </tr>\n",
       "  </thead>\n",
       "  <tbody>\n",
       "    <tr>\n",
       "      <th>0</th>\n",
       "      <td>My ‘100 calories club’ which helps people visu...</td>\n",
       "      <td>NaN</td>\n",
       "      <td>0</td>\n",
       "    </tr>\n",
       "    <tr>\n",
       "      <th>1</th>\n",
       "      <td>Chilli fritters stuffed with a mix of raw onio...</td>\n",
       "      <td>NaN</td>\n",
       "      <td>0</td>\n",
       "    </tr>\n",
       "    <tr>\n",
       "      <th>2</th>\n",
       "      <td>Lentil and mushroom gravy with sweetpotato mas...</td>\n",
       "      <td>NaN</td>\n",
       "      <td>0</td>\n",
       "    </tr>\n",
       "    <tr>\n",
       "      <th>3</th>\n",
       "      <td>How to get excited about vegetables?</td>\n",
       "      <td>I stopped eating meat after 24 years due to a ...</td>\n",
       "      <td>0</td>\n",
       "    </tr>\n",
       "    <tr>\n",
       "      <th>4</th>\n",
       "      <td>Homemade Rasgulla - Bengali Spongy Milk Sweets...</td>\n",
       "      <td>NaN</td>\n",
       "      <td>0</td>\n",
       "    </tr>\n",
       "  </tbody>\n",
       "</table>\n",
       "</div>"
      ],
      "text/plain": [
       "                                               title  \\\n",
       "0  My ‘100 calories club’ which helps people visu...   \n",
       "1  Chilli fritters stuffed with a mix of raw onio...   \n",
       "2  Lentil and mushroom gravy with sweetpotato mas...   \n",
       "3               How to get excited about vegetables?   \n",
       "4  Homemade Rasgulla - Bengali Spongy Milk Sweets...   \n",
       "\n",
       "                                            selftext  vegan  \n",
       "0                                                NaN      0  \n",
       "1                                                NaN      0  \n",
       "2                                                NaN      0  \n",
       "3  I stopped eating meat after 24 years due to a ...      0  \n",
       "4                                                NaN      0  "
      ]
     },
     "execution_count": 15,
     "metadata": {},
     "output_type": "execute_result"
    }
   ],
   "source": [
    "data.head()"
   ]
  },
  {
   "cell_type": "code",
   "execution_count": 16,
   "metadata": {},
   "outputs": [
    {
     "data": {
      "text/html": [
       "<div>\n",
       "<style scoped>\n",
       "    .dataframe tbody tr th:only-of-type {\n",
       "        vertical-align: middle;\n",
       "    }\n",
       "\n",
       "    .dataframe tbody tr th {\n",
       "        vertical-align: top;\n",
       "    }\n",
       "\n",
       "    .dataframe thead th {\n",
       "        text-align: right;\n",
       "    }\n",
       "</style>\n",
       "<table border=\"1\" class=\"dataframe\">\n",
       "  <thead>\n",
       "    <tr style=\"text-align: right;\">\n",
       "      <th></th>\n",
       "      <th>title</th>\n",
       "      <th>selftext</th>\n",
       "      <th>vegan</th>\n",
       "    </tr>\n",
       "  </thead>\n",
       "  <tbody>\n",
       "    <tr>\n",
       "      <th>4095</th>\n",
       "      <td>Buffalo tofu, seared green beans and broccoli ...</td>\n",
       "      <td>NaN</td>\n",
       "      <td>1</td>\n",
       "    </tr>\n",
       "    <tr>\n",
       "      <th>4096</th>\n",
       "      <td>I got lazy tonight, and just a whole block of ...</td>\n",
       "      <td>This was my entire dinner:\\nhttps://cookieandk...</td>\n",
       "      <td>1</td>\n",
       "    </tr>\n",
       "    <tr>\n",
       "      <th>4097</th>\n",
       "      <td>Vegan meals that don’t require cooking?</td>\n",
       "      <td>Hi! I’m looking for some healthy vegan meal id...</td>\n",
       "      <td>1</td>\n",
       "    </tr>\n",
       "    <tr>\n",
       "      <th>4098</th>\n",
       "      <td>What are your views on cross contamination?</td>\n",
       "      <td>What are your views when it comes to eating fo...</td>\n",
       "      <td>1</td>\n",
       "    </tr>\n",
       "    <tr>\n",
       "      <th>4099</th>\n",
       "      <td>Vegan Pink Dragonfruit Smoothie</td>\n",
       "      <td>NaN</td>\n",
       "      <td>1</td>\n",
       "    </tr>\n",
       "  </tbody>\n",
       "</table>\n",
       "</div>"
      ],
      "text/plain": [
       "                                                  title  \\\n",
       "4095  Buffalo tofu, seared green beans and broccoli ...   \n",
       "4096  I got lazy tonight, and just a whole block of ...   \n",
       "4097            Vegan meals that don’t require cooking?   \n",
       "4098        What are your views on cross contamination?   \n",
       "4099                    Vegan Pink Dragonfruit Smoothie   \n",
       "\n",
       "                                               selftext  vegan  \n",
       "4095                                                NaN      1  \n",
       "4096  This was my entire dinner:\\nhttps://cookieandk...      1  \n",
       "4097  Hi! I’m looking for some healthy vegan meal id...      1  \n",
       "4098  What are your views when it comes to eating fo...      1  \n",
       "4099                                                NaN      1  "
      ]
     },
     "execution_count": 16,
     "metadata": {},
     "output_type": "execute_result"
    }
   ],
   "source": [
    "data.tail()"
   ]
  },
  {
   "cell_type": "code",
   "execution_count": 17,
   "metadata": {},
   "outputs": [
    {
     "data": {
      "text/plain": [
       "0    2100\n",
       "1    2000\n",
       "Name: vegan, dtype: int64"
      ]
     },
     "execution_count": 17,
     "metadata": {},
     "output_type": "execute_result"
    }
   ],
   "source": [
    "data['vegan'].value_counts()"
   ]
  },
  {
   "cell_type": "code",
   "execution_count": 19,
   "metadata": {},
   "outputs": [
    {
     "data": {
      "text/plain": [
       "(4100, 3)"
      ]
     },
     "execution_count": 19,
     "metadata": {},
     "output_type": "execute_result"
    }
   ],
   "source": [
    "data.shape"
   ]
  },
  {
   "cell_type": "code",
   "execution_count": 20,
   "metadata": {
    "scrolled": false
   },
   "outputs": [
    {
     "data": {
      "text/plain": [
       "title       0.000000\n",
       "selftext    0.586585\n",
       "vegan       0.000000\n",
       "dtype: float64"
      ]
     },
     "execution_count": 20,
     "metadata": {},
     "output_type": "execute_result"
    }
   ],
   "source": [
    "data.isnull().mean()"
   ]
  },
  {
   "cell_type": "markdown",
   "metadata": {},
   "source": [
    "**Observations:**\n",
    "> Appears to be some duplicates and the selftext column has selveral null values, but all items are stored properly in the [`corpus.csv`](./datasets/api_data.csv). The first posts are vegetarian while last posts are vegan and we have pulled equal numbers of posts from each subreddit.  \n",
    ">\n",
    "> The corpus looks ready to go."
   ]
  },
  {
   "cell_type": "markdown",
   "metadata": {},
   "source": [
    "# Summary and Conclusion\n",
    "We have gathered a solid body of data for our NLP analysis. We did this through submitting batch request through the pushift.io API. We then stored the data of interest into a corpus that we saved as a CSV.\n",
    "\n",
    "In the next notebook we will clean our data and do some initial exploratory analysis. After that we will have a better sense of direction for building our Vegan classification model."
   ]
  }
 ],
 "metadata": {
  "kernelspec": {
   "display_name": "Python 3",
   "language": "python",
   "name": "python3"
  },
  "language_info": {
   "codemirror_mode": {
    "name": "ipython",
    "version": 3
   },
   "file_extension": ".py",
   "mimetype": "text/x-python",
   "name": "python",
   "nbconvert_exporter": "python",
   "pygments_lexer": "ipython3",
   "version": "3.8.0"
  },
  "toc": {
   "base_numbering": 1,
   "nav_menu": {},
   "number_sections": false,
   "sideBar": true,
   "skip_h1_title": false,
   "title_cell": "Table of Contents",
   "title_sidebar": "Contents",
   "toc_cell": true,
   "toc_position": {
    "height": "calc(100% - 180px)",
    "left": "10px",
    "top": "150px",
    "width": "165px"
   },
   "toc_section_display": true,
   "toc_window_display": true
  }
 },
 "nbformat": 4,
 "nbformat_minor": 2
}
