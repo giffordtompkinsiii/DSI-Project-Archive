{
 "cells": [
  {
   "cell_type": "markdown",
   "metadata": {},
   "source": [
    "<img src=\"../images/vegan-logo-resized.png\" style=\"float: right; margin: 10px;\">\n",
    "\n",
    "# Findings and Recommended Further Steps \n",
    "\n",
    "Author: Gifford Tompkins\n",
    "\n",
    "---\n",
    "\n",
    "Project 03 | Notebook 6 of 6"
   ]
  },
  {
   "cell_type": "markdown",
   "metadata": {},
   "source": [
    "## OBJECTIVE\n",
    "In this notebook we will examine the scores recorded in the last notebook and create a Voting Classifier that takes all the best models and aggregates their votes.\n",
    "\n",
    "We will compare that voting classifier to our best individual model and choose the model that scores best."
   ]
  },
  {
   "cell_type": "code",
   "execution_count": 49,
   "metadata": {},
   "outputs": [],
   "source": [
    "import pandas as pd"
   ]
  },
  {
   "cell_type": "code",
   "execution_count": 50,
   "metadata": {},
   "outputs": [],
   "source": [
    "models = pd.read_csv('../datasets/model_scores.csv')"
   ]
  },
  {
   "cell_type": "code",
   "execution_count": 51,
   "metadata": {},
   "outputs": [],
   "source": [
    "from sklearn.pipeline import Pipeline\n",
    "from sklearn.model_selection import GridSearchCV, train_test_split\n",
    "from sklearn.ensemble import VotingClassifier"
   ]
  },
  {
   "cell_type": "code",
   "execution_count": 52,
   "metadata": {},
   "outputs": [],
   "source": [
    "most_specific = models.sort_values(by='specificity',ascending=False).head(3)"
   ]
  },
  {
   "cell_type": "code",
   "execution_count": 53,
   "metadata": {},
   "outputs": [],
   "source": [
    "most_accurat = models.sort_values(by='test_score',ascending=False).head(3)"
   ]
  },
  {
   "cell_type": "code",
   "execution_count": 54,
   "metadata": {},
   "outputs": [],
   "source": [
    "vot_models = pd.concat([most_accurat,most_specific],axis=0)"
   ]
  },
  {
   "cell_type": "code",
   "execution_count": 55,
   "metadata": {},
   "outputs": [
    {
     "name": "stdout",
     "output_type": "stream",
     "text": [
      "[<class 'sklearn.feature_extraction.text.TfidfVectorizer'>, <class 'sklearn.preprocessing._function_transformer.FunctionTransformer'>, <class 'sklearn.linear_model.logistic.LogisticRegression'>]\n",
      "\n",
      "[<class 'sklearn.feature_extraction.text.CountVectorizer'>, <class 'sklearn.preprocessing._function_transformer.FunctionTransformer'>, <class 'sklearn.linear_model.logistic.LogisticRegression'>]\n",
      "\n",
      "[<class 'sklearn.feature_extraction.text.TfidfVectorizer'>, <class 'sklearn.preprocessing._function_transformer.FunctionTransformer'>, <class 'sklearn.linear_model.ridge.RidgeClassifier'>]\n",
      "\n",
      "[<class 'sklearn.feature_extraction.text.TfidfVectorizer'>, <class 'sklearn.preprocessing._function_transformer.FunctionTransformer'>, <class 'sklearn.naive_bayes.MultinomialNB'>]\n",
      "\n",
      "[<class 'sklearn.feature_extraction.text.CountVectorizer'>, <class 'sklearn.preprocessing._function_transformer.FunctionTransformer'>, <class 'sklearn.naive_bayes.MultinomialNB'>]\n",
      "\n",
      "[<class 'sklearn.feature_extraction.text.CountVectorizer'>, <class 'sklearn.preprocessing._function_transformer.FunctionTransformer'>, <class 'sklearn.ensemble.bagging.BaggingClassifier'>]\n",
      "\n"
     ]
    }
   ],
   "source": [
    "for i in vot_models.index:\n",
    "    print(vot_models['steps'][i])\n",
    "    print()"
   ]
  },
  {
   "cell_type": "code",
   "execution_count": 56,
   "metadata": {},
   "outputs": [],
   "source": [
    "from project_python_code import parse_performance\n",
    "from model_tuning import condenser_tr\n",
    "from sklearn.linear_model import LogisticRegression, RidgeClassifier\n",
    "from sklearn.ensemble import BaggingClassifier, RandomForestClassifier\n",
    "from sklearn.naive_bayes import MultinomialNB"
   ]
  },
  {
   "cell_type": "code",
   "execution_count": 57,
   "metadata": {},
   "outputs": [],
   "source": [
    "from sklearn.feature_extraction.text import CountVectorizer, TfidfVectorizer\n",
    "from sklearn.model_selection import train_test_split, GridSearchCV"
   ]
  },
  {
   "cell_type": "code",
   "execution_count": 58,
   "metadata": {},
   "outputs": [],
   "source": [
    "from sklearn.preprocessing import FunctionTransformer\n",
    "\n",
    "def condenser(sparse_matrix):\n",
    "    return sparse_matrix.toarray()\n",
    "\n",
    "condenser_tr = FunctionTransformer(condenser, accept_sparse=True, validate=False)\n"
   ]
  },
  {
   "cell_type": "code",
   "execution_count": 59,
   "metadata": {},
   "outputs": [],
   "source": [
    "cvec = CountVectorizer(max_df = 0.8,\n",
    "                             max_features = 3000,\n",
    "                             min_df = 5,\n",
    "                             ngram_range = (1, 2),\n",
    "                             stop_words = 'english')\n",
    "\n",
    "tfid = TfidfVectorizer(max_df = 0.8,\n",
    "                             max_features = 3000,\n",
    "                             min_df = 3,\n",
    "                             ngram_range = (1, 2),\n",
    "                             stop_words = 'english')\n",
    "\n",
    "step_cv = ('cvec', cvec)\n",
    "step_tf = ('tfid', tfid)\n",
    "step_cn = ('condenser', condenser_tr)"
   ]
  },
  {
   "cell_type": "code",
   "execution_count": 60,
   "metadata": {},
   "outputs": [
    {
     "data": {
      "text/html": [
       "<div>\n",
       "<style scoped>\n",
       "    .dataframe tbody tr th:only-of-type {\n",
       "        vertical-align: middle;\n",
       "    }\n",
       "\n",
       "    .dataframe tbody tr th {\n",
       "        vertical-align: top;\n",
       "    }\n",
       "\n",
       "    .dataframe thead th {\n",
       "        text-align: right;\n",
       "    }\n",
       "</style>\n",
       "<table border=\"1\" class=\"dataframe\">\n",
       "  <thead>\n",
       "    <tr style=\"text-align: right;\">\n",
       "      <th></th>\n",
       "      <th>title</th>\n",
       "      <th>selftext</th>\n",
       "      <th>vegan</th>\n",
       "      <th>text</th>\n",
       "    </tr>\n",
       "  </thead>\n",
       "  <tbody>\n",
       "    <tr>\n",
       "      <td>0</td>\n",
       "      <td>Vegans who chastise &amp;amp; disparage vegetarian...</td>\n",
       "      <td>Hey guys! As a long-time vegetarian who is now...</td>\n",
       "      <td>0</td>\n",
       "      <td>vegan who chastise   disparage vegetarian are ...</td>\n",
       "    </tr>\n",
       "    <tr>\n",
       "      <td>1</td>\n",
       "      <td>I made breakfast pizza to imitate the Schwans ...</td>\n",
       "      <td>NaN</td>\n",
       "      <td>0</td>\n",
       "      <td>i made breakfast pizza to imitate the schwans ...</td>\n",
       "    </tr>\n",
       "    <tr>\n",
       "      <td>2</td>\n",
       "      <td>Know Your Nightshades</td>\n",
       "      <td>NaN</td>\n",
       "      <td>0</td>\n",
       "      <td>know your nightshade</td>\n",
       "    </tr>\n",
       "    <tr>\n",
       "      <td>3</td>\n",
       "      <td>After ten years of vegetarianism I just discov...</td>\n",
       "      <td>This is my first time posting on this sub, I l...</td>\n",
       "      <td>0</td>\n",
       "      <td>after ten year of vegetarianism i just discove...</td>\n",
       "    </tr>\n",
       "    <tr>\n",
       "      <td>4</td>\n",
       "      <td>What's for Dinner? Discussion</td>\n",
       "      <td>Welcome to our weekly discussion on what you’r...</td>\n",
       "      <td>0</td>\n",
       "      <td>what ha for dinner  discussion welcome to our ...</td>\n",
       "    </tr>\n",
       "  </tbody>\n",
       "</table>\n",
       "</div>"
      ],
      "text/plain": [
       "                                               title  \\\n",
       "0  Vegans who chastise &amp; disparage vegetarian...   \n",
       "1  I made breakfast pizza to imitate the Schwans ...   \n",
       "2                              Know Your Nightshades   \n",
       "3  After ten years of vegetarianism I just discov...   \n",
       "4                      What's for Dinner? Discussion   \n",
       "\n",
       "                                            selftext  vegan  \\\n",
       "0  Hey guys! As a long-time vegetarian who is now...      0   \n",
       "1                                                NaN      0   \n",
       "2                                                NaN      0   \n",
       "3  This is my first time posting on this sub, I l...      0   \n",
       "4  Welcome to our weekly discussion on what you’r...      0   \n",
       "\n",
       "                                                text  \n",
       "0  vegan who chastise   disparage vegetarian are ...  \n",
       "1  i made breakfast pizza to imitate the schwans ...  \n",
       "2                               know your nightshade  \n",
       "3  after ten year of vegetarianism i just discove...  \n",
       "4  what ha for dinner  discussion welcome to our ...  "
      ]
     },
     "execution_count": 60,
     "metadata": {},
     "output_type": "execute_result"
    }
   ],
   "source": [
    "df = pd.read_csv('../datasets/model_data.csv')\n",
    "df.head()"
   ]
  },
  {
   "cell_type": "code",
   "execution_count": 61,
   "metadata": {},
   "outputs": [],
   "source": [
    "X = df['text']\n",
    "y = df['vegan']\n",
    "X_train, X_test, y_train, y_test = train_test_split(X, y, random_state=42)"
   ]
  },
  {
   "cell_type": "code",
   "execution_count": 62,
   "metadata": {},
   "outputs": [
    {
     "name": "stdout",
     "output_type": "stream",
     "text": [
      "Model: 14\n",
      "[<class 'sklearn.feature_extraction.text.TfidfVectorizer'>, <class 'sklearn.preprocessing._function_transformer.FunctionTransformer'>, <class 'sklearn.linear_model.logistic.LogisticRegression'>]\n",
      "{'logreg__C': 0.21544346900318834}\n",
      "Model: 5\n",
      "[<class 'sklearn.feature_extraction.text.CountVectorizer'>, <class 'sklearn.preprocessing._function_transformer.FunctionTransformer'>, <class 'sklearn.linear_model.logistic.LogisticRegression'>]\n",
      "{'logreg__C': 0.01}\n",
      "Model: 15\n",
      "[<class 'sklearn.feature_extraction.text.TfidfVectorizer'>, <class 'sklearn.preprocessing._function_transformer.FunctionTransformer'>, <class 'sklearn.linear_model.ridge.RidgeClassifier'>]\n",
      "{'ridge__alpha': 100.0}\n",
      "Model: 16\n",
      "[<class 'sklearn.feature_extraction.text.TfidfVectorizer'>, <class 'sklearn.preprocessing._function_transformer.FunctionTransformer'>, <class 'sklearn.naive_bayes.MultinomialNB'>]\n",
      "{'nb__alpha': 4.6415888336127775}\n",
      "Model: 7\n",
      "[<class 'sklearn.feature_extraction.text.CountVectorizer'>, <class 'sklearn.preprocessing._function_transformer.FunctionTransformer'>, <class 'sklearn.naive_bayes.MultinomialNB'>]\n",
      "{'nb__alpha': 4.6415888336127775}\n",
      "Model: 1\n",
      "[<class 'sklearn.feature_extraction.text.CountVectorizer'>, <class 'sklearn.preprocessing._function_transformer.FunctionTransformer'>, <class 'sklearn.ensemble.bagging.BaggingClassifier'>]\n",
      "{'bagg__base_estimator': None, 'bagg__n_estimators': 20}\n"
     ]
    }
   ],
   "source": [
    "for i in vot_models.index:\n",
    "    print(f\"Model: {i}\")\n",
    "    print(vot_models['steps'][i])\n",
    "    print(vot_models['best_params'][i])"
   ]
  },
  {
   "cell_type": "code",
   "execution_count": 63,
   "metadata": {},
   "outputs": [],
   "source": [
    "pipe_14 = Pipeline([\n",
    "    step_tf,\n",
    "    step_cn,\n",
    "    ('logreg',LogisticRegression(C=0.21544346900318834))\n",
    "])\n",
    "\n",
    "pipe_05 = Pipeline([\n",
    "    step_cv,\n",
    "    step_cn,\n",
    "    ('logreg',LogisticRegression(C=0.01))\n",
    "])\n",
    "\n",
    "pipe_15 = Pipeline([\n",
    "    step_tf,\n",
    "    step_cn,\n",
    "    ('ridge',RidgeClassifier(alpha=100.0))\n",
    "])\n",
    "\n",
    "pipe_16 = Pipeline([\n",
    "    step_tf,\n",
    "    step_cn,\n",
    "    ('ridge',MultinomialNB(alpha=4.6415888336127775))\n",
    "])\n",
    "\n",
    "pipe_07 = Pipeline([\n",
    "    step_cv,\n",
    "    step_cn,\n",
    "    ('ridge',MultinomialNB(alpha=4.6415888336127775))\n",
    "])\n",
    "\n",
    "pipe_01 = Pipeline([\n",
    "    step_cv,\n",
    "    step_cn,\n",
    "    ('bagg',BaggingClassifier(n_estimators=20))\n",
    "])\n",
    "\n",
    "pipe_02 = Pipeline([\n",
    "    step_cv,\n",
    "    step_cn,\n",
    "    ('tree',RandomForestClassifier(max_depth=None,min_samples_leaf=2,min_samples_split=10,n_estimators=10))\n",
    "])"
   ]
  },
  {
   "cell_type": "code",
   "execution_count": 64,
   "metadata": {},
   "outputs": [],
   "source": [
    "vote = VotingClassifier([\n",
    "    ('p01',pipe_01),\n",
    "    ('p02',pipe_02),\n",
    "    ('p05',pipe_05),\n",
    "    ('p07',pipe_07),\n",
    "    ('p04',pipe_14),\n",
    "    ('p15',pipe_15),\n",
    "    ('p16',pipe_16)\n",
    "    ],\n",
    "    n_jobs=-1,\n",
    "    weights=[1,1,1,2,1,1,2]\n",
    ")"
   ]
  },
  {
   "cell_type": "code",
   "execution_count": 65,
   "metadata": {},
   "outputs": [],
   "source": [
    "# vote.fit(X_train,y_train)\n",
    "\n",
    "# parse_performance(vote, X_test, y_test)\n",
    "\n",
    "# print(vote.score(X_train,y_train))\n",
    "\n",
    "# print(vote.score(X_test, y_test))"
   ]
  },
  {
   "cell_type": "code",
   "execution_count": 66,
   "metadata": {},
   "outputs": [
    {
     "data": {
      "text/plain": [
       "str"
      ]
     },
     "execution_count": 66,
     "metadata": {},
     "output_type": "execute_result"
    }
   ],
   "source": [
    "type(models['steps'][0])"
   ]
  },
  {
   "cell_type": "code",
   "execution_count": 67,
   "metadata": {},
   "outputs": [
    {
     "data": {
      "text/plain": [
       "0     ['sklearn]\n",
       "1     ['sklearn]\n",
       "2     ['sklearn]\n",
       "3     ['sklearn]\n",
       "4     ['sklearn]\n",
       "5     ['sklearn]\n",
       "6     ['sklearn]\n",
       "7     ['sklearn]\n",
       "8     ['sklearn]\n",
       "9     ['sklearn]\n",
       "10    ['sklearn]\n",
       "11    ['sklearn]\n",
       "12    ['sklearn]\n",
       "13    ['sklearn]\n",
       "14    ['sklearn]\n",
       "15    ['sklearn]\n",
       "16    ['sklearn]\n",
       "17    ['sklearn]\n",
       "Name: steps, dtype: object"
      ]
     },
     "execution_count": 67,
     "metadata": {},
     "output_type": "execute_result"
    }
   ],
   "source": [
    "models['steps'].map(lambda x: [item.split('.')[0] for item in x.split(' ')[3:-1:2]])"
   ]
  },
  {
   "cell_type": "code",
   "execution_count": 68,
   "metadata": {},
   "outputs": [
    {
     "data": {
      "text/plain": [
       "\"{'tree__max_depth': None, 'tree__min_samples_leaf': 2, 'tree__min_samples_split': 10, 'tree__n_estimators': 10}\""
      ]
     },
     "execution_count": 68,
     "metadata": {},
     "output_type": "execute_result"
    }
   ],
   "source": [
    "models.loc[2,'best_params']"
   ]
  },
  {
   "cell_type": "code",
   "execution_count": 69,
   "metadata": {},
   "outputs": [
    {
     "data": {
      "text/html": [
       "<div>\n",
       "<style scoped>\n",
       "    .dataframe tbody tr th:only-of-type {\n",
       "        vertical-align: middle;\n",
       "    }\n",
       "\n",
       "    .dataframe tbody tr th {\n",
       "        vertical-align: top;\n",
       "    }\n",
       "\n",
       "    .dataframe thead th {\n",
       "        text-align: right;\n",
       "    }\n",
       "</style>\n",
       "<table border=\"1\" class=\"dataframe\">\n",
       "  <thead>\n",
       "    <tr style=\"text-align: right;\">\n",
       "      <th></th>\n",
       "      <th>steps</th>\n",
       "      <th>best_cross_val</th>\n",
       "      <th>best_params</th>\n",
       "      <th>train_score</th>\n",
       "      <th>test_score</th>\n",
       "      <th>sensitivity</th>\n",
       "      <th>specificity</th>\n",
       "      <th>confusion_matrix</th>\n",
       "      <th>runtime</th>\n",
       "    </tr>\n",
       "  </thead>\n",
       "  <tbody>\n",
       "    <tr>\n",
       "      <td>14</td>\n",
       "      <td>[&lt;class 'sklearn.feature_extraction.text.Tfidf...</td>\n",
       "      <td>0.795261</td>\n",
       "      <td>{'logreg__C': 0.21544346900318834}</td>\n",
       "      <td>0.821974</td>\n",
       "      <td>0.787870</td>\n",
       "      <td>0.813661</td>\n",
       "      <td>0.761852</td>\n",
       "      <td>(1382, 432, 341, 1489)</td>\n",
       "      <td>7.810136</td>\n",
       "    </tr>\n",
       "    <tr>\n",
       "      <td>5</td>\n",
       "      <td>[&lt;class 'sklearn.feature_extraction.text.Count...</td>\n",
       "      <td>0.788949</td>\n",
       "      <td>{'logreg__C': 0.01}</td>\n",
       "      <td>0.807520</td>\n",
       "      <td>0.787322</td>\n",
       "      <td>0.853005</td>\n",
       "      <td>0.721058</td>\n",
       "      <td>(1308, 506, 269, 1561)</td>\n",
       "      <td>10.185824</td>\n",
       "    </tr>\n",
       "    <tr>\n",
       "      <td>15</td>\n",
       "      <td>[&lt;class 'sklearn.feature_extraction.text.Tfidf...</td>\n",
       "      <td>0.789955</td>\n",
       "      <td>{'ridge__alpha': 100.0}</td>\n",
       "      <td>0.804592</td>\n",
       "      <td>0.781010</td>\n",
       "      <td>0.796175</td>\n",
       "      <td>0.765711</td>\n",
       "      <td>(1389, 425, 373, 1457)</td>\n",
       "      <td>17.614181</td>\n",
       "    </tr>\n",
       "    <tr>\n",
       "      <td>6</td>\n",
       "      <td>[&lt;class 'sklearn.feature_extraction.text.Count...</td>\n",
       "      <td>0.777239</td>\n",
       "      <td>{'ridge__alpha': 100.0}</td>\n",
       "      <td>0.820968</td>\n",
       "      <td>0.778540</td>\n",
       "      <td>0.863388</td>\n",
       "      <td>0.692944</td>\n",
       "      <td>(1257, 557, 250, 1580)</td>\n",
       "      <td>19.333888</td>\n",
       "    </tr>\n",
       "    <tr>\n",
       "      <td>2</td>\n",
       "      <td>[&lt;class 'sklearn.feature_extraction.text.Count...</td>\n",
       "      <td>0.786662</td>\n",
       "      <td>{'tree__max_depth': None, 'tree__min_samples_l...</td>\n",
       "      <td>0.864056</td>\n",
       "      <td>0.777168</td>\n",
       "      <td>0.778689</td>\n",
       "      <td>0.775634</td>\n",
       "      <td>(1407, 407, 405, 1425)</td>\n",
       "      <td>204.612410</td>\n",
       "    </tr>\n",
       "    <tr>\n",
       "      <td>10</td>\n",
       "      <td>[&lt;class 'sklearn.feature_extraction.text.Tfidf...</td>\n",
       "      <td>0.781539</td>\n",
       "      <td>{'bagg__base_estimator': None, 'bagg__n_estima...</td>\n",
       "      <td>0.975025</td>\n",
       "      <td>0.773875</td>\n",
       "      <td>0.772678</td>\n",
       "      <td>0.775083</td>\n",
       "      <td>(1406, 408, 416, 1414)</td>\n",
       "      <td>432.460099</td>\n",
       "    </tr>\n",
       "    <tr>\n",
       "      <td>11</td>\n",
       "      <td>[&lt;class 'sklearn.feature_extraction.text.Tfidf...</td>\n",
       "      <td>0.782271</td>\n",
       "      <td>{'tree__max_depth': None, 'tree__min_samples_l...</td>\n",
       "      <td>0.850700</td>\n",
       "      <td>0.772503</td>\n",
       "      <td>0.781421</td>\n",
       "      <td>0.763506</td>\n",
       "      <td>(1385, 429, 400, 1430)</td>\n",
       "      <td>207.255031</td>\n",
       "    </tr>\n",
       "    <tr>\n",
       "      <td>13</td>\n",
       "      <td>[&lt;class 'sklearn.feature_extraction.text.Tfidf...</td>\n",
       "      <td>0.772390</td>\n",
       "      <td>{'boost__base_estimator__max_depth': 2, 'boost...</td>\n",
       "      <td>0.807428</td>\n",
       "      <td>0.767838</td>\n",
       "      <td>0.820765</td>\n",
       "      <td>0.714443</td>\n",
       "      <td>(1296, 518, 328, 1502)</td>\n",
       "      <td>526.747730</td>\n",
       "    </tr>\n",
       "    <tr>\n",
       "      <td>4</td>\n",
       "      <td>[&lt;class 'sklearn.feature_extraction.text.Count...</td>\n",
       "      <td>0.770286</td>\n",
       "      <td>{'boost__base_estimator__max_depth': 2, 'boost...</td>\n",
       "      <td>0.805050</td>\n",
       "      <td>0.766740</td>\n",
       "      <td>0.833333</td>\n",
       "      <td>0.699559</td>\n",
       "      <td>(1269, 545, 305, 1525)</td>\n",
       "      <td>555.867576</td>\n",
       "    </tr>\n",
       "    <tr>\n",
       "      <td>12</td>\n",
       "      <td>[&lt;class 'sklearn.feature_extraction.text.Tfidf...</td>\n",
       "      <td>0.783368</td>\n",
       "      <td>{'tree__max_depth': None, 'tree__min_samples_l...</td>\n",
       "      <td>0.835422</td>\n",
       "      <td>0.765917</td>\n",
       "      <td>0.757377</td>\n",
       "      <td>0.774531</td>\n",
       "      <td>(1405, 409, 444, 1386)</td>\n",
       "      <td>301.746136</td>\n",
       "    </tr>\n",
       "    <tr>\n",
       "      <td>3</td>\n",
       "      <td>[&lt;class 'sklearn.feature_extraction.text.Count...</td>\n",
       "      <td>0.782454</td>\n",
       "      <td>{'tree__max_depth': None, 'tree__min_samples_l...</td>\n",
       "      <td>0.844113</td>\n",
       "      <td>0.761526</td>\n",
       "      <td>0.748087</td>\n",
       "      <td>0.775083</td>\n",
       "      <td>(1406, 408, 461, 1369)</td>\n",
       "      <td>296.348172</td>\n",
       "    </tr>\n",
       "    <tr>\n",
       "      <td>1</td>\n",
       "      <td>[&lt;class 'sklearn.feature_extraction.text.Count...</td>\n",
       "      <td>0.770927</td>\n",
       "      <td>{'bagg__base_estimator': None, 'bagg__n_estima...</td>\n",
       "      <td>0.974476</td>\n",
       "      <td>0.760154</td>\n",
       "      <td>0.740984</td>\n",
       "      <td>0.779493</td>\n",
       "      <td>(1414, 400, 474, 1356)</td>\n",
       "      <td>330.546137</td>\n",
       "    </tr>\n",
       "    <tr>\n",
       "      <td>16</td>\n",
       "      <td>[&lt;class 'sklearn.feature_extraction.text.Tfidf...</td>\n",
       "      <td>0.754643</td>\n",
       "      <td>{'nb__alpha': 4.6415888336127775}</td>\n",
       "      <td>0.789132</td>\n",
       "      <td>0.753019</td>\n",
       "      <td>0.695082</td>\n",
       "      <td>0.811466</td>\n",
       "      <td>(1472, 342, 558, 1272)</td>\n",
       "      <td>9.061816</td>\n",
       "    </tr>\n",
       "    <tr>\n",
       "      <td>7</td>\n",
       "      <td>[&lt;class 'sklearn.feature_extraction.text.Count...</td>\n",
       "      <td>0.752447</td>\n",
       "      <td>{'nb__alpha': 4.6415888336127775}</td>\n",
       "      <td>0.773488</td>\n",
       "      <td>0.749726</td>\n",
       "      <td>0.692896</td>\n",
       "      <td>0.807056</td>\n",
       "      <td>(1464, 350, 562, 1268)</td>\n",
       "      <td>10.095613</td>\n",
       "    </tr>\n",
       "    <tr>\n",
       "      <td>17</td>\n",
       "      <td>[&lt;class 'sklearn.feature_extraction.text.Tfidf...</td>\n",
       "      <td>0.710456</td>\n",
       "      <td>{}</td>\n",
       "      <td>0.812917</td>\n",
       "      <td>0.732986</td>\n",
       "      <td>0.740437</td>\n",
       "      <td>0.725469</td>\n",
       "      <td>(1316, 498, 475, 1355)</td>\n",
       "      <td>6.832202</td>\n",
       "    </tr>\n",
       "    <tr>\n",
       "      <td>9</td>\n",
       "      <td>[&lt;class 'sklearn.feature_extraction.text.Tfidf...</td>\n",
       "      <td>0.720520</td>\n",
       "      <td>{'tree__max_depth': 7, 'tree__min_samples_leaf...</td>\n",
       "      <td>0.737718</td>\n",
       "      <td>0.722558</td>\n",
       "      <td>0.942077</td>\n",
       "      <td>0.501103</td>\n",
       "      <td>(909, 905, 106, 1724)</td>\n",
       "      <td>43.186298</td>\n",
       "    </tr>\n",
       "    <tr>\n",
       "      <td>0</td>\n",
       "      <td>[&lt;class 'sklearn.feature_extraction.text.Count...</td>\n",
       "      <td>0.723447</td>\n",
       "      <td>{'tree__max_depth': 7, 'tree__min_samples_leaf...</td>\n",
       "      <td>0.732961</td>\n",
       "      <td>0.720088</td>\n",
       "      <td>0.940437</td>\n",
       "      <td>0.497795</td>\n",
       "      <td>(903, 911, 109, 1721)</td>\n",
       "      <td>43.944631</td>\n",
       "    </tr>\n",
       "    <tr>\n",
       "      <td>8</td>\n",
       "      <td>[&lt;class 'sklearn.feature_extraction.text.Count...</td>\n",
       "      <td>0.688592</td>\n",
       "      <td>{}</td>\n",
       "      <td>0.733693</td>\n",
       "      <td>0.705543</td>\n",
       "      <td>0.831694</td>\n",
       "      <td>0.578280</td>\n",
       "      <td>(1049, 765, 308, 1522)</td>\n",
       "      <td>6.829363</td>\n",
       "    </tr>\n",
       "  </tbody>\n",
       "</table>\n",
       "</div>"
      ],
      "text/plain": [
       "                                                steps  best_cross_val  \\\n",
       "14  [<class 'sklearn.feature_extraction.text.Tfidf...        0.795261   \n",
       "5   [<class 'sklearn.feature_extraction.text.Count...        0.788949   \n",
       "15  [<class 'sklearn.feature_extraction.text.Tfidf...        0.789955   \n",
       "6   [<class 'sklearn.feature_extraction.text.Count...        0.777239   \n",
       "2   [<class 'sklearn.feature_extraction.text.Count...        0.786662   \n",
       "10  [<class 'sklearn.feature_extraction.text.Tfidf...        0.781539   \n",
       "11  [<class 'sklearn.feature_extraction.text.Tfidf...        0.782271   \n",
       "13  [<class 'sklearn.feature_extraction.text.Tfidf...        0.772390   \n",
       "4   [<class 'sklearn.feature_extraction.text.Count...        0.770286   \n",
       "12  [<class 'sklearn.feature_extraction.text.Tfidf...        0.783368   \n",
       "3   [<class 'sklearn.feature_extraction.text.Count...        0.782454   \n",
       "1   [<class 'sklearn.feature_extraction.text.Count...        0.770927   \n",
       "16  [<class 'sklearn.feature_extraction.text.Tfidf...        0.754643   \n",
       "7   [<class 'sklearn.feature_extraction.text.Count...        0.752447   \n",
       "17  [<class 'sklearn.feature_extraction.text.Tfidf...        0.710456   \n",
       "9   [<class 'sklearn.feature_extraction.text.Tfidf...        0.720520   \n",
       "0   [<class 'sklearn.feature_extraction.text.Count...        0.723447   \n",
       "8   [<class 'sklearn.feature_extraction.text.Count...        0.688592   \n",
       "\n",
       "                                          best_params  train_score  \\\n",
       "14                 {'logreg__C': 0.21544346900318834}     0.821974   \n",
       "5                                 {'logreg__C': 0.01}     0.807520   \n",
       "15                            {'ridge__alpha': 100.0}     0.804592   \n",
       "6                             {'ridge__alpha': 100.0}     0.820968   \n",
       "2   {'tree__max_depth': None, 'tree__min_samples_l...     0.864056   \n",
       "10  {'bagg__base_estimator': None, 'bagg__n_estima...     0.975025   \n",
       "11  {'tree__max_depth': None, 'tree__min_samples_l...     0.850700   \n",
       "13  {'boost__base_estimator__max_depth': 2, 'boost...     0.807428   \n",
       "4   {'boost__base_estimator__max_depth': 2, 'boost...     0.805050   \n",
       "12  {'tree__max_depth': None, 'tree__min_samples_l...     0.835422   \n",
       "3   {'tree__max_depth': None, 'tree__min_samples_l...     0.844113   \n",
       "1   {'bagg__base_estimator': None, 'bagg__n_estima...     0.974476   \n",
       "16                  {'nb__alpha': 4.6415888336127775}     0.789132   \n",
       "7                   {'nb__alpha': 4.6415888336127775}     0.773488   \n",
       "17                                                 {}     0.812917   \n",
       "9   {'tree__max_depth': 7, 'tree__min_samples_leaf...     0.737718   \n",
       "0   {'tree__max_depth': 7, 'tree__min_samples_leaf...     0.732961   \n",
       "8                                                  {}     0.733693   \n",
       "\n",
       "    test_score  sensitivity  specificity        confusion_matrix     runtime  \n",
       "14    0.787870     0.813661     0.761852  (1382, 432, 341, 1489)    7.810136  \n",
       "5     0.787322     0.853005     0.721058  (1308, 506, 269, 1561)   10.185824  \n",
       "15    0.781010     0.796175     0.765711  (1389, 425, 373, 1457)   17.614181  \n",
       "6     0.778540     0.863388     0.692944  (1257, 557, 250, 1580)   19.333888  \n",
       "2     0.777168     0.778689     0.775634  (1407, 407, 405, 1425)  204.612410  \n",
       "10    0.773875     0.772678     0.775083  (1406, 408, 416, 1414)  432.460099  \n",
       "11    0.772503     0.781421     0.763506  (1385, 429, 400, 1430)  207.255031  \n",
       "13    0.767838     0.820765     0.714443  (1296, 518, 328, 1502)  526.747730  \n",
       "4     0.766740     0.833333     0.699559  (1269, 545, 305, 1525)  555.867576  \n",
       "12    0.765917     0.757377     0.774531  (1405, 409, 444, 1386)  301.746136  \n",
       "3     0.761526     0.748087     0.775083  (1406, 408, 461, 1369)  296.348172  \n",
       "1     0.760154     0.740984     0.779493  (1414, 400, 474, 1356)  330.546137  \n",
       "16    0.753019     0.695082     0.811466  (1472, 342, 558, 1272)    9.061816  \n",
       "7     0.749726     0.692896     0.807056  (1464, 350, 562, 1268)   10.095613  \n",
       "17    0.732986     0.740437     0.725469  (1316, 498, 475, 1355)    6.832202  \n",
       "9     0.722558     0.942077     0.501103   (909, 905, 106, 1724)   43.186298  \n",
       "0     0.720088     0.940437     0.497795   (903, 911, 109, 1721)   43.944631  \n",
       "8     0.705543     0.831694     0.578280  (1049, 765, 308, 1522)    6.829363  "
      ]
     },
     "execution_count": 69,
     "metadata": {},
     "output_type": "execute_result"
    }
   ],
   "source": [
    "models.sort_values(by='test_score',ascending=False)"
   ]
  },
  {
   "cell_type": "code",
   "execution_count": 70,
   "metadata": {},
   "outputs": [],
   "source": [
    "ser_steps = models['steps']"
   ]
  },
  {
   "cell_type": "code",
   "execution_count": 71,
   "metadata": {},
   "outputs": [],
   "source": [
    "ser_steps = ser_steps.str.split(' ')"
   ]
  },
  {
   "cell_type": "code",
   "execution_count": 72,
   "metadata": {},
   "outputs": [],
   "source": [
    "models['classifier'] = ser_steps.map(lambda x: x[-1].split('.')[-1][:-3])"
   ]
  },
  {
   "cell_type": "code",
   "execution_count": 73,
   "metadata": {},
   "outputs": [],
   "source": [
    "models['vectorizer'] = ser_steps.map(lambda x: x[1].split('.')[-1][:-3])"
   ]
  },
  {
   "cell_type": "code",
   "execution_count": 74,
   "metadata": {},
   "outputs": [
    {
     "data": {
      "text/html": [
       "<div>\n",
       "<style scoped>\n",
       "    .dataframe tbody tr th:only-of-type {\n",
       "        vertical-align: middle;\n",
       "    }\n",
       "\n",
       "    .dataframe tbody tr th {\n",
       "        vertical-align: top;\n",
       "    }\n",
       "\n",
       "    .dataframe thead th {\n",
       "        text-align: right;\n",
       "    }\n",
       "</style>\n",
       "<table border=\"1\" class=\"dataframe\">\n",
       "  <thead>\n",
       "    <tr style=\"text-align: right;\">\n",
       "      <th></th>\n",
       "      <th>train_score</th>\n",
       "      <th>test_score</th>\n",
       "      <th>sensitivity</th>\n",
       "      <th>specificity</th>\n",
       "    </tr>\n",
       "  </thead>\n",
       "  <tbody>\n",
       "    <tr>\n",
       "      <td>0</td>\n",
       "      <td>0.732961</td>\n",
       "      <td>0.720088</td>\n",
       "      <td>0.940437</td>\n",
       "      <td>0.497795</td>\n",
       "    </tr>\n",
       "    <tr>\n",
       "      <td>1</td>\n",
       "      <td>0.974476</td>\n",
       "      <td>0.760154</td>\n",
       "      <td>0.740984</td>\n",
       "      <td>0.779493</td>\n",
       "    </tr>\n",
       "    <tr>\n",
       "      <td>2</td>\n",
       "      <td>0.864056</td>\n",
       "      <td>0.777168</td>\n",
       "      <td>0.778689</td>\n",
       "      <td>0.775634</td>\n",
       "    </tr>\n",
       "    <tr>\n",
       "      <td>3</td>\n",
       "      <td>0.844113</td>\n",
       "      <td>0.761526</td>\n",
       "      <td>0.748087</td>\n",
       "      <td>0.775083</td>\n",
       "    </tr>\n",
       "    <tr>\n",
       "      <td>4</td>\n",
       "      <td>0.805050</td>\n",
       "      <td>0.766740</td>\n",
       "      <td>0.833333</td>\n",
       "      <td>0.699559</td>\n",
       "    </tr>\n",
       "    <tr>\n",
       "      <td>5</td>\n",
       "      <td>0.807520</td>\n",
       "      <td>0.787322</td>\n",
       "      <td>0.853005</td>\n",
       "      <td>0.721058</td>\n",
       "    </tr>\n",
       "    <tr>\n",
       "      <td>6</td>\n",
       "      <td>0.820968</td>\n",
       "      <td>0.778540</td>\n",
       "      <td>0.863388</td>\n",
       "      <td>0.692944</td>\n",
       "    </tr>\n",
       "    <tr>\n",
       "      <td>7</td>\n",
       "      <td>0.773488</td>\n",
       "      <td>0.749726</td>\n",
       "      <td>0.692896</td>\n",
       "      <td>0.807056</td>\n",
       "    </tr>\n",
       "    <tr>\n",
       "      <td>8</td>\n",
       "      <td>0.733693</td>\n",
       "      <td>0.705543</td>\n",
       "      <td>0.831694</td>\n",
       "      <td>0.578280</td>\n",
       "    </tr>\n",
       "    <tr>\n",
       "      <td>9</td>\n",
       "      <td>0.737718</td>\n",
       "      <td>0.722558</td>\n",
       "      <td>0.942077</td>\n",
       "      <td>0.501103</td>\n",
       "    </tr>\n",
       "    <tr>\n",
       "      <td>10</td>\n",
       "      <td>0.975025</td>\n",
       "      <td>0.773875</td>\n",
       "      <td>0.772678</td>\n",
       "      <td>0.775083</td>\n",
       "    </tr>\n",
       "    <tr>\n",
       "      <td>11</td>\n",
       "      <td>0.850700</td>\n",
       "      <td>0.772503</td>\n",
       "      <td>0.781421</td>\n",
       "      <td>0.763506</td>\n",
       "    </tr>\n",
       "    <tr>\n",
       "      <td>12</td>\n",
       "      <td>0.835422</td>\n",
       "      <td>0.765917</td>\n",
       "      <td>0.757377</td>\n",
       "      <td>0.774531</td>\n",
       "    </tr>\n",
       "    <tr>\n",
       "      <td>13</td>\n",
       "      <td>0.807428</td>\n",
       "      <td>0.767838</td>\n",
       "      <td>0.820765</td>\n",
       "      <td>0.714443</td>\n",
       "    </tr>\n",
       "    <tr>\n",
       "      <td>14</td>\n",
       "      <td>0.821974</td>\n",
       "      <td>0.787870</td>\n",
       "      <td>0.813661</td>\n",
       "      <td>0.761852</td>\n",
       "    </tr>\n",
       "    <tr>\n",
       "      <td>15</td>\n",
       "      <td>0.804592</td>\n",
       "      <td>0.781010</td>\n",
       "      <td>0.796175</td>\n",
       "      <td>0.765711</td>\n",
       "    </tr>\n",
       "    <tr>\n",
       "      <td>16</td>\n",
       "      <td>0.789132</td>\n",
       "      <td>0.753019</td>\n",
       "      <td>0.695082</td>\n",
       "      <td>0.811466</td>\n",
       "    </tr>\n",
       "    <tr>\n",
       "      <td>17</td>\n",
       "      <td>0.812917</td>\n",
       "      <td>0.732986</td>\n",
       "      <td>0.740437</td>\n",
       "      <td>0.725469</td>\n",
       "    </tr>\n",
       "  </tbody>\n",
       "</table>\n",
       "</div>"
      ],
      "text/plain": [
       "    train_score  test_score  sensitivity  specificity\n",
       "0      0.732961    0.720088     0.940437     0.497795\n",
       "1      0.974476    0.760154     0.740984     0.779493\n",
       "2      0.864056    0.777168     0.778689     0.775634\n",
       "3      0.844113    0.761526     0.748087     0.775083\n",
       "4      0.805050    0.766740     0.833333     0.699559\n",
       "5      0.807520    0.787322     0.853005     0.721058\n",
       "6      0.820968    0.778540     0.863388     0.692944\n",
       "7      0.773488    0.749726     0.692896     0.807056\n",
       "8      0.733693    0.705543     0.831694     0.578280\n",
       "9      0.737718    0.722558     0.942077     0.501103\n",
       "10     0.975025    0.773875     0.772678     0.775083\n",
       "11     0.850700    0.772503     0.781421     0.763506\n",
       "12     0.835422    0.765917     0.757377     0.774531\n",
       "13     0.807428    0.767838     0.820765     0.714443\n",
       "14     0.821974    0.787870     0.813661     0.761852\n",
       "15     0.804592    0.781010     0.796175     0.765711\n",
       "16     0.789132    0.753019     0.695082     0.811466\n",
       "17     0.812917    0.732986     0.740437     0.725469"
      ]
     },
     "execution_count": 74,
     "metadata": {},
     "output_type": "execute_result"
    }
   ],
   "source": [
    "models\n",
    "metrics = ['train_score','test_score','sensitivity','specificity']\n",
    "models[metrics]"
   ]
  },
  {
   "cell_type": "code",
   "execution_count": 75,
   "metadata": {},
   "outputs": [],
   "source": [
    "import seaborn as sns\n",
    "import matplotlib.pyplot as plt"
   ]
  },
  {
   "cell_type": "code",
   "execution_count": 76,
   "metadata": {
    "scrolled": false
   },
   "outputs": [
    {
     "data": {
      "image/png": "[encoded data removed]",
      "text/plain": [
       "<Figure size 720x576 with 1 Axes>"
      ]
     },
     "metadata": {
      "needs_background": "light"
     },
     "output_type": "display_data"
    },
    {
     "data": {
      "image/png": "[encoded data removed]",
      "text/plain": [
       "<Figure size 720x576 with 1 Axes>"
      ]
     },
     "metadata": {
      "needs_background": "light"
     },
     "output_type": "display_data"
    },
    {
     "data": {
      "image/png": "[encoded data removed]",
      "text/plain": [
       "<Figure size 720x576 with 1 Axes>"
      ]
     },
     "metadata": {
      "needs_background": "light"
     },
     "output_type": "display_data"
    },
    {
     "data": {
      "image/png": "[encoded data removed]",
      "text/plain": [
       "<Figure size 720x576 with 1 Axes>"
      ]
     },
     "metadata": {
      "needs_background": "light"
     },
     "output_type": "display_data"
    }
   ],
   "source": [
    "for metric in metrics:\n",
    "    plt.figure(figsize=(10,8))\n",
    "    sns.barplot(data=models,\n",
    "                y='classifier',\n",
    "                x=(models[metric]-0.50)/0.50,\n",
    "                hue='vectorizer'\n",
    "               )\n",
    "    plt.title(f\"Model vs Performance of {metric.title().replace('_',' ')} Above Baseline\")\n",
    "    plt.xlabel(f\"{metric.title().replace('_',' ')}\")\n",
    "    plt.ylabel(\"Classifier\")"
   ]
  },
  {
   "cell_type": "code",
   "execution_count": 77,
   "metadata": {
    "scrolled": false
   },
   "outputs": [
    {
     "data": {
      "image/png": "[encoded data removed]",
      "text/plain": [
       "<Figure size 720x576 with 1 Axes>"
      ]
     },
     "metadata": {
      "needs_background": "light"
     },
     "output_type": "display_data"
    }
   ],
   "source": [
    "plt.figure(figsize=(10,8))\n",
    "sns.scatterplot(data=models,\n",
    "            y='specificity',\n",
    "            x='test_score',\n",
    "            hue=models['classifier']+' | '+models['vectorizer'],\n",
    "            s=[100]*models.shape[0]\n",
    "           )\n",
    "# plt.xlim((0.50,0.6))\n",
    "# plt.ylim((.60,.9))\n",
    "plt.title(f\"Model Specificity vs Test Data Accuracy\",size=20)\n",
    "plt.xlabel(\"Test Score\",size=16)\n",
    "plt.ylabel(\"Specificity\",size=16)\n",
    "plt.legend().remove()\n",
    "plt.tight_layout()\n",
    "plt.savefig('../images/specificity_v_test.jpeg')"
   ]
  },
  {
   "cell_type": "code",
   "execution_count": 78,
   "metadata": {},
   "outputs": [],
   "source": [
    "from matplotlib.patches import Circle as cir"
   ]
  },
  {
   "cell_type": "code",
   "execution_count": 79,
   "metadata": {
    "scrolled": false
   },
   "outputs": [
    {
     "data": {
      "image/png": "[encoded data removed]",
      "text/plain": [
       "<Figure size 720x576 with 1 Axes>"
      ]
     },
     "metadata": {
      "needs_background": "light"
     },
     "output_type": "display_data"
    }
   ],
   "source": [
    "plt.figure(figsize=(10,8))\n",
    "sns.scatterplot(data=models,\n",
    "            y='specificity',\n",
    "            x='test_score',\n",
    "            hue=models['classifier']+' | '+models['vectorizer'],\n",
    "            s=[100]*models.shape[0]\n",
    "           )\n",
    "# plt.xlim((0.50,0.6))\n",
    "# plt.ylim((.60,.9))\n",
    "plt.title(f\"Model Specificity vs Test Data Accuracy\",size=20)\n",
    "plt.xlabel(\"Test Score\",size=16)\n",
    "plt.ylabel(\"Specificity\",size=16)\n",
    "plt.legend().remove()\n",
    "\n",
    "plt.axhline(0.779,linestyle='--')\n",
    "plt.axvline(0.781,linestyle='--')\n",
    "plt.tight_layout()\n",
    "\n",
    "\n",
    "\n",
    "plt.savefig('../images/specificity_w_cutoff.jpeg')"
   ]
  },
  {
   "cell_type": "markdown",
   "metadata": {},
   "source": [
    "##### "
   ]
  },
  {
   "cell_type": "code",
   "execution_count": 80,
   "metadata": {
    "scrolled": true
   },
   "outputs": [
    {
     "data": {
      "text/html": [
       "<div>\n",
       "<style scoped>\n",
       "    .dataframe tbody tr th:only-of-type {\n",
       "        vertical-align: middle;\n",
       "    }\n",
       "\n",
       "    .dataframe tbody tr th {\n",
       "        vertical-align: top;\n",
       "    }\n",
       "\n",
       "    .dataframe thead th {\n",
       "        text-align: right;\n",
       "    }\n",
       "</style>\n",
       "<table border=\"1\" class=\"dataframe\">\n",
       "  <thead>\n",
       "    <tr style=\"text-align: right;\">\n",
       "      <th></th>\n",
       "      <th>classifier</th>\n",
       "      <th>vectorizer</th>\n",
       "      <th>compound</th>\n",
       "    </tr>\n",
       "  </thead>\n",
       "  <tbody>\n",
       "    <tr>\n",
       "      <td>16</td>\n",
       "      <td>MultinomialNB</td>\n",
       "      <td>TfidfVectorizer</td>\n",
       "      <td>0.611049</td>\n",
       "    </tr>\n",
       "    <tr>\n",
       "      <td>7</td>\n",
       "      <td>MultinomialNB</td>\n",
       "      <td>CountVectorizer</td>\n",
       "      <td>0.605071</td>\n",
       "    </tr>\n",
       "    <tr>\n",
       "      <td>2</td>\n",
       "      <td>RandomForestClassifier</td>\n",
       "      <td>CountVectorizer</td>\n",
       "      <td>0.602798</td>\n",
       "    </tr>\n",
       "    <tr>\n",
       "      <td>14</td>\n",
       "      <td>LogisticRegression</td>\n",
       "      <td>TfidfVectorizer</td>\n",
       "      <td>0.600241</td>\n",
       "    </tr>\n",
       "    <tr>\n",
       "      <td>10</td>\n",
       "      <td>BaggingClassifier</td>\n",
       "      <td>TfidfVectorizer</td>\n",
       "      <td>0.599817</td>\n",
       "    </tr>\n",
       "    <tr>\n",
       "      <td>15</td>\n",
       "      <td>RidgeClassifier</td>\n",
       "      <td>TfidfVectorizer</td>\n",
       "      <td>0.598028</td>\n",
       "    </tr>\n",
       "    <tr>\n",
       "      <td>12</td>\n",
       "      <td>ExtraTreesClassifier</td>\n",
       "      <td>TfidfVectorizer</td>\n",
       "      <td>0.593226</td>\n",
       "    </tr>\n",
       "    <tr>\n",
       "      <td>1</td>\n",
       "      <td>BaggingClassifier</td>\n",
       "      <td>CountVectorizer</td>\n",
       "      <td>0.592534</td>\n",
       "    </tr>\n",
       "    <tr>\n",
       "      <td>3</td>\n",
       "      <td>ExtraTreesClassifier</td>\n",
       "      <td>CountVectorizer</td>\n",
       "      <td>0.590245</td>\n",
       "    </tr>\n",
       "    <tr>\n",
       "      <td>11</td>\n",
       "      <td>RandomForestClassifier</td>\n",
       "      <td>TfidfVectorizer</td>\n",
       "      <td>0.589811</td>\n",
       "    </tr>\n",
       "    <tr>\n",
       "      <td>5</td>\n",
       "      <td>LogisticRegression</td>\n",
       "      <td>CountVectorizer</td>\n",
       "      <td>0.567705</td>\n",
       "    </tr>\n",
       "    <tr>\n",
       "      <td>13</td>\n",
       "      <td>AdaBoostClassifier</td>\n",
       "      <td>TfidfVectorizer</td>\n",
       "      <td>0.548576</td>\n",
       "    </tr>\n",
       "    <tr>\n",
       "      <td>6</td>\n",
       "      <td>RidgeClassifier</td>\n",
       "      <td>CountVectorizer</td>\n",
       "      <td>0.539484</td>\n",
       "    </tr>\n",
       "    <tr>\n",
       "      <td>4</td>\n",
       "      <td>AdaBoostClassifier</td>\n",
       "      <td>CountVectorizer</td>\n",
       "      <td>0.536380</td>\n",
       "    </tr>\n",
       "    <tr>\n",
       "      <td>17</td>\n",
       "      <td>GaussianNB</td>\n",
       "      <td>TfidfVectorizer</td>\n",
       "      <td>0.531758</td>\n",
       "    </tr>\n",
       "    <tr>\n",
       "      <td>8</td>\n",
       "      <td>GaussianNB</td>\n",
       "      <td>CountVectorizer</td>\n",
       "      <td>0.408002</td>\n",
       "    </tr>\n",
       "    <tr>\n",
       "      <td>9</td>\n",
       "      <td>DecisionTreeClassifier</td>\n",
       "      <td>TfidfVectorizer</td>\n",
       "      <td>0.362075</td>\n",
       "    </tr>\n",
       "    <tr>\n",
       "      <td>0</td>\n",
       "      <td>DecisionTreeClassifier</td>\n",
       "      <td>CountVectorizer</td>\n",
       "      <td>0.358456</td>\n",
       "    </tr>\n",
       "  </tbody>\n",
       "</table>\n",
       "</div>"
      ],
      "text/plain": [
       "                classifier       vectorizer  compound\n",
       "16           MultinomialNB  TfidfVectorizer  0.611049\n",
       "7            MultinomialNB  CountVectorizer  0.605071\n",
       "2   RandomForestClassifier  CountVectorizer  0.602798\n",
       "14      LogisticRegression  TfidfVectorizer  0.600241\n",
       "10       BaggingClassifier  TfidfVectorizer  0.599817\n",
       "15         RidgeClassifier  TfidfVectorizer  0.598028\n",
       "12    ExtraTreesClassifier  TfidfVectorizer  0.593226\n",
       "1        BaggingClassifier  CountVectorizer  0.592534\n",
       "3     ExtraTreesClassifier  CountVectorizer  0.590245\n",
       "11  RandomForestClassifier  TfidfVectorizer  0.589811\n",
       "5       LogisticRegression  CountVectorizer  0.567705\n",
       "13      AdaBoostClassifier  TfidfVectorizer  0.548576\n",
       "6          RidgeClassifier  CountVectorizer  0.539484\n",
       "4       AdaBoostClassifier  CountVectorizer  0.536380\n",
       "17              GaussianNB  TfidfVectorizer  0.531758\n",
       "8               GaussianNB  CountVectorizer  0.408002\n",
       "9   DecisionTreeClassifier  TfidfVectorizer  0.362075\n",
       "0   DecisionTreeClassifier  CountVectorizer  0.358456"
      ]
     },
     "execution_count": 80,
     "metadata": {},
     "output_type": "execute_result"
    }
   ],
   "source": [
    "models['compound'] = models['test_score'] * models['specificity']\n",
    "models[['classifier','vectorizer','compound']].sort_values(by='compound',ascending=False)"
   ]
  },
  {
   "cell_type": "code",
   "execution_count": 81,
   "metadata": {
    "scrolled": false
   },
   "outputs": [
    {
     "name": "stderr",
     "output_type": "stream",
     "text": [
      "No handles with labels found to put in legend.\n"
     ]
    },
    {
     "data": {
      "image/png": "[encoded data removed]",
      "text/plain": [
       "<Figure size 720x576 with 1 Axes>"
      ]
     },
     "metadata": {
      "needs_background": "light"
     },
     "output_type": "display_data"
    }
   ],
   "source": [
    "frame = models.sort_values(by='compound',ascending=False)\n",
    "plt.figure(figsize=(10,8))\n",
    "sns.barplot(data=frame,\n",
    "            x='compound',\n",
    "            y=frame['classifier'] + ' | ' + frame['vectorizer'],\n",
    "#             hue=models['classifier']+' | '+models['vectorizer'],\n",
    "            color='lightblue'\n",
    "#             s=[100]*models.shape[0]\n",
    "           )\n",
    "plt.xlim((0.29,0.62))\n",
    "# plt.ylim((.60,.9))\n",
    "plt.title(f\"Compound  Score per Model\",size=20)\n",
    "plt.xlabel(\"Compound Score\",size=16)\n",
    "plt.ylabel(\"Model\",size=16)\n",
    "plt.legend().remove()\n",
    "#\n",
    "# plt.axhline(0.779,linestyle='--')\n",
    "plt.axvline(0.6,linestyle='--')\n",
    "plt.tight_layout()\n",
    "\n",
    "\n",
    "\n",
    "plt.savefig('../images/compound_w_cutoff.jpeg')"
   ]
  },
  {
   "cell_type": "code",
   "execution_count": null,
   "metadata": {},
   "outputs": [],
   "source": []
  },
  {
   "cell_type": "code",
   "execution_count": 82,
   "metadata": {},
   "outputs": [
    {
     "data": {
      "text/html": [
       "<div>\n",
       "<style scoped>\n",
       "    .dataframe tbody tr th:only-of-type {\n",
       "        vertical-align: middle;\n",
       "    }\n",
       "\n",
       "    .dataframe tbody tr th {\n",
       "        vertical-align: top;\n",
       "    }\n",
       "\n",
       "    .dataframe thead th {\n",
       "        text-align: right;\n",
       "    }\n",
       "</style>\n",
       "<table border=\"1\" class=\"dataframe\">\n",
       "  <thead>\n",
       "    <tr style=\"text-align: right;\">\n",
       "      <th></th>\n",
       "      <th>classifier</th>\n",
       "      <th>vectorizer</th>\n",
       "      <th>specificity</th>\n",
       "    </tr>\n",
       "  </thead>\n",
       "  <tbody>\n",
       "    <tr>\n",
       "      <td>16</td>\n",
       "      <td>MultinomialNB</td>\n",
       "      <td>TfidfVectorizer</td>\n",
       "      <td>0.811466</td>\n",
       "    </tr>\n",
       "    <tr>\n",
       "      <td>7</td>\n",
       "      <td>MultinomialNB</td>\n",
       "      <td>CountVectorizer</td>\n",
       "      <td>0.807056</td>\n",
       "    </tr>\n",
       "    <tr>\n",
       "      <td>1</td>\n",
       "      <td>BaggingClassifier</td>\n",
       "      <td>CountVectorizer</td>\n",
       "      <td>0.779493</td>\n",
       "    </tr>\n",
       "  </tbody>\n",
       "</table>\n",
       "</div>"
      ],
      "text/plain": [
       "           classifier       vectorizer  specificity\n",
       "16      MultinomialNB  TfidfVectorizer     0.811466\n",
       "7       MultinomialNB  CountVectorizer     0.807056\n",
       "1   BaggingClassifier  CountVectorizer     0.779493"
      ]
     },
     "execution_count": 82,
     "metadata": {},
     "output_type": "execute_result"
    }
   ],
   "source": [
    "models[['classifier','vectorizer','specificity']].sort_values(by='specificity',ascending=False).head(3)"
   ]
  },
  {
   "cell_type": "code",
   "execution_count": 83,
   "metadata": {},
   "outputs": [
    {
     "data": {
      "text/html": [
       "<div>\n",
       "<style scoped>\n",
       "    .dataframe tbody tr th:only-of-type {\n",
       "        vertical-align: middle;\n",
       "    }\n",
       "\n",
       "    .dataframe tbody tr th {\n",
       "        vertical-align: top;\n",
       "    }\n",
       "\n",
       "    .dataframe thead th {\n",
       "        text-align: right;\n",
       "    }\n",
       "</style>\n",
       "<table border=\"1\" class=\"dataframe\">\n",
       "  <thead>\n",
       "    <tr style=\"text-align: right;\">\n",
       "      <th></th>\n",
       "      <th>classifier</th>\n",
       "      <th>vectorizer</th>\n",
       "      <th>test_score</th>\n",
       "    </tr>\n",
       "  </thead>\n",
       "  <tbody>\n",
       "    <tr>\n",
       "      <td>14</td>\n",
       "      <td>LogisticRegression</td>\n",
       "      <td>TfidfVectorizer</td>\n",
       "      <td>0.787870</td>\n",
       "    </tr>\n",
       "    <tr>\n",
       "      <td>5</td>\n",
       "      <td>LogisticRegression</td>\n",
       "      <td>CountVectorizer</td>\n",
       "      <td>0.787322</td>\n",
       "    </tr>\n",
       "    <tr>\n",
       "      <td>15</td>\n",
       "      <td>RidgeClassifier</td>\n",
       "      <td>TfidfVectorizer</td>\n",
       "      <td>0.781010</td>\n",
       "    </tr>\n",
       "  </tbody>\n",
       "</table>\n",
       "</div>"
      ],
      "text/plain": [
       "            classifier       vectorizer  test_score\n",
       "14  LogisticRegression  TfidfVectorizer    0.787870\n",
       "5   LogisticRegression  CountVectorizer    0.787322\n",
       "15     RidgeClassifier  TfidfVectorizer    0.781010"
      ]
     },
     "execution_count": 83,
     "metadata": {},
     "output_type": "execute_result"
    }
   ],
   "source": [
    "models[['classifier','vectorizer','test_score']].sort_values(by='test_score',ascending=False).head(3)"
   ]
  },
  {
   "cell_type": "code",
   "execution_count": 84,
   "metadata": {},
   "outputs": [
    {
     "data": {
      "text/plain": [
       "steps               [<class 'sklearn.feature_extraction.text.Tfidf...\n",
       "best_cross_val                                               0.754643\n",
       "best_params                         {'nb__alpha': 4.6415888336127775}\n",
       "train_score                                                  0.789132\n",
       "test_score                                                   0.753019\n",
       "sensitivity                                                  0.695082\n",
       "specificity                                                  0.811466\n",
       "confusion_matrix                               (1472, 342, 558, 1272)\n",
       "runtime                                                       9.06182\n",
       "classifier                                              MultinomialNB\n",
       "vectorizer                                            TfidfVectorizer\n",
       "compound                                                     0.611049\n",
       "Name: 16, dtype: object"
      ]
     },
     "execution_count": 84,
     "metadata": {},
     "output_type": "execute_result"
    }
   ],
   "source": [
    "models.iloc[16]"
   ]
  },
  {
   "cell_type": "markdown",
   "metadata": {},
   "source": [
    "# Summary \n",
    "My best model was the Logistic Regression with the TfidfVectorizer. It scored a 0.788 on it's test score (a 56% improvement form our baseline score) and it achieved a 81% specificity score."
   ]
  }
 ],
 "metadata": {
  "kernelspec": {
   "display_name": "Python 3",
   "language": "python",
   "name": "python3"
  },
  "language_info": {
   "codemirror_mode": {
    "name": "ipython",
    "version": 3
   },
   "file_extension": ".py",
   "mimetype": "text/x-python",
   "name": "python",
   "nbconvert_exporter": "python",
   "pygments_lexer": "ipython3",
   "version": "3.7.1"
  },
  "toc": {
   "base_numbering": 1,
   "nav_menu": {},
   "number_sections": false,
   "sideBar": true,
   "skip_h1_title": false,
   "title_cell": "Table of Contents",
   "title_sidebar": "Contents",
   "toc_cell": false,
   "toc_position": {},
   "toc_section_display": true,
   "toc_window_display": true
  }
 },
 "nbformat": 4,
 "nbformat_minor": 2
}