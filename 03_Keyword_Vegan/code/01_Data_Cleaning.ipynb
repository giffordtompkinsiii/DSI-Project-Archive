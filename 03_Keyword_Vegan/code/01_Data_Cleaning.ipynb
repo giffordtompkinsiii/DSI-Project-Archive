{
 "cells": [
  {
   "cell_type": "markdown",
   "metadata": {},
   "source": [
    "# <img src=\"../images/vegan-logo-resized.png\" style=\"float: right; margin: 10px;\">\n",
    "\n",
    "# Data Cleaning and Exploratory Data Analysis\n",
    "\n",
    "Author: Gifford Tompkins\n",
    "\n",
    "---\n",
    "\n",
    "Project 03 | Notebook 1 of 6\n",
    "\n",
    "## OBJECTIVE\n",
    "This notebook will establish a Base Model to compare our final model's success to. We will then clean the data and make it ready fro analysis. We will then begin some Exploratory Data Analysis and attempt to get a sense of whether or not we will be able to answer our problem statement given our body of data. If so, we will also have a sense for how to develop a strategy for building our model."
   ]
  },
  {
   "cell_type": "markdown",
   "metadata": {},
   "source": [
    "# Import Libraries and Dataset"
   ]
  },
  {
   "cell_type": "code",
   "execution_count": 60,
   "metadata": {},
   "outputs": [],
   "source": [
    "import pandas as pd\n",
    "import numpy as np\n",
    "import time\n",
    "import regex as re\n",
    "\n",
    "from nltk.stem import WordNetLemmatizer\n",
    "from sklearn.naive_bayes import GaussianNB, MultinomialNB\n",
    "\n",
    "from sklearn.feature_extraction.text import CountVectorizer, TfidfVectorizer\n",
    "from sklearn.model_selection import train_test_split, GridSearchCV\n",
    "from sklearn.pipeline import Pipeline\n",
    "\n",
    "from project_functions.data_cleaning_and_eda import clean_string"
   ]
  },
  {
   "cell_type": "code",
   "execution_count": 61,
   "metadata": {},
   "outputs": [],
   "source": [
    "df = pd.read_csv('../data/corpus.csv')\n",
    "df = df.drop_duplicates()"
   ]
  },
  {
   "cell_type": "markdown",
   "metadata": {},
   "source": [
    "## Drop Duplicates\n",
    "Before establishing a baseline model, we will remove any duplicates from our data set to establish a valid class distribution."
   ]
  },
  {
   "cell_type": "code",
   "execution_count": 62,
   "metadata": {},
   "outputs": [
    {
     "output_type": "execute_result",
     "data": {
      "text/plain": "0    0.501411\n1    0.498589\nName: vegan, dtype: float64"
     },
     "metadata": {},
     "execution_count": 62
    }
   ],
   "source": [
    "df['vegan'].value_counts(normalize=True)"
   ]
  },
  {
   "cell_type": "markdown",
   "metadata": {},
   "source": [
    "# Baseline Model\n",
    "\n",
    "Our baseline model is the majority class distribution of our data set. We will attempt to create a model with more accuracy than a naive guess. \n",
    "\n",
    "We have a class distribution of \n",
    "\n",
    "|Vegan|Vegetarian|\n",
    "|---|---|\n",
    "|49.9%|50.1%|\n",
    "\n",
    "So our baseline score is that of the majority class **Vegetarians**, at **50.42%**."
   ]
  },
  {
   "cell_type": "code",
   "execution_count": 63,
   "metadata": {},
   "outputs": [],
   "source": [
    "base_score = 1 - df['vegan'].mean()"
   ]
  },
  {
   "cell_type": "markdown",
   "metadata": {},
   "source": [
    "# Data Cleaning\n",
    "We will look through our data and see if anything needs to be cleaned."
   ]
  },
  {
   "cell_type": "code",
   "execution_count": 64,
   "metadata": {
    "scrolled": true
   },
   "outputs": [
    {
     "output_type": "execute_result",
     "data": {
      "text/plain": "                                               title  \\\n0  My ‘100 calories club’ which helps people visu...   \n1  Chilli fritters stuffed with a mix of raw onio...   \n2  Lentil and mushroom gravy with sweetpotato mas...   \n3               How to get excited about vegetables?   \n4  Homemade Rasgulla - Bengali Spongy Milk Sweets...   \n5  Homemade Rasgulla - Bengali Spongy Milk Sweets...   \n6                      Supporting a vegetarian diet!   \n7  Leek and mint puree with oyster mushroom 'scal...   \n8                      What's for Dinner? Discussion   \n9                       Lumpin beans! 36% of protein   \n\n                                            selftext  vegan  \n0                                                NaN      0  \n1                                                NaN      0  \n2                                                NaN      0  \n3  I stopped eating meat after 24 years due to a ...      0  \n4                                                NaN      0  \n5                                                NaN      0  \n6                                                NaN      0  \n7                                                NaN      0  \n8  Welcome to our weekly discussion on what you’r...      0  \n9                                                NaN      0  ",
      "text/html": "<div>\n<style scoped>\n    .dataframe tbody tr th:only-of-type {\n        vertical-align: middle;\n    }\n\n    .dataframe tbody tr th {\n        vertical-align: top;\n    }\n\n    .dataframe thead th {\n        text-align: right;\n    }\n</style>\n<table border=\"1\" class=\"dataframe\">\n  <thead>\n    <tr style=\"text-align: right;\">\n      <th></th>\n      <th>title</th>\n      <th>selftext</th>\n      <th>vegan</th>\n    </tr>\n  </thead>\n  <tbody>\n    <tr>\n      <th>0</th>\n      <td>My ‘100 calories club’ which helps people visu...</td>\n      <td>NaN</td>\n      <td>0</td>\n    </tr>\n    <tr>\n      <th>1</th>\n      <td>Chilli fritters stuffed with a mix of raw onio...</td>\n      <td>NaN</td>\n      <td>0</td>\n    </tr>\n    <tr>\n      <th>2</th>\n      <td>Lentil and mushroom gravy with sweetpotato mas...</td>\n      <td>NaN</td>\n      <td>0</td>\n    </tr>\n    <tr>\n      <th>3</th>\n      <td>How to get excited about vegetables?</td>\n      <td>I stopped eating meat after 24 years due to a ...</td>\n      <td>0</td>\n    </tr>\n    <tr>\n      <th>4</th>\n      <td>Homemade Rasgulla - Bengali Spongy Milk Sweets...</td>\n      <td>NaN</td>\n      <td>0</td>\n    </tr>\n    <tr>\n      <th>5</th>\n      <td>Homemade Rasgulla - Bengali Spongy Milk Sweets...</td>\n      <td>NaN</td>\n      <td>0</td>\n    </tr>\n    <tr>\n      <th>6</th>\n      <td>Supporting a vegetarian diet!</td>\n      <td>NaN</td>\n      <td>0</td>\n    </tr>\n    <tr>\n      <th>7</th>\n      <td>Leek and mint puree with oyster mushroom 'scal...</td>\n      <td>NaN</td>\n      <td>0</td>\n    </tr>\n    <tr>\n      <th>8</th>\n      <td>What's for Dinner? Discussion</td>\n      <td>Welcome to our weekly discussion on what you’r...</td>\n      <td>0</td>\n    </tr>\n    <tr>\n      <th>9</th>\n      <td>Lumpin beans! 36% of protein</td>\n      <td>NaN</td>\n      <td>0</td>\n    </tr>\n  </tbody>\n</table>\n</div>"
     },
     "metadata": {},
     "execution_count": 64
    }
   ],
   "source": [
    "df.head(10)"
   ]
  },
  {
   "cell_type": "code",
   "execution_count": 65,
   "metadata": {},
   "outputs": [
    {
     "output_type": "execute_result",
     "data": {
      "text/plain": "title       0.000000\nselftext    0.582756\nvegan       0.000000\ndtype: float64"
     },
     "metadata": {},
     "execution_count": 65
    }
   ],
   "source": [
    "df.isnull().mean()"
   ]
  },
  {
   "cell_type": "markdown",
   "metadata": {},
   "source": [
    "## Missing Values\n",
    "The `'selftext'` column has many `null` values as well as several instances of the phrase `'[removed]'`. This is how the API records the fact that a post contained body text but that text was then removed (either by the user or the subreddit or reddit moderators).  \n",
    "\n",
    "We will address both of these issues by replacing them with the empty string. The textual version of a `null` value.\n",
    "\n",
    "Fortunately, `'titles'` and `'vegan'`  have no missing values."
   ]
  },
  {
   "cell_type": "code",
   "execution_count": 66,
   "metadata": {},
   "outputs": [
    {
     "output_type": "execute_result",
     "data": {
      "text/plain": "vegan\n0    140\n1    133\nName: selftext, dtype: int64"
     },
     "metadata": {},
     "execution_count": 66
    }
   ],
   "source": [
    "mask_removed = df['selftext']=='[removed]'\n",
    "df[mask_removed].groupby(by='vegan')['selftext'].count()"
   ]
  },
  {
   "cell_type": "markdown",
   "metadata": {},
   "source": [
    "### Create `'removed'` column\n",
    "Vegans twice as many `'[removed]'` posts as Vegetarians. This fact might end up being signaling, so I am going to save that information in a new column called 'removed_post'. I will then remove the `'[removed]'` string from the column."
   ]
  },
  {
   "cell_type": "code",
   "execution_count": 67,
   "metadata": {},
   "outputs": [],
   "source": [
    "df['removed'] = (mask_removed).astype(int)"
   ]
  },
  {
   "cell_type": "code",
   "execution_count": 68,
   "metadata": {},
   "outputs": [
    {
     "output_type": "execute_result",
     "data": {
      "text/plain": "vegan\n0    140\n1    133\nName: removed, dtype: int64"
     },
     "metadata": {},
     "execution_count": 68
    }
   ],
   "source": [
    "# Confirm that the new column was created correctly.\n",
    "df.groupby(by='vegan')['removed'].sum()"
   ]
  },
  {
   "cell_type": "code",
   "execution_count": 69,
   "metadata": {},
   "outputs": [
    {
     "output_type": "execute_result",
     "data": {
      "text/plain": "                                                title   selftext  vegan  \\\n18  What are some brands of prepackaged stuff that...  [removed]      0   \n23  Anyone has suggestion on good veggie sausages?...  [removed]      0   \n50  I’m Veg, my BF adores meat. What can we cook f...  [removed]      0   \n75  Ridge Gourd Gravy | Gravy For Dosa, Idli, Poor...  [removed]      0   \n92  I'm going backpacking with some non vegetarian...  [removed]      0   \n\n    removed  \n18        1  \n23        1  \n50        1  \n75        1  \n92        1  ",
      "text/html": "<div>\n<style scoped>\n    .dataframe tbody tr th:only-of-type {\n        vertical-align: middle;\n    }\n\n    .dataframe tbody tr th {\n        vertical-align: top;\n    }\n\n    .dataframe thead th {\n        text-align: right;\n    }\n</style>\n<table border=\"1\" class=\"dataframe\">\n  <thead>\n    <tr style=\"text-align: right;\">\n      <th></th>\n      <th>title</th>\n      <th>selftext</th>\n      <th>vegan</th>\n      <th>removed</th>\n    </tr>\n  </thead>\n  <tbody>\n    <tr>\n      <th>18</th>\n      <td>What are some brands of prepackaged stuff that...</td>\n      <td>[removed]</td>\n      <td>0</td>\n      <td>1</td>\n    </tr>\n    <tr>\n      <th>23</th>\n      <td>Anyone has suggestion on good veggie sausages?...</td>\n      <td>[removed]</td>\n      <td>0</td>\n      <td>1</td>\n    </tr>\n    <tr>\n      <th>50</th>\n      <td>I’m Veg, my BF adores meat. What can we cook f...</td>\n      <td>[removed]</td>\n      <td>0</td>\n      <td>1</td>\n    </tr>\n    <tr>\n      <th>75</th>\n      <td>Ridge Gourd Gravy | Gravy For Dosa, Idli, Poor...</td>\n      <td>[removed]</td>\n      <td>0</td>\n      <td>1</td>\n    </tr>\n    <tr>\n      <th>92</th>\n      <td>I'm going backpacking with some non vegetarian...</td>\n      <td>[removed]</td>\n      <td>0</td>\n      <td>1</td>\n    </tr>\n  </tbody>\n</table>\n</div>"
     },
     "metadata": {},
     "execution_count": 69
    }
   ],
   "source": [
    "df[mask_removed].head()"
   ]
  },
  {
   "cell_type": "code",
   "execution_count": 70,
   "metadata": {},
   "outputs": [],
   "source": [
    "# Replace all '[removed]' values with null values\n",
    "df['selftext'] = df['selftext'].where(~mask_removed,np.nan)"
   ]
  },
  {
   "cell_type": "code",
   "execution_count": 71,
   "metadata": {},
   "outputs": [
    {
     "output_type": "execute_result",
     "data": {
      "text/plain": "                                                  title selftext  vegan  \\\n18    What are some brands of prepackaged stuff that...      NaN      0   \n23    Anyone has suggestion on good veggie sausages?...      NaN      0   \n50    I’m Veg, my BF adores meat. What can we cook f...      NaN      0   \n75    Ridge Gourd Gravy | Gravy For Dosa, Idli, Poor...      NaN      0   \n92    I'm going backpacking with some non vegetarian...      NaN      0   \n...                                                 ...      ...    ...   \n4032  ญี่ปุ่น ยันไม่ประกาศภาวะฉุกเฉินอีก แม้โควิดพุ่...      NaN      1   \n4041  What I think when people say \"plants feel pain...      NaN      1   \n4050  นักเสี่ยงโชคลุ้นเลขเด็ดจากขันน้ำมนต์ในศาลเก่าแ...      NaN      1   \n4051  ดึงดูดทุกสายตา! \"ซังอา\" ตัวแม่โยคะหน้านิ่งสุดเ...      NaN      1   \n4057  dont know how it work but f it :D i am a chef ...      NaN      1   \n\n      removed  \n18          1  \n23          1  \n50          1  \n75          1  \n92          1  \n...       ...  \n4032        1  \n4041        1  \n4050        1  \n4051        1  \n4057        1  \n\n[273 rows x 4 columns]",
      "text/html": "<div>\n<style scoped>\n    .dataframe tbody tr th:only-of-type {\n        vertical-align: middle;\n    }\n\n    .dataframe tbody tr th {\n        vertical-align: top;\n    }\n\n    .dataframe thead th {\n        text-align: right;\n    }\n</style>\n<table border=\"1\" class=\"dataframe\">\n  <thead>\n    <tr style=\"text-align: right;\">\n      <th></th>\n      <th>title</th>\n      <th>selftext</th>\n      <th>vegan</th>\n      <th>removed</th>\n    </tr>\n  </thead>\n  <tbody>\n    <tr>\n      <th>18</th>\n      <td>What are some brands of prepackaged stuff that...</td>\n      <td>NaN</td>\n      <td>0</td>\n      <td>1</td>\n    </tr>\n    <tr>\n      <th>23</th>\n      <td>Anyone has suggestion on good veggie sausages?...</td>\n      <td>NaN</td>\n      <td>0</td>\n      <td>1</td>\n    </tr>\n    <tr>\n      <th>50</th>\n      <td>I’m Veg, my BF adores meat. What can we cook f...</td>\n      <td>NaN</td>\n      <td>0</td>\n      <td>1</td>\n    </tr>\n    <tr>\n      <th>75</th>\n      <td>Ridge Gourd Gravy | Gravy For Dosa, Idli, Poor...</td>\n      <td>NaN</td>\n      <td>0</td>\n      <td>1</td>\n    </tr>\n    <tr>\n      <th>92</th>\n      <td>I'm going backpacking with some non vegetarian...</td>\n      <td>NaN</td>\n      <td>0</td>\n      <td>1</td>\n    </tr>\n    <tr>\n      <th>...</th>\n      <td>...</td>\n      <td>...</td>\n      <td>...</td>\n      <td>...</td>\n    </tr>\n    <tr>\n      <th>4032</th>\n      <td>ญี่ปุ่น ยันไม่ประกาศภาวะฉุกเฉินอีก แม้โควิดพุ่...</td>\n      <td>NaN</td>\n      <td>1</td>\n      <td>1</td>\n    </tr>\n    <tr>\n      <th>4041</th>\n      <td>What I think when people say \"plants feel pain...</td>\n      <td>NaN</td>\n      <td>1</td>\n      <td>1</td>\n    </tr>\n    <tr>\n      <th>4050</th>\n      <td>นักเสี่ยงโชคลุ้นเลขเด็ดจากขันน้ำมนต์ในศาลเก่าแ...</td>\n      <td>NaN</td>\n      <td>1</td>\n      <td>1</td>\n    </tr>\n    <tr>\n      <th>4051</th>\n      <td>ดึงดูดทุกสายตา! \"ซังอา\" ตัวแม่โยคะหน้านิ่งสุดเ...</td>\n      <td>NaN</td>\n      <td>1</td>\n      <td>1</td>\n    </tr>\n    <tr>\n      <th>4057</th>\n      <td>dont know how it work but f it :D i am a chef ...</td>\n      <td>NaN</td>\n      <td>1</td>\n      <td>1</td>\n    </tr>\n  </tbody>\n</table>\n<p>273 rows × 4 columns</p>\n</div>"
     },
     "metadata": {},
     "execution_count": 71
    }
   ],
   "source": [
    "# Confirm that values have been replaced.\n",
    "df[mask_removed]"
   ]
  },
  {
   "cell_type": "markdown",
   "metadata": {},
   "source": [
    "### Imputing Empty Strings\n",
    "Now, for the null values in the `selftext` column, we are going to impute empty strings."
   ]
  },
  {
   "cell_type": "code",
   "execution_count": 72,
   "metadata": {},
   "outputs": [],
   "source": [
    "df['selftext'] = df['selftext'].fillna('')"
   ]
  },
  {
   "cell_type": "code",
   "execution_count": 73,
   "metadata": {},
   "outputs": [
    {
     "output_type": "execute_result",
     "data": {
      "text/plain": "0"
     },
     "metadata": {},
     "execution_count": 73
    }
   ],
   "source": [
    "df['selftext'].isnull().sum()"
   ]
  },
  {
   "cell_type": "code",
   "execution_count": 74,
   "metadata": {},
   "outputs": [
    {
     "output_type": "execute_result",
     "data": {
      "text/plain": "                                               title  \\\n0  My ‘100 calories club’ which helps people visu...   \n1  Chilli fritters stuffed with a mix of raw onio...   \n2  Lentil and mushroom gravy with sweetpotato mas...   \n3               How to get excited about vegetables?   \n4  Homemade Rasgulla - Bengali Spongy Milk Sweets...   \n\n                                            selftext  vegan  removed  \n0                                                         0        0  \n1                                                         0        0  \n2                                                         0        0  \n3  I stopped eating meat after 24 years due to a ...      0        0  \n4                                                         0        0  ",
      "text/html": "<div>\n<style scoped>\n    .dataframe tbody tr th:only-of-type {\n        vertical-align: middle;\n    }\n\n    .dataframe tbody tr th {\n        vertical-align: top;\n    }\n\n    .dataframe thead th {\n        text-align: right;\n    }\n</style>\n<table border=\"1\" class=\"dataframe\">\n  <thead>\n    <tr style=\"text-align: right;\">\n      <th></th>\n      <th>title</th>\n      <th>selftext</th>\n      <th>vegan</th>\n      <th>removed</th>\n    </tr>\n  </thead>\n  <tbody>\n    <tr>\n      <th>0</th>\n      <td>My ‘100 calories club’ which helps people visu...</td>\n      <td></td>\n      <td>0</td>\n      <td>0</td>\n    </tr>\n    <tr>\n      <th>1</th>\n      <td>Chilli fritters stuffed with a mix of raw onio...</td>\n      <td></td>\n      <td>0</td>\n      <td>0</td>\n    </tr>\n    <tr>\n      <th>2</th>\n      <td>Lentil and mushroom gravy with sweetpotato mas...</td>\n      <td></td>\n      <td>0</td>\n      <td>0</td>\n    </tr>\n    <tr>\n      <th>3</th>\n      <td>How to get excited about vegetables?</td>\n      <td>I stopped eating meat after 24 years due to a ...</td>\n      <td>0</td>\n      <td>0</td>\n    </tr>\n    <tr>\n      <th>4</th>\n      <td>Homemade Rasgulla - Bengali Spongy Milk Sweets...</td>\n      <td></td>\n      <td>0</td>\n      <td>0</td>\n    </tr>\n  </tbody>\n</table>\n</div>"
     },
     "metadata": {},
     "execution_count": 74
    }
   ],
   "source": [
    "df.head()"
   ]
  },
  {
   "cell_type": "markdown",
   "metadata": {},
   "source": [
    "# Create `'text'` Column\n",
    "To simplify the vectorization, we will create a column with all of our textual data."
   ]
  },
  {
   "cell_type": "code",
   "execution_count": 75,
   "metadata": {},
   "outputs": [
    {
     "output_type": "execute_result",
     "data": {
      "text/plain": "                                               title  \\\n0  My ‘100 calories club’ which helps people visu...   \n1  Chilli fritters stuffed with a mix of raw onio...   \n2  Lentil and mushroom gravy with sweetpotato mas...   \n3               How to get excited about vegetables?   \n4  Homemade Rasgulla - Bengali Spongy Milk Sweets...   \n\n                                            selftext  vegan  removed  \\\n0                                                         0        0   \n1                                                         0        0   \n2                                                         0        0   \n3  I stopped eating meat after 24 years due to a ...      0        0   \n4                                                         0        0   \n\n                                                text  \n0  My ‘100 calories club’ which helps people visu...  \n1  Chilli fritters stuffed with a mix of raw onio...  \n2  Lentil and mushroom gravy with sweetpotato mas...  \n3  How to get excited about vegetables? I stopped...  \n4  Homemade Rasgulla - Bengali Spongy Milk Sweets...  ",
      "text/html": "<div>\n<style scoped>\n    .dataframe tbody tr th:only-of-type {\n        vertical-align: middle;\n    }\n\n    .dataframe tbody tr th {\n        vertical-align: top;\n    }\n\n    .dataframe thead th {\n        text-align: right;\n    }\n</style>\n<table border=\"1\" class=\"dataframe\">\n  <thead>\n    <tr style=\"text-align: right;\">\n      <th></th>\n      <th>title</th>\n      <th>selftext</th>\n      <th>vegan</th>\n      <th>removed</th>\n      <th>text</th>\n    </tr>\n  </thead>\n  <tbody>\n    <tr>\n      <th>0</th>\n      <td>My ‘100 calories club’ which helps people visu...</td>\n      <td></td>\n      <td>0</td>\n      <td>0</td>\n      <td>My ‘100 calories club’ which helps people visu...</td>\n    </tr>\n    <tr>\n      <th>1</th>\n      <td>Chilli fritters stuffed with a mix of raw onio...</td>\n      <td></td>\n      <td>0</td>\n      <td>0</td>\n      <td>Chilli fritters stuffed with a mix of raw onio...</td>\n    </tr>\n    <tr>\n      <th>2</th>\n      <td>Lentil and mushroom gravy with sweetpotato mas...</td>\n      <td></td>\n      <td>0</td>\n      <td>0</td>\n      <td>Lentil and mushroom gravy with sweetpotato mas...</td>\n    </tr>\n    <tr>\n      <th>3</th>\n      <td>How to get excited about vegetables?</td>\n      <td>I stopped eating meat after 24 years due to a ...</td>\n      <td>0</td>\n      <td>0</td>\n      <td>How to get excited about vegetables? I stopped...</td>\n    </tr>\n    <tr>\n      <th>4</th>\n      <td>Homemade Rasgulla - Bengali Spongy Milk Sweets...</td>\n      <td></td>\n      <td>0</td>\n      <td>0</td>\n      <td>Homemade Rasgulla - Bengali Spongy Milk Sweets...</td>\n    </tr>\n  </tbody>\n</table>\n</div>"
     },
     "metadata": {},
     "execution_count": 75
    }
   ],
   "source": [
    "df['text'] = df['title'] + ' ' + df['selftext']\n",
    "df.head()"
   ]
  },
  {
   "cell_type": "markdown",
   "metadata": {},
   "source": [
    "## Lemmatize and Standardize Text Column\n",
    "For our next piece of cleaning, we will use the custom function called `clean_string` that will strip any HTML-formatting elements from our string and then pass that string through a WordNetLemmatizer. \n",
    "\n",
    "The lemmatizer will reduce our vocabulary by converting words to their basic forms. \n",
    "- For example: \"ran\" and \"run\" will both be converted to \"run\" and counted as the same vocabulary word.\n",
    "\n",
    "We may lose some signal by doing this, but it will help out analysis in the long-run. When we convert this data into its final form for analysis, every word or phrase will be considered a feature. Thus, if we can cut down the number of features, we will cut down the amount of time and processing power necessary to fit and evaluate our models.\n",
    "\n",
    "To see the code and documentation for this function, see the [`data_cleaning`](./project_functions/data_cleaning_and_eda.py) code stored in the [`project_functions`](./project_functions/) folder in this repository."
   ]
  },
  {
   "cell_type": "markdown",
   "metadata": {},
   "source": [
    "## More Duplicates and the Reason for Beautiful Soup\n",
    "Notice the first two titles of our dataset. They were not removed with our initial duplicate drop and are considered unique because of a few non textual elements."
   ]
  },
  {
   "cell_type": "code",
   "execution_count": 76,
   "metadata": {
    "tags": []
   },
   "outputs": [
    {
     "output_type": "stream",
     "name": "stdout",
     "text": "Handmade Pasta in a Wild Chanterelle Alfredo Sauce\nHandmade Pasta in a Wild Chanterelle 🍄Alfredo Sauce\n"
    }
   ],
   "source": [
    "print(df.loc[241,'title'])\n",
    "print(df.loc[242,'title'])"
   ]
  },
  {
   "cell_type": "code",
   "execution_count": 77,
   "metadata": {},
   "outputs": [
    {
     "output_type": "execute_result",
     "data": {
      "text/plain": "False"
     },
     "metadata": {},
     "execution_count": 77
    }
   ],
   "source": [
    "# Python does not consider these two strings as identical.\n",
    "df['text'][241] == df['text'][242]"
   ]
  },
  {
   "cell_type": "markdown",
   "metadata": {},
   "source": [
    ">When we clean the strings, they will be converted into a form that is identified as identical. This will ultimately help us reduce the amount of _noise_ in our model."
   ]
  },
  {
   "cell_type": "code",
   "execution_count": 78,
   "metadata": {
    "scrolled": true,
    "tags": []
   },
   "outputs": [
    {
     "output_type": "stream",
     "name": "stdout",
     "text": "String1: handmade pasta in a wild chanterelle alfredo sauce\nString2: handmade pasta in a wild chanterelle  alfredo sauce\nCleaned strings are the same: False\n"
    }
   ],
   "source": [
    "# Check that the cleaned versions of our strings would be read as identical.\n",
    "print(f\"String1: {df['text'].map(clean_string)[241]}\")\n",
    "print(f\"String2: {df['text'].map(clean_string)[242]}\")\n",
    "print(f\"Cleaned strings are the same: {df['text'].map(clean_string)[241] == df['text'].map(clean_string)[242]}\")"
   ]
  },
  {
   "cell_type": "markdown",
   "metadata": {},
   "source": [
    "> When we pass the strings through `clean_string` they are interpreted as identical. We can use this to further refine our data, drop more duplicated columns and reduce more noise.  \n",
    ">\n",
    "> We will pass the `keep='last'` parameter into the drop duplicates method so as to keep the (closest to) original post, we will also only drop duplicates from the same subreddits. Finally, we will drop any posts that, after the cleaning, are only the empty string."
   ]
  },
  {
   "cell_type": "code",
   "execution_count": 79,
   "metadata": {},
   "outputs": [],
   "source": [
    "df['text'] = df['text'].map(clean_string)"
   ]
  },
  {
   "cell_type": "code",
   "execution_count": 80,
   "metadata": {
    "tags": []
   },
   "outputs": [
    {
     "output_type": "stream",
     "name": "stdout",
     "text": "(3897, 5)\n(3865, 5)\nDropped: 32 rows.\n"
    }
   ],
   "source": [
    "original_shape = df.shape\n",
    "df = df.drop_duplicates(subset=['text','vegan'],keep='last')\n",
    "df = df[df['text'].str.strip()!='']\n",
    "print(original_shape)\n",
    "print(df.shape)\n",
    "print(f\"Dropped: {original_shape[0] - df.shape[0]} rows.\")\n",
    "# Dropped: 174 rows"
   ]
  },
  {
   "cell_type": "markdown",
   "metadata": {},
   "source": [
    "# Save Cleaned Data Frame\n",
    "We will save our cleaned data frame and use this in our subsequent exploration."
   ]
  },
  {
   "cell_type": "code",
   "execution_count": 83,
   "metadata": {},
   "outputs": [],
   "source": [
    "data_csv = '../data/data.csv'\n",
    "df.to_csv(data_csv,index=False)"
   ]
  },
  {
   "cell_type": "markdown",
   "metadata": {},
   "source": [
    "# Summary and Next Steps\n",
    "In this notebook, we cleaned our data to prepare it for some exploratory analysis. We removed duplicates and empty strings and standardized our data from HTML formatting to plain text using BeautifulSoup and some custom functions. We then combined all of our textual data into a single corpus and saved this all to our [`data.csv`]('../datasets/data.csv').\n",
    "\n",
    "In our next notebook, we will perform some exploratory analysis before building our first models."
   ]
  }
 ],
 "metadata": {
  "kernelspec": {
   "display_name": "Python 3.8.0 64-bit ('venv-project-03': venv)",
   "language": "python",
   "name": "python_defaultSpec_1597181728469"
  },
  "language_info": {
   "codemirror_mode": {
    "name": "ipython",
    "version": 3
   },
   "file_extension": ".py",
   "mimetype": "text/x-python",
   "name": "python",
   "nbconvert_exporter": "python",
   "pygments_lexer": "ipython3",
   "version": "3.8.0-final"
  },
  "toc": {
   "base_numbering": 1,
   "nav_menu": {},
   "number_sections": false,
   "sideBar": true,
   "skip_h1_title": false,
   "title_cell": "Table of Contents",
   "title_sidebar": "Contents",
   "toc_cell": false,
   "toc_position": {
    "height": "calc(100% - 180px)",
    "left": "10px",
    "top": "150px",
    "width": "165px"
   },
   "toc_section_display": true,
   "toc_window_display": true
  }
 },
 "nbformat": 4,
 "nbformat_minor": 2
}