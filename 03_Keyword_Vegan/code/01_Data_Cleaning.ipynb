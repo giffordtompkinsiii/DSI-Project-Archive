{
 "cells": [
  {
   "cell_type": "markdown",
   "metadata": {},
   "source": [
    "# <img src=\"../images/vegan-logo-resized.png\" style=\"float: right; margin: 10px;\">\n",
    "\n",
    "# Data Cleaning and Exploratory Data Analysis\n",
    "\n",
    "Author: Gifford Tompkins\n",
    "\n",
    "---\n",
    "\n",
    "Project 03 | Notebook 1 of 6\n",
    "\n",
    "## OBJECTIVE\n",
    "This notebook will establish a Base Model to compare our final model's success to. We will then clean the data and make it ready fro analysis. We will then begin some Exploratory Data Analysis and attempt to get a sense of whether or not we will be able to answer our problem statement given our body of data. If so, we will also have a sense for how to develop a strategy for building our model."
   ],
   "execution_count": null,
   "outputs": []
  },
  {
   "cell_type": "markdown",
   "metadata": {},
   "source": [
    "# Import Libraries and Dataset"
   ],
   "execution_count": null,
   "outputs": []
  },
  {
   "cell_type": "code",
   "execution_count": 20,
   "metadata": {},
   "outputs": [],
   "source": [
    "import pandas as pd\n",
    "import numpy as np\n",
    "import time\n",
    "import regex as re\n",
    "\n",
    "from nltk.stem import WordNetLemmatizer\n",
    "from sklearn.naive_bayes import GaussianNB, MultinomialNB\n",
    "\n",
    "from sklearn.feature_extraction.text import CountVectorizer, TfidfVectorizer\n",
    "from sklearn.model_selection import train_test_split, GridSearchCV\n",
    "from sklearn.pipeline import Pipeline"
   ]
  },
  {
   "cell_type": "code",
   "execution_count": 21,
   "metadata": {},
   "outputs": [],
   "source": [
    "df = pd.read_csv('../data/api_data.csv')\n",
    "df = df.drop_duplicates()"
   ]
  },
  {
   "cell_type": "markdown",
   "metadata": {},
   "source": [
    "## Drop Duplicates\n",
    "Before establishing a baseline model, we will remove any duplicates from our data set to establish a valid class distribution."
   ],
   "execution_count": null,
   "outputs": []
  },
  {
   "cell_type": "code",
   "execution_count": 22,
   "metadata": {},
   "outputs": [
    {
     "output_type": "execute_result",
     "data": {
      "text/plain": "0    0.507898\n1    0.492102\nName: vegan, dtype: float64"
     },
     "metadata": {},
     "execution_count": 22
    }
   ],
   "source": [
    "df['vegan'].value_counts(normalize=True)"
   ]
  },
  {
   "cell_type": "markdown",
   "metadata": {},
   "source": [
    "# Baseline Model\n",
    "\n",
    "Our baseline model is the majority class distribution of our data set. We will attempt to create a model with more accuracy than a naive guess. \n",
    "\n",
    "We have a class distribution of \n",
    "\n",
    "|Vegan|Vegetarian|\n",
    "|---|---|\n",
    "|49.7%|50.3%|\n",
    "\n",
    "So our baseline score is that of the majority class **Vegetarians**, at **50.42%**."
   ],
   "execution_count": null,
   "outputs": []
  },
  {
   "cell_type": "code",
   "execution_count": 23,
   "metadata": {},
   "outputs": [],
   "source": [
    "base_score = 1 - df['vegan'].mean()"
   ]
  },
  {
   "cell_type": "markdown",
   "metadata": {},
   "source": [
    "# Data Cleaning\n",
    "We will look through our data and see if anything needs to be cleaned."
   ],
   "execution_count": null,
   "outputs": []
  },
  {
   "cell_type": "code",
   "execution_count": 24,
   "metadata": {
    "scrolled": true
   },
   "outputs": [
    {
     "output_type": "execute_result",
     "data": {
      "text/plain": "                                                title selftext  vegan\n0   Due to lack of options at the store right now,...      NaN      0\n1   Fettuccine Alfredo with mushrooms and broccoli...      NaN      0\n2   Savoury semolina crepe with veggies and schezw...      NaN      0\n3                               Good ol avocado toast      NaN      0\n4                                              Hummus      NaN      0\n5                                       Avocado pasta      NaN      0\n6                  Garlic chilli lemon mushroom penne      NaN      0\n7   Homemade rice bowl with a sunny up egg, roaste...      NaN      0\n8                Red curry fried rice with baked tofu      NaN      0\n11  Easy No Yeast Beer Bread (with vegan alternati...      NaN      0",
      "text/html": "<div>\n<style scoped>\n    .dataframe tbody tr th:only-of-type {\n        vertical-align: middle;\n    }\n\n    .dataframe tbody tr th {\n        vertical-align: top;\n    }\n\n    .dataframe thead th {\n        text-align: right;\n    }\n</style>\n<table border=\"1\" class=\"dataframe\">\n  <thead>\n    <tr style=\"text-align: right;\">\n      <th></th>\n      <th>title</th>\n      <th>selftext</th>\n      <th>vegan</th>\n    </tr>\n  </thead>\n  <tbody>\n    <tr>\n      <th>0</th>\n      <td>Due to lack of options at the store right now,...</td>\n      <td>NaN</td>\n      <td>0</td>\n    </tr>\n    <tr>\n      <th>1</th>\n      <td>Fettuccine Alfredo with mushrooms and broccoli...</td>\n      <td>NaN</td>\n      <td>0</td>\n    </tr>\n    <tr>\n      <th>2</th>\n      <td>Savoury semolina crepe with veggies and schezw...</td>\n      <td>NaN</td>\n      <td>0</td>\n    </tr>\n    <tr>\n      <th>3</th>\n      <td>Good ol avocado toast</td>\n      <td>NaN</td>\n      <td>0</td>\n    </tr>\n    <tr>\n      <th>4</th>\n      <td>Hummus</td>\n      <td>NaN</td>\n      <td>0</td>\n    </tr>\n    <tr>\n      <th>5</th>\n      <td>Avocado pasta</td>\n      <td>NaN</td>\n      <td>0</td>\n    </tr>\n    <tr>\n      <th>6</th>\n      <td>Garlic chilli lemon mushroom penne</td>\n      <td>NaN</td>\n      <td>0</td>\n    </tr>\n    <tr>\n      <th>7</th>\n      <td>Homemade rice bowl with a sunny up egg, roaste...</td>\n      <td>NaN</td>\n      <td>0</td>\n    </tr>\n    <tr>\n      <th>8</th>\n      <td>Red curry fried rice with baked tofu</td>\n      <td>NaN</td>\n      <td>0</td>\n    </tr>\n    <tr>\n      <th>11</th>\n      <td>Easy No Yeast Beer Bread (with vegan alternati...</td>\n      <td>NaN</td>\n      <td>0</td>\n    </tr>\n  </tbody>\n</table>\n</div>"
     },
     "metadata": {},
     "execution_count": 24
    }
   ],
   "source": [
    "df.head(10)"
   ]
  },
  {
   "cell_type": "code",
   "execution_count": 25,
   "metadata": {},
   "outputs": [
    {
     "output_type": "execute_result",
     "data": {
      "text/plain": "title       0.000000\nselftext    0.581108\nvegan       0.000000\ndtype: float64"
     },
     "metadata": {},
     "execution_count": 25
    }
   ],
   "source": [
    "df.isnull().mean()"
   ]
  },
  {
   "cell_type": "markdown",
   "metadata": {},
   "source": [
    "## Missing Values\n",
    "The `'selftext'` column has many `null` values as well as several instances of the phrase `'[removed]'`. This is how the API records the fact that a post contained body text but that text was then removed (either by the user or the subreddit or reddit moderators).  \n",
    "\n",
    "We will address both of these issues by replacing them with the empty string. The textual version of a `null` value.\n",
    "\n",
    "Fortunately, `'titles'` and `'vegan'`  have no missing values."
   ],
   "execution_count": null,
   "outputs": []
  },
  {
   "cell_type": "code",
   "execution_count": 26,
   "metadata": {},
   "outputs": [
    {
     "output_type": "execute_result",
     "data": {
      "text/plain": "vegan\n0    692\n1    307\nName: selftext, dtype: int64"
     },
     "metadata": {},
     "execution_count": 26
    }
   ],
   "source": [
    "mask_removed = df['selftext']=='[removed]'\n",
    "df[mask_removed].groupby(by='vegan')['selftext'].count()"
   ]
  },
  {
   "cell_type": "markdown",
   "metadata": {},
   "source": [
    "### Create `'removed'` column\n",
    "`Vegans` has twice as many `'[removed]'` posts as `Vegetarians`. This fact might end up being signaling, so I am going to save that information in a new column called 'removed_post'. I will then remove the `'[removed]'` string from the column."
   ],
   "execution_count": null,
   "outputs": []
  },
  {
   "cell_type": "code",
   "execution_count": 27,
   "metadata": {},
   "outputs": [],
   "source": [
    "df['removed'] = (mask_removed).astype(int)"
   ]
  },
  {
   "cell_type": "code",
   "execution_count": 28,
   "metadata": {},
   "outputs": [
    {
     "output_type": "execute_result",
     "data": {
      "text/plain": "vegan\n0    692\n1    307\nName: removed, dtype: int64"
     },
     "metadata": {},
     "execution_count": 28
    }
   ],
   "source": [
    "# Confirm that the new column was created correctly.\n",
    "df.groupby(by='vegan')['removed'].sum()"
   ]
  },
  {
   "cell_type": "code",
   "execution_count": 29,
   "metadata": {},
   "outputs": [
    {
     "output_type": "execute_result",
     "data": {
      "text/plain": "                                                 title   selftext  vegan  \\\n25         Homemade frozen veggie burgers turned mushy  [removed]      0   \n28   New to vegetarianism and just found out about ...  [removed]      0   \n129                                  relationship help  [removed]      0   \n155                               Cooking mama wannabe  [removed]      0   \n161                                     Start With You  [removed]      0   \n\n     removed  \n25         1  \n28         1  \n129        1  \n155        1  \n161        1  ",
      "text/html": "<div>\n<style scoped>\n    .dataframe tbody tr th:only-of-type {\n        vertical-align: middle;\n    }\n\n    .dataframe tbody tr th {\n        vertical-align: top;\n    }\n\n    .dataframe thead th {\n        text-align: right;\n    }\n</style>\n<table border=\"1\" class=\"dataframe\">\n  <thead>\n    <tr style=\"text-align: right;\">\n      <th></th>\n      <th>title</th>\n      <th>selftext</th>\n      <th>vegan</th>\n      <th>removed</th>\n    </tr>\n  </thead>\n  <tbody>\n    <tr>\n      <th>25</th>\n      <td>Homemade frozen veggie burgers turned mushy</td>\n      <td>[removed]</td>\n      <td>0</td>\n      <td>1</td>\n    </tr>\n    <tr>\n      <th>28</th>\n      <td>New to vegetarianism and just found out about ...</td>\n      <td>[removed]</td>\n      <td>0</td>\n      <td>1</td>\n    </tr>\n    <tr>\n      <th>129</th>\n      <td>relationship help</td>\n      <td>[removed]</td>\n      <td>0</td>\n      <td>1</td>\n    </tr>\n    <tr>\n      <th>155</th>\n      <td>Cooking mama wannabe</td>\n      <td>[removed]</td>\n      <td>0</td>\n      <td>1</td>\n    </tr>\n    <tr>\n      <th>161</th>\n      <td>Start With You</td>\n      <td>[removed]</td>\n      <td>0</td>\n      <td>1</td>\n    </tr>\n  </tbody>\n</table>\n</div>"
     },
     "metadata": {},
     "execution_count": 29
    }
   ],
   "source": [
    "df[mask_removed].head()"
   ]
  },
  {
   "cell_type": "code",
   "execution_count": 30,
   "metadata": {},
   "outputs": [],
   "source": [
    "# Replace all '[removed]' values with null values\n",
    "df['selftext'] = df['selftext'].where(~mask_removed,np.nan)"
   ]
  },
  {
   "cell_type": "code",
   "execution_count": 31,
   "metadata": {},
   "outputs": [
    {
     "output_type": "execute_result",
     "data": {
      "text/plain": "                                                   title selftext  vegan  \\\n25           Homemade frozen veggie burgers turned mushy      NaN      0   \n28     New to vegetarianism and just found out about ...      NaN      0   \n129                                    relationship help      NaN      0   \n155                                 Cooking mama wannabe      NaN      0   \n161                                       Start With You      NaN      0   \n...                                                  ...      ...    ...   \n19868                    Mmmm meat is so tasty I love it      NaN      1   \n19872                                   Depression Meals      NaN      1   \n19937                               that is veggie patty      NaN      1   \n19961                              Dont kill the animals      NaN      1   \n19963     Help me decide (Veganism and Military Service)      NaN      1   \n\n       removed  \n25           1  \n28           1  \n129          1  \n155          1  \n161          1  \n...        ...  \n19868        1  \n19872        1  \n19937        1  \n19961        1  \n19963        1  \n\n[999 rows x 4 columns]",
      "text/html": "<div>\n<style scoped>\n    .dataframe tbody tr th:only-of-type {\n        vertical-align: middle;\n    }\n\n    .dataframe tbody tr th {\n        vertical-align: top;\n    }\n\n    .dataframe thead th {\n        text-align: right;\n    }\n</style>\n<table border=\"1\" class=\"dataframe\">\n  <thead>\n    <tr style=\"text-align: right;\">\n      <th></th>\n      <th>title</th>\n      <th>selftext</th>\n      <th>vegan</th>\n      <th>removed</th>\n    </tr>\n  </thead>\n  <tbody>\n    <tr>\n      <th>25</th>\n      <td>Homemade frozen veggie burgers turned mushy</td>\n      <td>NaN</td>\n      <td>0</td>\n      <td>1</td>\n    </tr>\n    <tr>\n      <th>28</th>\n      <td>New to vegetarianism and just found out about ...</td>\n      <td>NaN</td>\n      <td>0</td>\n      <td>1</td>\n    </tr>\n    <tr>\n      <th>129</th>\n      <td>relationship help</td>\n      <td>NaN</td>\n      <td>0</td>\n      <td>1</td>\n    </tr>\n    <tr>\n      <th>155</th>\n      <td>Cooking mama wannabe</td>\n      <td>NaN</td>\n      <td>0</td>\n      <td>1</td>\n    </tr>\n    <tr>\n      <th>161</th>\n      <td>Start With You</td>\n      <td>NaN</td>\n      <td>0</td>\n      <td>1</td>\n    </tr>\n    <tr>\n      <th>...</th>\n      <td>...</td>\n      <td>...</td>\n      <td>...</td>\n      <td>...</td>\n    </tr>\n    <tr>\n      <th>19868</th>\n      <td>Mmmm meat is so tasty I love it</td>\n      <td>NaN</td>\n      <td>1</td>\n      <td>1</td>\n    </tr>\n    <tr>\n      <th>19872</th>\n      <td>Depression Meals</td>\n      <td>NaN</td>\n      <td>1</td>\n      <td>1</td>\n    </tr>\n    <tr>\n      <th>19937</th>\n      <td>that is veggie patty</td>\n      <td>NaN</td>\n      <td>1</td>\n      <td>1</td>\n    </tr>\n    <tr>\n      <th>19961</th>\n      <td>Dont kill the animals</td>\n      <td>NaN</td>\n      <td>1</td>\n      <td>1</td>\n    </tr>\n    <tr>\n      <th>19963</th>\n      <td>Help me decide (Veganism and Military Service)</td>\n      <td>NaN</td>\n      <td>1</td>\n      <td>1</td>\n    </tr>\n  </tbody>\n</table>\n<p>999 rows × 4 columns</p>\n</div>"
     },
     "metadata": {},
     "execution_count": 31
    }
   ],
   "source": [
    "# Confirm that values have been replaced.\n",
    "df[mask_removed]"
   ]
  },
  {
   "cell_type": "markdown",
   "metadata": {},
   "source": [
    "### Imputing Empty Strings\n",
    "Now, for the null values in the `selftext` column, we are going to impute empty strings."
   ],
   "execution_count": null,
   "outputs": []
  },
  {
   "cell_type": "code",
   "execution_count": 32,
   "metadata": {},
   "outputs": [],
   "source": [
    "df['selftext'] = df['selftext'].fillna('')"
   ]
  },
  {
   "cell_type": "code",
   "execution_count": 33,
   "metadata": {},
   "outputs": [
    {
     "output_type": "execute_result",
     "data": {
      "text/plain": "0"
     },
     "metadata": {},
     "execution_count": 33
    }
   ],
   "source": [
    "df['selftext'].isnull().sum()"
   ]
  },
  {
   "cell_type": "code",
   "execution_count": 34,
   "metadata": {},
   "outputs": [
    {
     "output_type": "execute_result",
     "data": {
      "text/plain": "                                               title selftext  vegan  removed\n0  Due to lack of options at the store right now,...               0        0\n1  Fettuccine Alfredo with mushrooms and broccoli...               0        0\n2  Savoury semolina crepe with veggies and schezw...               0        0\n3                              Good ol avocado toast               0        0\n4                                             Hummus               0        0",
      "text/html": "<div>\n<style scoped>\n    .dataframe tbody tr th:only-of-type {\n        vertical-align: middle;\n    }\n\n    .dataframe tbody tr th {\n        vertical-align: top;\n    }\n\n    .dataframe thead th {\n        text-align: right;\n    }\n</style>\n<table border=\"1\" class=\"dataframe\">\n  <thead>\n    <tr style=\"text-align: right;\">\n      <th></th>\n      <th>title</th>\n      <th>selftext</th>\n      <th>vegan</th>\n      <th>removed</th>\n    </tr>\n  </thead>\n  <tbody>\n    <tr>\n      <th>0</th>\n      <td>Due to lack of options at the store right now,...</td>\n      <td></td>\n      <td>0</td>\n      <td>0</td>\n    </tr>\n    <tr>\n      <th>1</th>\n      <td>Fettuccine Alfredo with mushrooms and broccoli...</td>\n      <td></td>\n      <td>0</td>\n      <td>0</td>\n    </tr>\n    <tr>\n      <th>2</th>\n      <td>Savoury semolina crepe with veggies and schezw...</td>\n      <td></td>\n      <td>0</td>\n      <td>0</td>\n    </tr>\n    <tr>\n      <th>3</th>\n      <td>Good ol avocado toast</td>\n      <td></td>\n      <td>0</td>\n      <td>0</td>\n    </tr>\n    <tr>\n      <th>4</th>\n      <td>Hummus</td>\n      <td></td>\n      <td>0</td>\n      <td>0</td>\n    </tr>\n  </tbody>\n</table>\n</div>"
     },
     "metadata": {},
     "execution_count": 34
    }
   ],
   "source": [
    "df.head()"
   ]
  },
  {
   "cell_type": "markdown",
   "metadata": {},
   "source": [
    "# Create `'text'` Column\n",
    "To simplify the vectorization, we will create a column with all of our textual data."
   ],
   "execution_count": null,
   "outputs": []
  },
  {
   "cell_type": "code",
   "execution_count": 35,
   "metadata": {},
   "outputs": [
    {
     "output_type": "execute_result",
     "data": {
      "text/plain": "                                               title selftext  vegan  removed  \\\n0  Due to lack of options at the store right now,...               0        0   \n1  Fettuccine Alfredo with mushrooms and broccoli...               0        0   \n2  Savoury semolina crepe with veggies and schezw...               0        0   \n3                              Good ol avocado toast               0        0   \n4                                             Hummus               0        0   \n\n                                                text  \n0  Due to lack of options at the store right now,...  \n1  Fettuccine Alfredo with mushrooms and broccoli...  \n2  Savoury semolina crepe with veggies and schezw...  \n3                             Good ol avocado toast   \n4                                            Hummus   ",
      "text/html": "<div>\n<style scoped>\n    .dataframe tbody tr th:only-of-type {\n        vertical-align: middle;\n    }\n\n    .dataframe tbody tr th {\n        vertical-align: top;\n    }\n\n    .dataframe thead th {\n        text-align: right;\n    }\n</style>\n<table border=\"1\" class=\"dataframe\">\n  <thead>\n    <tr style=\"text-align: right;\">\n      <th></th>\n      <th>title</th>\n      <th>selftext</th>\n      <th>vegan</th>\n      <th>removed</th>\n      <th>text</th>\n    </tr>\n  </thead>\n  <tbody>\n    <tr>\n      <th>0</th>\n      <td>Due to lack of options at the store right now,...</td>\n      <td></td>\n      <td>0</td>\n      <td>0</td>\n      <td>Due to lack of options at the store right now,...</td>\n    </tr>\n    <tr>\n      <th>1</th>\n      <td>Fettuccine Alfredo with mushrooms and broccoli...</td>\n      <td></td>\n      <td>0</td>\n      <td>0</td>\n      <td>Fettuccine Alfredo with mushrooms and broccoli...</td>\n    </tr>\n    <tr>\n      <th>2</th>\n      <td>Savoury semolina crepe with veggies and schezw...</td>\n      <td></td>\n      <td>0</td>\n      <td>0</td>\n      <td>Savoury semolina crepe with veggies and schezw...</td>\n    </tr>\n    <tr>\n      <th>3</th>\n      <td>Good ol avocado toast</td>\n      <td></td>\n      <td>0</td>\n      <td>0</td>\n      <td>Good ol avocado toast</td>\n    </tr>\n    <tr>\n      <th>4</th>\n      <td>Hummus</td>\n      <td></td>\n      <td>0</td>\n      <td>0</td>\n      <td>Hummus</td>\n    </tr>\n  </tbody>\n</table>\n</div>"
     },
     "metadata": {},
     "execution_count": 35
    }
   ],
   "source": [
    "df['text'] = df['title'] + ' ' + df['selftext']\n",
    "df.head()"
   ]
  },
  {
   "cell_type": "markdown",
   "metadata": {},
   "source": [
    "## Lemmatize and Standardize Text Column\n",
    "For our next piece of cleaning, we will use the custom function called `clean_string` that will strip any HTML-formatting elements from our string and then pass that string through a WordNetLemmatizer. \n",
    "\n",
    "The lemmatizer will reduce our vocabulary by converting words to their basic forms. \n",
    "- For example: \"ran\" and \"run\" will both be converted to \"run\" and counted as the same vocabulary word.\n",
    "\n",
    "We may lose some signal by doing this, but it will help out analysis in the long-run. When we convert this data into its final form for analysis, every word or phrase will be considered a feature. Thus, if we can cut down the number of features, we will cut down the amount of time and processing power necessary to fit and evaluate our models.\n",
    "\n",
    "To see the code and documentation for this function, see the [`data_cleaning`](./project_functions/data_cleaning_and_eda.py) code stored in the [`project_functions`](./project_functions/) folder in this repository."
   ],
   "execution_count": null,
   "outputs": []
  },
  {
   "cell_type": "code",
   "execution_count": 40,
   "metadata": {},
   "outputs": [],
   "source": [
    "from project_functions.data_cleaning_and_eda import clean_string"
   ]
  },
  {
   "cell_type": "markdown",
   "metadata": {},
   "source": [
    "## More Duplicates and the Reason for Beautiful Soup\n",
    "Notice the first two titles of our dataset. They were not removed with our initial duplicate drop and are considered unique because of a few non textual elements."
   ],
   "execution_count": null,
   "outputs": []
  },
  {
   "cell_type": "code",
   "execution_count": 41,
   "metadata": {},
   "outputs": [
    {
     "output_type": "stream",
     "name": "stdout",
     "text": "Due to lack of options at the store right now, tried the cracked pepper slices from Tofurkey, a brand I don’t usually like too much, but these were actually pretty yummy.\nFettuccine Alfredo with mushrooms and broccolini and sourdough toast.\n"
    }
   ],
   "source": [
    "print(df.loc[0,'title'])\n",
    "print(df.loc[1,'title'])"
   ]
  },
  {
   "cell_type": "code",
   "execution_count": 42,
   "metadata": {},
   "outputs": [
    {
     "output_type": "execute_result",
     "data": {
      "text/plain": "False"
     },
     "metadata": {},
     "execution_count": 42
    }
   ],
   "source": [
    "# Python does not consider these two strings as identical.\n",
    "df['text'][0] == df['text'][1]"
   ]
  },
  {
   "cell_type": "markdown",
   "metadata": {},
   "source": [
    ">When we clean the strings, they will be converted into a form that is identified as identical. This will ultimately help us reduce the amount of _noise_ in our model."
   ],
   "execution_count": null,
   "outputs": []
  },
  {
   "cell_type": "code",
   "execution_count": 43,
   "metadata": {},
   "outputs": [
    {
     "output_type": "execute_result",
     "data": {
      "text/plain": "False"
     },
     "metadata": {},
     "execution_count": 43
    }
   ],
   "source": [
    "# Check that the cleaned versions of our strings would be read as identical.\n",
    "df['text'].map(clean_string)[0] == df['text'].map(clean_string)[1]"
   ]
  },
  {
   "cell_type": "markdown",
   "metadata": {},
   "source": [
    "> When we pass the strings through `clean_string` they are interpreted as identical. We can use this to further refine our data, drop more duplicated columns and reduce more noise.  \n",
    ">\n",
    "> We will pass the `keep='last'` parameter into the drop duplicates method so as to keep the (closest to) original post, we will also only drop duplicates from the same subreddits. Finally, we will drop any posts that, after the cleaning, are only the empty string."
   ],
   "execution_count": null,
   "outputs": []
  },
  {
   "cell_type": "code",
   "execution_count": 44,
   "metadata": {},
   "outputs": [],
   "source": [
    "df['text'] = df['text'].map(clean_string)"
   ]
  },
  {
   "cell_type": "code",
   "execution_count": 46,
   "metadata": {},
   "outputs": [
    {
     "output_type": "stream",
     "name": "stdout",
     "text": "(18987, 5)\n(18987, 5)\nDropped 0 row(s).\n"
    }
   ],
   "source": [
    "print(df.shape)\n",
    "r_0 = df.shape[0]\n",
    "df = df.drop_duplicates(subset=['text','vegan'],keep='last')\n",
    "df = df[df['text'].str.strip()!='']\n",
    "print(df.shape)\n",
    "print(f\"Dropped {df.shape[0] - r_0} row(s).\")"
   ]
  },
  {
   "cell_type": "code",
   "execution_count": 47,
   "metadata": {},
   "outputs": [
    {
     "output_type": "execute_result",
     "data": {
      "text/plain": "                                               title selftext  vegan  removed  \\\n0  Due to lack of options at the store right now,...               0        0   \n1  Fettuccine Alfredo with mushrooms and broccoli...               0        0   \n2  Savoury semolina crepe with veggies and schezw...               0        0   \n3                              Good ol avocado toast               0        0   \n4                                             Hummus               0        0   \n\n                                                text  \n0  due to lack of option at the store right now  ...  \n1  fettuccine alfredo with mushroom and broccolin...  \n2  savoury semolina crepe with veggie and schezwa...  \n3                              good ol avocado toast  \n4                                             hummus  ",
      "text/html": "<div>\n<style scoped>\n    .dataframe tbody tr th:only-of-type {\n        vertical-align: middle;\n    }\n\n    .dataframe tbody tr th {\n        vertical-align: top;\n    }\n\n    .dataframe thead th {\n        text-align: right;\n    }\n</style>\n<table border=\"1\" class=\"dataframe\">\n  <thead>\n    <tr style=\"text-align: right;\">\n      <th></th>\n      <th>title</th>\n      <th>selftext</th>\n      <th>vegan</th>\n      <th>removed</th>\n      <th>text</th>\n    </tr>\n  </thead>\n  <tbody>\n    <tr>\n      <th>0</th>\n      <td>Due to lack of options at the store right now,...</td>\n      <td></td>\n      <td>0</td>\n      <td>0</td>\n      <td>due to lack of option at the store right now  ...</td>\n    </tr>\n    <tr>\n      <th>1</th>\n      <td>Fettuccine Alfredo with mushrooms and broccoli...</td>\n      <td></td>\n      <td>0</td>\n      <td>0</td>\n      <td>fettuccine alfredo with mushroom and broccolin...</td>\n    </tr>\n    <tr>\n      <th>2</th>\n      <td>Savoury semolina crepe with veggies and schezw...</td>\n      <td></td>\n      <td>0</td>\n      <td>0</td>\n      <td>savoury semolina crepe with veggie and schezwa...</td>\n    </tr>\n    <tr>\n      <th>3</th>\n      <td>Good ol avocado toast</td>\n      <td></td>\n      <td>0</td>\n      <td>0</td>\n      <td>good ol avocado toast</td>\n    </tr>\n    <tr>\n      <th>4</th>\n      <td>Hummus</td>\n      <td></td>\n      <td>0</td>\n      <td>0</td>\n      <td>hummus</td>\n    </tr>\n  </tbody>\n</table>\n</div>"
     },
     "metadata": {},
     "execution_count": 47
    }
   ],
   "source": [
    "# Confirm one of our first duplicates have been resolved.\n",
    "df.head(5)"
   ]
  },
  {
   "cell_type": "markdown",
   "metadata": {},
   "source": [
    "# Save Cleaned Data Frame\n",
    "We will save our cleaned data frame and use this in our subsequent exploration."
   ],
   "execution_count": null,
   "outputs": []
  },
  {
   "cell_type": "code",
   "execution_count": 48,
   "metadata": {},
   "outputs": [],
   "source": [
    "data_csv = '../data/data.csv'\n",
    "df.to_csv(data_csv,index=False)"
   ]
  },
  {
   "cell_type": "markdown",
   "metadata": {},
   "source": [
    "# Summary and Next Steps\n",
    "In this notebook, we cleaned our data to prepare it for some exploratory analysis. We removed duplicates and empty strings and standardized our data from HTML formatting to plain text using BeautifulSoup and some custom functions. We then combined all of our textual data into a single corpus and saved this all to our [`data.csv`]('../data/data.csv').\n",
    "\n",
    "In our next notebook, we will perform some exploratory analysis before building our first models."
   ],
   "execution_count": null,
   "outputs": []
  },
  {
   "cell_type": "code",
   "execution_count": null,
   "metadata": {},
   "outputs": [],
   "source": []
  }
 ],
 "metadata": {
  "kernelspec": {
   "display_name": "Python 3.8.1 64-bit ('venv-dsi-project-03': venv)",
   "language": "python",
   "name": "python38164bitvenvdsiproject03venv79b6c0fd74c34c6e94925be127e444e7"
  },
  "language_info": {
   "codemirror_mode": {
    "name": "ipython",
    "version": 3
   },
   "file_extension": ".py",
   "mimetype": "text/x-python",
   "name": "python",
   "nbconvert_exporter": "python",
   "pygments_lexer": "ipython3",
   "version": "3.8.1-final"
  },
  "toc": {
   "base_numbering": 1,
   "nav_menu": {},
   "number_sections": false,
   "sideBar": true,
   "skip_h1_title": false,
   "title_cell": "Table of Contents",
   "title_sidebar": "Contents",
   "toc_cell": false,
   "toc_position": {
    "height": "calc(100% - 180px)",
    "left": "10px",
    "top": "150px",
    "width": "165px"
   },
   "toc_section_display": true,
   "toc_window_display": true
  }
 },
 "nbformat": 4,
 "nbformat_minor": 2
}