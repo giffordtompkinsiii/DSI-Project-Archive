{
 "cells": [
  {
   "cell_type": "markdown",
   "metadata": {},
   "source": [
    "# Data Cleaning and Exploratory Data Analysis "
   ]
  },
  {
   "cell_type": "code",
   "execution_count": 71,
   "metadata": {},
   "outputs": [],
   "source": [
    "import pandas as pd\n",
    "import numpy as np\n",
    "import regex as re\n",
    "import datetime as dt"
   ]
  },
  {
   "cell_type": "code",
   "execution_count": 2,
   "metadata": {},
   "outputs": [],
   "source": [
    "df = pd.read_csv('./data/data.csv')"
   ]
  },
  {
   "cell_type": "code",
   "execution_count": 3,
   "metadata": {},
   "outputs": [
    {
     "data": {
      "text/html": [
       "<div>\n",
       "<style scoped>\n",
       "    .dataframe tbody tr th:only-of-type {\n",
       "        vertical-align: middle;\n",
       "    }\n",
       "\n",
       "    .dataframe tbody tr th {\n",
       "        vertical-align: top;\n",
       "    }\n",
       "\n",
       "    .dataframe thead th {\n",
       "        text-align: right;\n",
       "    }\n",
       "</style>\n",
       "<table border=\"1\" class=\"dataframe\">\n",
       "  <thead>\n",
       "    <tr style=\"text-align: right;\">\n",
       "      <th></th>\n",
       "      <th>title</th>\n",
       "      <th>genre</th>\n",
       "      <th>premiere</th>\n",
       "      <th>seasons</th>\n",
       "      <th>length</th>\n",
       "      <th>status</th>\n",
       "      <th>upcoming</th>\n",
       "      <th>table</th>\n",
       "    </tr>\n",
       "  </thead>\n",
       "  <tbody>\n",
       "    <tr>\n",
       "      <td>0</td>\n",
       "      <td>House of Cards</td>\n",
       "      <td>Political drama</td>\n",
       "      <td>February 1, 2013</td>\n",
       "      <td>6 seasons, 73 episodes</td>\n",
       "      <td>42–59 min.</td>\n",
       "      <td>Ended[1]</td>\n",
       "      <td>NaN</td>\n",
       "      <td>0</td>\n",
       "    </tr>\n",
       "    <tr>\n",
       "      <td>1</td>\n",
       "      <td>Hemlock Grove</td>\n",
       "      <td>Horror/thriller</td>\n",
       "      <td>April 19, 2013</td>\n",
       "      <td>3 seasons, 33 episodes</td>\n",
       "      <td>45–58 min.</td>\n",
       "      <td>Ended[2]</td>\n",
       "      <td>NaN</td>\n",
       "      <td>0</td>\n",
       "    </tr>\n",
       "    <tr>\n",
       "      <td>2</td>\n",
       "      <td>Orange Is the New Black</td>\n",
       "      <td>Comedy-drama</td>\n",
       "      <td>July 11, 2013</td>\n",
       "      <td>7 seasons, 91 episodes</td>\n",
       "      <td>50–92 min.</td>\n",
       "      <td>Ended[3]</td>\n",
       "      <td>NaN</td>\n",
       "      <td>0</td>\n",
       "    </tr>\n",
       "    <tr>\n",
       "      <td>3</td>\n",
       "      <td>Marco Polo</td>\n",
       "      <td>Historical drama</td>\n",
       "      <td>December 12, 2014</td>\n",
       "      <td>2 seasons, 20 episodes</td>\n",
       "      <td>48–65 min.</td>\n",
       "      <td>Ended[4]</td>\n",
       "      <td>NaN</td>\n",
       "      <td>0</td>\n",
       "    </tr>\n",
       "    <tr>\n",
       "      <td>4</td>\n",
       "      <td>Bloodline</td>\n",
       "      <td>Thriller</td>\n",
       "      <td>March 20, 2015</td>\n",
       "      <td>3 seasons, 33 episodes</td>\n",
       "      <td>48–68 min.</td>\n",
       "      <td>Ended[5]</td>\n",
       "      <td>NaN</td>\n",
       "      <td>0</td>\n",
       "    </tr>\n",
       "  </tbody>\n",
       "</table>\n",
       "</div>"
      ],
      "text/plain": [
       "                     title             genre           premiere  \\\n",
       "0           House of Cards   Political drama   February 1, 2013   \n",
       "1            Hemlock Grove   Horror/thriller     April 19, 2013   \n",
       "2  Orange Is the New Black      Comedy-drama      July 11, 2013   \n",
       "3               Marco Polo  Historical drama  December 12, 2014   \n",
       "4                Bloodline          Thriller     March 20, 2015   \n",
       "\n",
       "                  seasons      length    status  upcoming  table  \n",
       "0  6 seasons, 73 episodes  42–59 min.  Ended[1]       NaN      0  \n",
       "1  3 seasons, 33 episodes  45–58 min.  Ended[2]       NaN      0  \n",
       "2  7 seasons, 91 episodes  50–92 min.  Ended[3]       NaN      0  \n",
       "3  2 seasons, 20 episodes  48–65 min.  Ended[4]       NaN      0  \n",
       "4  3 seasons, 33 episodes  48–68 min.  Ended[5]       NaN      0  "
      ]
     },
     "execution_count": 3,
     "metadata": {},
     "output_type": "execute_result"
    }
   ],
   "source": [
    "df.head()"
   ]
  },
  {
   "cell_type": "code",
   "execution_count": 70,
   "metadata": {},
   "outputs": [
    {
     "data": {
      "text/plain": [
       "title       object\n",
       "genre       object\n",
       "premiere    object\n",
       "seasons     object\n",
       "length      object\n",
       "status      object\n",
       "table        int64\n",
       "dtype: object"
      ]
     },
     "execution_count": 70,
     "metadata": {},
     "output_type": "execute_result"
    }
   ],
   "source": [
    "df.dtypes"
   ]
  },
  {
   "cell_type": "code",
   "execution_count": 5,
   "metadata": {},
   "outputs": [
    {
     "data": {
      "text/plain": [
       "title       0.308454\n",
       "genre       0.228484\n",
       "premiere    0.368621\n",
       "seasons     0.402133\n",
       "length      0.590251\n",
       "status      0.619193\n",
       "upcoming    1.000000\n",
       "table       0.000000\n",
       "dtype: float64"
      ]
     },
     "execution_count": 5,
     "metadata": {},
     "output_type": "execute_result"
    }
   ],
   "source": [
    "df.isnull().mean()"
   ]
  },
  {
   "cell_type": "code",
   "execution_count": 7,
   "metadata": {},
   "outputs": [],
   "source": [
    "df = df.drop(columns='upcoming')"
   ]
  },
  {
   "cell_type": "code",
   "execution_count": 11,
   "metadata": {},
   "outputs": [],
   "source": [
    "df = df.dropna(axis=0,subset=['title'])"
   ]
  },
  {
   "cell_type": "code",
   "execution_count": 65,
   "metadata": {},
   "outputs": [],
   "source": [
    "def split_genre(string):\n",
    "    string = str(string)\n",
    "    return ' '.join([term.lower() for term in re.findall('[^\\s,\\-,\\/]+',string)])"
   ]
  },
  {
   "cell_type": "code",
   "execution_count": 66,
   "metadata": {},
   "outputs": [
    {
     "data": {
      "text/plain": [
       "'coming of age drama'"
      ]
     },
     "execution_count": 66,
     "metadata": {},
     "output_type": "execute_result"
    }
   ],
   "source": [
    "split_genre('Coming-of-age drama')"
   ]
  },
  {
   "cell_type": "code",
   "execution_count": 68,
   "metadata": {},
   "outputs": [],
   "source": [
    "df['genre'] = df['genre'].map(lambda x: split_genre(x))"
   ]
  },
  {
   "cell_type": "code",
   "execution_count": 90,
   "metadata": {},
   "outputs": [
    {
     "data": {
      "text/plain": [
       "'November 15, 2019'"
      ]
     },
     "execution_count": 90,
     "metadata": {},
     "output_type": "execute_result"
    }
   ],
   "source": [
    "re.sub(\"\\[\\d+\\]$\",\"\",x)"
   ]
  },
  {
   "cell_type": "code",
   "execution_count": 96,
   "metadata": {},
   "outputs": [],
   "source": [
    "df['premiere'] = df['premiere'].map(lambda x: re.sub(\"\\[\\d+\\]$\",\"\",str(x)))"
   ]
  },
  {
   "cell_type": "code",
   "execution_count": 146,
   "metadata": {},
   "outputs": [
    {
     "name": "stderr",
     "output_type": "stream",
     "text": [
      "/anaconda3/lib/python3.7/site-packages/ipykernel_launcher.py:1: SettingWithCopyWarning: \n",
      "A value is trying to be set on a copy of a slice from a DataFrame.\n",
      "Try using .loc[row_indexer,col_indexer] = value instead\n",
      "\n",
      "See the caveats in the documentation: http://pandas.pydata.org/pandas-docs/stable/user_guide/indexing.html#returning-a-view-versus-a-copy\n",
      "  \"\"\"Entry point for launching an IPython kernel.\n"
     ]
    }
   ],
   "source": [
    "df['premiere_year'] = df['premiere'].map(lambda x: ''.join(re.findall('\\d{4}',str(x))))"
   ]
  },
  {
   "cell_type": "code",
   "execution_count": 116,
   "metadata": {},
   "outputs": [],
   "source": [
    "# Table 18 is a list of shows that have been release in other countries.\n",
    "# I will exclude them as they are not Netflix originals.\n",
    "df = df[df['table'] != 18]"
   ]
  },
  {
   "cell_type": "code",
   "execution_count": 147,
   "metadata": {},
   "outputs": [
    {
     "data": {
      "text/plain": [
       "16    214\n",
       "Name: table, dtype: int64"
      ]
     },
     "execution_count": 147,
     "metadata": {},
     "output_type": "execute_result"
    }
   ],
   "source": [
    "# Table 16 is full of shows that are up and coming.\n",
    "df[df['premiere_year']=='']['table'].value_counts()"
   ]
  },
  {
   "cell_type": "code",
   "execution_count": 134,
   "metadata": {},
   "outputs": [],
   "source": [
    "months = [\"January\",\"February\",\"March\",\"April\",\"May\",\"June\",\"July\",\"August\",\"September\",\"October\",\"November\",\"December\"]\n",
    "month_dict = {month:i+1 for i,month in enumerate(months)}"
   ]
  },
  {
   "cell_type": "code",
   "execution_count": 135,
   "metadata": {},
   "outputs": [
    {
     "data": {
      "text/plain": [
       "{'January': 1,\n",
       " 'February': 2,\n",
       " 'March': 3,\n",
       " 'April': 4,\n",
       " 'May': 5,\n",
       " 'June': 6,\n",
       " 'July': 7,\n",
       " 'August': 8,\n",
       " 'September': 9,\n",
       " 'October': 10,\n",
       " 'November': 11,\n",
       " 'December': 12}"
      ]
     },
     "execution_count": 135,
     "metadata": {},
     "output_type": "execute_result"
    }
   ],
   "source": [
    "month_dict"
   ]
  },
  {
   "cell_type": "code",
   "execution_count": 144,
   "metadata": {},
   "outputs": [
    {
     "name": "stderr",
     "output_type": "stream",
     "text": [
      "/anaconda3/lib/python3.7/site-packages/ipykernel_launcher.py:1: SettingWithCopyWarning: \n",
      "A value is trying to be set on a copy of a slice from a DataFrame.\n",
      "Try using .loc[row_indexer,col_indexer] = value instead\n",
      "\n",
      "See the caveats in the documentation: http://pandas.pydata.org/pandas-docs/stable/user_guide/indexing.html#returning-a-view-versus-a-copy\n",
      "  \"\"\"Entry point for launching an IPython kernel.\n"
     ]
    }
   ],
   "source": [
    "df['premiere_month'] = df['premiere'].map(lambda x: int(month_dict[x.split()[0]]) if x.split()[0] in month_dict.keys() else np.nan)"
   ]
  },
  {
   "cell_type": "code",
   "execution_count": 145,
   "metadata": {},
   "outputs": [
    {
     "data": {
      "text/plain": [
       "[1.0, 2.0, 3.0, 4.0, 5.0, 6.0, 7.0, 8.0, 9.0, 10.0, 11.0, 12.0, nan]"
      ]
     },
     "execution_count": 145,
     "metadata": {},
     "output_type": "execute_result"
    }
   ],
   "source": [
    "sorted(df['premiere_month'].unique())"
   ]
  },
  {
   "cell_type": "code",
   "execution_count": 148,
   "metadata": {},
   "outputs": [
    {
     "data": {
      "text/html": [
       "<div>\n",
       "<style scoped>\n",
       "    .dataframe tbody tr th:only-of-type {\n",
       "        vertical-align: middle;\n",
       "    }\n",
       "\n",
       "    .dataframe tbody tr th {\n",
       "        vertical-align: top;\n",
       "    }\n",
       "\n",
       "    .dataframe thead th {\n",
       "        text-align: right;\n",
       "    }\n",
       "</style>\n",
       "<table border=\"1\" class=\"dataframe\">\n",
       "  <thead>\n",
       "    <tr style=\"text-align: right;\">\n",
       "      <th></th>\n",
       "      <th>title</th>\n",
       "      <th>genre</th>\n",
       "      <th>premiere</th>\n",
       "      <th>seasons</th>\n",
       "      <th>length</th>\n",
       "      <th>status</th>\n",
       "      <th>table</th>\n",
       "      <th>year</th>\n",
       "      <th>premiere_month</th>\n",
       "      <th>premiere_year</th>\n",
       "    </tr>\n",
       "  </thead>\n",
       "  <tbody>\n",
       "    <tr>\n",
       "      <td>0</td>\n",
       "      <td>House of Cards</td>\n",
       "      <td>political drama</td>\n",
       "      <td>February 1, 2013</td>\n",
       "      <td>6 seasons, 73 episodes</td>\n",
       "      <td>42–59 min.</td>\n",
       "      <td>Ended[1]</td>\n",
       "      <td>0</td>\n",
       "      <td>2013</td>\n",
       "      <td>2.0</td>\n",
       "      <td>2013</td>\n",
       "    </tr>\n",
       "    <tr>\n",
       "      <td>1</td>\n",
       "      <td>Hemlock Grove</td>\n",
       "      <td>horror thriller</td>\n",
       "      <td>April 19, 2013</td>\n",
       "      <td>3 seasons, 33 episodes</td>\n",
       "      <td>45–58 min.</td>\n",
       "      <td>Ended[2]</td>\n",
       "      <td>0</td>\n",
       "      <td>2013</td>\n",
       "      <td>4.0</td>\n",
       "      <td>2013</td>\n",
       "    </tr>\n",
       "    <tr>\n",
       "      <td>2</td>\n",
       "      <td>Orange Is the New Black</td>\n",
       "      <td>comedy drama</td>\n",
       "      <td>July 11, 2013</td>\n",
       "      <td>7 seasons, 91 episodes</td>\n",
       "      <td>50–92 min.</td>\n",
       "      <td>Ended[3]</td>\n",
       "      <td>0</td>\n",
       "      <td>2013</td>\n",
       "      <td>7.0</td>\n",
       "      <td>2013</td>\n",
       "    </tr>\n",
       "    <tr>\n",
       "      <td>3</td>\n",
       "      <td>Marco Polo</td>\n",
       "      <td>historical drama</td>\n",
       "      <td>December 12, 2014</td>\n",
       "      <td>2 seasons, 20 episodes</td>\n",
       "      <td>48–65 min.</td>\n",
       "      <td>Ended[4]</td>\n",
       "      <td>0</td>\n",
       "      <td>2014</td>\n",
       "      <td>12.0</td>\n",
       "      <td>2014</td>\n",
       "    </tr>\n",
       "    <tr>\n",
       "      <td>4</td>\n",
       "      <td>Bloodline</td>\n",
       "      <td>thriller</td>\n",
       "      <td>March 20, 2015</td>\n",
       "      <td>3 seasons, 33 episodes</td>\n",
       "      <td>48–68 min.</td>\n",
       "      <td>Ended[5]</td>\n",
       "      <td>0</td>\n",
       "      <td>2015</td>\n",
       "      <td>3.0</td>\n",
       "      <td>2015</td>\n",
       "    </tr>\n",
       "  </tbody>\n",
       "</table>\n",
       "</div>"
      ],
      "text/plain": [
       "                     title             genre           premiere  \\\n",
       "0           House of Cards   political drama   February 1, 2013   \n",
       "1            Hemlock Grove   horror thriller     April 19, 2013   \n",
       "2  Orange Is the New Black      comedy drama      July 11, 2013   \n",
       "3               Marco Polo  historical drama  December 12, 2014   \n",
       "4                Bloodline          thriller     March 20, 2015   \n",
       "\n",
       "                  seasons      length    status  table  year  premiere_month  \\\n",
       "0  6 seasons, 73 episodes  42–59 min.  Ended[1]      0  2013             2.0   \n",
       "1  3 seasons, 33 episodes  45–58 min.  Ended[2]      0  2013             4.0   \n",
       "2  7 seasons, 91 episodes  50–92 min.  Ended[3]      0  2013             7.0   \n",
       "3  2 seasons, 20 episodes  48–65 min.  Ended[4]      0  2014            12.0   \n",
       "4  3 seasons, 33 episodes  48–68 min.  Ended[5]      0  2015             3.0   \n",
       "\n",
       "  premiere_year  \n",
       "0          2013  \n",
       "1          2013  \n",
       "2          2013  \n",
       "3          2014  \n",
       "4          2015  "
      ]
     },
     "execution_count": 148,
     "metadata": {},
     "output_type": "execute_result"
    }
   ],
   "source": [
    "df.head()"
   ]
  },
  {
   "cell_type": "code",
   "execution_count": 165,
   "metadata": {},
   "outputs": [
    {
     "name": "stderr",
     "output_type": "stream",
     "text": [
      "/anaconda3/lib/python3.7/site-packages/ipykernel_launcher.py:1: SettingWithCopyWarning: \n",
      "A value is trying to be set on a copy of a slice from a DataFrame.\n",
      "Try using .loc[row_indexer,col_indexer] = value instead\n",
      "\n",
      "See the caveats in the documentation: http://pandas.pydata.org/pandas-docs/stable/user_guide/indexing.html#returning-a-view-versus-a-copy\n",
      "  \"\"\"Entry point for launching an IPython kernel.\n"
     ]
    }
   ],
   "source": [
    "df['seasons_count'] = df['seasons'].map(lambda x: x.split(',')[0][:str(x).find(' ')] if len(str(x).split(',')) == 2 else 0)"
   ]
  },
  {
   "cell_type": "code",
   "execution_count": 198,
   "metadata": {},
   "outputs": [
    {
     "name": "stderr",
     "output_type": "stream",
     "text": [
      "/anaconda3/lib/python3.7/site-packages/ipykernel_launcher.py:1: SettingWithCopyWarning: \n",
      "A value is trying to be set on a copy of a slice from a DataFrame.\n",
      "Try using .loc[row_indexer,col_indexer] = value instead\n",
      "\n",
      "See the caveats in the documentation: http://pandas.pydata.org/pandas-docs/stable/user_guide/indexing.html#returning-a-view-versus-a-copy\n",
      "  \"\"\"Entry point for launching an IPython kernel.\n"
     ]
    }
   ],
   "source": [
    "df['episodes'] = df['seasons'].map(lambda x: x.split(', ')[-1].strip() if len(str(x).split(',')) == 2 else str(x).strip())"
   ]
  },
  {
   "cell_type": "code",
   "execution_count": 199,
   "metadata": {},
   "outputs": [
    {
     "name": "stderr",
     "output_type": "stream",
     "text": [
      "/anaconda3/lib/python3.7/site-packages/ipykernel_launcher.py:1: SettingWithCopyWarning: \n",
      "A value is trying to be set on a copy of a slice from a DataFrame.\n",
      "Try using .loc[row_indexer,col_indexer] = value instead\n",
      "\n",
      "See the caveats in the documentation: http://pandas.pydata.org/pandas-docs/stable/user_guide/indexing.html#returning-a-view-versus-a-copy\n",
      "  \"\"\"Entry point for launching an IPython kernel.\n"
     ]
    }
   ],
   "source": [
    "df['episodes_count'] = df['episodes'].map(lambda x: x[:x.find(' ')])"
   ]
  },
  {
   "cell_type": "code",
   "execution_count": 205,
   "metadata": {},
   "outputs": [
    {
     "name": "stderr",
     "output_type": "stream",
     "text": [
      "/anaconda3/lib/python3.7/site-packages/ipykernel_launcher.py:1: SettingWithCopyWarning: \n",
      "A value is trying to be set on a copy of a slice from a DataFrame.\n",
      "Try using .loc[row_indexer,col_indexer] = value instead\n",
      "\n",
      "See the caveats in the documentation: http://pandas.pydata.org/pandas-docs/stable/user_guide/indexing.html#returning-a-view-versus-a-copy\n",
      "  \"\"\"Entry point for launching an IPython kernel.\n"
     ]
    }
   ],
   "source": [
    "df['episodes_count'] = df['episodes_count'].map(lambda x: np.nan if x in ['TB','na'] else int(x))"
   ]
  },
  {
   "cell_type": "code",
   "execution_count": 207,
   "metadata": {},
   "outputs": [
    {
     "data": {
      "text/html": [
       "<div>\n",
       "<style scoped>\n",
       "    .dataframe tbody tr th:only-of-type {\n",
       "        vertical-align: middle;\n",
       "    }\n",
       "\n",
       "    .dataframe tbody tr th {\n",
       "        vertical-align: top;\n",
       "    }\n",
       "\n",
       "    .dataframe thead th {\n",
       "        text-align: right;\n",
       "    }\n",
       "</style>\n",
       "<table border=\"1\" class=\"dataframe\">\n",
       "  <thead>\n",
       "    <tr style=\"text-align: right;\">\n",
       "      <th></th>\n",
       "      <th>title</th>\n",
       "      <th>genre</th>\n",
       "      <th>premiere</th>\n",
       "      <th>seasons</th>\n",
       "      <th>length</th>\n",
       "      <th>status</th>\n",
       "      <th>table</th>\n",
       "      <th>year</th>\n",
       "      <th>premiere_month</th>\n",
       "      <th>premiere_year</th>\n",
       "      <th>seasons_count</th>\n",
       "      <th>episodes</th>\n",
       "      <th>episodes_count</th>\n",
       "    </tr>\n",
       "  </thead>\n",
       "  <tbody>\n",
       "    <tr>\n",
       "      <td>0</td>\n",
       "      <td>House of Cards</td>\n",
       "      <td>political drama</td>\n",
       "      <td>February 1, 2013</td>\n",
       "      <td>6 seasons, 73 episodes</td>\n",
       "      <td>42–59 min.</td>\n",
       "      <td>Ended[1]</td>\n",
       "      <td>0</td>\n",
       "      <td>2013</td>\n",
       "      <td>2.0</td>\n",
       "      <td>2013</td>\n",
       "      <td>6</td>\n",
       "      <td>73 episodes</td>\n",
       "      <td>73.0</td>\n",
       "    </tr>\n",
       "    <tr>\n",
       "      <td>1</td>\n",
       "      <td>Hemlock Grove</td>\n",
       "      <td>horror thriller</td>\n",
       "      <td>April 19, 2013</td>\n",
       "      <td>3 seasons, 33 episodes</td>\n",
       "      <td>45–58 min.</td>\n",
       "      <td>Ended[2]</td>\n",
       "      <td>0</td>\n",
       "      <td>2013</td>\n",
       "      <td>4.0</td>\n",
       "      <td>2013</td>\n",
       "      <td>3</td>\n",
       "      <td>33 episodes</td>\n",
       "      <td>33.0</td>\n",
       "    </tr>\n",
       "    <tr>\n",
       "      <td>2</td>\n",
       "      <td>Orange Is the New Black</td>\n",
       "      <td>comedy drama</td>\n",
       "      <td>July 11, 2013</td>\n",
       "      <td>7 seasons, 91 episodes</td>\n",
       "      <td>50–92 min.</td>\n",
       "      <td>Ended[3]</td>\n",
       "      <td>0</td>\n",
       "      <td>2013</td>\n",
       "      <td>7.0</td>\n",
       "      <td>2013</td>\n",
       "      <td>7</td>\n",
       "      <td>91 episodes</td>\n",
       "      <td>91.0</td>\n",
       "    </tr>\n",
       "    <tr>\n",
       "      <td>3</td>\n",
       "      <td>Marco Polo</td>\n",
       "      <td>historical drama</td>\n",
       "      <td>December 12, 2014</td>\n",
       "      <td>2 seasons, 20 episodes</td>\n",
       "      <td>48–65 min.</td>\n",
       "      <td>Ended[4]</td>\n",
       "      <td>0</td>\n",
       "      <td>2014</td>\n",
       "      <td>12.0</td>\n",
       "      <td>2014</td>\n",
       "      <td>2</td>\n",
       "      <td>20 episodes</td>\n",
       "      <td>20.0</td>\n",
       "    </tr>\n",
       "    <tr>\n",
       "      <td>4</td>\n",
       "      <td>Bloodline</td>\n",
       "      <td>thriller</td>\n",
       "      <td>March 20, 2015</td>\n",
       "      <td>3 seasons, 33 episodes</td>\n",
       "      <td>48–68 min.</td>\n",
       "      <td>Ended[5]</td>\n",
       "      <td>0</td>\n",
       "      <td>2015</td>\n",
       "      <td>3.0</td>\n",
       "      <td>2015</td>\n",
       "      <td>3</td>\n",
       "      <td>33 episodes</td>\n",
       "      <td>33.0</td>\n",
       "    </tr>\n",
       "  </tbody>\n",
       "</table>\n",
       "</div>"
      ],
      "text/plain": [
       "                     title             genre           premiere  \\\n",
       "0           House of Cards   political drama   February 1, 2013   \n",
       "1            Hemlock Grove   horror thriller     April 19, 2013   \n",
       "2  Orange Is the New Black      comedy drama      July 11, 2013   \n",
       "3               Marco Polo  historical drama  December 12, 2014   \n",
       "4                Bloodline          thriller     March 20, 2015   \n",
       "\n",
       "                  seasons      length    status  table  year  premiere_month  \\\n",
       "0  6 seasons, 73 episodes  42–59 min.  Ended[1]      0  2013             2.0   \n",
       "1  3 seasons, 33 episodes  45–58 min.  Ended[2]      0  2013             4.0   \n",
       "2  7 seasons, 91 episodes  50–92 min.  Ended[3]      0  2013             7.0   \n",
       "3  2 seasons, 20 episodes  48–65 min.  Ended[4]      0  2014            12.0   \n",
       "4  3 seasons, 33 episodes  48–68 min.  Ended[5]      0  2015             3.0   \n",
       "\n",
       "  premiere_year seasons_count     episodes  episodes_count  \n",
       "0          2013             6  73 episodes            73.0  \n",
       "1          2013             3  33 episodes            33.0  \n",
       "2          2013             7  91 episodes            91.0  \n",
       "3          2014             2  20 episodes            20.0  \n",
       "4          2015             3  33 episodes            33.0  "
      ]
     },
     "execution_count": 207,
     "metadata": {},
     "output_type": "execute_result"
    }
   ],
   "source": [
    "df.head()"
   ]
  },
  {
   "cell_type": "code",
   "execution_count": 242,
   "metadata": {},
   "outputs": [],
   "source": [
    "def find_length(string):\n",
    "    return re.findall(\"\\d+[\\s,\\-,\\d]* min\",str(string))"
   ]
  },
  {
   "cell_type": "code",
   "execution_count": 262,
   "metadata": {},
   "outputs": [
    {
     "name": "stderr",
     "output_type": "stream",
     "text": [
      "/anaconda3/lib/python3.7/site-packages/ipykernel_launcher.py:1: SettingWithCopyWarning: \n",
      "A value is trying to be set on a copy of a slice from a DataFrame.\n",
      "Try using .loc[row_indexer,col_indexer] = value instead\n",
      "\n",
      "See the caveats in the documentation: http://pandas.pydata.org/pandas-docs/stable/user_guide/indexing.html#returning-a-view-versus-a-copy\n",
      "  \"\"\"Entry point for launching an IPython kernel.\n"
     ]
    }
   ],
   "source": [
    "df['length'] = df['length'].where(df['length']!='TBA', np.nan)"
   ]
  },
  {
   "cell_type": "code",
   "execution_count": 302,
   "metadata": {},
   "outputs": [],
   "source": [
    "re.findall(\"\\d+\")"
   ]
  },
  {
   "cell_type": "code",
   "execution_count": 309,
   "metadata": {},
   "outputs": [
    {
     "name": "stderr",
     "output_type": "stream",
     "text": [
      "/anaconda3/lib/python3.7/site-packages/ipykernel_launcher.py:1: SettingWithCopyWarning: \n",
      "A value is trying to be set on a copy of a slice from a DataFrame.\n",
      "Try using .loc[row_indexer,col_indexer] = value instead\n",
      "\n",
      "See the caveats in the documentation: http://pandas.pydata.org/pandas-docs/stable/user_guide/indexing.html#returning-a-view-versus-a-copy\n",
      "  \"\"\"Entry point for launching an IPython kernel.\n"
     ]
    }
   ],
   "source": [
    "df['length_range'] = df['length'].map(lambda x: re.findall(\"\\d+\",str(x)))"
   ]
  },
  {
   "cell_type": "code",
   "execution_count": 324,
   "metadata": {},
   "outputs": [
    {
     "name": "stderr",
     "output_type": "stream",
     "text": [
      "/anaconda3/lib/python3.7/site-packages/ipykernel_launcher.py:1: SettingWithCopyWarning: \n",
      "A value is trying to be set on a copy of a slice from a DataFrame.\n",
      "Try using .loc[row_indexer,col_indexer] = value instead\n",
      "\n",
      "See the caveats in the documentation: http://pandas.pydata.org/pandas-docs/stable/user_guide/indexing.html#returning-a-view-versus-a-copy\n",
      "  \"\"\"Entry point for launching an IPython kernel.\n"
     ]
    }
   ],
   "source": [
    "df['length_low'] = df['length_range'].map(lambda x: x[0] if len(x)>0 else np.nan)"
   ]
  },
  {
   "cell_type": "code",
   "execution_count": 331,
   "metadata": {},
   "outputs": [
    {
     "name": "stderr",
     "output_type": "stream",
     "text": [
      "/anaconda3/lib/python3.7/site-packages/ipykernel_launcher.py:1: SettingWithCopyWarning: \n",
      "A value is trying to be set on a copy of a slice from a DataFrame.\n",
      "Try using .loc[row_indexer,col_indexer] = value instead\n",
      "\n",
      "See the caveats in the documentation: http://pandas.pydata.org/pandas-docs/stable/user_guide/indexing.html#returning-a-view-versus-a-copy\n",
      "  \"\"\"Entry point for launching an IPython kernel.\n"
     ]
    }
   ],
   "source": [
    "df['length_hi'] = df['length_range'].map(lambda x: x[1] if len(x) > 1 else (x[0] if len(x) > 0 else np.nan))"
   ]
  },
  {
   "cell_type": "code",
   "execution_count": 344,
   "metadata": {},
   "outputs": [
    {
     "data": {
      "text/html": [
       "<div>\n",
       "<style scoped>\n",
       "    .dataframe tbody tr th:only-of-type {\n",
       "        vertical-align: middle;\n",
       "    }\n",
       "\n",
       "    .dataframe tbody tr th {\n",
       "        vertical-align: top;\n",
       "    }\n",
       "\n",
       "    .dataframe thead th {\n",
       "        text-align: right;\n",
       "    }\n",
       "</style>\n",
       "<table border=\"1\" class=\"dataframe\">\n",
       "  <thead>\n",
       "    <tr style=\"text-align: right;\">\n",
       "      <th></th>\n",
       "      <th>length</th>\n",
       "      <th>length_low</th>\n",
       "      <th>length_hi</th>\n",
       "    </tr>\n",
       "  </thead>\n",
       "  <tbody>\n",
       "    <tr>\n",
       "      <td>514</td>\n",
       "      <td>13 min.</td>\n",
       "      <td>13</td>\n",
       "      <td>13</td>\n",
       "    </tr>\n",
       "    <tr>\n",
       "      <td>515</td>\n",
       "      <td>50 min.</td>\n",
       "      <td>50</td>\n",
       "      <td>50</td>\n",
       "    </tr>\n",
       "    <tr>\n",
       "      <td>518</td>\n",
       "      <td>45 min.</td>\n",
       "      <td>45</td>\n",
       "      <td>45</td>\n",
       "    </tr>\n",
       "    <tr>\n",
       "      <td>533</td>\n",
       "      <td>23 min.</td>\n",
       "      <td>23</td>\n",
       "      <td>23</td>\n",
       "    </tr>\n",
       "    <tr>\n",
       "      <td>538</td>\n",
       "      <td>23 min.</td>\n",
       "      <td>23</td>\n",
       "      <td>23</td>\n",
       "    </tr>\n",
       "    <tr>\n",
       "      <td>539</td>\n",
       "      <td>NaN</td>\n",
       "      <td>NaN</td>\n",
       "      <td>NaN</td>\n",
       "    </tr>\n",
       "    <tr>\n",
       "      <td>545</td>\n",
       "      <td>NaN</td>\n",
       "      <td>NaN</td>\n",
       "      <td>NaN</td>\n",
       "    </tr>\n",
       "  </tbody>\n",
       "</table>\n",
       "</div>"
      ],
      "text/plain": [
       "      length length_low length_hi\n",
       "514  13 min.         13        13\n",
       "515  50 min.         50        50\n",
       "518  45 min.         45        45\n",
       "533  23 min.         23        23\n",
       "538  23 min.         23        23\n",
       "539      NaN        NaN       NaN\n",
       "545      NaN        NaN       NaN"
      ]
     },
     "execution_count": 344,
     "metadata": {},
     "output_type": "execute_result"
    }
   ],
   "source": [
    "df[['length', 'length_low', 'length_hi']]"
   ]
  },
  {
   "cell_type": "code",
   "execution_count": 349,
   "metadata": {},
   "outputs": [],
   "source": [
    "hour_mask = df['length'].str.contains('hour')==True"
   ]
  },
  {
   "cell_type": "code",
   "execution_count": 354,
   "metadata": {},
   "outputs": [
    {
     "data": {
      "text/plain": [
       "507    1 hour, 15 min.\n",
       "508    1 hour, 28 min.\n",
       "511    1 hour, 15 min.\n",
       "526    1 hour, 30 min.\n",
       "530     1 hour, 9 min.\n",
       "531     1 hour, 1 min.\n",
       "537     1 hour, 1 min.\n",
       "Name: length, dtype: object"
      ]
     },
     "execution_count": 354,
     "metadata": {},
     "output_type": "execute_result"
    }
   ],
   "source": [
    "def convert_hour(index):\n",
    "    if index in df[hour_mask].index:\n",
    "        df['length'].str.slice(7:-5)\n",
    "    "
   ]
  },
  {
   "cell_type": "code",
   "execution_count": null,
   "metadata": {},
   "outputs": [],
   "source": []
  },
  {
   "cell_type": "code",
   "execution_count": 362,
   "metadata": {},
   "outputs": [
    {
     "data": {
      "text/plain": [
       "title             Trailer Park Boys: Swearnet Live\n",
       "genre                                 mockumentary\n",
       "premiere                           October 1, 2014\n",
       "seasons                                        NaN\n",
       "length                             1 hour, 15 min.\n",
       "status                                         NaN\n",
       "table                                           15\n",
       "year                                          2014\n",
       "premiere_month                                  10\n",
       "premiere_year                                 2014\n",
       "seasons_count                                    0\n",
       "episodes                                       nan\n",
       "episodes_count                                 NaN\n",
       "length_range                               [1, 15]\n",
       "length_low                                      75\n",
       "length_hi                                       75\n",
       "Name: 507, dtype: object"
      ]
     },
     "execution_count": 362,
     "metadata": {},
     "output_type": "execute_result"
    }
   ],
   "source": [
    "i = 507\n",
    "df.loc[i,'length_low'] = 75\n",
    "df.loc[i,'length_hi'] = 75\n",
    "df.loc[i]"
   ]
  },
  {
   "cell_type": "code",
   "execution_count": 363,
   "metadata": {},
   "outputs": [
    {
     "data": {
      "text/plain": [
       "title             Trailer Park Boys: Live at the North Pole\n",
       "genre                                          mockumentary\n",
       "premiere                                  November 15, 2014\n",
       "seasons                                                 NaN\n",
       "length                                      1 hour, 28 min.\n",
       "status                                                  NaN\n",
       "table                                                    15\n",
       "year                                                   2014\n",
       "premiere_month                                           11\n",
       "premiere_year                                          2014\n",
       "seasons_count                                             0\n",
       "episodes                                                nan\n",
       "episodes_count                                          NaN\n",
       "length_range                                        [1, 28]\n",
       "length_low                                               88\n",
       "length_hi                                                88\n",
       "Name: 508, dtype: object"
      ]
     },
     "execution_count": 363,
     "metadata": {},
     "output_type": "execute_result"
    }
   ],
   "source": [
    "i = 508\n",
    "df.loc[i,'length_low'] = 88\n",
    "df.loc[i,'length_hi'] = 88\n",
    "df.loc[i]"
   ]
  },
  {
   "cell_type": "code",
   "execution_count": 364,
   "metadata": {},
   "outputs": [
    {
     "data": {
      "text/plain": [
       "title             Trailer Park Boys: Drunk, High And Unemployed ...\n",
       "genre                                                  mockumentary\n",
       "premiere                                           December 9, 2015\n",
       "seasons                                                         NaN\n",
       "length                                              1 hour, 15 min.\n",
       "status                                                          NaN\n",
       "table                                                            15\n",
       "year                                                           2015\n",
       "premiere_month                                                   12\n",
       "premiere_year                                                  2015\n",
       "seasons_count                                                     0\n",
       "episodes                                                        nan\n",
       "episodes_count                                                  NaN\n",
       "length_range                                                [1, 15]\n",
       "length_low                                                       75\n",
       "length_hi                                                        75\n",
       "Name: 511, dtype: object"
      ]
     },
     "execution_count": 364,
     "metadata": {},
     "output_type": "execute_result"
    }
   ],
   "source": [
    "i = 511\n",
    "df.loc[i,'length_low'] = 75\n",
    "df.loc[i,'length_hi'] = 75\n",
    "df.loc[i]"
   ]
  },
  {
   "cell_type": "code",
   "execution_count": 365,
   "metadata": {},
   "outputs": [
    {
     "data": {
      "text/plain": [
       "title                    Black Mirror: Bandersnatch\n",
       "genre             science fiction drama interactive\n",
       "premiere                          December 28, 2018\n",
       "seasons                                         NaN\n",
       "length                              1 hour, 30 min.\n",
       "status                                          NaN\n",
       "table                                            15\n",
       "year                                           2018\n",
       "premiere_month                                   12\n",
       "premiere_year                                  2018\n",
       "seasons_count                                     0\n",
       "episodes                                        nan\n",
       "episodes_count                                  NaN\n",
       "length_range                                [1, 30]\n",
       "length_low                                       90\n",
       "length_hi                                        90\n",
       "Name: 526, dtype: object"
      ]
     },
     "execution_count": 365,
     "metadata": {},
     "output_type": "execute_result"
    }
   ],
   "source": [
    "i = 526\n",
    "df.loc[i,'length_low'] = 90\n",
    "df.loc[i,'length_hi'] = 90\n",
    "df.loc[i]"
   ]
  },
  {
   "cell_type": "code",
   "execution_count": 366,
   "metadata": {},
   "outputs": [
    {
     "data": {
      "text/plain": [
       "title             Malibu Rescue – The Movie\n",
       "genre                                comedy\n",
       "premiere                       May 13, 2019\n",
       "seasons                                 NaN\n",
       "length                       1 hour, 9 min.\n",
       "status                                  NaN\n",
       "table                                    15\n",
       "year                                   2019\n",
       "premiere_month                            5\n",
       "premiere_year                          2019\n",
       "seasons_count                             0\n",
       "episodes                                nan\n",
       "episodes_count                          NaN\n",
       "length_range                         [1, 9]\n",
       "length_low                               69\n",
       "length_hi                                69\n",
       "Name: 530, dtype: object"
      ]
     },
     "execution_count": 366,
     "metadata": {},
     "output_type": "execute_result"
    }
   ],
   "source": [
    "i = 530\n",
    "df.loc[i,'length_low'] = 69\n",
    "df.loc[i,'length_hi'] = 69\n",
    "df.loc[i]"
   ]
  },
  {
   "cell_type": "code",
   "execution_count": 367,
   "metadata": {},
   "outputs": [
    {
     "data": {
      "text/plain": [
       "title             Oprah Winfrey Presents When They See Us Now\n",
       "genre                                               interview\n",
       "premiere                                        June 12, 2019\n",
       "seasons                                                   NaN\n",
       "length                                         1 hour, 1 min.\n",
       "status                                                    NaN\n",
       "table                                                      15\n",
       "year                                                     2019\n",
       "premiere_month                                              6\n",
       "premiere_year                                            2019\n",
       "seasons_count                                               0\n",
       "episodes                                                  nan\n",
       "episodes_count                                            NaN\n",
       "length_range                                           [1, 1]\n",
       "length_low                                                 61\n",
       "length_hi                                                  61\n",
       "Name: 531, dtype: object"
      ]
     },
     "execution_count": 367,
     "metadata": {},
     "output_type": "execute_result"
    }
   ],
   "source": [
    "i = 531\n",
    "df.loc[i,'length_low'] = 61\n",
    "df.loc[i,'length_hi'] = 61\n",
    "df.loc[i]"
   ]
  },
  {
   "cell_type": "code",
   "execution_count": 368,
   "metadata": {},
   "outputs": [
    {
     "data": {
      "text/plain": [
       "title             My Next Guest with David Letterman and Shah Ru...\n",
       "genre                                                     talk show\n",
       "premiere                                           October 25, 2019\n",
       "seasons                                                         NaN\n",
       "length                                               1 hour, 1 min.\n",
       "status                                                          NaN\n",
       "table                                                            15\n",
       "year                                                           2019\n",
       "premiere_month                                                   10\n",
       "premiere_year                                                  2019\n",
       "seasons_count                                                     0\n",
       "episodes                                                        nan\n",
       "episodes_count                                                  NaN\n",
       "length_range                                                 [1, 1]\n",
       "length_low                                                       61\n",
       "length_hi                                                        61\n",
       "Name: 537, dtype: object"
      ]
     },
     "execution_count": 368,
     "metadata": {},
     "output_type": "execute_result"
    }
   ],
   "source": [
    "i = 537\n",
    "df.loc[i,'length_low'] = 61\n",
    "df.loc[i,'length_hi'] = 61\n",
    "df.loc[i]"
   ]
  },
  {
   "cell_type": "code",
   "execution_count": 392,
   "metadata": {},
   "outputs": [
    {
     "data": {
      "text/plain": [
       "title              object\n",
       "genre              object\n",
       "premiere           object\n",
       "seasons            object\n",
       "length             object\n",
       "status             object\n",
       "table               int64\n",
       "year               object\n",
       "premiere_month    float64\n",
       "premiere_year       int64\n",
       "seasons_count      object\n",
       "episodes           object\n",
       "episodes_count    float64\n",
       "length_range       object\n",
       "length_low         object\n",
       "length_hi          object\n",
       "dtype: object"
      ]
     },
     "execution_count": 392,
     "metadata": {},
     "output_type": "execute_result"
    }
   ],
   "source": [
    "df.dtypes"
   ]
  },
  {
   "cell_type": "code",
   "execution_count": 391,
   "metadata": {},
   "outputs": [
    {
     "name": "stderr",
     "output_type": "stream",
     "text": [
      "/anaconda3/lib/python3.7/site-packages/ipykernel_launcher.py:1: SettingWithCopyWarning: \n",
      "A value is trying to be set on a copy of a slice from a DataFrame.\n",
      "Try using .loc[row_indexer,col_indexer] = value instead\n",
      "\n",
      "See the caveats in the documentation: http://pandas.pydata.org/pandas-docs/stable/user_guide/indexing.html#returning-a-view-versus-a-copy\n",
      "  \"\"\"Entry point for launching an IPython kernel.\n"
     ]
    }
   ],
   "source": [
    "df['premiere_year'] = df['premiere_year'].map(lambda x: int(x) if x != '' else 9999)"
   ]
  },
  {
   "cell_type": "code",
   "execution_count": 393,
   "metadata": {},
   "outputs": [
    {
     "data": {
      "text/plain": [
       "title              object\n",
       "genre              object\n",
       "premiere           object\n",
       "seasons            object\n",
       "length             object\n",
       "status             object\n",
       "table               int64\n",
       "year               object\n",
       "premiere_month    float64\n",
       "premiere_year       int64\n",
       "seasons_count      object\n",
       "episodes           object\n",
       "episodes_count    float64\n",
       "length_range       object\n",
       "length_low         object\n",
       "length_hi          object\n",
       "dtype: object"
      ]
     },
     "execution_count": 393,
     "metadata": {},
     "output_type": "execute_result"
    }
   ],
   "source": [
    "df.dtypes"
   ]
  },
  {
   "cell_type": "code",
   "execution_count": 397,
   "metadata": {},
   "outputs": [
    {
     "name": "stderr",
     "output_type": "stream",
     "text": [
      "/anaconda3/lib/python3.7/site-packages/ipykernel_launcher.py:1: SettingWithCopyWarning: \n",
      "A value is trying to be set on a copy of a slice from a DataFrame.\n",
      "Try using .loc[row_indexer,col_indexer] = value instead\n",
      "\n",
      "See the caveats in the documentation: http://pandas.pydata.org/pandas-docs/stable/user_guide/indexing.html#returning-a-view-versus-a-copy\n",
      "  \"\"\"Entry point for launching an IPython kernel.\n"
     ]
    }
   ],
   "source": [
    "df['seasons_count'] = df['seasons_count'].astype(int)"
   ]
  },
  {
   "cell_type": "code",
   "execution_count": 398,
   "metadata": {},
   "outputs": [
    {
     "data": {
      "text/plain": [
       "title              object\n",
       "genre              object\n",
       "premiere           object\n",
       "seasons            object\n",
       "length             object\n",
       "status             object\n",
       "table               int64\n",
       "year               object\n",
       "premiere_month    float64\n",
       "premiere_year       int64\n",
       "seasons_count       int64\n",
       "episodes           object\n",
       "episodes_count    float64\n",
       "length_range       object\n",
       "length_low         object\n",
       "length_hi          object\n",
       "dtype: object"
      ]
     },
     "execution_count": 398,
     "metadata": {},
     "output_type": "execute_result"
    }
   ],
   "source": [
    "df.dtypes"
   ]
  },
  {
   "cell_type": "code",
   "execution_count": 403,
   "metadata": {},
   "outputs": [
    {
     "name": "stderr",
     "output_type": "stream",
     "text": [
      "/anaconda3/lib/python3.7/site-packages/ipykernel_launcher.py:1: SettingWithCopyWarning: \n",
      "A value is trying to be set on a copy of a slice from a DataFrame.\n",
      "Try using .loc[row_indexer,col_indexer] = value instead\n",
      "\n",
      "See the caveats in the documentation: http://pandas.pydata.org/pandas-docs/stable/user_guide/indexing.html#returning-a-view-versus-a-copy\n",
      "  \"\"\"Entry point for launching an IPython kernel.\n"
     ]
    }
   ],
   "source": [
    "df['length_low'] = df['length_low'].fillna(9999).astype(int)"
   ]
  },
  {
   "cell_type": "code",
   "execution_count": 404,
   "metadata": {},
   "outputs": [
    {
     "name": "stderr",
     "output_type": "stream",
     "text": [
      "/anaconda3/lib/python3.7/site-packages/ipykernel_launcher.py:1: SettingWithCopyWarning: \n",
      "A value is trying to be set on a copy of a slice from a DataFrame.\n",
      "Try using .loc[row_indexer,col_indexer] = value instead\n",
      "\n",
      "See the caveats in the documentation: http://pandas.pydata.org/pandas-docs/stable/user_guide/indexing.html#returning-a-view-versus-a-copy\n",
      "  \"\"\"Entry point for launching an IPython kernel.\n"
     ]
    }
   ],
   "source": [
    "df['length_hi'] = df['length_hi'].fillna(9999).astype(int)"
   ]
  },
  {
   "cell_type": "code",
   "execution_count": 405,
   "metadata": {},
   "outputs": [
    {
     "data": {
      "text/plain": [
       "title              object\n",
       "genre              object\n",
       "premiere           object\n",
       "seasons            object\n",
       "length             object\n",
       "status             object\n",
       "table               int64\n",
       "year               object\n",
       "premiere_month    float64\n",
       "premiere_year       int64\n",
       "seasons_count       int64\n",
       "episodes           object\n",
       "episodes_count    float64\n",
       "length_range       object\n",
       "length_low          int64\n",
       "length_hi           int64\n",
       "dtype: object"
      ]
     },
     "execution_count": 405,
     "metadata": {},
     "output_type": "execute_result"
    }
   ],
   "source": [
    "df.dtypes"
   ]
  },
  {
   "cell_type": "code",
   "execution_count": 407,
   "metadata": {},
   "outputs": [
    {
     "data": {
      "text/plain": [
       "Index(['title', 'genre', 'premiere', 'seasons', 'length', 'status', 'table',\n",
       "       'year', 'premiere_month', 'premiere_year', 'seasons_count', 'episodes',\n",
       "       'episodes_count', 'length_range', 'length_low', 'length_hi'],\n",
       "      dtype='object')"
      ]
     },
     "execution_count": 407,
     "metadata": {},
     "output_type": "execute_result"
    }
   ],
   "source": [
    "df.columns"
   ]
  },
  {
   "cell_type": "code",
   "execution_count": 409,
   "metadata": {},
   "outputs": [
    {
     "data": {
      "text/plain": [
       "title             0.000000\n",
       "genre             0.000000\n",
       "status            0.396864\n",
       "table             0.000000\n",
       "premiere_month    0.353438\n",
       "premiere_year     0.000000\n",
       "seasons_count     0.000000\n",
       "episodes_count    0.411339\n",
       "length_low        0.000000\n",
       "length_hi         0.000000\n",
       "dtype: float64"
      ]
     },
     "execution_count": 409,
     "metadata": {},
     "output_type": "execute_result"
    }
   ],
   "source": [
    "df[['title', 'genre', 'status', 'table', 'premiere_month', 'premiere_year', 'seasons_count',\n",
    "       'episodes_count', 'length_low', 'length_hi']].isnull().mean()"
   ]
  },
  {
   "cell_type": "code",
   "execution_count": 414,
   "metadata": {},
   "outputs": [],
   "source": [
    "df = df[~df['episodes_count'].isnull()]"
   ]
  },
  {
   "cell_type": "code",
   "execution_count": 417,
   "metadata": {},
   "outputs": [],
   "source": [
    "df = df[~df['premiere_month'].isnull()]"
   ]
  },
  {
   "cell_type": "code",
   "execution_count": 420,
   "metadata": {},
   "outputs": [
    {
     "data": {
      "text/plain": [
       "Index(['title', 'genre', 'premiere', 'seasons', 'length', 'status', 'table',\n",
       "       'year', 'premiere_month', 'premiere_year', 'seasons_count', 'episodes',\n",
       "       'episodes_count', 'length_range', 'length_low', 'length_hi'],\n",
       "      dtype='object')"
      ]
     },
     "execution_count": 420,
     "metadata": {},
     "output_type": "execute_result"
    }
   ],
   "source": [
    "df.columns"
   ]
  },
  {
   "cell_type": "code",
   "execution_count": 427,
   "metadata": {},
   "outputs": [],
   "source": [
    "df = df[['title', 'genre', 'status', 'table', 'premiere_month', 'premiere_year', 'seasons_count',\n",
    "       'episodes_count', 'length_low', 'length_hi']]"
   ]
  },
  {
   "cell_type": "code",
   "execution_count": 442,
   "metadata": {},
   "outputs": [
    {
     "ename": "error",
     "evalue": "unbalanced parenthesis at position 25",
     "output_type": "error",
     "traceback": [
      "\u001b[0;31m---------------------------------------------------------------------------\u001b[0m",
      "\u001b[0;31merror\u001b[0m                                     Traceback (most recent call last)",
      "\u001b[0;32m<ipython-input-442-6f97e7e23474>\u001b[0m in \u001b[0;36m<module>\u001b[0;34m\u001b[0m\n\u001b[0;32m----> 1\u001b[0;31m \u001b[0mdf\u001b[0m\u001b[0;34m[\u001b[0m\u001b[0;34m'status'\u001b[0m\u001b[0;34m]\u001b[0m \u001b[0;34m=\u001b[0m \u001b[0mdf\u001b[0m\u001b[0;34m[\u001b[0m\u001b[0;34m'status'\u001b[0m\u001b[0;34m]\u001b[0m\u001b[0;34m.\u001b[0m\u001b[0mmap\u001b[0m\u001b[0;34m(\u001b[0m\u001b[0;32mlambda\u001b[0m \u001b[0mx\u001b[0m\u001b[0;34m:\u001b[0m \u001b[0mre\u001b[0m\u001b[0;34m.\u001b[0m\u001b[0msub\u001b[0m\u001b[0;34m(\u001b[0m\u001b[0;34m\"[(\\[\\d+\\]),('[R,r]enewed')]\"\u001b[0m\u001b[0;34m,\u001b[0m\u001b[0;34m\"\"\u001b[0m\u001b[0;34m,\u001b[0m \u001b[0mx\u001b[0m\u001b[0;34m)\u001b[0m\u001b[0;34m.\u001b[0m\u001b[0mstrip\u001b[0m\u001b[0;34m(\u001b[0m\u001b[0;34m)\u001b[0m\u001b[0;34m)\u001b[0m\u001b[0;34m\u001b[0m\u001b[0;34m\u001b[0m\u001b[0m\n\u001b[0m",
      "\u001b[0;32m/anaconda3/lib/python3.7/site-packages/pandas/core/series.py\u001b[0m in \u001b[0;36mmap\u001b[0;34m(self, arg, na_action)\u001b[0m\n\u001b[1;32m   3823\u001b[0m         \u001b[0mdtype\u001b[0m\u001b[0;34m:\u001b[0m \u001b[0mobject\u001b[0m\u001b[0;34m\u001b[0m\u001b[0;34m\u001b[0m\u001b[0m\n\u001b[1;32m   3824\u001b[0m         \"\"\"\n\u001b[0;32m-> 3825\u001b[0;31m         \u001b[0mnew_values\u001b[0m \u001b[0;34m=\u001b[0m \u001b[0msuper\u001b[0m\u001b[0;34m(\u001b[0m\u001b[0;34m)\u001b[0m\u001b[0;34m.\u001b[0m\u001b[0m_map_values\u001b[0m\u001b[0;34m(\u001b[0m\u001b[0marg\u001b[0m\u001b[0;34m,\u001b[0m \u001b[0mna_action\u001b[0m\u001b[0;34m=\u001b[0m\u001b[0mna_action\u001b[0m\u001b[0;34m)\u001b[0m\u001b[0;34m\u001b[0m\u001b[0;34m\u001b[0m\u001b[0m\n\u001b[0m\u001b[1;32m   3826\u001b[0m         \u001b[0;32mreturn\u001b[0m \u001b[0mself\u001b[0m\u001b[0;34m.\u001b[0m\u001b[0m_constructor\u001b[0m\u001b[0;34m(\u001b[0m\u001b[0mnew_values\u001b[0m\u001b[0;34m,\u001b[0m \u001b[0mindex\u001b[0m\u001b[0;34m=\u001b[0m\u001b[0mself\u001b[0m\u001b[0;34m.\u001b[0m\u001b[0mindex\u001b[0m\u001b[0;34m)\u001b[0m\u001b[0;34m.\u001b[0m\u001b[0m__finalize__\u001b[0m\u001b[0;34m(\u001b[0m\u001b[0mself\u001b[0m\u001b[0;34m)\u001b[0m\u001b[0;34m\u001b[0m\u001b[0;34m\u001b[0m\u001b[0m\n\u001b[1;32m   3827\u001b[0m \u001b[0;34m\u001b[0m\u001b[0m\n",
      "\u001b[0;32m/anaconda3/lib/python3.7/site-packages/pandas/core/base.py\u001b[0m in \u001b[0;36m_map_values\u001b[0;34m(self, mapper, na_action)\u001b[0m\n\u001b[1;32m   1298\u001b[0m \u001b[0;34m\u001b[0m\u001b[0m\n\u001b[1;32m   1299\u001b[0m         \u001b[0;31m# mapper is a function\u001b[0m\u001b[0;34m\u001b[0m\u001b[0;34m\u001b[0m\u001b[0;34m\u001b[0m\u001b[0m\n\u001b[0;32m-> 1300\u001b[0;31m         \u001b[0mnew_values\u001b[0m \u001b[0;34m=\u001b[0m \u001b[0mmap_f\u001b[0m\u001b[0;34m(\u001b[0m\u001b[0mvalues\u001b[0m\u001b[0;34m,\u001b[0m \u001b[0mmapper\u001b[0m\u001b[0;34m)\u001b[0m\u001b[0;34m\u001b[0m\u001b[0;34m\u001b[0m\u001b[0m\n\u001b[0m\u001b[1;32m   1301\u001b[0m \u001b[0;34m\u001b[0m\u001b[0m\n\u001b[1;32m   1302\u001b[0m         \u001b[0;32mreturn\u001b[0m \u001b[0mnew_values\u001b[0m\u001b[0;34m\u001b[0m\u001b[0;34m\u001b[0m\u001b[0m\n",
      "\u001b[0;32mpandas/_libs/lib.pyx\u001b[0m in \u001b[0;36mpandas._libs.lib.map_infer\u001b[0;34m()\u001b[0m\n",
      "\u001b[0;32m<ipython-input-442-6f97e7e23474>\u001b[0m in \u001b[0;36m<lambda>\u001b[0;34m(x)\u001b[0m\n\u001b[0;32m----> 1\u001b[0;31m \u001b[0mdf\u001b[0m\u001b[0;34m[\u001b[0m\u001b[0;34m'status'\u001b[0m\u001b[0;34m]\u001b[0m \u001b[0;34m=\u001b[0m \u001b[0mdf\u001b[0m\u001b[0;34m[\u001b[0m\u001b[0;34m'status'\u001b[0m\u001b[0;34m]\u001b[0m\u001b[0;34m.\u001b[0m\u001b[0mmap\u001b[0m\u001b[0;34m(\u001b[0m\u001b[0;32mlambda\u001b[0m \u001b[0mx\u001b[0m\u001b[0;34m:\u001b[0m \u001b[0mre\u001b[0m\u001b[0;34m.\u001b[0m\u001b[0msub\u001b[0m\u001b[0;34m(\u001b[0m\u001b[0;34m\"[(\\[\\d+\\]),('[R,r]enewed')]\"\u001b[0m\u001b[0;34m,\u001b[0m\u001b[0;34m\"\"\u001b[0m\u001b[0;34m,\u001b[0m \u001b[0mx\u001b[0m\u001b[0;34m)\u001b[0m\u001b[0;34m.\u001b[0m\u001b[0mstrip\u001b[0m\u001b[0;34m(\u001b[0m\u001b[0;34m)\u001b[0m\u001b[0;34m)\u001b[0m\u001b[0;34m\u001b[0m\u001b[0;34m\u001b[0m\u001b[0m\n\u001b[0m",
      "\u001b[0;32m/anaconda3/lib/python3.7/site-packages/regex/regex.py\u001b[0m in \u001b[0;36msub\u001b[0;34m(pattern, repl, string, count, flags, pos, endpos, concurrent, timeout, **kwargs)\u001b[0m\n\u001b[1;32m    273\u001b[0m     \u001b[0mbackslash\u001b[0m \u001b[0mescapes\u001b[0m \u001b[0;32min\u001b[0m \u001b[0mit\u001b[0m \u001b[0mare\u001b[0m \u001b[0mprocessed\u001b[0m\u001b[0;34m;\u001b[0m \u001b[0;32mif\u001b[0m \u001b[0ma\u001b[0m \u001b[0mcallable\u001b[0m\u001b[0;34m,\u001b[0m \u001b[0mit\u001b[0m\u001b[0;31m'\u001b[0m\u001b[0ms\u001b[0m \u001b[0mpassed\u001b[0m \u001b[0mthe\u001b[0m \u001b[0mmatch\u001b[0m\u001b[0;34m\u001b[0m\u001b[0;34m\u001b[0m\u001b[0m\n\u001b[1;32m    274\u001b[0m     object and must return a replacement string to be used.\"\"\"\n\u001b[0;32m--> 275\u001b[0;31m     return _compile(pattern, flags, kwargs).sub(repl, string, count, pos,\n\u001b[0m\u001b[1;32m    276\u001b[0m       endpos, concurrent, timeout)\n\u001b[1;32m    277\u001b[0m \u001b[0;34m\u001b[0m\u001b[0m\n",
      "\u001b[0;32m/anaconda3/lib/python3.7/site-packages/regex/regex.py\u001b[0m in \u001b[0;36m_compile\u001b[0;34m(pattern, flags, kwargs)\u001b[0m\n\u001b[1;32m    516\u001b[0m \u001b[0;34m\u001b[0m\u001b[0m\n\u001b[1;32m    517\u001b[0m     \u001b[0;32mif\u001b[0m \u001b[0;32mnot\u001b[0m \u001b[0msource\u001b[0m\u001b[0;34m.\u001b[0m\u001b[0mat_end\u001b[0m\u001b[0;34m(\u001b[0m\u001b[0;34m)\u001b[0m\u001b[0;34m:\u001b[0m\u001b[0;34m\u001b[0m\u001b[0;34m\u001b[0m\u001b[0m\n\u001b[0;32m--> 518\u001b[0;31m         \u001b[0;32mraise\u001b[0m \u001b[0merror\u001b[0m\u001b[0;34m(\u001b[0m\u001b[0;34m\"unbalanced parenthesis\"\u001b[0m\u001b[0;34m,\u001b[0m \u001b[0mpattern\u001b[0m\u001b[0;34m,\u001b[0m \u001b[0msource\u001b[0m\u001b[0;34m.\u001b[0m\u001b[0mpos\u001b[0m\u001b[0;34m)\u001b[0m\u001b[0;34m\u001b[0m\u001b[0;34m\u001b[0m\u001b[0m\n\u001b[0m\u001b[1;32m    519\u001b[0m \u001b[0;34m\u001b[0m\u001b[0m\n\u001b[1;32m    520\u001b[0m     \u001b[0;31m# Check the global flags for conflicts.\u001b[0m\u001b[0;34m\u001b[0m\u001b[0;34m\u001b[0m\u001b[0;34m\u001b[0m\u001b[0m\n",
      "\u001b[0;31merror\u001b[0m: unbalanced parenthesis at position 25"
     ]
    }
   ],
   "source": [
    "df['status'] = df['status'].map(lambda x: re.sub(\"\\[\\d+\\]\",\"\", x).strip())"
   ]
  },
  {
   "cell_type": "code",
   "execution_count": 445,
   "metadata": {},
   "outputs": [
    {
     "name": "stderr",
     "output_type": "stream",
     "text": [
      "/anaconda3/lib/python3.7/site-packages/ipykernel_launcher.py:1: SettingWithCopyWarning: \n",
      "A value is trying to be set on a copy of a slice from a DataFrame.\n",
      "Try using .loc[row_indexer,col_indexer] = value instead\n",
      "\n",
      "See the caveats in the documentation: http://pandas.pydata.org/pandas-docs/stable/user_guide/indexing.html#returning-a-view-versus-a-copy\n",
      "  \"\"\"Entry point for launching an IPython kernel.\n"
     ]
    },
    {
     "data": {
      "text/plain": [
       "array(['Ended', 'Renewed', 'Miniseries', 'Renewed for final season',\n",
       "       'Pending', 'Renewed for parts 3 and 4',\n",
       "       'Renewed for seasons 6 and 7', 'Renewed for final part',\n",
       "       'Ended[a]', 'Renewed for seasons 4, 5 and 6',\n",
       "       'Renewed for seasons 3 and 4', 'Season 2 ongoing',\n",
       "       'Season 1 ongoing', 'Ended[c]', 'Part 2 ongoing', 'Ended[e]'],\n",
       "      dtype=object)"
      ]
     },
     "execution_count": 445,
     "metadata": {},
     "output_type": "execute_result"
    }
   ],
   "source": [
    "df['status'] = df['status'].map(lambda x: 'Renewed' if ' due' in x else x)\n",
    "df['status'].unique()"
   ]
  },
  {
   "cell_type": "code",
   "execution_count": 446,
   "metadata": {
    "scrolled": true
   },
   "outputs": [
    {
     "name": "stderr",
     "output_type": "stream",
     "text": [
      "/anaconda3/lib/python3.7/site-packages/ipykernel_launcher.py:1: SettingWithCopyWarning: \n",
      "A value is trying to be set on a copy of a slice from a DataFrame.\n",
      "Try using .loc[row_indexer,col_indexer] = value instead\n",
      "\n",
      "See the caveats in the documentation: http://pandas.pydata.org/pandas-docs/stable/user_guide/indexing.html#returning-a-view-versus-a-copy\n",
      "  \"\"\"Entry point for launching an IPython kernel.\n"
     ]
    },
    {
     "data": {
      "text/plain": [
       "array(['Ended', 'Renewed', 'Miniseries', 'Pending', 'Ended[a]',\n",
       "       'Season 2 ongoing', 'Season 1 ongoing', 'Ended[c]',\n",
       "       'Part 2 ongoing', 'Ended[e]'], dtype=object)"
      ]
     },
     "execution_count": 446,
     "metadata": {},
     "output_type": "execute_result"
    }
   ],
   "source": [
    "df['status'] = df['status'].map(lambda x: 'Renewed' if 'Renewed' in x else x)\n",
    "df['status'].unique()"
   ]
  },
  {
   "cell_type": "code",
   "execution_count": 447,
   "metadata": {
    "scrolled": true
   },
   "outputs": [
    {
     "name": "stderr",
     "output_type": "stream",
     "text": [
      "/anaconda3/lib/python3.7/site-packages/ipykernel_launcher.py:1: SettingWithCopyWarning: \n",
      "A value is trying to be set on a copy of a slice from a DataFrame.\n",
      "Try using .loc[row_indexer,col_indexer] = value instead\n",
      "\n",
      "See the caveats in the documentation: http://pandas.pydata.org/pandas-docs/stable/user_guide/indexing.html#returning-a-view-versus-a-copy\n",
      "  \"\"\"Entry point for launching an IPython kernel.\n"
     ]
    },
    {
     "data": {
      "text/plain": [
       "array(['Ended', 'Renewed', 'Miniseries', 'Pending', 'Season 2 ongoing',\n",
       "       'Season 1 ongoing', 'Part 2 ongoing'], dtype=object)"
      ]
     },
     "execution_count": 447,
     "metadata": {},
     "output_type": "execute_result"
    }
   ],
   "source": [
    "df['status'] = df['status'].map(lambda x: 'Ended' if 'Ended' in x else x)\n",
    "df['status'].unique()"
   ]
  },
  {
   "cell_type": "code",
   "execution_count": 448,
   "metadata": {
    "scrolled": true
   },
   "outputs": [
    {
     "name": "stderr",
     "output_type": "stream",
     "text": [
      "/anaconda3/lib/python3.7/site-packages/ipykernel_launcher.py:1: SettingWithCopyWarning: \n",
      "A value is trying to be set on a copy of a slice from a DataFrame.\n",
      "Try using .loc[row_indexer,col_indexer] = value instead\n",
      "\n",
      "See the caveats in the documentation: http://pandas.pydata.org/pandas-docs/stable/user_guide/indexing.html#returning-a-view-versus-a-copy\n",
      "  \"\"\"Entry point for launching an IPython kernel.\n"
     ]
    },
    {
     "data": {
      "text/plain": [
       "array(['Ended', 'Renewed', 'Miniseries', 'Pending'], dtype=object)"
      ]
     },
     "execution_count": 448,
     "metadata": {},
     "output_type": "execute_result"
    }
   ],
   "source": [
    "df['status'] = df['status'].map(lambda x: 'Renewed' if 'ongoing' in x else x)\n",
    "df['status'].unique()"
   ]
  },
  {
   "cell_type": "code",
   "execution_count": 448,
   "metadata": {
    "scrolled": true
   },
   "outputs": [
    {
     "name": "stderr",
     "output_type": "stream",
     "text": [
      "/anaconda3/lib/python3.7/site-packages/ipykernel_launcher.py:1: SettingWithCopyWarning: \n",
      "A value is trying to be set on a copy of a slice from a DataFrame.\n",
      "Try using .loc[row_indexer,col_indexer] = value instead\n",
      "\n",
      "See the caveats in the documentation: http://pandas.pydata.org/pandas-docs/stable/user_guide/indexing.html#returning-a-view-versus-a-copy\n",
      "  \"\"\"Entry point for launching an IPython kernel.\n"
     ]
    },
    {
     "data": {
      "text/plain": [
       "array(['Ended', 'Renewed', 'Miniseries', 'Pending'], dtype=object)"
      ]
     },
     "execution_count": 448,
     "metadata": {},
     "output_type": "execute_result"
    }
   ],
   "source": [
    "df['status'] = df['status'].map(lambda x: 'Renewed' if 'ongoing' in x else x)\n",
    "df['status'].unique()"
   ]
  },
  {
   "cell_type": "code",
   "execution_count": 451,
   "metadata": {
    "scrolled": true
   },
   "outputs": [
    {
     "data": {
      "text/html": [
       "<div>\n",
       "<style scoped>\n",
       "    .dataframe tbody tr th:only-of-type {\n",
       "        vertical-align: middle;\n",
       "    }\n",
       "\n",
       "    .dataframe tbody tr th {\n",
       "        vertical-align: top;\n",
       "    }\n",
       "\n",
       "    .dataframe thead th {\n",
       "        text-align: right;\n",
       "    }\n",
       "</style>\n",
       "<table border=\"1\" class=\"dataframe\">\n",
       "  <thead>\n",
       "    <tr style=\"text-align: right;\">\n",
       "      <th></th>\n",
       "      <th>title</th>\n",
       "      <th>genre</th>\n",
       "      <th>status</th>\n",
       "      <th>table</th>\n",
       "      <th>year</th>\n",
       "      <th>premiere_month</th>\n",
       "      <th>premiere_year</th>\n",
       "      <th>seasons_count</th>\n",
       "      <th>episodes_count</th>\n",
       "      <th>length_low</th>\n",
       "      <th>length_hi</th>\n",
       "    </tr>\n",
       "  </thead>\n",
       "  <tbody>\n",
       "    <tr>\n",
       "      <td>16</td>\n",
       "      <td>Mindhunter</td>\n",
       "      <td>crime drama</td>\n",
       "      <td>Pending</td>\n",
       "      <td>0</td>\n",
       "      <td>2017</td>\n",
       "      <td>10.0</td>\n",
       "      <td>2017</td>\n",
       "      <td>2</td>\n",
       "      <td>19.0</td>\n",
       "      <td>34</td>\n",
       "      <td>73</td>\n",
       "    </tr>\n",
       "    <tr>\n",
       "      <td>25</td>\n",
       "      <td>Tidelands</td>\n",
       "      <td>supernatural crime drama</td>\n",
       "      <td>Pending</td>\n",
       "      <td>0</td>\n",
       "      <td>2018</td>\n",
       "      <td>12.0</td>\n",
       "      <td>2018</td>\n",
       "      <td>1</td>\n",
       "      <td>8.0</td>\n",
       "      <td>36</td>\n",
       "      <td>48</td>\n",
       "    </tr>\n",
       "    <tr>\n",
       "      <td>28</td>\n",
       "      <td>Shadow</td>\n",
       "      <td>thriller</td>\n",
       "      <td>Pending</td>\n",
       "      <td>0</td>\n",
       "      <td>2019</td>\n",
       "      <td>3.0</td>\n",
       "      <td>2019</td>\n",
       "      <td>1</td>\n",
       "      <td>8.0</td>\n",
       "      <td>40</td>\n",
       "      <td>49</td>\n",
       "    </tr>\n",
       "    <tr>\n",
       "      <td>29</td>\n",
       "      <td>Black Summer</td>\n",
       "      <td>zombie drama</td>\n",
       "      <td>Pending</td>\n",
       "      <td>0</td>\n",
       "      <td>2019</td>\n",
       "      <td>4.0</td>\n",
       "      <td>2019</td>\n",
       "      <td>1</td>\n",
       "      <td>8.0</td>\n",
       "      <td>21</td>\n",
       "      <td>45</td>\n",
       "    </tr>\n",
       "    <tr>\n",
       "      <td>32</td>\n",
       "      <td>What/If</td>\n",
       "      <td>social thriller anthology</td>\n",
       "      <td>Pending</td>\n",
       "      <td>0</td>\n",
       "      <td>2019</td>\n",
       "      <td>5.0</td>\n",
       "      <td>2019</td>\n",
       "      <td>1</td>\n",
       "      <td>10.0</td>\n",
       "      <td>44</td>\n",
       "      <td>58</td>\n",
       "    </tr>\n",
       "    <tr>\n",
       "      <td>...</td>\n",
       "      <td>...</td>\n",
       "      <td>...</td>\n",
       "      <td>...</td>\n",
       "      <td>...</td>\n",
       "      <td>...</td>\n",
       "      <td>...</td>\n",
       "      <td>...</td>\n",
       "      <td>...</td>\n",
       "      <td>...</td>\n",
       "      <td>...</td>\n",
       "      <td>...</td>\n",
       "    </tr>\n",
       "    <tr>\n",
       "      <td>495</td>\n",
       "      <td>Comedians in Cars Getting Coffee (seasons 10–11)</td>\n",
       "      <td>comedy</td>\n",
       "      <td>Pending</td>\n",
       "      <td>14</td>\n",
       "      <td>2018</td>\n",
       "      <td>7.0</td>\n",
       "      <td>2018</td>\n",
       "      <td>2</td>\n",
       "      <td>24.0</td>\n",
       "      <td>12</td>\n",
       "      <td>41</td>\n",
       "    </tr>\n",
       "    <tr>\n",
       "      <td>496</td>\n",
       "      <td>Inside the World’s Toughest Prisons (seasons 2–3)</td>\n",
       "      <td>docu series</td>\n",
       "      <td>Pending</td>\n",
       "      <td>14</td>\n",
       "      <td>2018</td>\n",
       "      <td>7.0</td>\n",
       "      <td>2018</td>\n",
       "      <td>2</td>\n",
       "      <td>8.0</td>\n",
       "      <td>47</td>\n",
       "      <td>54</td>\n",
       "    </tr>\n",
       "    <tr>\n",
       "      <td>497</td>\n",
       "      <td>MeatEater (seasons 7–8)</td>\n",
       "      <td>docu series</td>\n",
       "      <td>Pending</td>\n",
       "      <td>14</td>\n",
       "      <td>2018</td>\n",
       "      <td>10.0</td>\n",
       "      <td>2018</td>\n",
       "      <td>2</td>\n",
       "      <td>24.0</td>\n",
       "      <td>22</td>\n",
       "      <td>30</td>\n",
       "    </tr>\n",
       "    <tr>\n",
       "      <td>499</td>\n",
       "      <td>Hip-Hop Evolution (seasons 2–3)</td>\n",
       "      <td>docu series</td>\n",
       "      <td>Pending</td>\n",
       "      <td>14</td>\n",
       "      <td>2018</td>\n",
       "      <td>10.0</td>\n",
       "      <td>2018</td>\n",
       "      <td>2</td>\n",
       "      <td>8.0</td>\n",
       "      <td>38</td>\n",
       "      <td>52</td>\n",
       "    </tr>\n",
       "    <tr>\n",
       "      <td>502</td>\n",
       "      <td>Slasher (season 3)</td>\n",
       "      <td>horror</td>\n",
       "      <td>Pending</td>\n",
       "      <td>14</td>\n",
       "      <td>2019</td>\n",
       "      <td>5.0</td>\n",
       "      <td>2019</td>\n",
       "      <td>1</td>\n",
       "      <td>8.0</td>\n",
       "      <td>45</td>\n",
       "      <td>48</td>\n",
       "    </tr>\n",
       "  </tbody>\n",
       "</table>\n",
       "<p>154 rows × 11 columns</p>\n",
       "</div>"
      ],
      "text/plain": [
       "                                                 title  \\\n",
       "16                                          Mindhunter   \n",
       "25                                           Tidelands   \n",
       "28                                              Shadow   \n",
       "29                                        Black Summer   \n",
       "32                                             What/If   \n",
       "..                                                 ...   \n",
       "495   Comedians in Cars Getting Coffee (seasons 10–11)   \n",
       "496  Inside the World’s Toughest Prisons (seasons 2–3)   \n",
       "497                            MeatEater (seasons 7–8)   \n",
       "499                    Hip-Hop Evolution (seasons 2–3)   \n",
       "502                                 Slasher (season 3)   \n",
       "\n",
       "                         genre   status  table  year  premiere_month  \\\n",
       "16                 crime drama  Pending      0  2017            10.0   \n",
       "25    supernatural crime drama  Pending      0  2018            12.0   \n",
       "28                    thriller  Pending      0  2019             3.0   \n",
       "29                zombie drama  Pending      0  2019             4.0   \n",
       "32   social thriller anthology  Pending      0  2019             5.0   \n",
       "..                         ...      ...    ...   ...             ...   \n",
       "495                     comedy  Pending     14  2018             7.0   \n",
       "496                docu series  Pending     14  2018             7.0   \n",
       "497                docu series  Pending     14  2018            10.0   \n",
       "499                docu series  Pending     14  2018            10.0   \n",
       "502                     horror  Pending     14  2019             5.0   \n",
       "\n",
       "     premiere_year  seasons_count  episodes_count  length_low  length_hi  \n",
       "16            2017              2            19.0          34         73  \n",
       "25            2018              1             8.0          36         48  \n",
       "28            2019              1             8.0          40         49  \n",
       "29            2019              1             8.0          21         45  \n",
       "32            2019              1            10.0          44         58  \n",
       "..             ...            ...             ...         ...        ...  \n",
       "495           2018              2            24.0          12         41  \n",
       "496           2018              2             8.0          47         54  \n",
       "497           2018              2            24.0          22         30  \n",
       "499           2018              2             8.0          38         52  \n",
       "502           2019              1             8.0          45         48  \n",
       "\n",
       "[154 rows x 11 columns]"
      ]
     },
     "execution_count": 451,
     "metadata": {},
     "output_type": "execute_result"
    }
   ],
   "source": [
    "df[df['status'] == 'Pending']"
   ]
  },
  {
   "cell_type": "code",
   "execution_count": 457,
   "metadata": {},
   "outputs": [],
   "source": [
    "df = df[df['status'] != 'Miniseries']"
   ]
  },
  {
   "cell_type": "code",
   "execution_count": 458,
   "metadata": {},
   "outputs": [
    {
     "data": {
      "text/html": [
       "<div>\n",
       "<style scoped>\n",
       "    .dataframe tbody tr th:only-of-type {\n",
       "        vertical-align: middle;\n",
       "    }\n",
       "\n",
       "    .dataframe tbody tr th {\n",
       "        vertical-align: top;\n",
       "    }\n",
       "\n",
       "    .dataframe thead th {\n",
       "        text-align: right;\n",
       "    }\n",
       "</style>\n",
       "<table border=\"1\" class=\"dataframe\">\n",
       "  <thead>\n",
       "    <tr style=\"text-align: right;\">\n",
       "      <th></th>\n",
       "      <th>title</th>\n",
       "      <th>genre</th>\n",
       "      <th>status</th>\n",
       "      <th>table</th>\n",
       "      <th>year</th>\n",
       "      <th>premiere_month</th>\n",
       "      <th>premiere_year</th>\n",
       "      <th>seasons_count</th>\n",
       "      <th>episodes_count</th>\n",
       "      <th>length_low</th>\n",
       "      <th>length_hi</th>\n",
       "    </tr>\n",
       "  </thead>\n",
       "  <tbody>\n",
       "    <tr>\n",
       "      <td>0</td>\n",
       "      <td>House of Cards</td>\n",
       "      <td>political drama</td>\n",
       "      <td>Ended</td>\n",
       "      <td>0</td>\n",
       "      <td>2013</td>\n",
       "      <td>2.0</td>\n",
       "      <td>2013</td>\n",
       "      <td>6</td>\n",
       "      <td>73.0</td>\n",
       "      <td>42</td>\n",
       "      <td>59</td>\n",
       "    </tr>\n",
       "    <tr>\n",
       "      <td>1</td>\n",
       "      <td>Hemlock Grove</td>\n",
       "      <td>horror thriller</td>\n",
       "      <td>Ended</td>\n",
       "      <td>0</td>\n",
       "      <td>2013</td>\n",
       "      <td>4.0</td>\n",
       "      <td>2013</td>\n",
       "      <td>3</td>\n",
       "      <td>33.0</td>\n",
       "      <td>45</td>\n",
       "      <td>58</td>\n",
       "    </tr>\n",
       "    <tr>\n",
       "      <td>2</td>\n",
       "      <td>Orange Is the New Black</td>\n",
       "      <td>comedy drama</td>\n",
       "      <td>Ended</td>\n",
       "      <td>0</td>\n",
       "      <td>2013</td>\n",
       "      <td>7.0</td>\n",
       "      <td>2013</td>\n",
       "      <td>7</td>\n",
       "      <td>91.0</td>\n",
       "      <td>50</td>\n",
       "      <td>92</td>\n",
       "    </tr>\n",
       "    <tr>\n",
       "      <td>3</td>\n",
       "      <td>Marco Polo</td>\n",
       "      <td>historical drama</td>\n",
       "      <td>Ended</td>\n",
       "      <td>0</td>\n",
       "      <td>2014</td>\n",
       "      <td>12.0</td>\n",
       "      <td>2014</td>\n",
       "      <td>2</td>\n",
       "      <td>20.0</td>\n",
       "      <td>48</td>\n",
       "      <td>65</td>\n",
       "    </tr>\n",
       "    <tr>\n",
       "      <td>4</td>\n",
       "      <td>Bloodline</td>\n",
       "      <td>thriller</td>\n",
       "      <td>Ended</td>\n",
       "      <td>0</td>\n",
       "      <td>2015</td>\n",
       "      <td>3.0</td>\n",
       "      <td>2015</td>\n",
       "      <td>3</td>\n",
       "      <td>33.0</td>\n",
       "      <td>48</td>\n",
       "      <td>68</td>\n",
       "    </tr>\n",
       "    <tr>\n",
       "      <td>...</td>\n",
       "      <td>...</td>\n",
       "      <td>...</td>\n",
       "      <td>...</td>\n",
       "      <td>...</td>\n",
       "      <td>...</td>\n",
       "      <td>...</td>\n",
       "      <td>...</td>\n",
       "      <td>...</td>\n",
       "      <td>...</td>\n",
       "      <td>...</td>\n",
       "      <td>...</td>\n",
       "    </tr>\n",
       "    <tr>\n",
       "      <td>501</td>\n",
       "      <td>Lucifer (season 4)</td>\n",
       "      <td>fantasy police procedural</td>\n",
       "      <td>Renewed</td>\n",
       "      <td>14</td>\n",
       "      <td>2019</td>\n",
       "      <td>5.0</td>\n",
       "      <td>2019</td>\n",
       "      <td>1</td>\n",
       "      <td>10.0</td>\n",
       "      <td>48</td>\n",
       "      <td>55</td>\n",
       "    </tr>\n",
       "    <tr>\n",
       "      <td>502</td>\n",
       "      <td>Slasher (season 3)</td>\n",
       "      <td>horror</td>\n",
       "      <td>Pending</td>\n",
       "      <td>14</td>\n",
       "      <td>2019</td>\n",
       "      <td>5.0</td>\n",
       "      <td>2019</td>\n",
       "      <td>1</td>\n",
       "      <td>8.0</td>\n",
       "      <td>45</td>\n",
       "      <td>48</td>\n",
       "    </tr>\n",
       "    <tr>\n",
       "      <td>503</td>\n",
       "      <td>Designated Survivor (season 3)</td>\n",
       "      <td>political thriller</td>\n",
       "      <td>Ended</td>\n",
       "      <td>14</td>\n",
       "      <td>2019</td>\n",
       "      <td>6.0</td>\n",
       "      <td>2019</td>\n",
       "      <td>1</td>\n",
       "      <td>10.0</td>\n",
       "      <td>47</td>\n",
       "      <td>53</td>\n",
       "    </tr>\n",
       "    <tr>\n",
       "      <td>505</td>\n",
       "      <td>Money Heist (part 3)</td>\n",
       "      <td>thriller</td>\n",
       "      <td>Renewed</td>\n",
       "      <td>14</td>\n",
       "      <td>2019</td>\n",
       "      <td>7.0</td>\n",
       "      <td>2019</td>\n",
       "      <td>1</td>\n",
       "      <td>8.0</td>\n",
       "      <td>41</td>\n",
       "      <td>57</td>\n",
       "    </tr>\n",
       "    <tr>\n",
       "      <td>506</td>\n",
       "      <td>Top Boy (series 3)</td>\n",
       "      <td>crime drama</td>\n",
       "      <td>Renewed</td>\n",
       "      <td>14</td>\n",
       "      <td>2019</td>\n",
       "      <td>9.0</td>\n",
       "      <td>2019</td>\n",
       "      <td>1</td>\n",
       "      <td>10.0</td>\n",
       "      <td>44</td>\n",
       "      <td>66</td>\n",
       "    </tr>\n",
       "  </tbody>\n",
       "</table>\n",
       "<p>439 rows × 11 columns</p>\n",
       "</div>"
      ],
      "text/plain": [
       "                              title                      genre   status  \\\n",
       "0                    House of Cards            political drama    Ended   \n",
       "1                     Hemlock Grove            horror thriller    Ended   \n",
       "2           Orange Is the New Black               comedy drama    Ended   \n",
       "3                        Marco Polo           historical drama    Ended   \n",
       "4                         Bloodline                   thriller    Ended   \n",
       "..                              ...                        ...      ...   \n",
       "501              Lucifer (season 4)  fantasy police procedural  Renewed   \n",
       "502              Slasher (season 3)                     horror  Pending   \n",
       "503  Designated Survivor (season 3)         political thriller    Ended   \n",
       "505            Money Heist (part 3)                   thriller  Renewed   \n",
       "506              Top Boy (series 3)                crime drama  Renewed   \n",
       "\n",
       "     table  year  premiere_month  premiere_year  seasons_count  \\\n",
       "0        0  2013             2.0           2013              6   \n",
       "1        0  2013             4.0           2013              3   \n",
       "2        0  2013             7.0           2013              7   \n",
       "3        0  2014            12.0           2014              2   \n",
       "4        0  2015             3.0           2015              3   \n",
       "..     ...   ...             ...            ...            ...   \n",
       "501     14  2019             5.0           2019              1   \n",
       "502     14  2019             5.0           2019              1   \n",
       "503     14  2019             6.0           2019              1   \n",
       "505     14  2019             7.0           2019              1   \n",
       "506     14  2019             9.0           2019              1   \n",
       "\n",
       "     episodes_count  length_low  length_hi  \n",
       "0              73.0          42         59  \n",
       "1              33.0          45         58  \n",
       "2              91.0          50         92  \n",
       "3              20.0          48         65  \n",
       "4              33.0          48         68  \n",
       "..              ...         ...        ...  \n",
       "501            10.0          48         55  \n",
       "502             8.0          45         48  \n",
       "503            10.0          47         53  \n",
       "505             8.0          41         57  \n",
       "506            10.0          44         66  \n",
       "\n",
       "[439 rows x 11 columns]"
      ]
     },
     "execution_count": 458,
     "metadata": {},
     "output_type": "execute_result"
    }
   ],
   "source": [
    "df"
   ]
  },
  {
   "cell_type": "code",
   "execution_count": 462,
   "metadata": {},
   "outputs": [],
   "source": [
    "df = df[df['status'] != 'Pending']"
   ]
  },
  {
   "cell_type": "code",
   "execution_count": 464,
   "metadata": {},
   "outputs": [],
   "source": [
    "df.to_csv('./data/model.csv', index=False)"
   ]
  },
  {
   "cell_type": "markdown",
   "metadata": {},
   "source": [
    "# Summary\n",
    "In this notebook we parse our data down, and removed all null values. We standardized it so that modelling can commence."
   ]
  },
  {
   "cell_type": "code",
   "execution_count": null,
   "metadata": {},
   "outputs": [],
   "source": []
  }
 ],
 "metadata": {
  "kernelspec": {
   "display_name": "Python 3",
   "language": "python",
   "name": "python3"
  },
  "language_info": {
   "codemirror_mode": {
    "name": "ipython",
    "version": 3
   },
   "file_extension": ".py",
   "mimetype": "text/x-python",
   "name": "python",
   "nbconvert_exporter": "python",
   "pygments_lexer": "ipython3",
   "version": "3.7.1"
  },
  "toc": {
   "base_numbering": 1,
   "nav_menu": {},
   "number_sections": false,
   "sideBar": true,
   "skip_h1_title": false,
   "title_cell": "Table of Contents",
   "title_sidebar": "Contents",
   "toc_cell": false,
   "toc_position": {},
   "toc_section_display": true,
   "toc_window_display": true
  }
 },
 "nbformat": 4,
 "nbformat_minor": 2
}
