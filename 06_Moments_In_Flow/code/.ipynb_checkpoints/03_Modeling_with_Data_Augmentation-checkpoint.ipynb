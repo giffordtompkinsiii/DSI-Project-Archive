{
 "cells": [
  {
   "cell_type": "markdown",
   "metadata": {},
   "source": [
    "# Convolutional Neural Net and ResNet50V2 Modeling\n",
    "In this notebook we create our first predictive model and evaluate our performance."
   ]
  },
  {
   "cell_type": "code",
   "execution_count": 17,
   "metadata": {},
   "outputs": [],
   "source": [
    "import os\n",
    "import matplotlib.pyplot as plt\n",
    "\n",
    "from tensorflow.keras.applications.resnet_v2 import ResNet50V2\n",
    "\n",
    "from tensorflow.keras.models import Sequential\n",
    "from tensorflow.keras.layers import Flatten, Dropout, Dense, Conv2D, MaxPooling2D\n",
    "\n",
    "from tensorflow.keras.preprocessing.image import ImageDataGenerator\n",
    "from sklearn.metrics import confusion_matrix\n",
    "\n",
    "from PIL import ImageFile\n",
    "ImageFile.LOAD_TRUNCATED_IMAGES = True"
   ]
  },
  {
   "cell_type": "markdown",
   "metadata": {},
   "source": [
    "# Using Data Augmentation "
   ]
  },
  {
   "cell_type": "code",
   "execution_count": 18,
   "metadata": {},
   "outputs": [],
   "source": [
    "# All images will be rescaled by 1./255\n",
    "train_val_datagen = ImageDataGenerator(rescale=1./255,\n",
    "                                       rotation_range=40,\n",
    "                                       width_shift_range=0.2,\n",
    "                                       height_shift_range=0.2,\n",
    "                                       shear_range=0.2,\n",
    "                                       zoom_range=0.2,\n",
    "                                       horizontal_flip=True,\n",
    "                                       fill_mode='nearest',\n",
    "                                       validation_split=0.20)"
   ]
  },
  {
   "cell_type": "code",
   "execution_count": 19,
   "metadata": {},
   "outputs": [
    {
     "name": "stdout",
     "output_type": "stream",
     "text": [
      "Found 1028 images belonging to 10 classes.\n",
      "Found 252 images belonging to 10 classes.\n"
     ]
    }
   ],
   "source": [
    "train_generator = train_val_datagen.flow_from_directory('../images/incoming_images/',\n",
    "                                                        subset='training',\n",
    "                                                        class_mode='categorical',\n",
    "                                                        batch_size=64,\n",
    "                                                        target_size=(244, 244))\n",
    "\n",
    "val_generator = train_val_datagen.flow_from_directory('../images/incoming_images/',\n",
    "                                                       subset='validation',\n",
    "                                                       class_mode='categorical',\n",
    "                                                       batch_size=64,\n",
    "                                                       target_size=(244, 244))"
   ]
  },
  {
   "cell_type": "code",
   "execution_count": 20,
   "metadata": {},
   "outputs": [],
   "source": [
    "model = Sequential()\n",
    "\n",
    "model.add(Conv2D(filters=32, kernel_size=3, activation='relu', input_shape=(244,244,3)))\n",
    "model.add(MaxPooling2D(2))\n",
    "\n",
    "model.add(Conv2D(filters=64, kernel_size=3, activation='relu'))\n",
    "model.add(MaxPooling2D(2))\n",
    "\n",
    "model.add(Conv2D(filters=128, kernel_size=3, activation='relu'))\n",
    "model.add(MaxPooling2D(2))\n",
    "\n",
    "model.add(Conv2D(filters=128, kernel_size=3, activation='relu'))\n",
    "model.add(MaxPooling2D(2))\n",
    "\n",
    "model.add(Flatten())\n",
    "\n",
    "model.add(Dense(512, activation='relu'))\n",
    "model.add(Dense(10, activation='softmax'))"
   ]
  },
  {
   "cell_type": "code",
   "execution_count": 21,
   "metadata": {},
   "outputs": [],
   "source": [
    "model.compile(loss='categorical_crossentropy',\n",
    "              optimizer='adam',\n",
    "              metrics=['acc'])"
   ]
  },
  {
   "cell_type": "code",
   "execution_count": 22,
   "metadata": {
    "scrolled": false
   },
   "outputs": [
    {
     "name": "stdout",
     "output_type": "stream",
     "text": [
      "Epoch 1/50\n",
      " 4/36 [==>...........................] - ETA: 1:16 - loss: 2.8476 - acc: 0.0918"
     ]
    },
    {
     "name": "stderr",
     "output_type": "stream",
     "text": [
      "/anaconda3/envs/deep-learning/lib/python3.7/site-packages/PIL/Image.py:989: UserWarning: Palette images with Transparency expressed in bytes should be converted to RGBA images\n",
      "  \"Palette images with Transparency expressed in bytes should be \"\n"
     ]
    },
    {
     "name": "stdout",
     "output_type": "stream",
     "text": [
      "10/36 [=======>......................] - ETA: 1:02 - loss: 2.4957 - acc: 0.1276"
     ]
    },
    {
     "name": "stderr",
     "output_type": "stream",
     "text": [
      "/anaconda3/envs/deep-learning/lib/python3.7/site-packages/PIL/TiffImagePlugin.py:784: UserWarning: Possibly corrupt EXIF data.  Expecting to read 20 bytes but only got 19. Skipping tag 36867\n",
      "  \" Skipping tag %s\" % (size, len(data), tag)\n"
     ]
    },
    {
     "name": "stdout",
     "output_type": "stream",
     "text": [
      "35/36 [============================>.] - ETA: 2s - loss: 2.3319 - acc: 0.1335Epoch 1/50\n",
      "36/36 [==============================] - 104s 3s/step - loss: 2.3303 - acc: 0.1314 - val_loss: 2.2586 - val_acc: 0.1144\n",
      "Epoch 2/50\n",
      "35/36 [============================>.] - ETA: 2s - loss: 2.2414 - acc: 0.1722Epoch 1/50\n",
      "36/36 [==============================] - 100s 3s/step - loss: 2.2414 - acc: 0.1708 - val_loss: 2.2153 - val_acc: 0.1637\n",
      "Epoch 3/50\n",
      "35/36 [============================>.] - ETA: 2s - loss: 2.2131 - acc: 0.1850Epoch 1/50\n",
      "36/36 [==============================] - 99s 3s/step - loss: 2.2133 - acc: 0.1831 - val_loss: 2.1793 - val_acc: 0.2007\n",
      "Epoch 4/50\n",
      "35/36 [============================>.] - ETA: 2s - loss: 2.1721 - acc: 0.2127Epoch 1/50\n",
      "36/36 [==============================] - 103s 3s/step - loss: 2.1724 - acc: 0.2129 - val_loss: 2.2125 - val_acc: 0.2077\n",
      "Epoch 5/50\n",
      "35/36 [============================>.] - ETA: 2s - loss: 2.1367 - acc: 0.2440Epoch 1/50\n",
      "36/36 [==============================] - 98s 3s/step - loss: 2.1371 - acc: 0.2420 - val_loss: 2.1066 - val_acc: 0.2447\n",
      "Epoch 6/50\n",
      "35/36 [============================>.] - ETA: 2s - loss: 2.1180 - acc: 0.2302Epoch 1/50\n",
      "36/36 [==============================] - 98s 3s/step - loss: 2.1148 - acc: 0.2326 - val_loss: 2.0605 - val_acc: 0.2835\n",
      "Epoch 7/50\n",
      "35/36 [============================>.] - ETA: 2s - loss: 2.0559 - acc: 0.2515Epoch 1/50\n",
      "36/36 [==============================] - 94s 3s/step - loss: 2.0549 - acc: 0.2538 - val_loss: 2.1096 - val_acc: 0.2359\n",
      "Epoch 8/50\n",
      "35/36 [============================>.] - ETA: 2s - loss: 2.0381 - acc: 0.2623Epoch 1/50\n",
      "36/36 [==============================] - 98s 3s/step - loss: 2.0394 - acc: 0.2614 - val_loss: 2.0371 - val_acc: 0.3239\n",
      "Epoch 9/50\n",
      "35/36 [============================>.] - ETA: 2s - loss: 1.9867 - acc: 0.2736Epoch 1/50\n",
      "36/36 [==============================] - 102s 3s/step - loss: 1.9911 - acc: 0.2729 - val_loss: 2.0745 - val_acc: 0.2799\n",
      "Epoch 10/50\n",
      "35/36 [============================>.] - ETA: 2s - loss: 1.9281 - acc: 0.3383Epoch 1/50\n",
      "36/36 [==============================] - 106s 3s/step - loss: 1.9256 - acc: 0.3390 - val_loss: 1.9299 - val_acc: 0.3292\n",
      "Epoch 11/50\n",
      "35/36 [============================>.] - ETA: 3s - loss: 1.8819 - acc: 0.3477Epoch 1/50\n",
      "36/36 [==============================] - 154s 4s/step - loss: 1.8776 - acc: 0.3507 - val_loss: 1.9374 - val_acc: 0.3257\n",
      "Epoch 12/50\n",
      "35/36 [============================>.] - ETA: 2s - loss: 1.8650 - acc: 0.3529Epoch 1/50\n",
      "36/36 [==============================] - 108s 3s/step - loss: 1.8675 - acc: 0.3512 - val_loss: 1.9835 - val_acc: 0.3257\n",
      "Epoch 13/50\n",
      "35/36 [============================>.] - ETA: 2s - loss: 1.7754 - acc: 0.3774Epoch 1/50\n",
      "36/36 [==============================] - 105s 3s/step - loss: 1.7803 - acc: 0.3768 - val_loss: 1.8408 - val_acc: 0.3820\n",
      "Epoch 14/50\n",
      "35/36 [============================>.] - ETA: 2s - loss: 1.7562 - acc: 0.4127Epoch 1/50\n",
      "36/36 [==============================] - 97s 3s/step - loss: 1.7544 - acc: 0.4144 - val_loss: 1.8085 - val_acc: 0.4102\n",
      "Epoch 15/50\n",
      "35/36 [============================>.] - ETA: 2s - loss: 1.6792 - acc: 0.4325Epoch 1/50\n",
      "36/36 [==============================] - 96s 3s/step - loss: 1.6768 - acc: 0.4313 - val_loss: 1.7941 - val_acc: 0.4032\n",
      "Epoch 16/50\n",
      "35/36 [============================>.] - ETA: 2s - loss: 1.5827 - acc: 0.4518Epoch 1/50\n",
      "36/36 [==============================] - 98s 3s/step - loss: 1.5710 - acc: 0.4577 - val_loss: 1.7165 - val_acc: 0.3996\n",
      "Epoch 17/50\n",
      "35/36 [============================>.] - ETA: 2s - loss: 1.6555 - acc: 0.4466Epoch 1/50\n",
      "36/36 [==============================] - 100s 3s/step - loss: 1.6496 - acc: 0.4473 - val_loss: 1.6241 - val_acc: 0.4331\n",
      "Epoch 18/50\n",
      "35/36 [============================>.] - ETA: 2s - loss: 1.5690 - acc: 0.4769Epoch 1/50\n",
      "36/36 [==============================] - 100s 3s/step - loss: 1.5644 - acc: 0.4808 - val_loss: 1.7064 - val_acc: 0.4085\n",
      "Epoch 19/50\n",
      "35/36 [============================>.] - ETA: 2s - loss: 1.5994 - acc: 0.4651Epoch 1/50\n",
      "36/36 [==============================] - 99s 3s/step - loss: 1.5952 - acc: 0.4661 - val_loss: 1.6999 - val_acc: 0.4437\n",
      "Epoch 20/50\n",
      "35/36 [============================>.] - ETA: 2s - loss: 1.4556 - acc: 0.4906Epoch 1/50\n",
      "36/36 [==============================] - 99s 3s/step - loss: 1.4520 - acc: 0.4922 - val_loss: 1.6708 - val_acc: 0.4472\n",
      "Epoch 21/50\n",
      "35/36 [============================>.] - ETA: 2s - loss: 1.4441 - acc: 0.5099Epoch 1/50\n",
      "36/36 [==============================] - 95s 3s/step - loss: 1.4818 - acc: 0.5094 - val_loss: 1.9068 - val_acc: 0.3820\n",
      "Epoch 22/50\n",
      "35/36 [============================>.] - ETA: 2s - loss: 1.5521 - acc: 0.4722Epoch 1/50\n",
      "36/36 [==============================] - 97s 3s/step - loss: 1.5526 - acc: 0.4725 - val_loss: 1.7203 - val_acc: 0.4401\n",
      "Epoch 23/50\n",
      "35/36 [============================>.] - ETA: 2s - loss: 1.3340 - acc: 0.5311Epoch 1/50\n",
      "36/36 [==============================] - 95s 3s/step - loss: 1.3331 - acc: 0.5302 - val_loss: 1.6191 - val_acc: 0.4630\n",
      "Epoch 24/50\n",
      "35/36 [============================>.] - ETA: 2s - loss: 1.2841 - acc: 0.5552Epoch 1/50\n",
      "36/36 [==============================] - 102s 3s/step - loss: 1.2855 - acc: 0.5540 - val_loss: 1.6293 - val_acc: 0.4771\n",
      "Epoch 25/50\n",
      "35/36 [============================>.] - ETA: 2s - loss: 1.2864 - acc: 0.5783Epoch 1/50\n",
      "36/36 [==============================] - 98s 3s/step - loss: 1.2862 - acc: 0.5774 - val_loss: 1.5812 - val_acc: 0.4930\n",
      "Epoch 26/50\n",
      "35/36 [============================>.] - ETA: 2s - loss: 1.2197 - acc: 0.5854Epoch 1/50\n",
      "36/36 [==============================] - 102s 3s/step - loss: 1.2220 - acc: 0.5856 - val_loss: 1.6007 - val_acc: 0.4894\n",
      "Epoch 27/50\n",
      "35/36 [============================>.] - ETA: 2s - loss: 1.1507 - acc: 0.6090Epoch 1/50\n",
      "36/36 [==============================] - 100s 3s/step - loss: 1.1531 - acc: 0.6099 - val_loss: 1.5345 - val_acc: 0.5335\n",
      "Epoch 28/50\n",
      "35/36 [============================>.] - ETA: 2s - loss: 1.1718 - acc: 0.6052Epoch 1/50\n",
      "36/36 [==============================] - 99s 3s/step - loss: 1.1695 - acc: 0.6071 - val_loss: 1.5135 - val_acc: 0.5423\n",
      "Epoch 29/50\n",
      "35/36 [============================>.] - ETA: 2s - loss: 1.1105 - acc: 0.6175Epoch 1/50\n",
      "36/36 [==============================] - 97s 3s/step - loss: 1.1121 - acc: 0.6172 - val_loss: 1.6666 - val_acc: 0.4683\n",
      "Epoch 30/50\n",
      "35/36 [============================>.] - ETA: 2s - loss: 1.0800 - acc: 0.6453Epoch 1/50\n",
      "36/36 [==============================] - 98s 3s/step - loss: 1.0796 - acc: 0.6447 - val_loss: 1.6607 - val_acc: 0.4771\n",
      "Epoch 31/50\n",
      "35/36 [============================>.] - ETA: 2s - loss: 1.1048 - acc: 0.6255Epoch 1/50\n",
      "36/36 [==============================] - 96s 3s/step - loss: 1.1052 - acc: 0.6250 - val_loss: 1.5755 - val_acc: 0.5141\n",
      "Epoch 32/50\n",
      "35/36 [============================>.] - ETA: 2s - loss: 1.0858 - acc: 0.6401Epoch 1/50\n",
      "36/36 [==============================] - 97s 3s/step - loss: 1.0845 - acc: 0.6401 - val_loss: 1.6004 - val_acc: 0.4736\n",
      "Epoch 33/50\n",
      "35/36 [============================>.] - ETA: 2s - loss: 1.0286 - acc: 0.6675Epoch 1/50\n",
      "36/36 [==============================] - 96s 3s/step - loss: 1.0227 - acc: 0.6699 - val_loss: 1.6715 - val_acc: 0.5352\n",
      "Epoch 34/50\n",
      "35/36 [============================>.] - ETA: 2s - loss: 0.9558 - acc: 0.6743Epoch 1/50\n",
      "36/36 [==============================] - 102s 3s/step - loss: 0.9608 - acc: 0.6740 - val_loss: 1.5744 - val_acc: 0.5352\n",
      "Epoch 35/50\n",
      "35/36 [============================>.] - ETA: 2s - loss: 0.9466 - acc: 0.6863Epoch 1/50\n",
      "36/36 [==============================] - 100s 3s/step - loss: 0.9494 - acc: 0.6873 - val_loss: 1.6768 - val_acc: 0.5141\n",
      "Epoch 36/50\n",
      "35/36 [============================>.] - ETA: 2s - loss: 0.9324 - acc: 0.6879Epoch 1/50\n",
      "36/36 [==============================] - 98s 3s/step - loss: 0.9294 - acc: 0.6911 - val_loss: 1.6759 - val_acc: 0.5158\n",
      "Epoch 37/50\n",
      "35/36 [============================>.] - ETA: 2s - loss: 0.8833 - acc: 0.7188Epoch 1/50\n",
      "36/36 [==============================] - 103s 3s/step - loss: 0.8833 - acc: 0.7193 - val_loss: 1.9537 - val_acc: 0.4859\n",
      "Epoch 38/50\n",
      "35/36 [============================>.] - ETA: 2s - loss: 0.9245 - acc: 0.7000Epoch 1/50\n"
     ]
    },
    {
     "name": "stdout",
     "output_type": "stream",
     "text": [
      "36/36 [==============================] - 96s 3s/step - loss: 0.9164 - acc: 0.7029 - val_loss: 1.7713 - val_acc: 0.5035\n",
      "Epoch 39/50\n",
      "35/36 [============================>.] - ETA: 2s - loss: 0.9214 - acc: 0.6950Epoch 1/50\n",
      "36/36 [==============================] - 99s 3s/step - loss: 0.9196 - acc: 0.6952 - val_loss: 1.5802 - val_acc: 0.5299\n",
      "Epoch 40/50\n",
      "35/36 [============================>.] - ETA: 2s - loss: 0.9099 - acc: 0.7019Epoch 1/50\n",
      "36/36 [==============================] - 96s 3s/step - loss: 0.9134 - acc: 0.7005 - val_loss: 1.6952 - val_acc: 0.5616\n",
      "Epoch 41/50\n",
      "35/36 [============================>.] - ETA: 2s - loss: 0.7928 - acc: 0.7288Epoch 1/50\n",
      "36/36 [==============================] - 97s 3s/step - loss: 0.7872 - acc: 0.7308 - val_loss: 1.5558 - val_acc: 0.5951\n",
      "Epoch 42/50\n",
      "35/36 [============================>.] - ETA: 2s - loss: 0.7848 - acc: 0.7461Epoch 1/50\n",
      "36/36 [==============================] - 96s 3s/step - loss: 0.7913 - acc: 0.7444 - val_loss: 1.8852 - val_acc: 0.5194\n",
      "Epoch 43/50\n",
      "35/36 [============================>.] - ETA: 2s - loss: 0.9651 - acc: 0.6981Epoch 1/50\n",
      "36/36 [==============================] - 102s 3s/step - loss: 0.9617 - acc: 0.6960 - val_loss: 1.5436 - val_acc: 0.5475\n",
      "Epoch 44/50\n",
      "35/36 [============================>.] - ETA: 2s - loss: 0.7372 - acc: 0.7413Epoch 1/50\n",
      "36/36 [==============================] - 98s 3s/step - loss: 0.7339 - acc: 0.7429 - val_loss: 1.6235 - val_acc: 0.5827\n",
      "Epoch 45/50\n",
      "35/36 [============================>.] - ETA: 2s - loss: 0.6892 - acc: 0.7802Epoch 1/50\n",
      "36/36 [==============================] - 100s 3s/step - loss: 0.6877 - acc: 0.7821 - val_loss: 1.6167 - val_acc: 0.5792\n",
      "Epoch 46/50\n",
      "35/36 [============================>.] - ETA: 2s - loss: 0.6888 - acc: 0.7771Epoch 1/50\n",
      "36/36 [==============================] - 100s 3s/step - loss: 0.6904 - acc: 0.7763 - val_loss: 1.7379 - val_acc: 0.5546\n",
      "Epoch 47/50\n",
      "35/36 [============================>.] - ETA: 2s - loss: 0.7087 - acc: 0.7699Epoch 1/50\n",
      "36/36 [==============================] - 97s 3s/step - loss: 0.7264 - acc: 0.7660 - val_loss: 1.9620 - val_acc: 0.5264\n",
      "Epoch 48/50\n",
      "35/36 [============================>.] - ETA: 2s - loss: 0.6966 - acc: 0.7627Epoch 1/50\n",
      "36/36 [==============================] - 96s 3s/step - loss: 0.6987 - acc: 0.7628 - val_loss: 1.6019 - val_acc: 0.5827\n",
      "Epoch 49/50\n",
      "35/36 [============================>.] - ETA: 2s - loss: 0.6191 - acc: 0.7890Epoch 1/50\n",
      "36/36 [==============================] - 98s 3s/step - loss: 0.6222 - acc: 0.7861 - val_loss: 1.6886 - val_acc: 0.5669\n",
      "Epoch 50/50\n",
      "35/36 [============================>.] - ETA: 2s - loss: 0.6096 - acc: 0.7971Epoch 1/50\n",
      "36/36 [==============================] - 96s 3s/step - loss: 0.6132 - acc: 0.7971 - val_loss: 1.6553 - val_acc: 0.5739\n"
     ]
    }
   ],
   "source": [
    "history = model.fit_generator(train_generator,\n",
    "                              steps_per_epoch=36,\n",
    "                              epochs=50,\n",
    "                              validation_data=val_generator,\n",
    "                              validation_steps=9,\n",
    "                              verbose=1)"
   ]
  },
  {
   "cell_type": "code",
   "execution_count": 23,
   "metadata": {},
   "outputs": [],
   "source": [
    "model.save('./cnn_3.h5')"
   ]
  },
  {
   "cell_type": "code",
   "execution_count": 24,
   "metadata": {},
   "outputs": [
    {
     "data": {
      "image/png": "[encoded data removed]",
      "text/plain": [
       "<Figure size 432x288 with 1 Axes>"
      ]
     },
     "metadata": {
      "needs_background": "light"
     },
     "output_type": "display_data"
    }
   ],
   "source": [
    "plt.plot(history.history['acc'], label = 'Training acc',)\n",
    "plt.plot(history.history['val_acc'], label = 'Validation acc')\n",
    "plt.title(\"Accuracy Plot with 5 epochs and 10 Classes\")\n",
    "plt.legend();\n"
   ]
  },
  {
   "cell_type": "code",
   "execution_count": 25,
   "metadata": {
    "scrolled": true
   },
   "outputs": [
    {
     "data": {
      "image/png": "[encoded data removed]",
      "text/plain": [
       "<Figure size 432x288 with 1 Axes>"
      ]
     },
     "metadata": {
      "needs_background": "light"
     },
     "output_type": "display_data"
    }
   ],
   "source": [
    "plt.plot(history.history['loss'], label = 'Training loss')\n",
    "plt.plot(history.history['val_loss'], label = 'Validation loss')\n",
    "plt.legend();"
   ]
  },
  {
   "cell_type": "code",
   "execution_count": null,
   "metadata": {},
   "outputs": [],
   "source": []
  }
 ],
 "metadata": {
  "kernelspec": {
   "display_name": "Python 3",
   "language": "python",
   "name": "python3"
  },
  "language_info": {
   "codemirror_mode": {
    "name": "ipython",
    "version": 3
   },
   "file_extension": ".py",
   "mimetype": "text/x-python",
   "name": "python",
   "nbconvert_exporter": "python",
   "pygments_lexer": "ipython3",
   "version": "3.7.5"
  },
  "toc": {
   "base_numbering": 1,
   "nav_menu": {},
   "number_sections": false,
   "sideBar": true,
   "skip_h1_title": false,
   "title_cell": "Table of Contents",
   "title_sidebar": "Contents",
   "toc_cell": false,
   "toc_position": {},
   "toc_section_display": true,
   "toc_window_display": false
  }
 },
 "nbformat": 4,
 "nbformat_minor": 2
}
