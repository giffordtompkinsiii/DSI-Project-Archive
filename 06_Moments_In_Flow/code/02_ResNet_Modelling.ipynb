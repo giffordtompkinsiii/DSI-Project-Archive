{
 "cells": [
  {
   "cell_type": "markdown",
   "metadata": {},
   "source": [
    "# Convolutional Neural Net and ResNet50V2 Modeling\n",
    "In this notebook we create our first predictive model and evaluate our performance."
   ]
  },
  {
   "cell_type": "code",
   "execution_count": 34,
   "metadata": {},
   "outputs": [],
   "source": [
    "import os\n",
    "import matplotlib.pyplot as plt\n",
    "import numpy as np\n",
    "\n",
    "from tensorflow.keras.applications.resnet_v2 import ResNet50V2\n",
    "\n",
    "from tensorflow.keras.models import Sequential, load_model\n",
    "from tensorflow.keras.layers import Flatten, Dropout, Dense, Conv2D, MaxPooling2D\n",
    "\n",
    "from tensorflow.keras.preprocessing.image import ImageDataGenerator"
   ]
  },
  {
   "cell_type": "code",
   "execution_count": 22,
   "metadata": {},
   "outputs": [
    {
     "name": "stdout",
     "output_type": "stream",
     "text": [
      "Found 669 images belonging to 5 classes.\n",
      "Found 166 images belonging to 5 classes.\n"
     ]
    }
   ],
   "source": [
    "# All images will be rescaled by 1./255\n",
    "\n",
    "\n",
    "batch_size = 32\n",
    "epoch_num = 10\n",
    "img_directory = '../images/incoming_images/'\n",
    "\n",
    "gen = ImageDataGenerator(rescale=1./255,\n",
    "                         validation_split=0.20)\n",
    "\n",
    "train_generator = gen.flow_from_directory(img_directory,\n",
    "                                subset='training',\n",
    "                                class_mode='categorical',\n",
    "                                batch_size= batch_size,\n",
    "                                target_size=(244, 244))\n",
    "\n",
    "val_generator = gen.flow_from_directory(img_directory,\n",
    "                                subset='validation',\n",
    "                                class_mode='categorical',\n",
    "                                batch_size= batch_size,\n",
    "                                target_size=(244, 244))\n"
   ]
  },
  {
   "cell_type": "code",
   "execution_count": 23,
   "metadata": {},
   "outputs": [],
   "source": [
    "# All images will be rescaled by 1./255\n",
    "train_val_datagen = ImageDataGenerator(rescale=1./255,\n",
    "                                       validation_split=0.20)"
   ]
  },
  {
   "cell_type": "code",
   "execution_count": 24,
   "metadata": {},
   "outputs": [
    {
     "name": "stdout",
     "output_type": "stream",
     "text": [
      "Found 669 images belonging to 5 classes.\n",
      "Found 166 images belonging to 5 classes.\n"
     ]
    }
   ],
   "source": [
    "train_generator = train_val_datagen.flow_from_directory('../images/incoming_images/',\n",
    "                                                        subset='training',\n",
    "                                                        class_mode='categorical',\n",
    "                                                        batch_size=32,\n",
    "                                                        target_size=(244, 244))\n",
    "\n",
    "val_generator = train_val_datagen.flow_from_directory('../images/incoming_images/',\n",
    "                                                       subset='validation',\n",
    "                                                       class_mode='categorical',\n",
    "                                                       batch_size=32,\n",
    "                                                       target_size=(244, 244))"
   ]
  },
  {
   "cell_type": "code",
   "execution_count": 46,
   "metadata": {},
   "outputs": [],
   "source": [
    "model = Sequential()\n",
    "model.add(ResNet50V2(include_top=False,\n",
    "                   weights='imagenet',\n",
    "                   input_tensor=None,\n",
    "                   input_shape=(244, 244, 3),\n",
    "                   pooling=None))\n",
    "model.add(Flatten())\n",
    "model.add(Dense(512, activation='relu'))\n",
    "model.add(Dropout(rate=0.5))\n",
    "model.add(Dense(256, activation='relu'))\n",
    "model.add(Dropout(rate=0.5))\n",
    "model.add(Dense(train_generator.num_classes, activation='softmax'))"
   ]
  },
  {
   "cell_type": "code",
   "execution_count": 47,
   "metadata": {},
   "outputs": [
    {
     "name": "stdout",
     "output_type": "stream",
     "text": [
      "Model: \"sequential_5\"\n",
      "_________________________________________________________________\n",
      "Layer (type)                 Output Shape              Param #   \n",
      "=================================================================\n",
      "resnet50v2 (Model)           (None, 8, 8, 2048)        23564800  \n",
      "_________________________________________________________________\n",
      "flatten_5 (Flatten)          (None, 131072)            0         \n",
      "_________________________________________________________________\n",
      "dense_10 (Dense)             (None, 512)               67109376  \n",
      "_________________________________________________________________\n",
      "dropout_2 (Dropout)          (None, 512)               0         \n",
      "_________________________________________________________________\n",
      "dense_11 (Dense)             (None, 256)               131328    \n",
      "_________________________________________________________________\n",
      "dropout_3 (Dropout)          (None, 256)               0         \n",
      "_________________________________________________________________\n",
      "dense_12 (Dense)             (None, 5)                 1285      \n",
      "=================================================================\n",
      "Total params: 90,806,789\n",
      "Trainable params: 90,761,349\n",
      "Non-trainable params: 45,440\n",
      "_________________________________________________________________\n"
     ]
    }
   ],
   "source": [
    "model.summary()"
   ]
  },
  {
   "cell_type": "code",
   "execution_count": 48,
   "metadata": {},
   "outputs": [
    {
     "name": "stdout",
     "output_type": "stream",
     "text": [
      "Epoch 1/10\n",
      " 3/20 [===>..........................] - ETA: 5:55 - loss: 8.6947 - acc: 0.2188"
     ]
    },
    {
     "name": "stderr",
     "output_type": "stream",
     "text": [
      "/anaconda3/envs/deep-learning/lib/python3.7/site-packages/PIL/Image.py:989: UserWarning: Palette images with Transparency expressed in bytes should be converted to RGBA images\n",
      "  \"Palette images with Transparency expressed in bytes should be \"\n"
     ]
    },
    {
     "name": "stdout",
     "output_type": "stream",
     "text": [
      "20/20 [===========================>..] - ETA: 12s - loss: 3.2010 - acc: 0.4867Epoch 1/10\n",
      "21/20 [==============================] - 306s 15s/step - loss: 3.1011 - acc: 0.4933 - val_loss: 52.6096 - val_acc: 0.2108\n",
      "Epoch 2/10\n",
      "20/20 [===========================>..] - ETA: 10s - loss: 1.0137 - acc: 0.7174Epoch 1/10\n",
      "21/20 [==============================] - 279s 13s/step - loss: 1.0196 - acc: 0.7190 - val_loss: 10.6816 - val_acc: 0.3133\n",
      "Epoch 3/10\n",
      "20/20 [===========================>..] - ETA: 11s - loss: 0.9871 - acc: 0.7441Epoch 1/10\n",
      "21/20 [==============================] - 292s 14s/step - loss: 0.9815 - acc: 0.7414 - val_loss: 2.6168 - val_acc: 0.2831\n",
      "Epoch 4/10\n",
      "20/20 [===========================>..] - ETA: 11s - loss: 0.7222 - acc: 0.7959Epoch 1/10\n",
      "21/20 [==============================] - 289s 14s/step - loss: 0.7331 - acc: 0.7922 - val_loss: 23.9634 - val_acc: 0.2410\n",
      "Epoch 5/10\n",
      "20/20 [===========================>..] - ETA: 11s - loss: 0.9021 - acc: 0.7881Epoch 1/10\n",
      "21/20 [==============================] - 294s 14s/step - loss: 0.9046 - acc: 0.7818 - val_loss: 1559.2590 - val_acc: 0.1687\n",
      "Epoch 6/10\n",
      "20/20 [===========================>..] - ETA: 11s - loss: 1.9657 - acc: 0.6813Epoch 1/10\n",
      "21/20 [==============================] - 290s 14s/step - loss: 1.9303 - acc: 0.6756 - val_loss: 41546.8957 - val_acc: 0.2229\n",
      "Epoch 7/10\n",
      "20/20 [===========================>..] - ETA: 11s - loss: 3.7522 - acc: 0.3564Epoch 1/10\n",
      "21/20 [==============================] - 284s 14s/step - loss: 3.6439 - acc: 0.3572 - val_loss: 12032142521.0602 - val_acc: 0.2229\n",
      "Epoch 8/10\n",
      "20/20 [===========================>..] - ETA: 11s - loss: 3.6380 - acc: 0.3140Epoch 1/10\n",
      "21/20 [==============================] - 290s 14s/step - loss: 3.5450 - acc: 0.3199 - val_loss: 2593162523.7590 - val_acc: 0.1325\n",
      "Epoch 9/10\n",
      "20/20 [===========================>..] - ETA: 11s - loss: 4.0698 - acc: 0.2951Epoch 1/10\n",
      "21/20 [==============================] - 293s 14s/step - loss: 4.0369 - acc: 0.2945 - val_loss: 5359333.2530 - val_acc: 0.2289\n",
      "Epoch 10/10\n",
      "20/20 [===========================>..] - ETA: 11s - loss: 3.4468 - acc: 0.3077Epoch 1/10\n",
      "21/20 [==============================] - 287s 14s/step - loss: 3.3682 - acc: 0.3139 - val_loss: 11779859.1807 - val_acc: 0.2169\n"
     ]
    }
   ],
   "source": [
    "model.compile(loss='categorical_crossentropy',\n",
    "              optimizer='adam',\n",
    "              metrics=['acc'])\n",
    "\n",
    "history = model.fit_generator(train_generator,\n",
    "                              steps_per_epoch=train_generator.n / batch_size,\n",
    "                              epochs=epoch_num,\n",
    "                              validation_data=val_generator,\n",
    "                              validation_steps=val_generator.n / batch_size,\n",
    "                              verbose=1)"
   ]
  },
  {
   "cell_type": "code",
   "execution_count": 49,
   "metadata": {},
   "outputs": [
    {
     "data": {
      "image/png": "[encoded data removed]",
      "text/plain": [
       "<Figure size 432x288 with 1 Axes>"
      ]
     },
     "metadata": {
      "needs_background": "light"
     },
     "output_type": "display_data"
    },
    {
     "data": {
      "image/png": "[encoded data removed]",
      "text/plain": [
       "<Figure size 432x288 with 1 Axes>"
      ]
     },
     "metadata": {
      "needs_background": "light"
     },
     "output_type": "display_data"
    },
    {
     "data": {
      "text/plain": [
       "<Figure size 432x288 with 0 Axes>"
      ]
     },
     "metadata": {},
     "output_type": "display_data"
    }
   ],
   "source": [
    "title = f\"Accuracy Plot with {epoch_num} Epochs and {train_generator.num_classes} Classes\"\n",
    "plt.plot(history.history['acc'], label = 'Training acc')\n",
    "plt.plot(history.history['val_acc'], label = 'Validation acc')\n",
    "plt.title(title)\n",
    "plt.legend()\n",
    "plt.show()\n",
    "plt.savefig(f'../exec_summary_images/{title}');\n",
    "\n",
    "title = f\"Loss Plot with {epoch_num} Epochs and {train_generator.num_classes} Classes\"\n",
    "plt.plot(history.history['loss'], label = 'Training loss')\n",
    "plt.plot(history.history['val_loss'], label = 'Validation loss')\n",
    "plt.title(title)\n",
    "plt.legend()\n",
    "plt.show()\n",
    "plt.savefig(f'../exec_summary_images/{title}');"
   ]
  },
  {
   "cell_type": "code",
   "execution_count": 52,
   "metadata": {},
   "outputs": [
    {
     "data": {
      "text/plain": [
       "[0, 1, 2, 3, 4, 5, 6, 7, 8, 9]"
      ]
     },
     "execution_count": 52,
     "metadata": {},
     "output_type": "execute_result"
    }
   ],
   "source": []
  },
  {
   "cell_type": "code",
   "execution_count": 40,
   "metadata": {},
   "outputs": [],
   "source": [
    "from sklearn.metrics import confusion_matrix\n",
    "import seaborn as sns\n",
    "poses = os.listdir('../images/incoming_images/')"
   ]
  },
  {
   "cell_type": "code",
   "execution_count": null,
   "metadata": {},
   "outputs": [],
   "source": [
    "generator = train_generator\n",
    "preds = model.predict_generator(generator)\n",
    "\n",
    "y_true = generator.classes\n",
    "\n",
    "y_preds = [np.argmax(pred) for pred in preds]\n",
    "\n",
    "con_mat = confusion_matrix(y_true, y_preds)\n",
    "plot_mat = [[item/np.sum(row) for item in row] for row in con_mat]"
   ]
  },
  {
   "cell_type": "code",
   "execution_count": 42,
   "metadata": {},
   "outputs": [
    {
     "data": {
      "image/png": "[encoded data removed]",
      "text/plain": [
       "<Figure size 864x576 with 2 Axes>"
      ]
     },
     "metadata": {
      "needs_background": "light"
     },
     "output_type": "display_data"
    }
   ],
   "source": [
    "plt.figure(figsize=(12,8))\n",
    "sns.heatmap(plot_mat,\n",
    "            xticklabels=poses, \n",
    "            yticklabels=poses, \n",
    "            annot=True,\n",
    "            square=True,\n",
    "            vmin=0,\n",
    "#             vmax=1,\n",
    "            cmap='coolwarm');"
   ]
  },
  {
   "cell_type": "code",
   "execution_count": 43,
   "metadata": {},
   "outputs": [
    {
     "data": {
      "image/png": "[encoded data removed]",
      "text/plain": [
       "<Figure size 864x576 with 2 Axes>"
      ]
     },
     "metadata": {
      "needs_background": "light"
     },
     "output_type": "display_data"
    }
   ],
   "source": [
    "generator = val_generator\n",
    "preds = model.predict_generator(generator)\n",
    "\n",
    "y_true = generator.classes\n",
    "\n",
    "y_preds = [np.argmax(pred) for pred in preds]\n",
    "\n",
    "con_mat = confusion_matrix(y_true, y_preds)\n",
    "plot_mat = [[item/np.sum(row) for item in row] for row in con_mat]\n",
    "\n",
    "plt.figure(figsize=(12,8))\n",
    "sns.heatmap(plot_mat,\n",
    "            xticklabels=poses, \n",
    "            yticklabels=poses, \n",
    "            annot=True,\n",
    "            square=True,\n",
    "            vmin=0,\n",
    "#             vmax=1,\n",
    "            cmap='viridis');"
   ]
  },
  {
   "cell_type": "code",
   "execution_count": null,
   "metadata": {},
   "outputs": [],
   "source": [
    "model = Sequential()\n",
    "\n",
    "model.add(Conv2D(filters=32, kernel_size=3, activation='relu', input_shape=(244,244,3)))\n",
    "model.add(MaxPooling2D(2))\n",
    "\n",
    "model.add(Conv2D(filters=64, kernel_size=3, activation='relu'))\n",
    "model.add(MaxPooling2D(2))\n",
    "\n",
    "model.add(Conv2D(filters=128, kernel_size=3, activation='relu'))\n",
    "model.add(MaxPooling2D(2))\n",
    "\n",
    "model.add(Conv2D(filters=128, kernel_size=3, activation='relu'))\n",
    "model.add(MaxPooling2D(2))\n",
    "\n",
    "model.add(Flatten())\n",
    "\n",
    "model.add(Dense(512, activation='relu'))\n",
    "model.add(Dropout(rate=0.50))\n",
    "model.add(Dense(train_generator.num_classes, activation='softmax'))"
   ]
  },
  {
   "cell_type": "code",
   "execution_count": 45,
   "metadata": {},
   "outputs": [],
   "source": [
    "model.save('../models/resnet_10_epochs.h5')"
   ]
  },
  {
   "cell_type": "code",
   "execution_count": 44,
   "metadata": {},
   "outputs": [],
   "source": [
    "model_rn = Sequential()\n",
    "model_rn.add(ResNet50V2(include_top=False,\n",
    "                   weights='imagenet',\n",
    "                   input_tensor=None,\n",
    "                   input_shape=(244, 244, 3),\n",
    "                   pooling=None))\n",
    "model_rn.add(Flatten())\n",
    "model_rn.add(Dense(512, activation='relu'))\n",
    "model_rn.add(Dense(10, activation='softmax'))"
   ]
  },
  {
   "cell_type": "code",
   "execution_count": 20,
   "metadata": {},
   "outputs": [],
   "source": [
    "model = Sequential()\n",
    "\n",
    "model.add(Conv2D(filters=32, kernel_size=3, activation='relu', input_shape=(244,244,3)))\n",
    "model.add(MaxPooling2D(2))\n",
    "\n",
    "model.add(Conv2D(filters=64, kernel_size=3, activation='relu'))\n",
    "model.add(MaxPooling2D(2))\n",
    "\n",
    "model.add(Conv2D(filters=128, kernel_size=3, activation='relu'))\n",
    "model.add(MaxPooling2D(2))\n",
    "\n",
    "model.add(Conv2D(filters=128, kernel_size=3, activation='relu'))\n",
    "model.add(MaxPooling2D(2))\n",
    "\n",
    "model.add(Flatten())\n",
    "\n",
    "model.add(Dense(512, activation='relu'))\n",
    "model.add(Dropout(rate=0.50))\n",
    "model.add(Dense(train_generator.num_classes, activation='softmax'))"
   ]
  },
  {
   "cell_type": "code",
   "execution_count": 45,
   "metadata": {},
   "outputs": [],
   "source": [
    "model_rn.compile(loss='categorical_crossentropy',\n",
    "              optimizer='adam',\n",
    "              metrics=['acc'])"
   ]
  },
  {
   "cell_type": "code",
   "execution_count": 46,
   "metadata": {},
   "outputs": [],
   "source": [
    "from PIL import ImageFile\n",
    "ImageFile.LOAD_TRUNCATED_IMAGES = True"
   ]
  },
  {
   "cell_type": "code",
   "execution_count": 47,
   "metadata": {
    "scrolled": false
   },
   "outputs": [
    {
     "name": "stdout",
     "output_type": "stream",
     "text": [
      "Epoch 1/10\n"
     ]
    },
    {
     "name": "stderr",
     "output_type": "stream",
     "text": [
      "/anaconda3/envs/deep-learning/lib/python3.7/site-packages/PIL/Image.py:989: UserWarning: Palette images with Transparency expressed in bytes should be converted to RGBA images\n",
      "  \"Palette images with Transparency expressed in bytes should be \"\n"
     ]
    },
    {
     "name": "stdout",
     "output_type": "stream",
     "text": [
      " 6/36 [====>.........................] - ETA: 8:13 - loss: 20.8468 - acc: 0.1771"
     ]
    },
    {
     "name": "stderr",
     "output_type": "stream",
     "text": [
      "/anaconda3/envs/deep-learning/lib/python3.7/site-packages/PIL/TiffImagePlugin.py:784: UserWarning: Possibly corrupt EXIF data.  Expecting to read 20 bytes but only got 19. Skipping tag 36867\n",
      "  \" Skipping tag %s\" % (size, len(data), tag)\n"
     ]
    },
    {
     "name": "stdout",
     "output_type": "stream",
     "text": [
      "35/36 [============================>.] - ETA: 12s - loss: 5.2820 - acc: 0.3315Epoch 1/10\n",
      "36/36 [==============================] - 495s 14s/step - loss: 5.1685 - acc: 0.3416 - val_loss: 154.8274 - val_acc: 0.1338\n",
      "Epoch 2/10\n",
      "35/36 [============================>.] - ETA: 12s - loss: 1.4424 - acc: 0.5641Epoch 1/10\n",
      "36/36 [==============================] - 477s 13s/step - loss: 1.4251 - acc: 0.5694 - val_loss: 20.6565 - val_acc: 0.3028\n",
      "Epoch 3/10\n",
      "35/36 [============================>.] - ETA: 12s - loss: 0.9395 - acc: 0.7253Epoch 1/10\n",
      "36/36 [==============================] - 498s 14s/step - loss: 0.9347 - acc: 0.7269 - val_loss: 13.2011 - val_acc: 0.2324\n",
      "Epoch 4/10\n",
      "35/36 [============================>.] - ETA: 12s - loss: 0.5976 - acc: 0.8278Epoch 1/10\n",
      "36/36 [==============================] - 492s 14s/step - loss: 0.5911 - acc: 0.8310 - val_loss: 5.1953 - val_acc: 0.5211\n",
      "Epoch 5/10\n",
      "35/36 [============================>.] - ETA: 12s - loss: 0.7583 - acc: 0.8120Epoch 1/10\n",
      "36/36 [==============================] - 480s 13s/step - loss: 0.7999 - acc: 0.8075 - val_loss: 7.8923 - val_acc: 0.2676\n",
      "Epoch 6/10\n",
      "35/36 [============================>.] - ETA: 11s - loss: 1.1556 - acc: 0.7042Epoch 1/10\n",
      "36/36 [==============================] - 459s 13s/step - loss: 1.1435 - acc: 0.7073 - val_loss: 40.1069 - val_acc: 0.1725\n",
      "Epoch 7/10\n",
      " 8/36 [=====>........................] - ETA: 5:35 - loss: 0.7532 - acc: 0.7812"
     ]
    },
    {
     "ename": "KeyboardInterrupt",
     "evalue": "",
     "output_type": "error",
     "traceback": [
      "\u001b[0;31m---------------------------------------------------------------------------\u001b[0m",
      "\u001b[0;31mKeyboardInterrupt\u001b[0m                         Traceback (most recent call last)",
      "\u001b[0;32m<ipython-input-47-302d72369818>\u001b[0m in \u001b[0;36m<module>\u001b[0;34m\u001b[0m\n\u001b[1;32m      4\u001b[0m                                  \u001b[0mvalidation_data\u001b[0m\u001b[0;34m=\u001b[0m\u001b[0mval_generator\u001b[0m\u001b[0;34m,\u001b[0m\u001b[0;34m\u001b[0m\u001b[0;34m\u001b[0m\u001b[0m\n\u001b[1;32m      5\u001b[0m                                  \u001b[0mvalidation_steps\u001b[0m\u001b[0;34m=\u001b[0m\u001b[0;36m9\u001b[0m\u001b[0;34m,\u001b[0m\u001b[0;34m\u001b[0m\u001b[0;34m\u001b[0m\u001b[0m\n\u001b[0;32m----> 6\u001b[0;31m                                  verbose=1)\n\u001b[0m",
      "\u001b[0;32m/anaconda3/envs/deep-learning/lib/python3.7/site-packages/tensorflow_core/python/keras/engine/training.py\u001b[0m in \u001b[0;36mfit_generator\u001b[0;34m(self, generator, steps_per_epoch, epochs, verbose, callbacks, validation_data, validation_steps, validation_freq, class_weight, max_queue_size, workers, use_multiprocessing, shuffle, initial_epoch)\u001b[0m\n\u001b[1;32m   1294\u001b[0m         \u001b[0mshuffle\u001b[0m\u001b[0;34m=\u001b[0m\u001b[0mshuffle\u001b[0m\u001b[0;34m,\u001b[0m\u001b[0;34m\u001b[0m\u001b[0;34m\u001b[0m\u001b[0m\n\u001b[1;32m   1295\u001b[0m         \u001b[0minitial_epoch\u001b[0m\u001b[0;34m=\u001b[0m\u001b[0minitial_epoch\u001b[0m\u001b[0;34m,\u001b[0m\u001b[0;34m\u001b[0m\u001b[0;34m\u001b[0m\u001b[0m\n\u001b[0;32m-> 1296\u001b[0;31m         steps_name='steps_per_epoch')\n\u001b[0m\u001b[1;32m   1297\u001b[0m \u001b[0;34m\u001b[0m\u001b[0m\n\u001b[1;32m   1298\u001b[0m   def evaluate_generator(self,\n",
      "\u001b[0;32m/anaconda3/envs/deep-learning/lib/python3.7/site-packages/tensorflow_core/python/keras/engine/training_generator.py\u001b[0m in \u001b[0;36mmodel_iteration\u001b[0;34m(model, data, steps_per_epoch, epochs, verbose, callbacks, validation_data, validation_steps, validation_freq, class_weight, max_queue_size, workers, use_multiprocessing, shuffle, initial_epoch, mode, batch_size, steps_name, **kwargs)\u001b[0m\n\u001b[1;32m    263\u001b[0m \u001b[0;34m\u001b[0m\u001b[0m\n\u001b[1;32m    264\u001b[0m       \u001b[0mis_deferred\u001b[0m \u001b[0;34m=\u001b[0m \u001b[0;32mnot\u001b[0m \u001b[0mmodel\u001b[0m\u001b[0;34m.\u001b[0m\u001b[0m_is_compiled\u001b[0m\u001b[0;34m\u001b[0m\u001b[0;34m\u001b[0m\u001b[0m\n\u001b[0;32m--> 265\u001b[0;31m       \u001b[0mbatch_outs\u001b[0m \u001b[0;34m=\u001b[0m \u001b[0mbatch_function\u001b[0m\u001b[0;34m(\u001b[0m\u001b[0;34m*\u001b[0m\u001b[0mbatch_data\u001b[0m\u001b[0;34m)\u001b[0m\u001b[0;34m\u001b[0m\u001b[0;34m\u001b[0m\u001b[0m\n\u001b[0m\u001b[1;32m    266\u001b[0m       \u001b[0;32mif\u001b[0m \u001b[0;32mnot\u001b[0m \u001b[0misinstance\u001b[0m\u001b[0;34m(\u001b[0m\u001b[0mbatch_outs\u001b[0m\u001b[0;34m,\u001b[0m \u001b[0mlist\u001b[0m\u001b[0;34m)\u001b[0m\u001b[0;34m:\u001b[0m\u001b[0;34m\u001b[0m\u001b[0;34m\u001b[0m\u001b[0m\n\u001b[1;32m    267\u001b[0m         \u001b[0mbatch_outs\u001b[0m \u001b[0;34m=\u001b[0m \u001b[0;34m[\u001b[0m\u001b[0mbatch_outs\u001b[0m\u001b[0;34m]\u001b[0m\u001b[0;34m\u001b[0m\u001b[0;34m\u001b[0m\u001b[0m\n",
      "\u001b[0;32m/anaconda3/envs/deep-learning/lib/python3.7/site-packages/tensorflow_core/python/keras/engine/training.py\u001b[0m in \u001b[0;36mtrain_on_batch\u001b[0;34m(self, x, y, sample_weight, class_weight, reset_metrics)\u001b[0m\n\u001b[1;32m   1015\u001b[0m       \u001b[0mself\u001b[0m\u001b[0;34m.\u001b[0m\u001b[0m_update_sample_weight_modes\u001b[0m\u001b[0;34m(\u001b[0m\u001b[0msample_weights\u001b[0m\u001b[0;34m=\u001b[0m\u001b[0msample_weights\u001b[0m\u001b[0;34m)\u001b[0m\u001b[0;34m\u001b[0m\u001b[0;34m\u001b[0m\u001b[0m\n\u001b[1;32m   1016\u001b[0m       \u001b[0mself\u001b[0m\u001b[0;34m.\u001b[0m\u001b[0m_make_train_function\u001b[0m\u001b[0;34m(\u001b[0m\u001b[0;34m)\u001b[0m\u001b[0;34m\u001b[0m\u001b[0;34m\u001b[0m\u001b[0m\n\u001b[0;32m-> 1017\u001b[0;31m       \u001b[0moutputs\u001b[0m \u001b[0;34m=\u001b[0m \u001b[0mself\u001b[0m\u001b[0;34m.\u001b[0m\u001b[0mtrain_function\u001b[0m\u001b[0;34m(\u001b[0m\u001b[0mins\u001b[0m\u001b[0;34m)\u001b[0m  \u001b[0;31m# pylint: disable=not-callable\u001b[0m\u001b[0;34m\u001b[0m\u001b[0;34m\u001b[0m\u001b[0m\n\u001b[0m\u001b[1;32m   1018\u001b[0m \u001b[0;34m\u001b[0m\u001b[0m\n\u001b[1;32m   1019\u001b[0m     \u001b[0;32mif\u001b[0m \u001b[0mreset_metrics\u001b[0m\u001b[0;34m:\u001b[0m\u001b[0;34m\u001b[0m\u001b[0;34m\u001b[0m\u001b[0m\n",
      "\u001b[0;32m/anaconda3/envs/deep-learning/lib/python3.7/site-packages/tensorflow_core/python/keras/backend.py\u001b[0m in \u001b[0;36m__call__\u001b[0;34m(self, inputs)\u001b[0m\n\u001b[1;32m   3474\u001b[0m \u001b[0;34m\u001b[0m\u001b[0m\n\u001b[1;32m   3475\u001b[0m     fetched = self._callable_fn(*array_vals,\n\u001b[0;32m-> 3476\u001b[0;31m                                 run_metadata=self.run_metadata)\n\u001b[0m\u001b[1;32m   3477\u001b[0m     \u001b[0mself\u001b[0m\u001b[0;34m.\u001b[0m\u001b[0m_call_fetch_callbacks\u001b[0m\u001b[0;34m(\u001b[0m\u001b[0mfetched\u001b[0m\u001b[0;34m[\u001b[0m\u001b[0;34m-\u001b[0m\u001b[0mlen\u001b[0m\u001b[0;34m(\u001b[0m\u001b[0mself\u001b[0m\u001b[0;34m.\u001b[0m\u001b[0m_fetches\u001b[0m\u001b[0;34m)\u001b[0m\u001b[0;34m:\u001b[0m\u001b[0;34m]\u001b[0m\u001b[0;34m)\u001b[0m\u001b[0;34m\u001b[0m\u001b[0;34m\u001b[0m\u001b[0m\n\u001b[1;32m   3478\u001b[0m     output_structure = nest.pack_sequence_as(\n",
      "\u001b[0;32m/anaconda3/envs/deep-learning/lib/python3.7/site-packages/tensorflow_core/python/client/session.py\u001b[0m in \u001b[0;36m__call__\u001b[0;34m(self, *args, **kwargs)\u001b[0m\n\u001b[1;32m   1470\u001b[0m         ret = tf_session.TF_SessionRunCallable(self._session._session,\n\u001b[1;32m   1471\u001b[0m                                                \u001b[0mself\u001b[0m\u001b[0;34m.\u001b[0m\u001b[0m_handle\u001b[0m\u001b[0;34m,\u001b[0m \u001b[0margs\u001b[0m\u001b[0;34m,\u001b[0m\u001b[0;34m\u001b[0m\u001b[0;34m\u001b[0m\u001b[0m\n\u001b[0;32m-> 1472\u001b[0;31m                                                run_metadata_ptr)\n\u001b[0m\u001b[1;32m   1473\u001b[0m         \u001b[0;32mif\u001b[0m \u001b[0mrun_metadata\u001b[0m\u001b[0;34m:\u001b[0m\u001b[0;34m\u001b[0m\u001b[0;34m\u001b[0m\u001b[0m\n\u001b[1;32m   1474\u001b[0m           \u001b[0mproto_data\u001b[0m \u001b[0;34m=\u001b[0m \u001b[0mtf_session\u001b[0m\u001b[0;34m.\u001b[0m\u001b[0mTF_GetBuffer\u001b[0m\u001b[0;34m(\u001b[0m\u001b[0mrun_metadata_ptr\u001b[0m\u001b[0;34m)\u001b[0m\u001b[0;34m\u001b[0m\u001b[0;34m\u001b[0m\u001b[0m\n",
      "\u001b[0;31mKeyboardInterrupt\u001b[0m: "
     ]
    }
   ],
   "source": [
    "history_rn = model_rn.fit_generator(train_generator,\n",
    "                                 steps_per_epoch=36,\n",
    "                                 epochs=10,\n",
    "                                 validation_data=val_generator,\n",
    "                                 validation_steps=9,\n",
    "                                 verbose=1)"
   ]
  },
  {
   "cell_type": "code",
   "execution_count": null,
   "metadata": {},
   "outputs": [],
   "source": [
    "model.save('./cnn_2.h5')"
   ]
  },
  {
   "cell_type": "code",
   "execution_count": null,
   "metadata": {},
   "outputs": [],
   "source": [
    "plt.plot(history_rn.history['acc'], label = 'ResNetV2 Training acc',)\n",
    "plt.plot(history_rn.history['val_acc'], label = 'ResNetV2 Validation acc')\n",
    "plt.title(\"ResNet50V2 Accuracy Plot with 10 epochs and 10 Classes\")\n",
    "plt.legend();\n"
   ]
  },
  {
   "cell_type": "code",
   "execution_count": null,
   "metadata": {
    "scrolled": true
   },
   "outputs": [],
   "source": [
    "plt.plot(history_rn.history['loss'], label = 'ResNetV2 Training loss')\n",
    "plt.plot(history_rn.history['val_loss'], label = 'ResNetV2 Validation loss')\n",
    "plt.legend();"
   ]
  },
  {
   "cell_type": "code",
   "execution_count": 2,
   "metadata": {},
   "outputs": [],
   "source": [
    "model = Sequential()"
   ]
  },
  {
   "cell_type": "code",
   "execution_count": null,
   "metadata": {},
   "outputs": [],
   "source": []
  }
 ],
 "metadata": {
  "kernelspec": {
   "display_name": "Python 3",
   "language": "python",
   "name": "python3"
  },
  "language_info": {
   "codemirror_mode": {
    "name": "ipython",
    "version": 3
   },
   "file_extension": ".py",
   "mimetype": "text/x-python",
   "name": "python",
   "nbconvert_exporter": "python",
   "pygments_lexer": "ipython3",
   "version": "3.7.1"
  },
  "toc": {
   "base_numbering": 1,
   "nav_menu": {},
   "number_sections": false,
   "sideBar": true,
   "skip_h1_title": false,
   "title_cell": "Table of Contents",
   "title_sidebar": "Contents",
   "toc_cell": false,
   "toc_position": {},
   "toc_section_display": true,
   "toc_window_display": false
  }
 },
 "nbformat": 4,
 "nbformat_minor": 2
}
