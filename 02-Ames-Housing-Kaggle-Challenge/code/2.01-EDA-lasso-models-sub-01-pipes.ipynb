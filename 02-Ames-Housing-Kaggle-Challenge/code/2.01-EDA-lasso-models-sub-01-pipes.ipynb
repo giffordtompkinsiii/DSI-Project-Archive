{
 "cells": [
  {
   "cell_type": "markdown",
   "metadata": {},
   "source": [
    "# Submission 05 -- Exploratory Data Analysis PIPES"
   ]
  },
  {
   "cell_type": "code",
   "execution_count": 12,
   "metadata": {},
   "outputs": [],
   "source": [
    "import pandas as pd\n",
    "import numpy as np\n",
    "import matplotlib.pyplot as plt\n",
    "import seaborn as sns\n",
    "import missingno as msno\n",
    "\n",
    "from sklearn.pipeline import Pipeline\n",
    "from sklearn.preprocessing import StandardScaler\n",
    "from sklearn.linear_model import LinearRegression, LassoCV\n",
    "from sklearn.model_selection import train_test_split, cross_val_score"
   ]
  },
  {
   "cell_type": "code",
   "execution_count": 13,
   "metadata": {},
   "outputs": [
    {
     "data": {
      "text/plain": [
       "(2051, 263)"
      ]
     },
     "execution_count": 13,
     "metadata": {},
     "output_type": "execute_result"
    }
   ],
   "source": [
    "df = pd.read_csv('../datasets/train_clean.csv')\n",
    "\n",
    "df.shape"
   ]
  },
  {
   "cell_type": "markdown",
   "metadata": {},
   "source": [
    "## First attempt: Throw all columns into a LASSO regression"
   ]
  },
  {
   "cell_type": "code",
   "execution_count": 14,
   "metadata": {},
   "outputs": [],
   "source": [
    "X = df.drop(columns='saleprice')\n",
    "y = df['saleprice']\n",
    "\n",
    "X_train, X_test, y_train, y_test = train_test_split(X, y)"
   ]
  },
  {
   "cell_type": "markdown",
   "metadata": {},
   "source": [
    "### Scale my feature dataframe"
   ]
  },
  {
   "cell_type": "code",
   "execution_count": 31,
   "metadata": {},
   "outputs": [],
   "source": [
    "l_alpha = np.logspace(-3, 10, 100)\n",
    "\n",
    "pipe = Pipeline([\n",
    "    ('ss', StandardScaler()),\n",
    "    ('lasso', LassoCV(alphas=l_alpha, cv=5, max_iter=5000))\n",
    "])"
   ]
  },
  {
   "cell_type": "code",
   "execution_count": 32,
   "metadata": {},
   "outputs": [
    {
     "data": {
      "text/plain": [
       "{'memory': None,\n",
       " 'steps': [('ss', StandardScaler(copy=True, with_mean=True, with_std=True)),\n",
       "  ('lasso',\n",
       "   LassoCV(alphas=array([1.00000e-03, 1.35305e-03, ..., 7.39072e+09, 1.00000e+10]),\n",
       "       copy_X=True, cv=5, eps=0.001, fit_intercept=True, max_iter=5000,\n",
       "       n_alphas=100, n_jobs=None, normalize=False, positive=False,\n",
       "       precompute='auto', random_state=None, selection='cyclic', tol=0.0001,\n",
       "       verbose=False))],\n",
       " 'ss': StandardScaler(copy=True, with_mean=True, with_std=True),\n",
       " 'lasso': LassoCV(alphas=array([1.00000e-03, 1.35305e-03, ..., 7.39072e+09, 1.00000e+10]),\n",
       "     copy_X=True, cv=5, eps=0.001, fit_intercept=True, max_iter=5000,\n",
       "     n_alphas=100, n_jobs=None, normalize=False, positive=False,\n",
       "     precompute='auto', random_state=None, selection='cyclic', tol=0.0001,\n",
       "     verbose=False),\n",
       " 'ss__copy': True,\n",
       " 'ss__with_mean': True,\n",
       " 'ss__with_std': True,\n",
       " 'lasso__alphas': array([1.00000000e-03, 1.35304777e-03, 1.83073828e-03, 2.47707636e-03,\n",
       "        3.35160265e-03, 4.53487851e-03, 6.13590727e-03, 8.30217568e-03,\n",
       "        1.12332403e-02, 1.51991108e-02, 2.05651231e-02, 2.78255940e-02,\n",
       "        3.76493581e-02, 5.09413801e-02, 6.89261210e-02, 9.32603347e-02,\n",
       "        1.26185688e-01, 1.70735265e-01, 2.31012970e-01, 3.12571585e-01,\n",
       "        4.22924287e-01, 5.72236766e-01, 7.74263683e-01, 1.04761575e+00,\n",
       "        1.41747416e+00, 1.91791026e+00, 2.59502421e+00, 3.51119173e+00,\n",
       "        4.75081016e+00, 6.42807312e+00, 8.69749003e+00, 1.17681195e+01,\n",
       "        1.59228279e+01, 2.15443469e+01, 2.91505306e+01, 3.94420606e+01,\n",
       "        5.33669923e+01, 7.22080902e+01, 9.77009957e+01, 1.32194115e+02,\n",
       "        1.78864953e+02, 2.42012826e+02, 3.27454916e+02, 4.43062146e+02,\n",
       "        5.99484250e+02, 8.11130831e+02, 1.09749877e+03, 1.48496826e+03,\n",
       "        2.00923300e+03, 2.71858824e+03, 3.67837977e+03, 4.97702356e+03,\n",
       "        6.73415066e+03, 9.11162756e+03, 1.23284674e+04, 1.66810054e+04,\n",
       "        2.25701972e+04, 3.05385551e+04, 4.13201240e+04, 5.59081018e+04,\n",
       "        7.56463328e+04, 1.02353102e+05, 1.38488637e+05, 1.87381742e+05,\n",
       "        2.53536449e+05, 3.43046929e+05, 4.64158883e+05, 6.28029144e+05,\n",
       "        8.49753436e+05, 1.14975700e+06, 1.55567614e+06, 2.10490414e+06,\n",
       "        2.84803587e+06, 3.85352859e+06, 5.21400829e+06, 7.05480231e+06,\n",
       "        9.54548457e+06, 1.29154967e+07, 1.74752840e+07, 2.36448941e+07,\n",
       "        3.19926714e+07, 4.32876128e+07, 5.85702082e+07, 7.92482898e+07,\n",
       "        1.07226722e+08, 1.45082878e+08, 1.96304065e+08, 2.65608778e+08,\n",
       "        3.59381366e+08, 4.86260158e+08, 6.57933225e+08, 8.90215085e+08,\n",
       "        1.20450354e+09, 1.62975083e+09, 2.20513074e+09, 2.98364724e+09,\n",
       "        4.03701726e+09, 5.46227722e+09, 7.39072203e+09, 1.00000000e+10]),\n",
       " 'lasso__copy_X': True,\n",
       " 'lasso__cv': 5,\n",
       " 'lasso__eps': 0.001,\n",
       " 'lasso__fit_intercept': True,\n",
       " 'lasso__max_iter': 5000,\n",
       " 'lasso__n_alphas': 100,\n",
       " 'lasso__n_jobs': None,\n",
       " 'lasso__normalize': False,\n",
       " 'lasso__positive': False,\n",
       " 'lasso__precompute': 'auto',\n",
       " 'lasso__random_state': None,\n",
       " 'lasso__selection': 'cyclic',\n",
       " 'lasso__tol': 0.0001,\n",
       " 'lasso__verbose': False}"
      ]
     },
     "execution_count": 32,
     "metadata": {},
     "output_type": "execute_result"
    }
   ],
   "source": [
    "pipe.get_params()"
   ]
  },
  {
   "cell_type": "code",
   "execution_count": 30,
   "metadata": {},
   "outputs": [
    {
     "ename": "TypeError",
     "evalue": "fit_transform() takes from 2 to 3 positional arguments but 4 were given",
     "output_type": "error",
     "traceback": [
      "\u001b[0;31m---------------------------------------------------------------------------\u001b[0m",
      "\u001b[0;31mTypeError\u001b[0m                                 Traceback (most recent call last)",
      "\u001b[0;32m<ipython-input-30-22264221494c>\u001b[0m in \u001b[0;36m<module>\u001b[0;34m\u001b[0m\n\u001b[0;32m----> 1\u001b[0;31m \u001b[0mpipe\u001b[0m\u001b[0;34m.\u001b[0m\u001b[0mfit_transform\u001b[0m\u001b[0;34m(\u001b[0m\u001b[0mX_train\u001b[0m\u001b[0;34m,\u001b[0m \u001b[0my_train\u001b[0m\u001b[0;34m,\u001b[0m\u001b[0;34m{\u001b[0m\u001b[0;34m'ss'\u001b[0m \u001b[0;34m:\u001b[0m \u001b[0mX_train\u001b[0m\u001b[0;34m}\u001b[0m\u001b[0;34m)\u001b[0m\u001b[0;34m\u001b[0m\u001b[0;34m\u001b[0m\u001b[0m\n\u001b[0m",
      "\u001b[0;31mTypeError\u001b[0m: fit_transform() takes from 2 to 3 positional arguments but 4 were given"
     ]
    }
   ],
   "source": [
    "pipe.fit_transform(X_train, y_train,{\n",
    "    'ss__X' : X_train,\n",
    "})"
   ]
  },
  {
   "cell_type": "code",
   "execution_count": 16,
   "metadata": {
    "scrolled": true
   },
   "outputs": [
    {
     "name": "stderr",
     "output_type": "stream",
     "text": [
      "/anaconda3/lib/python3.7/site-packages/sklearn/preprocessing/data.py:625: DataConversionWarning: Data with input dtype int64, float64 were all converted to float64 by StandardScaler.\n",
      "  return self.partial_fit(X, y)\n",
      "/anaconda3/lib/python3.7/site-packages/sklearn/base.py:465: DataConversionWarning: Data with input dtype int64, float64 were all converted to float64 by StandardScaler.\n",
      "  return self.fit(X, y, **fit_params).transform(X)\n"
     ]
    },
    {
     "data": {
      "text/plain": [
       "Pipeline(memory=None,\n",
       "     steps=[('ss', StandardScaler(copy=True, with_mean=True, with_std=True)), ('lasso', LassoCV(alphas=array([1.00000e-03, 1.35305e-03, ..., 7.39072e+09, 1.00000e+10]),\n",
       "    copy_X=True, cv=5, eps=0.001, fit_intercept=True, max_iter=5000,\n",
       "    n_alphas=100, n_jobs=None, normalize=False, positive=False,\n",
       "    precompute='auto', random_state=None, selection='cyclic', tol=0.0001,\n",
       "    verbose=False))])"
      ]
     },
     "execution_count": 16,
     "metadata": {},
     "output_type": "execute_result"
    }
   ],
   "source": [
    "pipe.transform()"
   ]
  },
  {
   "cell_type": "code",
   "execution_count": 17,
   "metadata": {},
   "outputs": [
    {
     "name": "stderr",
     "output_type": "stream",
     "text": [
      "/anaconda3/lib/python3.7/site-packages/sklearn/pipeline.py:511: DataConversionWarning: Data with input dtype int64, float64 were all converted to float64 by StandardScaler.\n",
      "  Xt = transform.transform(Xt)\n"
     ]
    },
    {
     "data": {
      "text/plain": [
       "0.9245608970766497"
      ]
     },
     "execution_count": 17,
     "metadata": {},
     "output_type": "execute_result"
    }
   ],
   "source": [
    "pipe.score(X_train, y_train)"
   ]
  },
  {
   "cell_type": "code",
   "execution_count": 18,
   "metadata": {},
   "outputs": [
    {
     "data": {
      "text/plain": [
       "{'memory': None,\n",
       " 'steps': [('ss', StandardScaler(copy=True, with_mean=True, with_std=True)),\n",
       "  ('lasso',\n",
       "   LassoCV(alphas=array([1.00000e-03, 1.35305e-03, ..., 7.39072e+09, 1.00000e+10]),\n",
       "       copy_X=True, cv=5, eps=0.001, fit_intercept=True, max_iter=5000,\n",
       "       n_alphas=100, n_jobs=None, normalize=False, positive=False,\n",
       "       precompute='auto', random_state=None, selection='cyclic', tol=0.0001,\n",
       "       verbose=False))],\n",
       " 'ss': StandardScaler(copy=True, with_mean=True, with_std=True),\n",
       " 'lasso': LassoCV(alphas=array([1.00000e-03, 1.35305e-03, ..., 7.39072e+09, 1.00000e+10]),\n",
       "     copy_X=True, cv=5, eps=0.001, fit_intercept=True, max_iter=5000,\n",
       "     n_alphas=100, n_jobs=None, normalize=False, positive=False,\n",
       "     precompute='auto', random_state=None, selection='cyclic', tol=0.0001,\n",
       "     verbose=False),\n",
       " 'ss__copy': True,\n",
       " 'ss__with_mean': True,\n",
       " 'ss__with_std': True,\n",
       " 'lasso__alphas': array([1.00000000e-03, 1.35304777e-03, 1.83073828e-03, 2.47707636e-03,\n",
       "        3.35160265e-03, 4.53487851e-03, 6.13590727e-03, 8.30217568e-03,\n",
       "        1.12332403e-02, 1.51991108e-02, 2.05651231e-02, 2.78255940e-02,\n",
       "        3.76493581e-02, 5.09413801e-02, 6.89261210e-02, 9.32603347e-02,\n",
       "        1.26185688e-01, 1.70735265e-01, 2.31012970e-01, 3.12571585e-01,\n",
       "        4.22924287e-01, 5.72236766e-01, 7.74263683e-01, 1.04761575e+00,\n",
       "        1.41747416e+00, 1.91791026e+00, 2.59502421e+00, 3.51119173e+00,\n",
       "        4.75081016e+00, 6.42807312e+00, 8.69749003e+00, 1.17681195e+01,\n",
       "        1.59228279e+01, 2.15443469e+01, 2.91505306e+01, 3.94420606e+01,\n",
       "        5.33669923e+01, 7.22080902e+01, 9.77009957e+01, 1.32194115e+02,\n",
       "        1.78864953e+02, 2.42012826e+02, 3.27454916e+02, 4.43062146e+02,\n",
       "        5.99484250e+02, 8.11130831e+02, 1.09749877e+03, 1.48496826e+03,\n",
       "        2.00923300e+03, 2.71858824e+03, 3.67837977e+03, 4.97702356e+03,\n",
       "        6.73415066e+03, 9.11162756e+03, 1.23284674e+04, 1.66810054e+04,\n",
       "        2.25701972e+04, 3.05385551e+04, 4.13201240e+04, 5.59081018e+04,\n",
       "        7.56463328e+04, 1.02353102e+05, 1.38488637e+05, 1.87381742e+05,\n",
       "        2.53536449e+05, 3.43046929e+05, 4.64158883e+05, 6.28029144e+05,\n",
       "        8.49753436e+05, 1.14975700e+06, 1.55567614e+06, 2.10490414e+06,\n",
       "        2.84803587e+06, 3.85352859e+06, 5.21400829e+06, 7.05480231e+06,\n",
       "        9.54548457e+06, 1.29154967e+07, 1.74752840e+07, 2.36448941e+07,\n",
       "        3.19926714e+07, 4.32876128e+07, 5.85702082e+07, 7.92482898e+07,\n",
       "        1.07226722e+08, 1.45082878e+08, 1.96304065e+08, 2.65608778e+08,\n",
       "        3.59381366e+08, 4.86260158e+08, 6.57933225e+08, 8.90215085e+08,\n",
       "        1.20450354e+09, 1.62975083e+09, 2.20513074e+09, 2.98364724e+09,\n",
       "        4.03701726e+09, 5.46227722e+09, 7.39072203e+09, 1.00000000e+10]),\n",
       " 'lasso__copy_X': True,\n",
       " 'lasso__cv': 5,\n",
       " 'lasso__eps': 0.001,\n",
       " 'lasso__fit_intercept': True,\n",
       " 'lasso__max_iter': 5000,\n",
       " 'lasso__n_alphas': 100,\n",
       " 'lasso__n_jobs': None,\n",
       " 'lasso__normalize': False,\n",
       " 'lasso__positive': False,\n",
       " 'lasso__precompute': 'auto',\n",
       " 'lasso__random_state': None,\n",
       " 'lasso__selection': 'cyclic',\n",
       " 'lasso__tol': 0.0001,\n",
       " 'lasso__verbose': False}"
      ]
     },
     "execution_count": 18,
     "metadata": {},
     "output_type": "execute_result"
    }
   ],
   "source": [
    "pipe."
   ]
  },
  {
   "cell_type": "code",
   "execution_count": null,
   "metadata": {},
   "outputs": [],
   "source": [
    "pipe.fit_transform()"
   ]
  },
  {
   "cell_type": "code",
   "execution_count": null,
   "metadata": {},
   "outputs": [],
   "source": [
    "ss = StandardScaler()\n",
    "Z_train = ss.fit_transform(X_train)\n",
    "Z_test = ss.transform(X_test)"
   ]
  },
  {
   "cell_type": "code",
   "execution_count": null,
   "metadata": {},
   "outputs": [],
   "source": [
    "# Set up a list of Lasso alphas to check.\n",
    "l_alpha = np.logspace(-3, 10, 100)\n",
    "\n",
    "# Cross-validate over our list of Lasso alphas.\n",
    "lasso = LassoCV(alphas=l_alpha, cv=5, max_iter=5000)\n",
    "\n",
    "# Fit model using best ridge alpha!\n",
    "lasso.fit(Z_train, y_train)"
   ]
  },
  {
   "cell_type": "code",
   "execution_count": null,
   "metadata": {},
   "outputs": [],
   "source": [
    "lasso.alpha_"
   ]
  },
  {
   "cell_type": "code",
   "execution_count": null,
   "metadata": {},
   "outputs": [],
   "source": [
    "lasso.score(Z_train, y_train)"
   ]
  },
  {
   "cell_type": "code",
   "execution_count": null,
   "metadata": {},
   "outputs": [],
   "source": [
    "lasso.score(Z_test, y_test)"
   ]
  },
  {
   "cell_type": "code",
   "execution_count": null,
   "metadata": {},
   "outputs": [],
   "source": [
    "coef_list = pd.Series({col:coef for col,coef in zip(X_train.columns,lasso.coef_)})"
   ]
  },
  {
   "cell_type": "code",
   "execution_count": null,
   "metadata": {},
   "outputs": [],
   "source": [
    "coef_list_not_zero = coef_list[round(coef_list,8) > 0.0]"
   ]
  },
  {
   "cell_type": "code",
   "execution_count": null,
   "metadata": {},
   "outputs": [],
   "source": [
    "coef_list_not_zero.index"
   ]
  },
  {
   "cell_type": "markdown",
   "metadata": {},
   "source": [
    "### Create submission: `sub01.csv`\n",
    "Do all the above for the test set"
   ]
  },
  {
   "cell_type": "code",
   "execution_count": null,
   "metadata": {},
   "outputs": [],
   "source": [
    "test = pd.read_csv('../datasets/test_clean.csv')\n",
    "test.shape"
   ]
  },
  {
   "cell_type": "code",
   "execution_count": null,
   "metadata": {},
   "outputs": [],
   "source": [
    "test_trans = ss.transform(test)"
   ]
  },
  {
   "cell_type": "code",
   "execution_count": null,
   "metadata": {},
   "outputs": [],
   "source": [
    "test['SalePrice'] = lasso.predict(test_trans)"
   ]
  },
  {
   "cell_type": "code",
   "execution_count": null,
   "metadata": {},
   "outputs": [],
   "source": [
    "test[['id','SalePrice']].rename({'id':'Id'},axis=1).to_csv('../submissions/sub_01.csv'\n",
    "                                                           ,index=False)"
   ]
  },
  {
   "cell_type": "markdown",
   "metadata": {},
   "source": [
    "## Second Attempt\n",
    "Using the Lasso model fit to a log transformation of the `saleprice`."
   ]
  },
  {
   "cell_type": "code",
   "execution_count": null,
   "metadata": {},
   "outputs": [],
   "source": [
    "X = df.drop(columns='saleprice')\n",
    "y = np.log1p(df['saleprice'])\n",
    "\n",
    "X_train, X_test, y_train, y_test = train_test_split(X, y)"
   ]
  },
  {
   "cell_type": "code",
   "execution_count": null,
   "metadata": {},
   "outputs": [],
   "source": [
    "ss = StandardScaler()\n",
    "Z_train = ss.fit_transform(X_train)\n",
    "Z_test = ss.transform(X_test)"
   ]
  },
  {
   "cell_type": "code",
   "execution_count": null,
   "metadata": {},
   "outputs": [],
   "source": [
    "# Set up a list of Lasso alphas to check.\n",
    "l_alpha = np.logspace(-3, 10, 100)\n",
    "\n",
    "# Cross-validate over our list of Lasso alphas.\n",
    "lasso = LassoCV(alphas=l_alpha, cv=5, max_iter=5000)\n",
    "\n",
    "# Fit model using best ridge alpha!\n",
    "lasso.fit(Z_train, y_train)"
   ]
  },
  {
   "cell_type": "code",
   "execution_count": null,
   "metadata": {},
   "outputs": [],
   "source": [
    "lasso.alpha_"
   ]
  },
  {
   "cell_type": "code",
   "execution_count": null,
   "metadata": {},
   "outputs": [],
   "source": [
    "cross_val_score(lasso, Z_train, y_train).mean()"
   ]
  },
  {
   "cell_type": "code",
   "execution_count": null,
   "metadata": {},
   "outputs": [],
   "source": [
    "lasso.score(Z_train, y_train)"
   ]
  },
  {
   "cell_type": "code",
   "execution_count": null,
   "metadata": {},
   "outputs": [],
   "source": [
    "lasso.score(Z_test, y_test)"
   ]
  },
  {
   "cell_type": "markdown",
   "metadata": {},
   "source": [
    "### Create submission: `sub02.csv`\n",
    "Do all the above for the test set"
   ]
  },
  {
   "cell_type": "code",
   "execution_count": null,
   "metadata": {},
   "outputs": [],
   "source": [
    "test = pd.read_csv('../datasets/test_clean.csv')\n",
    "test.shape"
   ]
  },
  {
   "cell_type": "code",
   "execution_count": null,
   "metadata": {},
   "outputs": [],
   "source": [
    "test_trans = ss.transform(test)"
   ]
  },
  {
   "cell_type": "code",
   "execution_count": null,
   "metadata": {},
   "outputs": [],
   "source": [
    "test['SalePrice'] = np.expm1(lasso.predict(test_trans))"
   ]
  },
  {
   "cell_type": "code",
   "execution_count": null,
   "metadata": {},
   "outputs": [],
   "source": [
    "test[['id','SalePrice']].rename({'id':'Id'},axis=1).to_csv('../submissions/sub_02.csv'\n",
    "                                                           ,index=False)"
   ]
  },
  {
   "cell_type": "markdown",
   "metadata": {},
   "source": [
    "## Third Attempt\n",
    "Using the Lasso coefficients. Narrow in on better features."
   ]
  },
  {
   "cell_type": "code",
   "execution_count": null,
   "metadata": {},
   "outputs": [],
   "source": [
    "# Create a series of column names zipped with their lasso coefficients\n",
    "coef_list = pd.Series({col:coef for col,coef in zip(X_train.columns,lasso.coef_)})\n",
    "\n",
    "# Pull the columns that did not have 0 coefficients as my new features.\n",
    "features = coef_list[round(coef_list,2) > 0.0].index"
   ]
  },
  {
   "cell_type": "markdown",
   "metadata": {},
   "source": [
    "### Use `PolynomialFeatures()` to create interaction columns.\n",
    "Using the list of columns from the submission above, we are going to create polynomial columns and see how they perform."
   ]
  },
  {
   "cell_type": "code",
   "execution_count": null,
   "metadata": {},
   "outputs": [],
   "source": [
    "from sklearn.preprocessing import PolynomialFeatures"
   ]
  },
  {
   "cell_type": "markdown",
   "metadata": {},
   "source": [
    "### Import Train, Polynomial Transform, Scale and Model"
   ]
  },
  {
   "cell_type": "code",
   "execution_count": null,
   "metadata": {},
   "outputs": [],
   "source": [
    "train = pd.read_csv('../datasets/train_clean.csv')\n",
    "X = train[features]\n",
    "y = np.log1p(train['saleprice'])"
   ]
  },
  {
   "cell_type": "markdown",
   "metadata": {},
   "source": [
    "#### Create Polynomial Features"
   ]
  },
  {
   "cell_type": "code",
   "execution_count": null,
   "metadata": {},
   "outputs": [],
   "source": [
    "poly = PolynomialFeatures(degree=2)\n",
    "X_poly = poly.fit_transform(X)"
   ]
  },
  {
   "cell_type": "markdown",
   "metadata": {},
   "source": [
    "#### Train Test Split the Data"
   ]
  },
  {
   "cell_type": "code",
   "execution_count": null,
   "metadata": {},
   "outputs": [],
   "source": [
    "X_train, X_test, y_train, y_test = train_test_split(X_poly, y)"
   ]
  },
  {
   "cell_type": "markdown",
   "metadata": {},
   "source": [
    "#### Scale the data"
   ]
  },
  {
   "cell_type": "code",
   "execution_count": null,
   "metadata": {},
   "outputs": [],
   "source": [
    "ss = StandardScaler()\n",
    "Z_train = ss.fit_transform(X_train)\n",
    "Z_test = ss.transform(X_test)"
   ]
  },
  {
   "cell_type": "markdown",
   "metadata": {},
   "source": [
    "#### Instantiate and fit model."
   ]
  },
  {
   "cell_type": "code",
   "execution_count": null,
   "metadata": {},
   "outputs": [],
   "source": [
    "lasso = LassoCV()"
   ]
  },
  {
   "cell_type": "code",
   "execution_count": null,
   "metadata": {},
   "outputs": [],
   "source": [
    "cross_val_score(lasso, Z_train, y_train, cv=5).mean()"
   ]
  },
  {
   "cell_type": "code",
   "execution_count": null,
   "metadata": {},
   "outputs": [],
   "source": [
    "lasso.fit(Z_train, y_train)"
   ]
  },
  {
   "cell_type": "code",
   "execution_count": null,
   "metadata": {},
   "outputs": [],
   "source": [
    "lasso.score(Z_train, y_train)"
   ]
  },
  {
   "cell_type": "code",
   "execution_count": null,
   "metadata": {
    "scrolled": true
   },
   "outputs": [],
   "source": [
    "lasso.score(Z_test, y_test)"
   ]
  },
  {
   "cell_type": "markdown",
   "metadata": {},
   "source": [
    "### Create submission: `sub03.csv`\n",
    "Do all the above for the test set"
   ]
  },
  {
   "cell_type": "code",
   "execution_count": null,
   "metadata": {},
   "outputs": [],
   "source": [
    "# Pull clean csv file.\n",
    "test = pd.read_csv('../datasets/test_clean.csv')\n",
    "\n",
    "# Pull our features from the testing dataframe.\n",
    "X = test[features]\n",
    "\n",
    "# Transform our data\n",
    "X_poly = poly.transform(X)\n",
    "\n",
    "# Scale our data\n",
    "Z_test = ss.transform(X_poly)\n",
    "\n",
    "# Predict our prices, and convert into interpretable values.\n",
    "test['SalePrice'] = np.expm1(lasso.predict(Z_test))\n",
    "\n",
    "# Create csv\n",
    "test[['id','SalePrice']].rename({'id':'Id'},axis=1).to_csv('../submissions/sub_03.csv'\n",
    "                                                           ,index=False)"
   ]
  },
  {
   "cell_type": "code",
   "execution_count": null,
   "metadata": {},
   "outputs": [],
   "source": [
    "# Create a series of column names zipped with their lasso coefficients\n",
    "coef_list = pd.Series({col:coef for col,coef in zip(poly.get_feature_names(features),lasso.coef_)})\n",
    "\n",
    "# Pull the columns that did not have 0 coefficients as my new features.\n",
    "features = coef_list[round(coef_list,2) > 0.0]\n",
    "# features #.sort_values(ascending=False)"
   ]
  },
  {
   "cell_type": "code",
   "execution_count": null,
   "metadata": {},
   "outputs": [],
   "source": [
    "features[features > 0.01].sort_values(ascending=False)"
   ]
  },
  {
   "cell_type": "markdown",
   "metadata": {},
   "source": [
    "## Fourth Attempt: Leaving the Lasso\n",
    "Our model is performing, but our lasso is adding an error feature that may be making it worse. Using the data we have from the previous models, we will attempt some more transformations to improve out model, but leave the Lasso model behind."
   ]
  },
  {
   "cell_type": "code",
   "execution_count": null,
   "metadata": {},
   "outputs": [],
   "source": [
    "train, X, y = fix_data_get_X_y('../datasets/data_fillna.csv',features)\n",
    "X.head(), y.head()"
   ]
  },
  {
   "cell_type": "code",
   "execution_count": null,
   "metadata": {},
   "outputs": [],
   "source": [
    "lr = LinearRegression()"
   ]
  },
  {
   "cell_type": "code",
   "execution_count": null,
   "metadata": {},
   "outputs": [],
   "source": [
    "X_train, X_test, y_train, y_test = train_test_split(X,y)"
   ]
  },
  {
   "cell_type": "code",
   "execution_count": null,
   "metadata": {},
   "outputs": [],
   "source": [
    "cross_val_score(lr, X_train, y_train, cv=5).mean()"
   ]
  },
  {
   "cell_type": "code",
   "execution_count": null,
   "metadata": {},
   "outputs": [],
   "source": [
    "lr.fit(X_train,y_train)"
   ]
  },
  {
   "cell_type": "code",
   "execution_count": null,
   "metadata": {},
   "outputs": [],
   "source": [
    "lr.score(X_train,y_train)"
   ]
  },
  {
   "cell_type": "code",
   "execution_count": null,
   "metadata": {},
   "outputs": [],
   "source": [
    "lr.score(X_test,y_test)"
   ]
  },
  {
   "cell_type": "code",
   "execution_count": null,
   "metadata": {},
   "outputs": [],
   "source": [
    "def create_submission(model=lr,feat=features,test_name='sub_04'):\n",
    "    \n",
    "    df, X_test, y_test = fix_data_get_X_y('./datasets/test_fillna.csv',feat,model=model,test=True)\n",
    "    print(X_test.columns)\n",
    "    df['SalePrice'] = y_test\n",
    "    submission = df[['Id','SalePrice']]\n",
    "    \n",
    "    submission.to_csv(f'./datasets/{test_name}.csv',index=False)\n",
    "    return submission.shape"
   ]
  },
  {
   "cell_type": "code",
   "execution_count": null,
   "metadata": {},
   "outputs": [],
   "source": [
    "create_submission(lr,features,'sub_04')"
   ]
  },
  {
   "cell_type": "code",
   "execution_count": null,
   "metadata": {},
   "outputs": [],
   "source": [
    "df[['Overall Qual', 'Exter Qual','Gr Liv Area', 'Kitchen Qual','Bsmt Qual']].dtypes"
   ]
  },
  {
   "cell_type": "code",
   "execution_count": null,
   "metadata": {},
   "outputs": [],
   "source": [
    "from sklearn.preprocessing import PolynomialFeatures, PowerTransformer\n",
    "poly = PolynomialFeatures(degree=3)\n",
    "\n",
    "df.select_dtypes(include='number').columns\n",
    "\n",
    "features = ['Overall Qual', 'Exter Qual', 'Gr Liv Area', 'Kitchen Qual','Bsmt Qual']\n",
    "X_train = poly.fit_transform(df[features])\n",
    "\n",
    "print(X_train)\n",
    "\n",
    "data = pd.DataFrame(X_train,columns=poly.get_feature_names(features))\n",
    "\n",
    "data['SalePrice'] = df['SalePrice']\n",
    "\n",
    "plt.figure(figsize=(7,100))\n",
    "sns.heatmap(data.corr()[['SalePrice']].sort_values(by='SalePrice',ascending=False)\n",
    "            ,annot=True\n",
    "            ,cmap='viridis')\n",
    "\n"
   ]
  },
  {
   "cell_type": "code",
   "execution_count": null,
   "metadata": {},
   "outputs": [],
   "source": [
    "X_train"
   ]
  },
  {
   "cell_type": "code",
   "execution_count": null,
   "metadata": {},
   "outputs": [],
   "source": [
    "X_train.shape"
   ]
  },
  {
   "cell_type": "code",
   "execution_count": null,
   "metadata": {},
   "outputs": [],
   "source": [
    "df['Exter Qual'].value_counts()"
   ]
  },
  {
   "cell_type": "code",
   "execution_count": null,
   "metadata": {},
   "outputs": [],
   "source": []
  },
  {
   "cell_type": "code",
   "execution_count": null,
   "metadata": {},
   "outputs": [],
   "source": []
  }
 ],
 "metadata": {
  "kernelspec": {
   "display_name": "Python 3",
   "language": "python",
   "name": "python3"
  },
  "language_info": {
   "codemirror_mode": {
    "name": "ipython",
    "version": 3
   },
   "file_extension": ".py",
   "mimetype": "text/x-python",
   "name": "python",
   "nbconvert_exporter": "python",
   "pygments_lexer": "ipython3",
   "version": "3.7.1"
  },
  "toc": {
   "base_numbering": 1,
   "nav_menu": {},
   "number_sections": false,
   "sideBar": false,
   "skip_h1_title": true,
   "title_cell": "Table of Contents",
   "title_sidebar": "Contents",
   "toc_cell": false,
   "toc_position": {
    "height": "673.622px",
    "left": "642.642px",
    "top": "110.284px",
    "width": "165px"
   },
   "toc_section_display": false,
   "toc_window_display": true
  }
 },
 "nbformat": 4,
 "nbformat_minor": 2
}
