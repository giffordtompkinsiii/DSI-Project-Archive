{
 "cells": [
  {
   "cell_type": "markdown",
   "metadata": {},
   "source": [
    "# 02.01 : Submission 01 -- Exploratory Data Analysis"
   ]
  },
  {
   "cell_type": "code",
   "execution_count": 1,
   "metadata": {},
   "outputs": [],
   "source": [
    "import pandas as pd\n",
    "import numpy as np\n",
    "import matplotlib.pyplot as plt\n",
    "import seaborn as sns\n",
    "import missingno as msno\n",
    "from sklearn.linear_model import LinearRegression\n",
    "from sklearn.model_selection import train_test_split, cross_val_score"
   ]
  },
  {
   "cell_type": "code",
   "execution_count": 25,
   "metadata": {},
   "outputs": [
    {
     "data": {
      "text/plain": [
       "Id                int64\n",
       "PID               int64\n",
       "MS SubClass       int64\n",
       "MS Zoning        object\n",
       "Lot Frontage    float64\n",
       "                 ...   \n",
       "Misc Val          int64\n",
       "Mo Sold           int64\n",
       "Yr Sold           int64\n",
       "Sale Type        object\n",
       "SalePrice         int64\n",
       "Length: 81, dtype: object"
      ]
     },
     "execution_count": 25,
     "metadata": {},
     "output_type": "execute_result"
    }
   ],
   "source": [
    "df = pd.read_csv('datasets/data_fillna.csv')\n",
    "\n",
    "df.dtypes"
   ]
  },
  {
   "cell_type": "code",
   "execution_count": 36,
   "metadata": {},
   "outputs": [
    {
     "data": {
      "text/plain": [
       "Index(['MS Zoning', 'Street', 'Alley', 'Lot Shape', 'Land Contour',\n",
       "       'Utilities', 'Lot Config', 'Land Slope', 'Neighborhood', 'Condition 1',\n",
       "       'Condition 2', 'Bldg Type', 'House Style', 'Roof Style', 'Roof Matl',\n",
       "       'Exterior 1st', 'Exterior 2nd', 'Mas Vnr Type', 'Foundation',\n",
       "       'Bsmt Exposure', 'BsmtFin Type 1', 'BsmtFin Type 2', 'Heating',\n",
       "       'Central Air', 'Electrical', 'Functional', 'Garage Type',\n",
       "       'Garage Yr Blt', 'Garage Finish', 'Garage Cars', 'Garage Area',\n",
       "       'Paved Drive', 'Fence', 'Misc Feature', 'Sale Type'],\n",
       "      dtype='object')"
      ]
     },
     "execution_count": 36,
     "metadata": {},
     "output_type": "execute_result"
    }
   ],
   "source": [
    "df.select_dtypes(include='object').columns"
   ]
  },
  {
   "cell_type": "code",
   "execution_count": null,
   "metadata": {},
   "outputs": [],
   "source": []
  },
  {
   "cell_type": "code",
   "execution_count": 39,
   "metadata": {},
   "outputs": [
    {
     "data": {
      "text/plain": [
       "<Figure size 504x14400 with 0 Axes>"
      ]
     },
     "metadata": {},
     "output_type": "display_data"
    }
   ],
   "source": [
    "plt.figure(figsize=(7,200))\n",
    "corr = pd.get_dummies(df,columns=df.select_dtypes(include='object').columns).corr()"
   ]
  },
  {
   "cell_type": "code",
   "execution_count": 41,
   "metadata": {
    "scrolled": false
   },
   "outputs": [
    {
     "data": {
      "text/plain": [
       "<matplotlib.axes._subplots.AxesSubplot at 0x1a35b40588>"
      ]
     },
     "execution_count": 41,
     "metadata": {},
     "output_type": "execute_result"
    },
    {
     "data": {
      "image/png": "[encoded data removed]",
      "text/plain": [
       "<Figure size 432x288 with 2 Axes>"
      ]
     },
     "metadata": {
      "needs_background": "light"
     },
     "output_type": "display_data"
    }
   ],
   "source": [
    "sns.heatmap(corr.loc[~corr['SalePrice'].between(-0.4,0.5),['SalePrice']].sort_values(by='SalePrice',ascending=False)\n",
    "            ,cmap='viridis'\n",
    "            ,annot=True\n",
    "           )"
   ]
  },
  {
   "cell_type": "code",
   "execution_count": 43,
   "metadata": {},
   "outputs": [
    {
     "data": {
      "text/plain": [
       "array(['Overall Qual', 'Year Built', 'Year Remod/Add', 'Mas Vnr Area',\n",
       "       'Exter Qual', 'Bsmt Qual', 'Total Bsmt SF', '1st Flr SF',\n",
       "       'Gr Liv Area', 'Full Bath', 'Kitchen Qual', 'TotRms AbvGrd',\n",
       "       'Fireplace Qu', 'SalePrice', 'Mas Vnr Type_None',\n",
       "       'Foundation_PConc', 'Garage Finish_Unf', 'Garage Cars_1.0',\n",
       "       'Garage Cars_3.0'], dtype=object)"
      ]
     },
     "execution_count": 43,
     "metadata": {},
     "output_type": "execute_result"
    }
   ],
   "source": [
    "features = corr.loc[~corr['SalePrice'].between(-0.4,0.5),['SalePrice']].index.values\n",
    "features"
   ]
  },
  {
   "cell_type": "code",
   "execution_count": null,
   "metadata": {},
   "outputs": [],
   "source": []
  },
  {
   "cell_type": "markdown",
   "metadata": {},
   "source": [
    "## Second Attempt:\n",
    "After dummying every column, we are going to take anything NOT between -0.40 and 0.5 in correlation.\n",
    "We will create a function that will build us an X and y variable that will format our train data and our test data."
   ]
  },
  {
   "cell_type": "code",
   "execution_count": 117,
   "metadata": {},
   "outputs": [],
   "source": [
    "def fix_data_get_X_y(csv,features,model=None,test=False):\n",
    "    df = pd.read_csv(csv)\n",
    "    \n",
    "    adj_df = pd.get_dummies(df,columns=df.select_dtypes(include='object').columns)\n",
    "    for col in features:\n",
    "        if col in adj_df.columns:\n",
    "            pass\n",
    "        else:\n",
    "            adj_df[col] = 0\n",
    "            \n",
    "    X = adj_df[features].drop(columns='SalePrice')\n",
    "    \n",
    "    if test:\n",
    "        y = model.predict(X)\n",
    "    else:\n",
    "        y = df['SalePrice']\n",
    "    return adj_df, X, y"
   ]
  },
  {
   "cell_type": "code",
   "execution_count": 118,
   "metadata": {},
   "outputs": [
    {
     "data": {
      "text/plain": [
       "(   Overall Qual  Year Built  Year Remod/Add  Mas Vnr Area  Exter Qual  \\\n",
       " 0             6        1976            2005         289.0           4   \n",
       " 1             7        1996            1997         132.0           4   \n",
       " 2             5        1953            2007           0.0           3   \n",
       " 3             5        2006            2007           0.0           3   \n",
       " 4             6        1900            1993           0.0           3   \n",
       " \n",
       "    Bsmt Qual  Total Bsmt SF  1st Flr SF  Gr Liv Area  Full Bath  Kitchen Qual  \\\n",
       " 0          3          725.0         725         1479          2             4   \n",
       " 1          4          913.0         913         2122          2             4   \n",
       " 2          3         1057.0        1057         1057          1             4   \n",
       " 3          4          384.0         744         1444          2             3   \n",
       " 4          2          676.0         831         1445          2             3   \n",
       " \n",
       "    TotRms AbvGrd  Fireplace Qu  Mas Vnr Type_None  Foundation_PConc  \\\n",
       " 0              6             0                  0                 0   \n",
       " 1              8             3                  0                 1   \n",
       " 2              5             0                  1                 0   \n",
       " 3              7             0                  1                 1   \n",
       " 4              6             0                  1                 1   \n",
       " \n",
       "    Garage Finish_Unf  Garage Cars_1.0  Garage Cars_3.0  \n",
       " 0                  0                0                0  \n",
       " 1                  0                0                0  \n",
       " 2                  1                1                0  \n",
       " 3                  0                0                0  \n",
       " 4                  1                0                0  , 0    130500\n",
       " 1    220000\n",
       " 2    109000\n",
       " 3    174000\n",
       " 4    138500\n",
       " Name: SalePrice, dtype: int64)"
      ]
     },
     "execution_count": 118,
     "metadata": {},
     "output_type": "execute_result"
    }
   ],
   "source": [
    "train, X, y = fix_data_get_X_y('datasets/data_fillna.csv',features)\n",
    "X.head(), y.head()"
   ]
  },
  {
   "cell_type": "code",
   "execution_count": 119,
   "metadata": {},
   "outputs": [],
   "source": [
    "lr = LinearRegression()"
   ]
  },
  {
   "cell_type": "code",
   "execution_count": 120,
   "metadata": {},
   "outputs": [],
   "source": [
    "X_train, X_test, y_train, y_test = train_test_split(X,y)"
   ]
  },
  {
   "cell_type": "code",
   "execution_count": 121,
   "metadata": {},
   "outputs": [
    {
     "data": {
      "text/plain": [
       "0.8007509040606291"
      ]
     },
     "execution_count": 121,
     "metadata": {},
     "output_type": "execute_result"
    }
   ],
   "source": [
    "cross_val_score(lr, X_train, y_train, cv=5).mean()"
   ]
  },
  {
   "cell_type": "code",
   "execution_count": 122,
   "metadata": {},
   "outputs": [
    {
     "data": {
      "text/plain": [
       "LinearRegression(copy_X=True, fit_intercept=True, n_jobs=None,\n",
       "         normalize=False)"
      ]
     },
     "execution_count": 122,
     "metadata": {},
     "output_type": "execute_result"
    }
   ],
   "source": [
    "lr.fit(X_train,y_train)"
   ]
  },
  {
   "cell_type": "code",
   "execution_count": 123,
   "metadata": {},
   "outputs": [
    {
     "data": {
      "text/plain": [
       "0.8201407548944327"
      ]
     },
     "execution_count": 123,
     "metadata": {},
     "output_type": "execute_result"
    }
   ],
   "source": [
    "lr.score(X_train,y_train)"
   ]
  },
  {
   "cell_type": "code",
   "execution_count": 124,
   "metadata": {},
   "outputs": [
    {
     "data": {
      "text/plain": [
       "0.8680444763715158"
      ]
     },
     "execution_count": 124,
     "metadata": {},
     "output_type": "execute_result"
    }
   ],
   "source": [
    "lr.score(X_test,y_test)"
   ]
  },
  {
   "cell_type": "code",
   "execution_count": 131,
   "metadata": {},
   "outputs": [],
   "source": [
    "def create_submission(model=lr,feat=features,test_name='sub_02'):\n",
    "    \n",
    "    df, X_test, y_test = fix_data_get_X_y('./datasets/test_fillna.csv',feat,model=model,test=True)\n",
    "    print(X_test.columns)\n",
    "    df['SalePrice'] = y_test\n",
    "    submission = df[['Id','SalePrice']]\n",
    "    \n",
    "    submission.to_csv(f'./datasets/{test_name}.csv',index=False)\n",
    "    return submission.shape"
   ]
  },
  {
   "cell_type": "code",
   "execution_count": 132,
   "metadata": {},
   "outputs": [
    {
     "name": "stdout",
     "output_type": "stream",
     "text": [
      "Index(['Overall Qual', 'Year Built', 'Year Remod/Add', 'Mas Vnr Area',\n",
      "       'Exter Qual', 'Bsmt Qual', 'Total Bsmt SF', '1st Flr SF', 'Gr Liv Area',\n",
      "       'Full Bath', 'Kitchen Qual', 'TotRms AbvGrd', 'Fireplace Qu',\n",
      "       'Mas Vnr Type_None', 'Foundation_PConc', 'Garage Finish_Unf',\n",
      "       'Garage Cars_1.0', 'Garage Cars_3.0'],\n",
      "      dtype='object')\n"
     ]
    },
    {
     "data": {
      "text/plain": [
       "(879, 2)"
      ]
     },
     "execution_count": 132,
     "metadata": {},
     "output_type": "execute_result"
    }
   ],
   "source": [
    "create_submission(lr,features,'sub_02')"
   ]
  },
  {
   "cell_type": "code",
   "execution_count": null,
   "metadata": {},
   "outputs": [],
   "source": []
  }
 ],
 "metadata": {
  "kernelspec": {
   "display_name": "Python 3",
   "language": "python",
   "name": "python3"
  },
  "language_info": {
   "codemirror_mode": {
    "name": "ipython",
    "version": 3
   },
   "file_extension": ".py",
   "mimetype": "text/x-python",
   "name": "python",
   "nbconvert_exporter": "python",
   "pygments_lexer": "ipython3",
   "version": "3.7.1"
  }
 },
 "nbformat": 4,
 "nbformat_minor": 2
}
