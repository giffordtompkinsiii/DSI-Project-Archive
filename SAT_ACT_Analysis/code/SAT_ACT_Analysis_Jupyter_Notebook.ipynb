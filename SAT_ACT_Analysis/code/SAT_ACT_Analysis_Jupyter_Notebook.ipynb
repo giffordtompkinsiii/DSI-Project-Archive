{
 "cells": [
  {
   "cell_type": "markdown",
   "metadata": {},
   "source": [
    "# Project 1: SAT & ACT Analysis"
   ]
  },
  {
   "cell_type": "markdown",
   "metadata": {},
   "source": [
    "The first markdown cell in a notebook is a great place to provide an overview of your entire project. You will likely want to at least state your\n",
    "\n",
    "## Problem Statement"
   ]
  },
  {
   "cell_type": "markdown",
   "metadata": {},
   "source": [
    "We are going to look at why states like Colorado and Illinois shifted so dramatically from the ACT to the SAT.\n",
    "We have seen remarkable increase in participation in states like Colorado and Illionis where the College Board won bids for the standardized college entrance exam for the state. The goal of this project is to find what factors made those two states successful and target other states that may result in official state adoption of the SAT and near 100% participation in future years."
   ]
  },
  {
   "cell_type": "markdown",
   "metadata": {},
   "source": [
    "## Executive Summary\n",
    "\n",
    "### Contents:\n",
    "- [2017 Data Import & Cleaning](#2017-Data-Import-and-Cleaning)\n",
    "- [2018 Data Import and Cleaning](#2018-Data-Import-and-Cleaning)\n",
    "- [Exploratory Data Analysis](#Exploratory-Data-Analysis)\n",
    "- [Data Visualization](#Visualize-the-data)\n",
    "- [Descriptive and Inferential Statistics](#Descriptive-and-Inferential-Statistics)\n",
    "- [Outside Research](#Outside-Research)\n",
    "- [Conclusions and Recommendations](#Conclusions-and-Recommendations)\n",
    "\n",
    "- Data Collection and Munging:\n",
    "    - The data raw data we were dealing with were subtest and composite/total scores as well as  the participation rate for the SAT 2017, SAT 2018 and ACT 2017 tests. For the ACT 2018 test we only had access to the composite and participation data.\n",
    "-   Cleaning this data involved removing data rows that were not included in each test (i.e. the ACT test had a 'National' average entry), as well as removing data compilation errors like duplicated rows, mistyped values, etc. These tables were indexed and joined on the `State` column.\n",
    "\n",
    "- Exploratory Data Analysis:\n",
    "    - In exploring the data it was clear that Illinois and Colorado were outliers in the participation growth of the SAT.\n",
    "\n",
    "| State | act_growth | sat_growth |\n",
    "|Illinois|-53.76|1000.00|\n",
    "|Colorado|-70.00|809.09|\n",
    "|West Virginia|-5.797101|100.00|\n",
    "|Arkansas|0.00|66.67|\n",
    "|Ohio|33.33|50.00|\n",
    " \n",
    "- I decided to take a look at all states with a SAT participation growth rate 50% or over between 2017 and 2018. Creating a heatmap with only  these  states, I was able to find strong correlations and focus my search on other states with the same features.\n",
    "\n",
    "![](./images/heatmap_sat_growth_50_perc.png)"
   ]
  },
  {
   "cell_type": "code",
   "execution_count": 1,
   "metadata": {},
   "outputs": [],
   "source": [
    "import pandas as pd\n",
    "import numpy as np\n",
    "import matplotlib.pyplot as plt\n",
    "import scipy as stats\n",
    "import seaborn as sns"
   ]
  },
  {
   "cell_type": "code",
   "execution_count": 2,
   "metadata": {},
   "outputs": [],
   "source": [
    "# import jtplot submodule from jupyterthemes\n",
    "# from jupyterthemes import jtplot\n",
    "\n",
    "# currently installed theme will be used to\n",
    "# set plot style if no arguments provided\n",
    "# jtplot.style()"
   ]
  },
  {
   "cell_type": "markdown",
   "metadata": {},
   "source": [
    "## 2017 Data Import and Cleaning"
   ]
  },
  {
   "cell_type": "markdown",
   "metadata": {},
   "source": [
    "#### 1. Read In SAT & ACT  Data\n",
    "\n",
    "Read in the `sat_2017.csv` and `act_2017.csv` files and assign them to appropriately named pandas dataframes."
   ]
  },
  {
   "cell_type": "code",
   "execution_count": 3,
   "metadata": {},
   "outputs": [],
   "source": [
    "act_2017 = pd.read_csv('../data/act_2017.csv')\n",
    "sat_2017 = pd.read_csv('../data/sat_2017.csv')"
   ]
  },
  {
   "cell_type": "markdown",
   "metadata": {},
   "source": [
    "#### 2. Display Data\n",
    "\n",
    "Print the first 10 rows of each dataframe to your jupyter notebook"
   ]
  },
  {
   "cell_type": "code",
   "execution_count": 4,
   "metadata": {},
   "outputs": [
    {
     "data": {
      "text/html": [
       "<div>\n",
       "<style scoped>\n",
       "    .dataframe tbody tr th:only-of-type {\n",
       "        vertical-align: middle;\n",
       "    }\n",
       "\n",
       "    .dataframe tbody tr th {\n",
       "        vertical-align: top;\n",
       "    }\n",
       "\n",
       "    .dataframe thead th {\n",
       "        text-align: right;\n",
       "    }\n",
       "</style>\n",
       "<table border=\"1\" class=\"dataframe\">\n",
       "  <thead>\n",
       "    <tr style=\"text-align: right;\">\n",
       "      <th></th>\n",
       "      <th>State</th>\n",
       "      <th>Participation</th>\n",
       "      <th>English</th>\n",
       "      <th>Math</th>\n",
       "      <th>Reading</th>\n",
       "      <th>Science</th>\n",
       "      <th>Composite</th>\n",
       "    </tr>\n",
       "  </thead>\n",
       "  <tbody>\n",
       "    <tr>\n",
       "      <td>0</td>\n",
       "      <td>National</td>\n",
       "      <td>60%</td>\n",
       "      <td>20.3</td>\n",
       "      <td>20.7</td>\n",
       "      <td>21.4</td>\n",
       "      <td>21.0</td>\n",
       "      <td>21.0</td>\n",
       "    </tr>\n",
       "    <tr>\n",
       "      <td>1</td>\n",
       "      <td>Alabama</td>\n",
       "      <td>100%</td>\n",
       "      <td>18.9</td>\n",
       "      <td>18.4</td>\n",
       "      <td>19.7</td>\n",
       "      <td>19.4</td>\n",
       "      <td>19.2</td>\n",
       "    </tr>\n",
       "    <tr>\n",
       "      <td>2</td>\n",
       "      <td>Alaska</td>\n",
       "      <td>65%</td>\n",
       "      <td>18.7</td>\n",
       "      <td>19.8</td>\n",
       "      <td>20.4</td>\n",
       "      <td>19.9</td>\n",
       "      <td>19.8</td>\n",
       "    </tr>\n",
       "    <tr>\n",
       "      <td>3</td>\n",
       "      <td>Arizona</td>\n",
       "      <td>62%</td>\n",
       "      <td>18.6</td>\n",
       "      <td>19.8</td>\n",
       "      <td>20.1</td>\n",
       "      <td>19.8</td>\n",
       "      <td>19.7</td>\n",
       "    </tr>\n",
       "    <tr>\n",
       "      <td>4</td>\n",
       "      <td>Arkansas</td>\n",
       "      <td>100%</td>\n",
       "      <td>18.9</td>\n",
       "      <td>19.0</td>\n",
       "      <td>19.7</td>\n",
       "      <td>19.5</td>\n",
       "      <td>19.4</td>\n",
       "    </tr>\n",
       "    <tr>\n",
       "      <td>5</td>\n",
       "      <td>California</td>\n",
       "      <td>31%</td>\n",
       "      <td>22.5</td>\n",
       "      <td>22.7</td>\n",
       "      <td>23.1</td>\n",
       "      <td>22.2</td>\n",
       "      <td>22.8</td>\n",
       "    </tr>\n",
       "    <tr>\n",
       "      <td>6</td>\n",
       "      <td>Colorado</td>\n",
       "      <td>100%</td>\n",
       "      <td>20.1</td>\n",
       "      <td>20.3</td>\n",
       "      <td>21.2</td>\n",
       "      <td>20.9</td>\n",
       "      <td>20.8</td>\n",
       "    </tr>\n",
       "    <tr>\n",
       "      <td>7</td>\n",
       "      <td>Connecticut</td>\n",
       "      <td>31%</td>\n",
       "      <td>25.5</td>\n",
       "      <td>24.6</td>\n",
       "      <td>25.6</td>\n",
       "      <td>24.6</td>\n",
       "      <td>25.2</td>\n",
       "    </tr>\n",
       "    <tr>\n",
       "      <td>8</td>\n",
       "      <td>Delaware</td>\n",
       "      <td>18%</td>\n",
       "      <td>24.1</td>\n",
       "      <td>23.4</td>\n",
       "      <td>24.8</td>\n",
       "      <td>23.6</td>\n",
       "      <td>24.1</td>\n",
       "    </tr>\n",
       "    <tr>\n",
       "      <td>9</td>\n",
       "      <td>District of Columbia</td>\n",
       "      <td>32%</td>\n",
       "      <td>24.4</td>\n",
       "      <td>23.5</td>\n",
       "      <td>24.9</td>\n",
       "      <td>23.5</td>\n",
       "      <td>24.2</td>\n",
       "    </tr>\n",
       "  </tbody>\n",
       "</table>\n",
       "</div>"
      ],
      "text/plain": [
       "                  State Participation  English  Math  Reading  Science  \\\n",
       "0              National           60%     20.3  20.7     21.4     21.0   \n",
       "1               Alabama          100%     18.9  18.4     19.7     19.4   \n",
       "2                Alaska           65%     18.7  19.8     20.4     19.9   \n",
       "3               Arizona           62%     18.6  19.8     20.1     19.8   \n",
       "4              Arkansas          100%     18.9  19.0     19.7     19.5   \n",
       "5            California           31%     22.5  22.7     23.1     22.2   \n",
       "6              Colorado          100%     20.1  20.3     21.2     20.9   \n",
       "7           Connecticut           31%     25.5  24.6     25.6     24.6   \n",
       "8              Delaware           18%     24.1  23.4     24.8     23.6   \n",
       "9  District of Columbia           32%     24.4  23.5     24.9     23.5   \n",
       "\n",
       "  Composite  \n",
       "0      21.0  \n",
       "1      19.2  \n",
       "2      19.8  \n",
       "3      19.7  \n",
       "4      19.4  \n",
       "5      22.8  \n",
       "6      20.8  \n",
       "7      25.2  \n",
       "8      24.1  \n",
       "9      24.2  "
      ]
     },
     "execution_count": 4,
     "metadata": {},
     "output_type": "execute_result"
    }
   ],
   "source": [
    "act_2017.head(10)"
   ]
  },
  {
   "cell_type": "code",
   "execution_count": 5,
   "metadata": {},
   "outputs": [
    {
     "data": {
      "text/html": [
       "<div>\n",
       "<style scoped>\n",
       "    .dataframe tbody tr th:only-of-type {\n",
       "        vertical-align: middle;\n",
       "    }\n",
       "\n",
       "    .dataframe tbody tr th {\n",
       "        vertical-align: top;\n",
       "    }\n",
       "\n",
       "    .dataframe thead th {\n",
       "        text-align: right;\n",
       "    }\n",
       "</style>\n",
       "<table border=\"1\" class=\"dataframe\">\n",
       "  <thead>\n",
       "    <tr style=\"text-align: right;\">\n",
       "      <th></th>\n",
       "      <th>State</th>\n",
       "      <th>Participation</th>\n",
       "      <th>Evidence-Based Reading and Writing</th>\n",
       "      <th>Math</th>\n",
       "      <th>Total</th>\n",
       "    </tr>\n",
       "  </thead>\n",
       "  <tbody>\n",
       "    <tr>\n",
       "      <td>0</td>\n",
       "      <td>Alabama</td>\n",
       "      <td>5%</td>\n",
       "      <td>593</td>\n",
       "      <td>572</td>\n",
       "      <td>1165</td>\n",
       "    </tr>\n",
       "    <tr>\n",
       "      <td>1</td>\n",
       "      <td>Alaska</td>\n",
       "      <td>38%</td>\n",
       "      <td>547</td>\n",
       "      <td>533</td>\n",
       "      <td>1080</td>\n",
       "    </tr>\n",
       "    <tr>\n",
       "      <td>2</td>\n",
       "      <td>Arizona</td>\n",
       "      <td>30%</td>\n",
       "      <td>563</td>\n",
       "      <td>553</td>\n",
       "      <td>1116</td>\n",
       "    </tr>\n",
       "    <tr>\n",
       "      <td>3</td>\n",
       "      <td>Arkansas</td>\n",
       "      <td>3%</td>\n",
       "      <td>614</td>\n",
       "      <td>594</td>\n",
       "      <td>1208</td>\n",
       "    </tr>\n",
       "    <tr>\n",
       "      <td>4</td>\n",
       "      <td>California</td>\n",
       "      <td>53%</td>\n",
       "      <td>531</td>\n",
       "      <td>524</td>\n",
       "      <td>1055</td>\n",
       "    </tr>\n",
       "    <tr>\n",
       "      <td>5</td>\n",
       "      <td>Colorado</td>\n",
       "      <td>11%</td>\n",
       "      <td>606</td>\n",
       "      <td>595</td>\n",
       "      <td>1201</td>\n",
       "    </tr>\n",
       "    <tr>\n",
       "      <td>6</td>\n",
       "      <td>Connecticut</td>\n",
       "      <td>100%</td>\n",
       "      <td>530</td>\n",
       "      <td>512</td>\n",
       "      <td>1041</td>\n",
       "    </tr>\n",
       "    <tr>\n",
       "      <td>7</td>\n",
       "      <td>Delaware</td>\n",
       "      <td>100%</td>\n",
       "      <td>503</td>\n",
       "      <td>492</td>\n",
       "      <td>996</td>\n",
       "    </tr>\n",
       "    <tr>\n",
       "      <td>8</td>\n",
       "      <td>District of Columbia</td>\n",
       "      <td>100%</td>\n",
       "      <td>482</td>\n",
       "      <td>468</td>\n",
       "      <td>950</td>\n",
       "    </tr>\n",
       "    <tr>\n",
       "      <td>9</td>\n",
       "      <td>Florida</td>\n",
       "      <td>83%</td>\n",
       "      <td>520</td>\n",
       "      <td>497</td>\n",
       "      <td>1017</td>\n",
       "    </tr>\n",
       "  </tbody>\n",
       "</table>\n",
       "</div>"
      ],
      "text/plain": [
       "                  State Participation  Evidence-Based Reading and Writing  \\\n",
       "0               Alabama            5%                                 593   \n",
       "1                Alaska           38%                                 547   \n",
       "2               Arizona           30%                                 563   \n",
       "3              Arkansas            3%                                 614   \n",
       "4            California           53%                                 531   \n",
       "5              Colorado           11%                                 606   \n",
       "6           Connecticut          100%                                 530   \n",
       "7              Delaware          100%                                 503   \n",
       "8  District of Columbia          100%                                 482   \n",
       "9               Florida           83%                                 520   \n",
       "\n",
       "   Math  Total  \n",
       "0   572   1165  \n",
       "1   533   1080  \n",
       "2   553   1116  \n",
       "3   594   1208  \n",
       "4   524   1055  \n",
       "5   595   1201  \n",
       "6   512   1041  \n",
       "7   492    996  \n",
       "8   468    950  \n",
       "9   497   1017  "
      ]
     },
     "execution_count": 5,
     "metadata": {},
     "output_type": "execute_result"
    }
   ],
   "source": [
    "sat_2017.head(10)"
   ]
  },
  {
   "cell_type": "markdown",
   "metadata": {},
   "source": [
    "#### 3. Verbally Describe Data\n",
    "\n",
    "Take your time looking through the data and thoroughly describe the data in the markdown cell below. "
   ]
  },
  {
   "cell_type": "markdown",
   "metadata": {},
   "source": [
    "> **_ACT 2017:_** The ACT 2017 data includes a State (object), Participation (object), English Average Scores (int64), Math Average Scores (int64), Reading Average Scores (int64), Science Average Scores (int64) and the Average Composite scores (object). All 50 states are represented as well as the District of Columbia and a National row. Some participations are remarkably high (100%) which seems unlikely.\n",
    ">\n",
    "> **_SAT 2017:_**  The SAT 2017 data includes a State (object), Participation (object), Reading and Writing Average Scores (int64), Math Average Scores (int64) and the Average Total scores (int64). All 50 states are represented as well as the District of Columbia. Some participations are remarkably high (100%) which seems unlikely."
   ]
  },
  {
   "cell_type": "markdown",
   "metadata": {},
   "source": [
    "#### 4a. Does the data look complete? "
   ]
  },
  {
   "cell_type": "code",
   "execution_count": 6,
   "metadata": {},
   "outputs": [
    {
     "data": {
      "text/plain": [
       "State            0\n",
       "Participation    0\n",
       "English          0\n",
       "Math             0\n",
       "Reading          0\n",
       "Science          0\n",
       "Composite        0\n",
       "dtype: int64"
      ]
     },
     "execution_count": 6,
     "metadata": {},
     "output_type": "execute_result"
    }
   ],
   "source": [
    "act_2017.isnull().sum()"
   ]
  },
  {
   "cell_type": "code",
   "execution_count": 7,
   "metadata": {},
   "outputs": [
    {
     "data": {
      "text/plain": [
       "State                                 0\n",
       "Participation                         0\n",
       "Evidence-Based Reading and Writing    0\n",
       "Math                                  0\n",
       "Total                                 0\n",
       "dtype: int64"
      ]
     },
     "execution_count": 7,
     "metadata": {},
     "output_type": "execute_result"
    }
   ],
   "source": [
    "sat_2017.isnull().sum()"
   ]
  },
  {
   "cell_type": "markdown",
   "metadata": {},
   "source": [
    "> **_Answer:_** The amount of participation seems a little too varied. To have states with 100% participation and some as low as 3% seem like there is something incomplete about the data. But their are no null values. At this point in the analysis, the data seems complete."
   ]
  },
  {
   "cell_type": "markdown",
   "metadata": {},
   "source": [
    "#### 4b. Are there any obvious issues with the observations?\n",
    "\n",
    "**What is the minimum *possible* value for each test/subtest? What is the maximum *possible* value?**\n",
    "\n",
    "Consider comparing any questionable values to the sources of your data:\n",
    "- [SAT](https://blog.collegevine.com/here-are-the-average-sat-scores-by-state/)\n",
    "- [ACT](https://blog.prepscholar.com/act-scores-by-state-averages-highs-and-lows)"
   ]
  },
  {
   "cell_type": "markdown",
   "metadata": {},
   "source": [
    "##### **_Answer:_** \n",
    "> **_ACT error search:_**\n",
    " - The range of ACT scores  is between 1 and 36.\n",
    "    - These scores are compiled and averaged and each subtest has the same range.\n",
    "    - [Reference for ACT scoring](https://magoosh.com/hs/act/2019/act-scores/)"
   ]
  },
  {
   "cell_type": "code",
   "execution_count": 8,
   "metadata": {},
   "outputs": [
    {
     "data": {
      "text/html": [
       "<div>\n",
       "<style scoped>\n",
       "    .dataframe tbody tr th:only-of-type {\n",
       "        vertical-align: middle;\n",
       "    }\n",
       "\n",
       "    .dataframe tbody tr th {\n",
       "        vertical-align: top;\n",
       "    }\n",
       "\n",
       "    .dataframe thead th {\n",
       "        text-align: right;\n",
       "    }\n",
       "</style>\n",
       "<table border=\"1\" class=\"dataframe\">\n",
       "  <thead>\n",
       "    <tr style=\"text-align: right;\">\n",
       "      <th></th>\n",
       "      <th>English</th>\n",
       "      <th>Math</th>\n",
       "      <th>Reading</th>\n",
       "      <th>Science</th>\n",
       "    </tr>\n",
       "  </thead>\n",
       "  <tbody>\n",
       "    <tr>\n",
       "      <td>count</td>\n",
       "      <td>52.000000</td>\n",
       "      <td>52.000000</td>\n",
       "      <td>52.000000</td>\n",
       "      <td>52.000000</td>\n",
       "    </tr>\n",
       "    <tr>\n",
       "      <td>mean</td>\n",
       "      <td>20.919231</td>\n",
       "      <td>21.173077</td>\n",
       "      <td>22.001923</td>\n",
       "      <td>21.040385</td>\n",
       "    </tr>\n",
       "    <tr>\n",
       "      <td>std</td>\n",
       "      <td>2.332132</td>\n",
       "      <td>1.963602</td>\n",
       "      <td>2.048672</td>\n",
       "      <td>3.151113</td>\n",
       "    </tr>\n",
       "    <tr>\n",
       "      <td>min</td>\n",
       "      <td>16.300000</td>\n",
       "      <td>18.000000</td>\n",
       "      <td>18.100000</td>\n",
       "      <td>2.300000</td>\n",
       "    </tr>\n",
       "    <tr>\n",
       "      <td>25%</td>\n",
       "      <td>19.000000</td>\n",
       "      <td>19.400000</td>\n",
       "      <td>20.475000</td>\n",
       "      <td>19.900000</td>\n",
       "    </tr>\n",
       "    <tr>\n",
       "      <td>50%</td>\n",
       "      <td>20.550000</td>\n",
       "      <td>20.900000</td>\n",
       "      <td>21.700000</td>\n",
       "      <td>21.150000</td>\n",
       "    </tr>\n",
       "    <tr>\n",
       "      <td>75%</td>\n",
       "      <td>23.300000</td>\n",
       "      <td>23.100000</td>\n",
       "      <td>24.125000</td>\n",
       "      <td>22.525000</td>\n",
       "    </tr>\n",
       "    <tr>\n",
       "      <td>max</td>\n",
       "      <td>25.500000</td>\n",
       "      <td>25.300000</td>\n",
       "      <td>26.000000</td>\n",
       "      <td>24.900000</td>\n",
       "    </tr>\n",
       "  </tbody>\n",
       "</table>\n",
       "</div>"
      ],
      "text/plain": [
       "         English       Math    Reading    Science\n",
       "count  52.000000  52.000000  52.000000  52.000000\n",
       "mean   20.919231  21.173077  22.001923  21.040385\n",
       "std     2.332132   1.963602   2.048672   3.151113\n",
       "min    16.300000  18.000000  18.100000   2.300000\n",
       "25%    19.000000  19.400000  20.475000  19.900000\n",
       "50%    20.550000  20.900000  21.700000  21.150000\n",
       "75%    23.300000  23.100000  24.125000  22.525000\n",
       "max    25.500000  25.300000  26.000000  24.900000"
      ]
     },
     "execution_count": 8,
     "metadata": {},
     "output_type": "execute_result"
    }
   ],
   "source": [
    "act_2017.describe()"
   ]
  },
  {
   "cell_type": "markdown",
   "metadata": {},
   "source": [
    "> - ACT _max_ and _min_ scores fall in range for each test. Though the composite score is not included here because it is stored as an object."
   ]
  },
  {
   "cell_type": "code",
   "execution_count": 9,
   "metadata": {
    "scrolled": true
   },
   "outputs": [
    {
     "name": "stdout",
     "output_type": "stream",
     "text": [
      "could not convert string to float: '20.2x'\n"
     ]
    }
   ],
   "source": [
    "# We will attempt to convert the column to float and check the max and min values.\n",
    "try:\n",
    "    act_2017['Composite'].astype(float).describe()\n",
    "except Exception as e:\n",
    "    print(e)"
   ]
  },
  {
   "cell_type": "code",
   "execution_count": 10,
   "metadata": {},
   "outputs": [
    {
     "data": {
      "text/html": [
       "<div>\n",
       "<style scoped>\n",
       "    .dataframe tbody tr th:only-of-type {\n",
       "        vertical-align: middle;\n",
       "    }\n",
       "\n",
       "    .dataframe tbody tr th {\n",
       "        vertical-align: top;\n",
       "    }\n",
       "\n",
       "    .dataframe thead th {\n",
       "        text-align: right;\n",
       "    }\n",
       "</style>\n",
       "<table border=\"1\" class=\"dataframe\">\n",
       "  <thead>\n",
       "    <tr style=\"text-align: right;\">\n",
       "      <th></th>\n",
       "      <th>State</th>\n",
       "      <th>Participation</th>\n",
       "      <th>English</th>\n",
       "      <th>Math</th>\n",
       "      <th>Reading</th>\n",
       "      <th>Science</th>\n",
       "      <th>Composite</th>\n",
       "    </tr>\n",
       "  </thead>\n",
       "  <tbody>\n",
       "    <tr>\n",
       "      <td>51</td>\n",
       "      <td>Wyoming</td>\n",
       "      <td>100%</td>\n",
       "      <td>19.4</td>\n",
       "      <td>19.8</td>\n",
       "      <td>20.8</td>\n",
       "      <td>20.6</td>\n",
       "      <td>20.2x</td>\n",
       "    </tr>\n",
       "  </tbody>\n",
       "</table>\n",
       "</div>"
      ],
      "text/plain": [
       "      State Participation  English  Math  Reading  Science Composite\n",
       "51  Wyoming          100%     19.4  19.8     20.8     20.6     20.2x"
      ]
     },
     "execution_count": 10,
     "metadata": {},
     "output_type": "execute_result"
    }
   ],
   "source": [
    "# From above, we see there is an ValueError in converting the string value '20.2x' to a float.\n",
    "# Let's find that row.\n",
    "act_2017[act_2017['Composite'] == '20.2x']"
   ]
  },
  {
   "cell_type": "markdown",
   "metadata": {},
   "source": [
    "> **_Error in ACT 2017 Composite Column:_** \n",
    "- Wyoming's Composite score has had an $x$ on the end of it.\n",
    "- By checking the source data [here](https://blog.prepscholar.com/act-scores-by-state-averages-highs-and-lows), we can see that Wyoming's score should be 20.2.\n",
    "- Since there is a bad value in the Composite column, for the  purposes of this quick  check, I am going to find the max and min values of the column by sorting them to check that they are within range."
   ]
  },
  {
   "cell_type": "code",
   "execution_count": 11,
   "metadata": {},
   "outputs": [],
   "source": [
    "# A quick check shows the values are sorted as expected. \n",
    "# i.e. Alphabetical sorting is corresponding to  numerical sorting.\n",
    "act_2017.sort_values('Composite');"
   ]
  },
  {
   "cell_type": "code",
   "execution_count": 12,
   "metadata": {},
   "outputs": [
    {
     "name": "stdout",
     "output_type": "stream",
     "text": [
      "Min: 17.8\n",
      "Max: 25.5\n",
      "The ACT max and min scores fall within range.\n"
     ]
    }
   ],
   "source": [
    "comp_min = act_2017.sort_values('Composite').head(1).values[0][-1]\n",
    "comp_max = act_2017.sort_values('Composite').tail(1).values[0][-1]\n",
    "print(f'Min: {comp_min}')\n",
    "print(f'Max: {comp_max}')\n",
    "print(\"The ACT max and min scores fall within range.\")"
   ]
  },
  {
   "cell_type": "markdown",
   "metadata": {},
   "source": [
    "> **_ACT 2017 Participation Column:_** \n",
    "- We will also want to check out _Participation_ percentages. They should fall between 0% and 100%."
   ]
  },
  {
   "cell_type": "code",
   "execution_count": 13,
   "metadata": {},
   "outputs": [],
   "source": [
    "# act_2017.sort_values('Participation');"
   ]
  },
  {
   "cell_type": "markdown",
   "metadata": {},
   "source": [
    "> - **_Sorting Value Error:_** Sorting by values does not order them numerically. I did a line by line inspection and found that there were  no negative values and nothing a bove 100%.\n",
    "    - I will use a string method to convert the values and confirm."
   ]
  },
  {
   "cell_type": "code",
   "execution_count": 14,
   "metadata": {},
   "outputs": [
    {
     "data": {
      "text/plain": [
       "count     52.000000\n",
       "mean      65.153846\n",
       "std       31.832518\n",
       "min        8.000000\n",
       "25%       31.000000\n",
       "50%       68.000000\n",
       "75%      100.000000\n",
       "max      100.000000\n",
       "Name: Participation, dtype: float64"
      ]
     },
     "execution_count": 14,
     "metadata": {},
     "output_type": "execute_result"
    }
   ],
   "source": [
    "act_2017['Participation'].str[:-1].astype(float).describe()"
   ]
  },
  {
   "cell_type": "markdown",
   "metadata": {},
   "source": [
    "> - By removing the % symbol from the column, I can convert them to floats and confirm my visual inspection.\n",
    ">\n",
    "> - The ACT _Participation_ scores fall within range."
   ]
  },
  {
   "cell_type": "markdown",
   "metadata": {},
   "source": [
    "> **_SAT Error Search:_**\n",
    "- The range of SAT scores for 2018 is between 400 and 1600.\n",
    "    - 200 - 800 for each subtest.\n",
    "    - [Reference for SAT scoring](https://blog.prepscholar.com/what-is-a-good-sat-score-a-bad-sat-score-an-excellent-sat-score)"
   ]
  },
  {
   "cell_type": "code",
   "execution_count": 15,
   "metadata": {},
   "outputs": [
    {
     "data": {
      "text/html": [
       "<div>\n",
       "<style scoped>\n",
       "    .dataframe tbody tr th:only-of-type {\n",
       "        vertical-align: middle;\n",
       "    }\n",
       "\n",
       "    .dataframe tbody tr th {\n",
       "        vertical-align: top;\n",
       "    }\n",
       "\n",
       "    .dataframe thead th {\n",
       "        text-align: right;\n",
       "    }\n",
       "</style>\n",
       "<table border=\"1\" class=\"dataframe\">\n",
       "  <thead>\n",
       "    <tr style=\"text-align: right;\">\n",
       "      <th></th>\n",
       "      <th>Evidence-Based Reading and Writing</th>\n",
       "      <th>Math</th>\n",
       "      <th>Total</th>\n",
       "    </tr>\n",
       "  </thead>\n",
       "  <tbody>\n",
       "    <tr>\n",
       "      <td>count</td>\n",
       "      <td>51.000000</td>\n",
       "      <td>51.000000</td>\n",
       "      <td>51.000000</td>\n",
       "    </tr>\n",
       "    <tr>\n",
       "      <td>mean</td>\n",
       "      <td>569.117647</td>\n",
       "      <td>547.627451</td>\n",
       "      <td>1126.098039</td>\n",
       "    </tr>\n",
       "    <tr>\n",
       "      <td>std</td>\n",
       "      <td>45.666901</td>\n",
       "      <td>84.909119</td>\n",
       "      <td>92.494812</td>\n",
       "    </tr>\n",
       "    <tr>\n",
       "      <td>min</td>\n",
       "      <td>482.000000</td>\n",
       "      <td>52.000000</td>\n",
       "      <td>950.000000</td>\n",
       "    </tr>\n",
       "    <tr>\n",
       "      <td>25%</td>\n",
       "      <td>533.500000</td>\n",
       "      <td>522.000000</td>\n",
       "      <td>1055.500000</td>\n",
       "    </tr>\n",
       "    <tr>\n",
       "      <td>50%</td>\n",
       "      <td>559.000000</td>\n",
       "      <td>548.000000</td>\n",
       "      <td>1107.000000</td>\n",
       "    </tr>\n",
       "    <tr>\n",
       "      <td>75%</td>\n",
       "      <td>613.000000</td>\n",
       "      <td>599.000000</td>\n",
       "      <td>1212.000000</td>\n",
       "    </tr>\n",
       "    <tr>\n",
       "      <td>max</td>\n",
       "      <td>644.000000</td>\n",
       "      <td>651.000000</td>\n",
       "      <td>1295.000000</td>\n",
       "    </tr>\n",
       "  </tbody>\n",
       "</table>\n",
       "</div>"
      ],
      "text/plain": [
       "       Evidence-Based Reading and Writing        Math        Total\n",
       "count                           51.000000   51.000000    51.000000\n",
       "mean                           569.117647  547.627451  1126.098039\n",
       "std                             45.666901   84.909119    92.494812\n",
       "min                            482.000000   52.000000   950.000000\n",
       "25%                            533.500000  522.000000  1055.500000\n",
       "50%                            559.000000  548.000000  1107.000000\n",
       "75%                            613.000000  599.000000  1212.000000\n",
       "max                            644.000000  651.000000  1295.000000"
      ]
     },
     "execution_count": 15,
     "metadata": {},
     "output_type": "execute_result"
    }
   ],
   "source": [
    "sat_2017.describe()"
   ]
  },
  {
   "cell_type": "markdown",
   "metadata": {},
   "source": [
    "> **_SAT 2017 Math Error:_** \n",
    "- The SAT scores description shows that at least one state has a Math score that is below the possible range  of SAT scores."
   ]
  },
  {
   "cell_type": "code",
   "execution_count": 16,
   "metadata": {},
   "outputs": [
    {
     "data": {
      "text/html": [
       "<div>\n",
       "<style scoped>\n",
       "    .dataframe tbody tr th:only-of-type {\n",
       "        vertical-align: middle;\n",
       "    }\n",
       "\n",
       "    .dataframe tbody tr th {\n",
       "        vertical-align: top;\n",
       "    }\n",
       "\n",
       "    .dataframe thead th {\n",
       "        text-align: right;\n",
       "    }\n",
       "</style>\n",
       "<table border=\"1\" class=\"dataframe\">\n",
       "  <thead>\n",
       "    <tr style=\"text-align: right;\">\n",
       "      <th></th>\n",
       "      <th>State</th>\n",
       "      <th>Participation</th>\n",
       "      <th>Evidence-Based Reading and Writing</th>\n",
       "      <th>Math</th>\n",
       "      <th>Total</th>\n",
       "    </tr>\n",
       "  </thead>\n",
       "  <tbody>\n",
       "    <tr>\n",
       "      <td>20</td>\n",
       "      <td>Maryland</td>\n",
       "      <td>69%</td>\n",
       "      <td>536</td>\n",
       "      <td>52</td>\n",
       "      <td>1060</td>\n",
       "    </tr>\n",
       "    <tr>\n",
       "      <td>8</td>\n",
       "      <td>District of Columbia</td>\n",
       "      <td>100%</td>\n",
       "      <td>482</td>\n",
       "      <td>468</td>\n",
       "      <td>950</td>\n",
       "    </tr>\n",
       "    <tr>\n",
       "      <td>7</td>\n",
       "      <td>Delaware</td>\n",
       "      <td>100%</td>\n",
       "      <td>503</td>\n",
       "      <td>492</td>\n",
       "      <td>996</td>\n",
       "    </tr>\n",
       "  </tbody>\n",
       "</table>\n",
       "</div>"
      ],
      "text/plain": [
       "                   State Participation  Evidence-Based Reading and Writing  \\\n",
       "20              Maryland           69%                                 536   \n",
       "8   District of Columbia          100%                                 482   \n",
       "7               Delaware          100%                                 503   \n",
       "\n",
       "    Math  Total  \n",
       "20    52   1060  \n",
       "8    468    950  \n",
       "7    492    996  "
      ]
     },
     "execution_count": 16,
     "metadata": {},
     "output_type": "execute_result"
    }
   ],
   "source": [
    "sat_2017.sort_values('Math').head(3)"
   ]
  },
  {
   "cell_type": "markdown",
   "metadata": {},
   "source": [
    "> - By sorting the scores by the Math column, we can see that the problem state is Maryland  with a Math score of 52. \n",
    "> - By checking the source data [here](https://blog.collegevine.com/here-are-the-average-sat-scores-by-state/) we can see that the actual average Math score for Maryland in 2017 was 524.\n",
    "\n",
    "> **_SAT 2017 Participation Scores:_** \n",
    "- Finally we will confirm the _Participation_ column like we did for the ACT."
   ]
  },
  {
   "cell_type": "code",
   "execution_count": 17,
   "metadata": {},
   "outputs": [
    {
     "data": {
      "text/plain": [
       "count     52.000000\n",
       "mean      65.153846\n",
       "std       31.832518\n",
       "min        8.000000\n",
       "25%       31.000000\n",
       "50%       68.000000\n",
       "75%      100.000000\n",
       "max      100.000000\n",
       "Name: Participation, dtype: float64"
      ]
     },
     "execution_count": 17,
     "metadata": {},
     "output_type": "execute_result"
    }
   ],
   "source": [
    "act_2017['Participation'].str[:-1].astype(float).describe()"
   ]
  },
  {
   "cell_type": "markdown",
   "metadata": {},
   "source": [
    "> - The scores fall within  range."
   ]
  },
  {
   "cell_type": "markdown",
   "metadata": {},
   "source": [
    "#### 4c. Fix any errors you identified\n",
    "\n",
    "**The data is available** so there's no need to guess or calculate anything. If you didn't find any errors, continue to the next step."
   ]
  },
  {
   "cell_type": "code",
   "execution_count": 18,
   "metadata": {},
   "outputs": [],
   "source": [
    "# ACT 2017: Wyoming index is 51 and its composite score should be '20.2'.\n",
    "# We will leae the score as a string for now.\n",
    "act_2017.loc[[51],'Composite'] = '20.2'\n",
    "act_2017.loc[[51],:]; # Check for permanence\n",
    "\n",
    "# SAT 2017: Maryland index is 20 and we are fixing the Math column.\n",
    "sat_2017.loc[[20], 'Math'] = 524\n",
    "sat_2017.loc[[20], :];  # Check for permanence"
   ]
  },
  {
   "cell_type": "markdown",
   "metadata": {},
   "source": [
    "#### 5. What are your data types? \n",
    "Display the data types of each feature. "
   ]
  },
  {
   "cell_type": "code",
   "execution_count": 19,
   "metadata": {},
   "outputs": [
    {
     "data": {
      "text/plain": [
       "State             object\n",
       "Participation     object\n",
       "English          float64\n",
       "Math             float64\n",
       "Reading          float64\n",
       "Science          float64\n",
       "Composite         object\n",
       "dtype: object"
      ]
     },
     "execution_count": 19,
     "metadata": {},
     "output_type": "execute_result"
    }
   ],
   "source": [
    "act_2017.dtypes"
   ]
  },
  {
   "cell_type": "code",
   "execution_count": 20,
   "metadata": {},
   "outputs": [
    {
     "data": {
      "text/plain": [
       "State                                 object\n",
       "Participation                         object\n",
       "Evidence-Based Reading and Writing     int64\n",
       "Math                                   int64\n",
       "Total                                  int64\n",
       "dtype: object"
      ]
     },
     "execution_count": 20,
     "metadata": {},
     "output_type": "execute_result"
    }
   ],
   "source": [
    "sat_2017.dtypes"
   ]
  },
  {
   "cell_type": "markdown",
   "metadata": {},
   "source": [
    "What did you learn?\n",
    "- Do any of them seem odd?  \n",
    "- Which ones are not as they should be?  "
   ]
  },
  {
   "cell_type": "markdown",
   "metadata": {},
   "source": [
    "> **_Data Type Errors:_**  \n",
    "- **ACT 2017:** \n",
    "    - The _Composite_ score is stored as an object due to Wyoming's record error.\n",
    "    - The _Participation_ column is stored as an object because of the $\\%$ symbol.\n",
    "- **SAT 2017:** \n",
    "    - The _Participation_ column is stored as an object because of the $\\%$ symbol in the  SAT table as well."
   ]
  },
  {
   "cell_type": "markdown",
   "metadata": {},
   "source": [
    "#### 6. Fix Incorrect Data Types\n",
    "Based on what you discovered above, use appropriate methods to re-type incorrectly typed data.\n",
    "- Define a function that will allow you to convert participation rates to an appropriate numeric type. Use `map` or `apply` to change these columns in each dataframe."
   ]
  },
  {
   "cell_type": "markdown",
   "metadata": {},
   "source": [
    "> **_Convert Participation to Numeric Type:_** "
   ]
  },
  {
   "cell_type": "code",
   "execution_count": 21,
   "metadata": {},
   "outputs": [],
   "source": [
    "def convert_string(score):\n",
    "    '''\n",
    "    This function is used in the following `fix_participation` function. \n",
    "    It converts percentages stored as string into numeric types.\n",
    "    '''\n",
    "    \n",
    "    if score[-1] == '%':\n",
    "        return float(score[:-1])\n",
    "    else:\n",
    "        return float(score)"
   ]
  },
  {
   "cell_type": "code",
   "execution_count": 22,
   "metadata": {},
   "outputs": [],
   "source": [
    "def convert_string_to_float(df,column='Participation'):\n",
    "    ''''\n",
    "    This function receives a data frame and a column by name to construct a series (default is the `'Participation'` column).\n",
    "    If the series is already type `'float64'` the function will print a message saying so.\n",
    "    If not, the `fix_participation` will cut off the last character and convert the series to type 'float64'.\n",
    "    This function is intended to convert percentages stored as objects (strings) into numerical values (float64). \n",
    "    '''\n",
    "    \n",
    "    # df (pandas.DataFrame): The dataframe to define the series to check (and convert) data types.\n",
    "    # column (str): Column name of the data frame to find the correct series.\n",
    "    \n",
    "    # Confirm that column provided is in the data frame. \n",
    "    # If not, through an error along with valid column names.\n",
    "    try:\n",
    "        df[column]\n",
    "    except KeyError:\n",
    "        print(f'Column {column} does not exist in dataframe.')\n",
    "        print('Try one of these:')\n",
    "        print(df.columns)\n",
    "        return\n",
    "    \n",
    "    # Store initial data type for checking and printing.\n",
    "    type_initial = df[column].dtype\n",
    "    \n",
    "    # Check that initial data type is object.\n",
    "    if type_initial == 'object':\n",
    "        df[column] = df[column].apply(convert_string)\n",
    "        print(f\"Data frame column: '{column}' converted from type {type_initial} to type {df[column].dtype}\")\n",
    "    else:\n",
    "        print(f\"Data frame column: '{column}' is already type {type_initial}.\")"
   ]
  },
  {
   "cell_type": "code",
   "execution_count": 23,
   "metadata": {},
   "outputs": [
    {
     "name": "stdout",
     "output_type": "stream",
     "text": [
      "Data frame column: 'Participation' converted from type object to type float64\n",
      "Data frame column: 'Participation' converted from type object to type float64\n"
     ]
    }
   ],
   "source": [
    "convert_string_to_float(sat_2017)\n",
    "convert_string_to_float(act_2017)"
   ]
  },
  {
   "cell_type": "markdown",
   "metadata": {},
   "source": [
    "- Fix any individual values preventing other columns from being the appropriate type."
   ]
  },
  {
   "cell_type": "markdown",
   "metadata": {},
   "source": [
    "> **_Convert ACT 2017 Composite column:_** We have already fixed the _\"bad\"_ value in the ACT 2017 dataframe, so we can go ahead and convert the column."
   ]
  },
  {
   "cell_type": "code",
   "execution_count": 24,
   "metadata": {},
   "outputs": [
    {
     "data": {
      "text/plain": [
       "20.2"
      ]
     },
     "execution_count": 24,
     "metadata": {},
     "output_type": "execute_result"
    }
   ],
   "source": [
    "float(act_2017[act_2017['State'] == 'Wyoming'].values[0][-1])"
   ]
  },
  {
   "cell_type": "code",
   "execution_count": 25,
   "metadata": {},
   "outputs": [
    {
     "name": "stdout",
     "output_type": "stream",
     "text": [
      "Data frame column: 'Composite' converted from type object to type float64\n"
     ]
    }
   ],
   "source": [
    "# act_2017['Composite'] = act_2017['Composite'].astype(float)\n",
    "convert_string_to_float(act_2017, column='Composite')"
   ]
  },
  {
   "cell_type": "markdown",
   "metadata": {},
   "source": [
    "- Finish your data modifications by making sure the columns are now typed appropriately.\n",
    "\n",
    "- Display the data types again to confirm they are correct."
   ]
  },
  {
   "cell_type": "code",
   "execution_count": 26,
   "metadata": {},
   "outputs": [
    {
     "name": "stdout",
     "output_type": "stream",
     "text": [
      "State             object\n",
      "Participation    float64\n",
      "English          float64\n",
      "Math             float64\n",
      "Reading          float64\n",
      "Science          float64\n",
      "Composite        float64\n",
      "dtype: object\n",
      "\n",
      "State                                  object\n",
      "Participation                         float64\n",
      "Evidence-Based Reading and Writing      int64\n",
      "Math                                    int64\n",
      "Total                                   int64\n",
      "dtype: object\n"
     ]
    }
   ],
   "source": [
    "print(act_2017.dtypes)\n",
    "print()\n",
    "print(sat_2017.dtypes)"
   ]
  },
  {
   "cell_type": "markdown",
   "metadata": {},
   "source": [
    "#### 7. Rename Columns\n",
    "Change the names of the columns to more expressive names so that you can tell the difference the SAT columns and the ACT columns. Your solution should map all column names being changed at once (no repeated singular name-changes). **We will be combining these data with some of the data from 2018, and so you should name columns in an appropriate way**.\n",
    "\n",
    "**Guidelines**:\n",
    "- Column names should be all lowercase (you will thank yourself when you start pushing data to SQL later in the course)\n",
    "- Column names should not contain spaces (underscores will suffice--this allows for using the `df.column_name` method to access columns in addition to `df['column_name']`.\n",
    "- Column names should be unique and informative (the only feature that we actually share between dataframes is the state)."
   ]
  },
  {
   "cell_type": "code",
   "execution_count": 27,
   "metadata": {},
   "outputs": [],
   "source": [
    "def standardize_cols(df,prefix):\n",
    "    df.columns = ['state' if col.lower() == 'State'.lower() \\\n",
    "        else prefix + 'reading_writing' \\\n",
    "                  if (col.lower() == 'Evidence-Based Reading and Writing'.lower()) \\\n",
    "                  and (col[:len(prefix)] != prefix)\n",
    "        else prefix + col.lower().replace('-','_').replace(' ','_') \\\n",
    "                  if (col[:len(prefix)] != prefix) \\\n",
    "        else col\n",
    "                  for col in df.columns \\\n",
    "                 ]\n",
    "    return df.columns"
   ]
  },
  {
   "cell_type": "code",
   "execution_count": 28,
   "metadata": {
    "scrolled": true
   },
   "outputs": [
    {
     "data": {
      "text/plain": [
       "Index(['state', 'ACT_2017_participation', 'ACT_2017_english', 'ACT_2017_math',\n",
       "       'ACT_2017_reading', 'ACT_2017_science', 'ACT_2017_composite'],\n",
       "      dtype='object')"
      ]
     },
     "execution_count": 28,
     "metadata": {},
     "output_type": "execute_result"
    }
   ],
   "source": [
    "standardize_cols(act_2017,'ACT_2017_')"
   ]
  },
  {
   "cell_type": "code",
   "execution_count": 29,
   "metadata": {},
   "outputs": [
    {
     "data": {
      "text/plain": [
       "Index(['state', 'SAT_2017_participation', 'SAT_2017_reading_writing',\n",
       "       'SAT_2017_math', 'SAT_2017_total'],\n",
       "      dtype='object')"
      ]
     },
     "execution_count": 29,
     "metadata": {},
     "output_type": "execute_result"
    }
   ],
   "source": [
    "standardize_cols(sat_2017,'SAT_2017_')\n",
    "\n",
    "# print(act_2017.info())\n",
    "# print()\n",
    "# print(sat_2017.info())"
   ]
  },
  {
   "cell_type": "markdown",
   "metadata": {},
   "source": [
    "#### 8. Create a data dictionary\n",
    "\n",
    "Now that we've fixed our data, and given it appropriate names, let's create a [data dictionary](http://library.ucmerced.edu/node/10249). \n",
    "\n",
    "A data dictionary provides a quick overview of features/variables/columns, alongside data types and descriptions. The more descriptive you can be, the more useful this document is.\n",
    "\n",
    "Example of a Fictional Data Dictionary Entry: \n",
    "\n",
    "|Feature|Type|Dataset|Description|\n",
    "|---|---|---|---|\n",
    "|**county_pop**|*integer*|2010 census|The population of the county (units in thousands, where 2.5 represents 2500 people).| \n",
    "|**per_poverty**|*float*|2010 census|The percent of the county over the age of 18 living below the 200% of official US poverty rate (units percent to two decimal places 98.10 means 98.1%)|\n",
    "\n",
    "[Here's a quick link to a short guide for formatting markdown in Jupyter notebooks](https://jupyter-notebook.readthedocs.io/en/stable/examples/Notebook/Working%20With%20Markdown%20Cells.html).\n",
    "\n",
    "Provided is the skeleton for formatting a markdown table, with columns headers that will help you create a data dictionary to quickly summarize your data, as well as some examples. **This would be a great thing to copy and paste into your custom README for this project.**"
   ]
  },
  {
   "cell_type": "markdown",
   "metadata": {},
   "source": [
    "|Feature|Type|Dataset|Description|\n",
    "|---|---|---|---|\n",
    "|state|string|ACT|State from which the ACT data is colllected.|\n",
    "|ACT_2017_participation|float|ACT|The percentage of high-school students in each state that participated in the SAT.|\n",
    "|ACT_2017_english|float|ACT|The average score on the English section of the ACT.|\n",
    "|ACT_2017_math|float|ACT|The average score on the Math section of the ACT.|\n",
    "|ACT_2017_reading|float|ACT|The average score on the Reading section of the ACT.|\n",
    "|ACT_2017_science|float|ACT|The average score on the Science section of the ACT.|\n",
    "|ACT_2017_composite|float|ACT|The average composite score from all sections of the ACT.|\n",
    "|state|string|SAT|State from which the SAT data is colllected.|\n",
    "|sat_participation|float|SAT|The percentage of high-school students in each state that participated in the SAT.|\n",
    "|SAT_2017_reading_writing|integer|SAT|The average score on the \"Evidence Based Reading and Writing\" section of the SAT.|\n",
    "|SAT_2017_math|integer|SAT|The average score of the Math section of the SAT.\n",
    "|SAT_2017_total|integer|SAT|The average total score of the SAT per state.\n"
   ]
  },
  {
   "cell_type": "markdown",
   "metadata": {},
   "source": [
    "#### 9. Drop unnecessary rows\n",
    "\n",
    "One of our dataframes contains an extra row. Identify and remove this from the dataframe."
   ]
  },
  {
   "cell_type": "code",
   "execution_count": 30,
   "metadata": {},
   "outputs": [
    {
     "data": {
      "text/plain": [
       "['National']"
      ]
     },
     "execution_count": 30,
     "metadata": {},
     "output_type": "execute_result"
    }
   ],
   "source": [
    "[state for state in act_2017['state'].values if state not in sat_2017['state'].values]"
   ]
  },
  {
   "cell_type": "markdown",
   "metadata": {},
   "source": [
    "> **_Dealing with Unnecessary Rows:_** Using the list comprehension above we can that `act_2017` has an extra state: 'National'. We will deal with this row below."
   ]
  },
  {
   "cell_type": "markdown",
   "metadata": {},
   "source": [
    "> **_Joining the Tables:_** I am going to use a property of 'inner' joining to remove  any  extra rows in the two tables. I am going to use the 'state' column in both dataframes to  join the dataframes together. If we do an inner join, any states from the `left data frame` that do not have a corresponding state in the `right data frame` will be excluded.\n",
    "- To make sure that there is no joining errors, I am going to convert each state to its `title` format."
   ]
  },
  {
   "cell_type": "code",
   "execution_count": 31,
   "metadata": {},
   "outputs": [],
   "source": [
    "act_2017['state'] = act_2017['state'].apply(lambda state: state.title())\n",
    "sat_2017['state'] = sat_2017['state'].apply(lambda state: state.title())\n",
    "# act_2017.set_index('state').join(sat_2017.set_index('state'),how='inner').shape"
   ]
  },
  {
   "cell_type": "markdown",
   "metadata": {},
   "source": [
    "#### 10. Merge Dataframes\n",
    "\n",
    "Join the 2017 ACT and SAT dataframes using the state in each dataframe as the key. Assign this to a new variable."
   ]
  },
  {
   "cell_type": "code",
   "execution_count": 32,
   "metadata": {},
   "outputs": [],
   "source": [
    "combined = act_2017.set_index('state').join(sat_2017.set_index('state'),how='inner')"
   ]
  },
  {
   "cell_type": "code",
   "execution_count": 33,
   "metadata": {
    "scrolled": true
   },
   "outputs": [
    {
     "name": "stdout",
     "output_type": "stream",
     "text": [
      "(52, 7) (51, 5) (51, 10)\n",
      "Index(['Alabama', 'Alaska', 'Arizona', 'Arkansas', 'California', 'Colorado',\n",
      "       'Connecticut', 'Delaware', 'District Of Columbia', 'Florida', 'Georgia',\n",
      "       'Hawaii', 'Idaho', 'Illinois', 'Indiana', 'Iowa', 'Kansas', 'Kentucky',\n",
      "       'Louisiana', 'Maine', 'Maryland', 'Massachusetts', 'Michigan',\n",
      "       'Minnesota', 'Mississippi', 'Missouri', 'Montana', 'Nebraska', 'Nevada',\n",
      "       'New Hampshire', 'New Jersey', 'New Mexico', 'New York',\n",
      "       'North Carolina', 'North Dakota', 'Ohio', 'Oklahoma', 'Oregon',\n",
      "       'Pennsylvania', 'Rhode Island', 'South Carolina', 'South Dakota',\n",
      "       'Tennessee', 'Texas', 'Utah', 'Vermont', 'Virginia', 'Washington',\n",
      "       'West Virginia', 'Wisconsin', 'Wyoming'],\n",
      "      dtype='object', name='state')\n"
     ]
    }
   ],
   "source": [
    "print(act_2017.shape, sat_2017.shape, combined.shape)\n",
    "print(combined.index);"
   ]
  },
  {
   "cell_type": "code",
   "execution_count": 34,
   "metadata": {},
   "outputs": [
    {
     "data": {
      "text/html": [
       "<div>\n",
       "<style scoped>\n",
       "    .dataframe tbody tr th:only-of-type {\n",
       "        vertical-align: middle;\n",
       "    }\n",
       "\n",
       "    .dataframe tbody tr th {\n",
       "        vertical-align: top;\n",
       "    }\n",
       "\n",
       "    .dataframe thead th {\n",
       "        text-align: right;\n",
       "    }\n",
       "</style>\n",
       "<table border=\"1\" class=\"dataframe\">\n",
       "  <thead>\n",
       "    <tr style=\"text-align: right;\">\n",
       "      <th></th>\n",
       "      <th>ACT_2017_participation</th>\n",
       "      <th>ACT_2017_english</th>\n",
       "      <th>ACT_2017_math</th>\n",
       "      <th>ACT_2017_reading</th>\n",
       "      <th>ACT_2017_science</th>\n",
       "      <th>ACT_2017_composite</th>\n",
       "      <th>SAT_2017_participation</th>\n",
       "      <th>SAT_2017_reading_writing</th>\n",
       "      <th>SAT_2017_math</th>\n",
       "      <th>SAT_2017_total</th>\n",
       "    </tr>\n",
       "    <tr>\n",
       "      <th>state</th>\n",
       "      <th></th>\n",
       "      <th></th>\n",
       "      <th></th>\n",
       "      <th></th>\n",
       "      <th></th>\n",
       "      <th></th>\n",
       "      <th></th>\n",
       "      <th></th>\n",
       "      <th></th>\n",
       "      <th></th>\n",
       "    </tr>\n",
       "  </thead>\n",
       "  <tbody>\n",
       "    <tr>\n",
       "      <td>Alabama</td>\n",
       "      <td>100.0</td>\n",
       "      <td>18.9</td>\n",
       "      <td>18.4</td>\n",
       "      <td>19.7</td>\n",
       "      <td>19.4</td>\n",
       "      <td>19.2</td>\n",
       "      <td>5.0</td>\n",
       "      <td>593</td>\n",
       "      <td>572</td>\n",
       "      <td>1165</td>\n",
       "    </tr>\n",
       "    <tr>\n",
       "      <td>Alaska</td>\n",
       "      <td>65.0</td>\n",
       "      <td>18.7</td>\n",
       "      <td>19.8</td>\n",
       "      <td>20.4</td>\n",
       "      <td>19.9</td>\n",
       "      <td>19.8</td>\n",
       "      <td>38.0</td>\n",
       "      <td>547</td>\n",
       "      <td>533</td>\n",
       "      <td>1080</td>\n",
       "    </tr>\n",
       "    <tr>\n",
       "      <td>Arizona</td>\n",
       "      <td>62.0</td>\n",
       "      <td>18.6</td>\n",
       "      <td>19.8</td>\n",
       "      <td>20.1</td>\n",
       "      <td>19.8</td>\n",
       "      <td>19.7</td>\n",
       "      <td>30.0</td>\n",
       "      <td>563</td>\n",
       "      <td>553</td>\n",
       "      <td>1116</td>\n",
       "    </tr>\n",
       "    <tr>\n",
       "      <td>Arkansas</td>\n",
       "      <td>100.0</td>\n",
       "      <td>18.9</td>\n",
       "      <td>19.0</td>\n",
       "      <td>19.7</td>\n",
       "      <td>19.5</td>\n",
       "      <td>19.4</td>\n",
       "      <td>3.0</td>\n",
       "      <td>614</td>\n",
       "      <td>594</td>\n",
       "      <td>1208</td>\n",
       "    </tr>\n",
       "    <tr>\n",
       "      <td>California</td>\n",
       "      <td>31.0</td>\n",
       "      <td>22.5</td>\n",
       "      <td>22.7</td>\n",
       "      <td>23.1</td>\n",
       "      <td>22.2</td>\n",
       "      <td>22.8</td>\n",
       "      <td>53.0</td>\n",
       "      <td>531</td>\n",
       "      <td>524</td>\n",
       "      <td>1055</td>\n",
       "    </tr>\n",
       "  </tbody>\n",
       "</table>\n",
       "</div>"
      ],
      "text/plain": [
       "            ACT_2017_participation  ACT_2017_english  ACT_2017_math  \\\n",
       "state                                                                 \n",
       "Alabama                      100.0              18.9           18.4   \n",
       "Alaska                        65.0              18.7           19.8   \n",
       "Arizona                       62.0              18.6           19.8   \n",
       "Arkansas                     100.0              18.9           19.0   \n",
       "California                    31.0              22.5           22.7   \n",
       "\n",
       "            ACT_2017_reading  ACT_2017_science  ACT_2017_composite  \\\n",
       "state                                                                \n",
       "Alabama                 19.7              19.4                19.2   \n",
       "Alaska                  20.4              19.9                19.8   \n",
       "Arizona                 20.1              19.8                19.7   \n",
       "Arkansas                19.7              19.5                19.4   \n",
       "California              23.1              22.2                22.8   \n",
       "\n",
       "            SAT_2017_participation  SAT_2017_reading_writing  SAT_2017_math  \\\n",
       "state                                                                         \n",
       "Alabama                        5.0                       593            572   \n",
       "Alaska                        38.0                       547            533   \n",
       "Arizona                       30.0                       563            553   \n",
       "Arkansas                       3.0                       614            594   \n",
       "California                    53.0                       531            524   \n",
       "\n",
       "            SAT_2017_total  \n",
       "state                       \n",
       "Alabama               1165  \n",
       "Alaska                1080  \n",
       "Arizona               1116  \n",
       "Arkansas              1208  \n",
       "California            1055  "
      ]
     },
     "execution_count": 34,
     "metadata": {},
     "output_type": "execute_result"
    }
   ],
   "source": [
    "combined.head()"
   ]
  },
  {
   "cell_type": "markdown",
   "metadata": {},
   "source": [
    "> **_Merging and Joining ACT 2017 and SAT 2017:_** \n",
    "- Notice that the shape combined table matches  what we would expect. when we look at the list of states (now the index), we see that 'National' has been dropped."
   ]
  },
  {
   "cell_type": "markdown",
   "metadata": {},
   "source": [
    "#### 11. Save your cleaned, merged dataframe\n",
    "\n",
    "Use a relative path to save out your data as `combined_2017.csv`."
   ]
  },
  {
   "cell_type": "code",
   "execution_count": 35,
   "metadata": {},
   "outputs": [],
   "source": [
    "combined.to_csv('../data/combined_2017.csv')"
   ]
  },
  {
   "cell_type": "markdown",
   "metadata": {},
   "source": [
    "## 2018 Data Import and Cleaning"
   ]
  },
  {
   "cell_type": "markdown",
   "metadata": {},
   "source": [
    "Links to the 2018 ACT and SAT data are provided in the README. These data live in PDFs, and so you'll get to enjoy practicing some *manual* data collection. Save these data as a CSV in your `data` directory, and import, explore, and clean these data in the same way you did above. **Make sure you comment on your steps so it is clear *why* you are doing each process**."
   ]
  },
  {
   "cell_type": "markdown",
   "metadata": {},
   "source": [
    "> **_Importing and Cleaning 2018:_** \n",
    "- The data is actually provided for us in the data folder already. We will import it using `pd.read_csv()` and clean it like we did  the data above.\n",
    "- I will be joining the data based on the `'State'` columns again, so I will make those the index column now, using a converter dictionary to ensure they are all title cased."
   ]
  },
  {
   "cell_type": "code",
   "execution_count": 36,
   "metadata": {
    "scrolled": false
   },
   "outputs": [
    {
     "name": "stdout",
     "output_type": "stream",
     "text": [
      "<class 'pandas.core.frame.DataFrame'>\n",
      "Index: 51 entries, Alabama to Wyoming\n",
      "Data columns (total 4 columns):\n",
      "Participation                         51 non-null object\n",
      "Evidence-Based Reading and Writing    51 non-null int64\n",
      "Math                                  51 non-null int64\n",
      "Total                                 51 non-null int64\n",
      "dtypes: int64(3), object(1)\n",
      "memory usage: 2.0+ KB\n",
      "<class 'pandas.core.frame.DataFrame'>\n",
      "Index: 52 entries, Alabama to Wyoming\n",
      "Data columns (total 2 columns):\n",
      "Participation    52 non-null object\n",
      "Composite        52 non-null float64\n",
      "dtypes: float64(1), object(1)\n",
      "memory usage: 1.2+ KB\n"
     ]
    },
    {
     "data": {
      "text/plain": [
       "(None, None)"
      ]
     },
     "execution_count": 36,
     "metadata": {},
     "output_type": "execute_result"
    }
   ],
   "source": [
    "sat_2018 = pd.read_csv('../data/sat_2018.csv',\n",
    "                       index_col='State',\n",
    "                       converters={\n",
    "                           'State':lambda state: state.title()\n",
    "                       }\n",
    "                      )\n",
    "act_2018 = pd.read_csv('../data/act_2018.csv',\n",
    "                       index_col='State',\n",
    "                       converters={\n",
    "                           'State':lambda state: state.title()\n",
    "                       }\n",
    "                      )\n",
    "sat_2018.info(), act_2018.info()"
   ]
  },
  {
   "cell_type": "markdown",
   "metadata": {},
   "source": [
    "> **_Cleaning Data and Standardizing Columns:_** \n",
    "- We can see that the data type of both Participation columns are still objects. We will convert them  using the function `convert_string_to_float` defined previously."
   ]
  },
  {
   "cell_type": "code",
   "execution_count": 37,
   "metadata": {},
   "outputs": [
    {
     "name": "stdout",
     "output_type": "stream",
     "text": [
      "Data frame column: 'Participation' converted from type object to type float64\n",
      "Data frame column: 'Participation' converted from type object to type float64\n"
     ]
    }
   ],
   "source": [
    "# Convert the participation columns to numeric columns.\n",
    "convert_string_to_float(act_2018,'Participation')\n",
    "convert_string_to_float(sat_2018)"
   ]
  },
  {
   "cell_type": "code",
   "execution_count": 38,
   "metadata": {},
   "outputs": [
    {
     "name": "stdout",
     "output_type": "stream",
     "text": [
      "float64\n",
      "float64\n"
     ]
    }
   ],
   "source": [
    "print(act_2018['Participation'].dtype)\n",
    "print(sat_2018['Participation'].dtype)"
   ]
  },
  {
   "cell_type": "markdown",
   "metadata": {},
   "source": [
    "> - Next we will standardize the columns to remove spaces special characters and make the headers a little more descriptive and clear."
   ]
  },
  {
   "cell_type": "code",
   "execution_count": 39,
   "metadata": {},
   "outputs": [
    {
     "name": "stdout",
     "output_type": "stream",
     "text": [
      "Index(['ACT_2018_participation', 'ACT_2018_composite'], dtype='object')\n",
      "Index(['SAT_2018_participation', 'SAT_2018_reading_writing', 'SAT_2018_math',\n",
      "       'SAT_2018_total'],\n",
      "      dtype='object')\n"
     ]
    }
   ],
   "source": [
    "print(standardize_cols(act_2018,'ACT_2018_'))\n",
    "print(standardize_cols(sat_2018,'SAT_2018_'))"
   ]
  },
  {
   "cell_type": "code",
   "execution_count": 40,
   "metadata": {},
   "outputs": [
    {
     "data": {
      "text/html": [
       "<div>\n",
       "<style scoped>\n",
       "    .dataframe tbody tr th:only-of-type {\n",
       "        vertical-align: middle;\n",
       "    }\n",
       "\n",
       "    .dataframe tbody tr th {\n",
       "        vertical-align: top;\n",
       "    }\n",
       "\n",
       "    .dataframe thead th {\n",
       "        text-align: right;\n",
       "    }\n",
       "</style>\n",
       "<table border=\"1\" class=\"dataframe\">\n",
       "  <thead>\n",
       "    <tr style=\"text-align: right;\">\n",
       "      <th></th>\n",
       "      <th>ACT_2018_participation</th>\n",
       "      <th>ACT_2018_composite</th>\n",
       "    </tr>\n",
       "    <tr>\n",
       "      <th>State</th>\n",
       "      <th></th>\n",
       "      <th></th>\n",
       "    </tr>\n",
       "  </thead>\n",
       "  <tbody>\n",
       "    <tr>\n",
       "      <td>Maine</td>\n",
       "      <td>7.0</td>\n",
       "      <td>24.0</td>\n",
       "    </tr>\n",
       "    <tr>\n",
       "      <td>Maine</td>\n",
       "      <td>7.0</td>\n",
       "      <td>24.0</td>\n",
       "    </tr>\n",
       "  </tbody>\n",
       "</table>\n",
       "</div>"
      ],
      "text/plain": [
       "       ACT_2018_participation  ACT_2018_composite\n",
       "State                                            \n",
       "Maine                     7.0                24.0\n",
       "Maine                     7.0                24.0"
      ]
     },
     "execution_count": 40,
     "metadata": {},
     "output_type": "execute_result"
    }
   ],
   "source": [
    "act_2018.loc['Maine']"
   ]
  },
  {
   "cell_type": "code",
   "execution_count": 41,
   "metadata": {},
   "outputs": [
    {
     "data": {
      "text/plain": [
       "(51, 4)"
      ]
     },
     "execution_count": 41,
     "metadata": {},
     "output_type": "execute_result"
    }
   ],
   "source": [
    "sat_2018.shape"
   ]
  },
  {
   "cell_type": "markdown",
   "metadata": {},
   "source": [
    "> - **Note** that the column header `'State'` has not been lowercased since it is the name of the index."
   ]
  },
  {
   "cell_type": "markdown",
   "metadata": {},
   "source": [
    "#### Combine your 2017 and 2018 data into a single dataframe\n",
    "Joining on state names should work, assuming you formatted all your state names identically. Make sure none of your columns (other than state) have identical names. Do yourself a favor and decide if you're encoding participation rates as floats or integers and standardize this across your datasets.\n",
    "\n",
    "Save the contents of this merged dataframe as `final.csv`.\n",
    "\n",
    "**Use this combined dataframe for the remainder of the project**."
   ]
  },
  {
   "cell_type": "markdown",
   "metadata": {},
   "source": [
    "> **_Unnecessary and Missing Rows:_**\n",
    "- We can see from the `.info()` output of the data tables that we are missing all of the ACT 2018 subtest scores. I have not been able to find the subtest score breakdown online, and it would be interesting to see on another iteration of this  project, how test scores have changed from one year to the next.\n",
    "    - A resource describing the percentage of students that have met the \"benchmark\" for each ACT  subtest can be found [here](https://www.act.org/content/dam/act/unsecured/documents/cccr2018/Average-Scores-by-State.pdf).\n",
    "- We can also see that ACT 2018 has one more row than the SAT table. It is likely to be the `'National'` averages row like ACT 2017.  But we will check to confirm."
   ]
  },
  {
   "cell_type": "code",
   "execution_count": 42,
   "metadata": {},
   "outputs": [
    {
     "name": "stderr",
     "output_type": "stream",
     "text": [
      "/anaconda3/lib/python3.7/site-packages/ipykernel_launcher.py:3: UserWarning: Boolean Series key will be reindexed to match DataFrame index.\n",
      "  This is separate from the ipykernel package so we can avoid doing imports until\n"
     ]
    },
    {
     "data": {
      "text/html": [
       "<div>\n",
       "<style scoped>\n",
       "    .dataframe tbody tr th:only-of-type {\n",
       "        vertical-align: middle;\n",
       "    }\n",
       "\n",
       "    .dataframe tbody tr th {\n",
       "        vertical-align: top;\n",
       "    }\n",
       "\n",
       "    .dataframe thead th {\n",
       "        text-align: right;\n",
       "    }\n",
       "</style>\n",
       "<table border=\"1\" class=\"dataframe\">\n",
       "  <thead>\n",
       "    <tr style=\"text-align: right;\">\n",
       "      <th></th>\n",
       "      <th>ACT_2018_participation</th>\n",
       "      <th>ACT_2018_composite</th>\n",
       "    </tr>\n",
       "    <tr>\n",
       "      <th>State</th>\n",
       "      <th></th>\n",
       "      <th></th>\n",
       "    </tr>\n",
       "  </thead>\n",
       "  <tbody>\n",
       "    <tr>\n",
       "      <td>Maine</td>\n",
       "      <td>7.0</td>\n",
       "      <td>24.0</td>\n",
       "    </tr>\n",
       "    <tr>\n",
       "      <td>Maine</td>\n",
       "      <td>7.0</td>\n",
       "      <td>24.0</td>\n",
       "    </tr>\n",
       "  </tbody>\n",
       "</table>\n",
       "</div>"
      ],
      "text/plain": [
       "       ACT_2018_participation  ACT_2018_composite\n",
       "State                                            \n",
       "Maine                     7.0                24.0\n",
       "Maine                     7.0                24.0"
      ]
     },
     "execution_count": 42,
     "metadata": {},
     "output_type": "execute_result"
    }
   ],
   "source": [
    "# act_2018.loc['National']; # Throws a KeyError: 'National'\n",
    "# Will do a value_count check on the Index to find any duplicates.\n",
    "act_2018[act_2018.index.value_counts() > 1]"
   ]
  },
  {
   "cell_type": "code",
   "execution_count": 43,
   "metadata": {},
   "outputs": [],
   "source": [
    "# # It appears we have a duplicate value for the 'Maine' row. .reset_index().loc[mask_ME]\n",
    "# act_2018.reset_index(inplace=True)\n",
    "# act_2018.drop_duplicates(subset='State',keep='first',inplace=True)\n",
    "# act_2018.set_index('State',inplace=True)\n",
    "# act_2018.index.value_counts()"
   ]
  },
  {
   "cell_type": "markdown",
   "metadata": {},
   "source": [
    "- I had planned to remove any extra rows by joining the tables, assuming that the extra would have been unneccessary."
   ]
  },
  {
   "cell_type": "code",
   "execution_count": 44,
   "metadata": {},
   "outputs": [],
   "source": [
    "scores = pd.read_csv('../data/combined_2017.csv',index_col='state').join(sat_2018,how='inner').join(act_2018,how='inner')"
   ]
  },
  {
   "cell_type": "code",
   "execution_count": 45,
   "metadata": {},
   "outputs": [
    {
     "data": {
      "text/plain": [
       "(52, 16)"
      ]
     },
     "execution_count": 45,
     "metadata": {},
     "output_type": "execute_result"
    }
   ],
   "source": [
    "scores.shape"
   ]
  },
  {
   "cell_type": "markdown",
   "metadata": {},
   "source": [
    "> - I assumed the duplicated value was from a `'National'` row like we had in the ACT 2017 data, but since it is still there after the join, I am going to check for duplicate data."
   ]
  },
  {
   "cell_type": "code",
   "execution_count": 46,
   "metadata": {},
   "outputs": [
    {
     "data": {
      "text/plain": [
       "Maine                   2\n",
       "Connecticut             1\n",
       "Minnesota               1\n",
       "Hawaii                  1\n",
       "Rhode Island            1\n",
       "Alabama                 1\n",
       "Maryland                1\n",
       "Illinois                1\n",
       "Colorado                1\n",
       "Wyoming                 1\n",
       "District Of Columbia    1\n",
       "New Jersey              1\n",
       "Pennsylvania            1\n",
       "Nevada                  1\n",
       "Georgia                 1\n",
       "Massachusetts           1\n",
       "Texas                   1\n",
       "Oklahoma                1\n",
       "Indiana                 1\n",
       "Nebraska                1\n",
       "West Virginia           1\n",
       "Kentucky                1\n",
       "Alaska                  1\n",
       "New Mexico              1\n",
       "Michigan                1\n",
       "North Dakota            1\n",
       "Virginia                1\n",
       "North Carolina          1\n",
       "Kansas                  1\n",
       "Washington              1\n",
       "Wisconsin               1\n",
       "Florida                 1\n",
       "Arkansas                1\n",
       "Montana                 1\n",
       "Tennessee               1\n",
       "Mississippi             1\n",
       "Idaho                   1\n",
       "Utah                    1\n",
       "Oregon                  1\n",
       "Missouri                1\n",
       "New Hampshire           1\n",
       "Ohio                    1\n",
       "Louisiana               1\n",
       "Iowa                    1\n",
       "South Carolina          1\n",
       "California              1\n",
       "South Dakota            1\n",
       "New York                1\n",
       "Vermont                 1\n",
       "Arizona                 1\n",
       "Delaware                1\n",
       "dtype: int64"
      ]
     },
     "execution_count": 46,
     "metadata": {},
     "output_type": "execute_result"
    }
   ],
   "source": [
    "# We have a duplicated 'Maine' row.\n",
    "scores.index.value_counts()"
   ]
  },
  {
   "cell_type": "code",
   "execution_count": 47,
   "metadata": {},
   "outputs": [
    {
     "data": {
      "text/html": [
       "<div>\n",
       "<style scoped>\n",
       "    .dataframe tbody tr th:only-of-type {\n",
       "        vertical-align: middle;\n",
       "    }\n",
       "\n",
       "    .dataframe tbody tr th {\n",
       "        vertical-align: top;\n",
       "    }\n",
       "\n",
       "    .dataframe thead th {\n",
       "        text-align: right;\n",
       "    }\n",
       "</style>\n",
       "<table border=\"1\" class=\"dataframe\">\n",
       "  <thead>\n",
       "    <tr style=\"text-align: right;\">\n",
       "      <th></th>\n",
       "      <th>ACT_2017_participation</th>\n",
       "      <th>ACT_2017_english</th>\n",
       "      <th>ACT_2017_math</th>\n",
       "      <th>ACT_2017_reading</th>\n",
       "      <th>ACT_2017_science</th>\n",
       "      <th>ACT_2017_composite</th>\n",
       "      <th>SAT_2017_participation</th>\n",
       "      <th>SAT_2017_reading_writing</th>\n",
       "      <th>SAT_2017_math</th>\n",
       "      <th>SAT_2017_total</th>\n",
       "      <th>SAT_2018_participation</th>\n",
       "      <th>SAT_2018_reading_writing</th>\n",
       "      <th>SAT_2018_math</th>\n",
       "      <th>SAT_2018_total</th>\n",
       "      <th>ACT_2018_participation</th>\n",
       "      <th>ACT_2018_composite</th>\n",
       "    </tr>\n",
       "  </thead>\n",
       "  <tbody>\n",
       "    <tr>\n",
       "      <td>Maine</td>\n",
       "      <td>8.0</td>\n",
       "      <td>24.2</td>\n",
       "      <td>24.0</td>\n",
       "      <td>24.8</td>\n",
       "      <td>23.7</td>\n",
       "      <td>24.3</td>\n",
       "      <td>95.0</td>\n",
       "      <td>513</td>\n",
       "      <td>499</td>\n",
       "      <td>1012</td>\n",
       "      <td>99.0</td>\n",
       "      <td>512</td>\n",
       "      <td>501</td>\n",
       "      <td>1013</td>\n",
       "      <td>7.0</td>\n",
       "      <td>24.0</td>\n",
       "    </tr>\n",
       "  </tbody>\n",
       "</table>\n",
       "</div>"
      ],
      "text/plain": [
       "       ACT_2017_participation  ACT_2017_english  ACT_2017_math  \\\n",
       "Maine                     8.0              24.2           24.0   \n",
       "\n",
       "       ACT_2017_reading  ACT_2017_science  ACT_2017_composite  \\\n",
       "Maine              24.8              23.7                24.3   \n",
       "\n",
       "       SAT_2017_participation  SAT_2017_reading_writing  SAT_2017_math  \\\n",
       "Maine                    95.0                       513            499   \n",
       "\n",
       "       SAT_2017_total  SAT_2018_participation  SAT_2018_reading_writing  \\\n",
       "Maine            1012                    99.0                       512   \n",
       "\n",
       "       SAT_2018_math  SAT_2018_total  ACT_2018_participation  \\\n",
       "Maine            501            1013                     7.0   \n",
       "\n",
       "       ACT_2018_composite  \n",
       "Maine                24.0  "
      ]
     },
     "execution_count": 47,
     "metadata": {},
     "output_type": "execute_result"
    }
   ],
   "source": [
    "# The index is duplicated, I will run the  following to  check if the values are all the same.\n",
    "scores[scores.duplicated()]"
   ]
  },
  {
   "cell_type": "code",
   "execution_count": 48,
   "metadata": {},
   "outputs": [],
   "source": [
    "# Since the data is a complete duplicate, I will drop the duplicate rows, keeping the first row.\n",
    "scores.drop_duplicates(keep='first',\n",
    "                       inplace=True)"
   ]
  },
  {
   "cell_type": "code",
   "execution_count": 49,
   "metadata": {},
   "outputs": [
    {
     "name": "stdout",
     "output_type": "stream",
     "text": [
      "<class 'pandas.core.frame.DataFrame'>\n",
      "Index: 51 entries, Alabama to Wyoming\n",
      "Data columns (total 16 columns):\n",
      "ACT_2017_participation      51 non-null float64\n",
      "ACT_2017_english            51 non-null float64\n",
      "ACT_2017_math               51 non-null float64\n",
      "ACT_2017_reading            51 non-null float64\n",
      "ACT_2017_science            51 non-null float64\n",
      "ACT_2017_composite          51 non-null float64\n",
      "SAT_2017_participation      51 non-null float64\n",
      "SAT_2017_reading_writing    51 non-null int64\n",
      "SAT_2017_math               51 non-null int64\n",
      "SAT_2017_total              51 non-null int64\n",
      "SAT_2018_participation      51 non-null float64\n",
      "SAT_2018_reading_writing    51 non-null int64\n",
      "SAT_2018_math               51 non-null int64\n",
      "SAT_2018_total              51 non-null int64\n",
      "ACT_2018_participation      51 non-null float64\n",
      "ACT_2018_composite          51 non-null float64\n",
      "dtypes: float64(10), int64(6)\n",
      "memory usage: 6.8+ KB\n"
     ]
    }
   ],
   "source": [
    "scores.info()"
   ]
  },
  {
   "cell_type": "code",
   "execution_count": 50,
   "metadata": {},
   "outputs": [],
   "source": [
    "# The final data table looks good, so we will save it to the csv.\n",
    "scores.to_csv('../data/final.csv')"
   ]
  },
  {
   "cell_type": "markdown",
   "metadata": {},
   "source": [
    "## Exploratory Data Analysis\n",
    "\n",
    "\n",
    "### Summary Statistics\n",
    "Transpose the output of pandas `describe` method to create a quick overview of each numeric feature."
   ]
  },
  {
   "cell_type": "code",
   "execution_count": 51,
   "metadata": {},
   "outputs": [
    {
     "data": {
      "text/html": [
       "<div>\n",
       "<style scoped>\n",
       "    .dataframe tbody tr th:only-of-type {\n",
       "        vertical-align: middle;\n",
       "    }\n",
       "\n",
       "    .dataframe tbody tr th {\n",
       "        vertical-align: top;\n",
       "    }\n",
       "\n",
       "    .dataframe thead th {\n",
       "        text-align: right;\n",
       "    }\n",
       "</style>\n",
       "<table border=\"1\" class=\"dataframe\">\n",
       "  <thead>\n",
       "    <tr style=\"text-align: right;\">\n",
       "      <th></th>\n",
       "      <th>count</th>\n",
       "      <th>mean</th>\n",
       "      <th>std</th>\n",
       "      <th>min</th>\n",
       "      <th>25%</th>\n",
       "      <th>50%</th>\n",
       "      <th>75%</th>\n",
       "      <th>max</th>\n",
       "    </tr>\n",
       "  </thead>\n",
       "  <tbody>\n",
       "    <tr>\n",
       "      <td>ACT_2017_participation</td>\n",
       "      <td>51.0</td>\n",
       "      <td>65.254902</td>\n",
       "      <td>32.140842</td>\n",
       "      <td>8.0</td>\n",
       "      <td>31.00</td>\n",
       "      <td>69.0</td>\n",
       "      <td>100.00</td>\n",
       "      <td>100.0</td>\n",
       "    </tr>\n",
       "    <tr>\n",
       "      <td>ACT_2017_english</td>\n",
       "      <td>51.0</td>\n",
       "      <td>20.931373</td>\n",
       "      <td>2.353677</td>\n",
       "      <td>16.3</td>\n",
       "      <td>19.00</td>\n",
       "      <td>20.7</td>\n",
       "      <td>23.30</td>\n",
       "      <td>25.5</td>\n",
       "    </tr>\n",
       "    <tr>\n",
       "      <td>ACT_2017_math</td>\n",
       "      <td>51.0</td>\n",
       "      <td>21.182353</td>\n",
       "      <td>1.981989</td>\n",
       "      <td>18.0</td>\n",
       "      <td>19.40</td>\n",
       "      <td>20.9</td>\n",
       "      <td>23.10</td>\n",
       "      <td>25.3</td>\n",
       "    </tr>\n",
       "    <tr>\n",
       "      <td>ACT_2017_reading</td>\n",
       "      <td>51.0</td>\n",
       "      <td>22.013725</td>\n",
       "      <td>2.067271</td>\n",
       "      <td>18.1</td>\n",
       "      <td>20.45</td>\n",
       "      <td>21.8</td>\n",
       "      <td>24.15</td>\n",
       "      <td>26.0</td>\n",
       "    </tr>\n",
       "    <tr>\n",
       "      <td>ACT_2017_science</td>\n",
       "      <td>51.0</td>\n",
       "      <td>21.041176</td>\n",
       "      <td>3.182463</td>\n",
       "      <td>2.3</td>\n",
       "      <td>19.90</td>\n",
       "      <td>21.3</td>\n",
       "      <td>22.75</td>\n",
       "      <td>24.9</td>\n",
       "    </tr>\n",
       "    <tr>\n",
       "      <td>ACT_2017_composite</td>\n",
       "      <td>51.0</td>\n",
       "      <td>21.519608</td>\n",
       "      <td>2.020695</td>\n",
       "      <td>17.8</td>\n",
       "      <td>19.80</td>\n",
       "      <td>21.4</td>\n",
       "      <td>23.60</td>\n",
       "      <td>25.5</td>\n",
       "    </tr>\n",
       "    <tr>\n",
       "      <td>SAT_2017_participation</td>\n",
       "      <td>51.0</td>\n",
       "      <td>39.803922</td>\n",
       "      <td>35.276632</td>\n",
       "      <td>2.0</td>\n",
       "      <td>4.00</td>\n",
       "      <td>38.0</td>\n",
       "      <td>66.00</td>\n",
       "      <td>100.0</td>\n",
       "    </tr>\n",
       "    <tr>\n",
       "      <td>SAT_2017_reading_writing</td>\n",
       "      <td>51.0</td>\n",
       "      <td>569.117647</td>\n",
       "      <td>45.666901</td>\n",
       "      <td>482.0</td>\n",
       "      <td>533.50</td>\n",
       "      <td>559.0</td>\n",
       "      <td>613.00</td>\n",
       "      <td>644.0</td>\n",
       "    </tr>\n",
       "    <tr>\n",
       "      <td>SAT_2017_math</td>\n",
       "      <td>51.0</td>\n",
       "      <td>556.882353</td>\n",
       "      <td>47.121395</td>\n",
       "      <td>468.0</td>\n",
       "      <td>523.50</td>\n",
       "      <td>548.0</td>\n",
       "      <td>599.00</td>\n",
       "      <td>651.0</td>\n",
       "    </tr>\n",
       "    <tr>\n",
       "      <td>SAT_2017_total</td>\n",
       "      <td>51.0</td>\n",
       "      <td>1126.098039</td>\n",
       "      <td>92.494812</td>\n",
       "      <td>950.0</td>\n",
       "      <td>1055.50</td>\n",
       "      <td>1107.0</td>\n",
       "      <td>1212.00</td>\n",
       "      <td>1295.0</td>\n",
       "    </tr>\n",
       "    <tr>\n",
       "      <td>SAT_2018_participation</td>\n",
       "      <td>51.0</td>\n",
       "      <td>45.745098</td>\n",
       "      <td>37.314256</td>\n",
       "      <td>2.0</td>\n",
       "      <td>4.50</td>\n",
       "      <td>52.0</td>\n",
       "      <td>77.50</td>\n",
       "      <td>100.0</td>\n",
       "    </tr>\n",
       "    <tr>\n",
       "      <td>SAT_2018_reading_writing</td>\n",
       "      <td>51.0</td>\n",
       "      <td>563.686275</td>\n",
       "      <td>47.502627</td>\n",
       "      <td>480.0</td>\n",
       "      <td>534.50</td>\n",
       "      <td>552.0</td>\n",
       "      <td>610.50</td>\n",
       "      <td>643.0</td>\n",
       "    </tr>\n",
       "    <tr>\n",
       "      <td>SAT_2018_math</td>\n",
       "      <td>51.0</td>\n",
       "      <td>556.235294</td>\n",
       "      <td>47.772623</td>\n",
       "      <td>480.0</td>\n",
       "      <td>522.50</td>\n",
       "      <td>544.0</td>\n",
       "      <td>593.50</td>\n",
       "      <td>655.0</td>\n",
       "    </tr>\n",
       "    <tr>\n",
       "      <td>SAT_2018_total</td>\n",
       "      <td>51.0</td>\n",
       "      <td>1120.019608</td>\n",
       "      <td>94.155083</td>\n",
       "      <td>977.0</td>\n",
       "      <td>1057.50</td>\n",
       "      <td>1098.0</td>\n",
       "      <td>1204.00</td>\n",
       "      <td>1298.0</td>\n",
       "    </tr>\n",
       "    <tr>\n",
       "      <td>ACT_2018_participation</td>\n",
       "      <td>51.0</td>\n",
       "      <td>61.725490</td>\n",
       "      <td>34.037085</td>\n",
       "      <td>7.0</td>\n",
       "      <td>28.50</td>\n",
       "      <td>66.0</td>\n",
       "      <td>100.00</td>\n",
       "      <td>100.0</td>\n",
       "    </tr>\n",
       "    <tr>\n",
       "      <td>ACT_2018_composite</td>\n",
       "      <td>51.0</td>\n",
       "      <td>21.496078</td>\n",
       "      <td>2.111583</td>\n",
       "      <td>17.7</td>\n",
       "      <td>19.95</td>\n",
       "      <td>21.3</td>\n",
       "      <td>23.65</td>\n",
       "      <td>25.6</td>\n",
       "    </tr>\n",
       "  </tbody>\n",
       "</table>\n",
       "</div>"
      ],
      "text/plain": [
       "                          count         mean        std    min      25%  \\\n",
       "ACT_2017_participation     51.0    65.254902  32.140842    8.0    31.00   \n",
       "ACT_2017_english           51.0    20.931373   2.353677   16.3    19.00   \n",
       "ACT_2017_math              51.0    21.182353   1.981989   18.0    19.40   \n",
       "ACT_2017_reading           51.0    22.013725   2.067271   18.1    20.45   \n",
       "ACT_2017_science           51.0    21.041176   3.182463    2.3    19.90   \n",
       "ACT_2017_composite         51.0    21.519608   2.020695   17.8    19.80   \n",
       "SAT_2017_participation     51.0    39.803922  35.276632    2.0     4.00   \n",
       "SAT_2017_reading_writing   51.0   569.117647  45.666901  482.0   533.50   \n",
       "SAT_2017_math              51.0   556.882353  47.121395  468.0   523.50   \n",
       "SAT_2017_total             51.0  1126.098039  92.494812  950.0  1055.50   \n",
       "SAT_2018_participation     51.0    45.745098  37.314256    2.0     4.50   \n",
       "SAT_2018_reading_writing   51.0   563.686275  47.502627  480.0   534.50   \n",
       "SAT_2018_math              51.0   556.235294  47.772623  480.0   522.50   \n",
       "SAT_2018_total             51.0  1120.019608  94.155083  977.0  1057.50   \n",
       "ACT_2018_participation     51.0    61.725490  34.037085    7.0    28.50   \n",
       "ACT_2018_composite         51.0    21.496078   2.111583   17.7    19.95   \n",
       "\n",
       "                             50%      75%     max  \n",
       "ACT_2017_participation      69.0   100.00   100.0  \n",
       "ACT_2017_english            20.7    23.30    25.5  \n",
       "ACT_2017_math               20.9    23.10    25.3  \n",
       "ACT_2017_reading            21.8    24.15    26.0  \n",
       "ACT_2017_science            21.3    22.75    24.9  \n",
       "ACT_2017_composite          21.4    23.60    25.5  \n",
       "SAT_2017_participation      38.0    66.00   100.0  \n",
       "SAT_2017_reading_writing   559.0   613.00   644.0  \n",
       "SAT_2017_math              548.0   599.00   651.0  \n",
       "SAT_2017_total            1107.0  1212.00  1295.0  \n",
       "SAT_2018_participation      52.0    77.50   100.0  \n",
       "SAT_2018_reading_writing   552.0   610.50   643.0  \n",
       "SAT_2018_math              544.0   593.50   655.0  \n",
       "SAT_2018_total            1098.0  1204.00  1298.0  \n",
       "ACT_2018_participation      66.0   100.00   100.0  \n",
       "ACT_2018_composite          21.3    23.65    25.6  "
      ]
     },
     "execution_count": 51,
     "metadata": {},
     "output_type": "execute_result"
    }
   ],
   "source": [
    "scores.describe().T"
   ]
  },
  {
   "cell_type": "markdown",
   "metadata": {},
   "source": [
    "#### Manually calculate standard deviation\n",
    "\n",
    "$$\\sigma = \\sqrt{\\frac{1}{n}\\sum_{i=1}^n(x_i - \\mu)^2}$$\n",
    "\n",
    "- Write a function to calculate standard deviation using the formula above"
   ]
  },
  {
   "cell_type": "code",
   "execution_count": 52,
   "metadata": {},
   "outputs": [],
   "source": [
    "def find_sigma(column,df=scores):\n",
    "    '''\n",
    "    `find_sigma` will take in a series and return sigma: the standard deviation for the series.\n",
    "    If the column passed does not refer to a numerical series, it will throw an error.\n",
    "    '''\n",
    "    # column (str): is the column name of a series in the dataframe provided.\n",
    "    # df (pandas.DataFrame): is the dataframe that houses the series provided.\n",
    "            # # Default value for this project is `scores`.\n",
    "    # ser (pandas.Series): is the column name of a seriesin the dataframe provided.\n",
    "    # n (int): is the lengh of the series(as in the formula above)\n",
    "    # m (float): is the mean value of the series (represented by the greek letter mu in the formula above).\n",
    "    #  diff_list (list): is the list of squared differences between each element of the series and the series mean\n",
    "    \n",
    "    ser = df[column]\n",
    "    \n",
    "    #  function will stop running if the data type of the series is not numerical.\n",
    "    if ser.dtype not in ['float64','int64']:\n",
    "        print('This series is an object data type.')\n",
    "        return False\n",
    "    \n",
    "    n = ser.count()\n",
    "    m = ser.mean()\n",
    "    \n",
    "    diff_list = [(x - m)**2 for x in ser]\n",
    "    sigma = ((1/(n)) * sum(diff_list))**0.5\n",
    "    \n",
    "    return sigma"
   ]
  },
  {
   "cell_type": "code",
   "execution_count": 53,
   "metadata": {},
   "outputs": [
    {
     "name": "stdout",
     "output_type": "stream",
     "text": [
      "ACT_2017_participation: 31.824175751231806\n",
      "ACT_2017_english: 2.3304876369363363\n",
      "ACT_2017_math: 1.9624620273436781\n",
      "ACT_2017_reading: 2.0469029314842646\n",
      "ACT_2017_science: 3.1511078954644076\n",
      "ACT_2017_composite: 2.000786081581989\n",
      "SAT_2017_participation: 34.92907076664508\n",
      "SAT_2017_reading_writing: 45.21697020437866\n",
      "SAT_2017_math: 46.65713364485503\n",
      "SAT_2017_total: 91.58351056778743\n",
      "SAT_2018_participation: 36.946619223539415\n",
      "SAT_2018_reading_writing: 47.03460978357609\n",
      "SAT_2018_math: 47.30194550378352\n",
      "SAT_2018_total: 93.22742384464433\n",
      "ACT_2018_participation: 33.70173582041031\n",
      "ACT_2018_composite: 2.090779082141178\n"
     ]
    }
   ],
   "source": [
    "for col in scores.columns.values:\n",
    "    print(f\"{col}: {find_sigma(col)}\")"
   ]
  },
  {
   "cell_type": "markdown",
   "metadata": {},
   "source": [
    "- Use a **dictionary comprehension** to apply your standard deviation function to each numeric column in the dataframe.  **No loops**  \n",
    "- Assign the output to variable `sd` as a dictionary where: \n",
    "    - Each column name is now a key \n",
    "    - That standard deviation of the column is the value \n",
    "     \n",
    "*Example Output :* `{'ACT_Math': 120, 'ACT_Reading': 120, ...}`"
   ]
  },
  {
   "cell_type": "code",
   "execution_count": 54,
   "metadata": {},
   "outputs": [],
   "source": [
    "std_dict = {col:find_sigma(col) for col in scores.columns if find_sigma(col)}"
   ]
  },
  {
   "cell_type": "code",
   "execution_count": 55,
   "metadata": {},
   "outputs": [
    {
     "data": {
      "text/plain": [
       "{'ACT_2017_participation': 31.824175751231806,\n",
       " 'ACT_2017_english': 2.3304876369363363,\n",
       " 'ACT_2017_math': 1.9624620273436781,\n",
       " 'ACT_2017_reading': 2.0469029314842646,\n",
       " 'ACT_2017_science': 3.1511078954644076,\n",
       " 'ACT_2017_composite': 2.000786081581989,\n",
       " 'SAT_2017_participation': 34.92907076664508,\n",
       " 'SAT_2017_reading_writing': 45.21697020437866,\n",
       " 'SAT_2017_math': 46.65713364485503,\n",
       " 'SAT_2017_total': 91.58351056778743,\n",
       " 'SAT_2018_participation': 36.946619223539415,\n",
       " 'SAT_2018_reading_writing': 47.03460978357609,\n",
       " 'SAT_2018_math': 47.30194550378352,\n",
       " 'SAT_2018_total': 93.22742384464433,\n",
       " 'ACT_2018_participation': 33.70173582041031,\n",
       " 'ACT_2018_composite': 2.090779082141178}"
      ]
     },
     "execution_count": 55,
     "metadata": {},
     "output_type": "execute_result"
    }
   ],
   "source": [
    "std_dict"
   ]
  },
  {
   "cell_type": "markdown",
   "metadata": {},
   "source": [
    "Do your manually calculated standard deviations match up with the output from pandas `describe`? What about numpy's `std` method?"
   ]
  },
  {
   "cell_type": "code",
   "execution_count": 56,
   "metadata": {},
   "outputs": [
    {
     "data": {
      "text/plain": [
       "2.000786081581989"
      ]
     },
     "execution_count": 56,
     "metadata": {},
     "output_type": "execute_result"
    }
   ],
   "source": [
    "find_sigma('ACT_2017_composite')"
   ]
  },
  {
   "cell_type": "code",
   "execution_count": 57,
   "metadata": {},
   "outputs": [
    {
     "data": {
      "text/plain": [
       "2.020694891154341"
      ]
     },
     "execution_count": 57,
     "metadata": {},
     "output_type": "execute_result"
    }
   ],
   "source": [
    "scores['ACT_2017_composite'].std()"
   ]
  },
  {
   "cell_type": "code",
   "execution_count": 58,
   "metadata": {},
   "outputs": [
    {
     "data": {
      "text/plain": [
       "2.000786081581989"
      ]
     },
     "execution_count": 58,
     "metadata": {},
     "output_type": "execute_result"
    }
   ],
   "source": [
    "np.std(scores['ACT_2017_composite'])"
   ]
  },
  {
   "cell_type": "markdown",
   "metadata": {},
   "source": [
    "> **_Standard Deviation ~deviations~:_** My formula matches numpy's standard deviation result but not pandas'.\n",
    "- The formula given for the standard deviation above was for a population standard deviation (which does not apply here, since we are not dealing with an entire population). \n",
    "- According to this [link](https://www.khanacademy.org/math/statistics-probability/summarizing-quantitative-data/variance-standard-deviation-sample/a/population-and-sample-standard-deviation-review) the correct formula for a sample standard deviation (the default for pandas) is: \n",
    ">\n",
    "> $$\\sigma = \\sqrt{\\frac{1}{n-1}\\sum_{i=1}^n(x_i - \\mu)^2}$$"
   ]
  },
  {
   "cell_type": "markdown",
   "metadata": {},
   "source": [
    "#### Investigate trends in the data\n",
    "Using sorting and/or masking (along with the `.head` method to not print our entire dataframe), consider the following questions:\n",
    "\n",
    "- Which states have the highest and lowest participation rates for the:\n",
    "    - 2017 SAT?\n",
    "    - 2018 SAT?   \n",
    "    - 2017 ACT?\n",
    "    - 2018 ACT?"
   ]
  },
  {
   "cell_type": "code",
   "execution_count": 59,
   "metadata": {},
   "outputs": [],
   "source": [
    "def grab_states_agg(column,func_list=[np.min, np.max]):\n",
    "    for aggfunc in func_list:\n",
    "        agg_score = scores[column].agg(aggfunc)\n",
    "        print(f\"{column.replace('_',' ')}: {agg_score} score: {list(scores[scores[column] == agg_score].index.values)}\")\n",
    "    print(\"  --  \")"
   ]
  },
  {
   "cell_type": "code",
   "execution_count": 60,
   "metadata": {},
   "outputs": [
    {
     "name": "stdout",
     "output_type": "stream",
     "text": [
      "ACT 2017 participation: 8.0 score: ['Maine']\n",
      "ACT 2017 participation: 100.0 score: ['Alabama', 'Arkansas', 'Colorado', 'Kentucky', 'Louisiana', 'Minnesota', 'Mississippi', 'Missouri', 'Montana', 'Nevada', 'North Carolina', 'Oklahoma', 'South Carolina', 'Tennessee', 'Utah', 'Wisconsin', 'Wyoming']\n",
      "  --  \n",
      "SAT 2017 participation: 2.0 score: ['Iowa', 'Mississippi', 'North Dakota']\n",
      "SAT 2017 participation: 100.0 score: ['Connecticut', 'Delaware', 'District Of Columbia', 'Michigan']\n",
      "  --  \n",
      "SAT 2018 participation: 2.0 score: ['North Dakota']\n",
      "SAT 2018 participation: 100.0 score: ['Colorado', 'Connecticut', 'Delaware', 'Idaho', 'Michigan']\n",
      "  --  \n",
      "ACT 2018 participation: 7.0 score: ['Maine']\n",
      "ACT 2018 participation: 100.0 score: ['Alabama', 'Arkansas', 'Kentucky', 'Louisiana', 'Mississippi', 'Missouri', 'Montana', 'Nebraska', 'Nevada', 'North Carolina', 'Ohio', 'Oklahoma', 'South Carolina', 'Tennessee', 'Utah', 'Wisconsin', 'Wyoming']\n",
      "  --  \n"
     ]
    }
   ],
   "source": [
    "for column_name in [col for col in scores.columns if 'participation' in col]:\n",
    "    grab_states_agg(column_name)"
   ]
  },
  {
   "cell_type": "markdown",
   "metadata": {},
   "source": [
    "- Which states have the highest and lowest mean total/composite scores for the:\n",
    "    - 2017 SAT?\n",
    "    - 2018 SAT?\n",
    "    - 2017 ACT?\n",
    "    - 2018 ACT?\n",
    " "
   ]
  },
  {
   "cell_type": "code",
   "execution_count": 61,
   "metadata": {},
   "outputs": [
    {
     "name": "stdout",
     "output_type": "stream",
     "text": [
      "ACT 2017 composite: 17.8 score: ['Nevada']\n",
      "ACT 2017 composite: 25.5 score: ['New Hampshire']\n",
      "  --  \n",
      "SAT 2017 total: 950 score: ['District Of Columbia']\n",
      "SAT 2017 total: 1295 score: ['Minnesota']\n",
      "  --  \n",
      "SAT 2018 total: 977 score: ['District Of Columbia']\n",
      "SAT 2018 total: 1298 score: ['Minnesota']\n",
      "  --  \n",
      "ACT 2018 composite: 17.7 score: ['Nevada']\n",
      "ACT 2018 composite: 25.6 score: ['Connecticut']\n",
      "  --  \n"
     ]
    }
   ],
   "source": [
    "for column_name in [col for col in scores.columns if ('composite' in col or 'total' in col)]:\n",
    "    grab_states_agg(column_name)"
   ]
  },
  {
   "cell_type": "markdown",
   "metadata": {},
   "source": [
    "- Do any states with 100% participation on a given test have a rate change year-to-year?"
   ]
  },
  {
   "cell_type": "code",
   "execution_count": 62,
   "metadata": {
    "scrolled": true
   },
   "outputs": [
    {
     "data": {
      "text/html": [
       "<div>\n",
       "<style scoped>\n",
       "    .dataframe tbody tr th:only-of-type {\n",
       "        vertical-align: middle;\n",
       "    }\n",
       "\n",
       "    .dataframe tbody tr th {\n",
       "        vertical-align: top;\n",
       "    }\n",
       "\n",
       "    .dataframe thead th {\n",
       "        text-align: right;\n",
       "    }\n",
       "</style>\n",
       "<table border=\"1\" class=\"dataframe\">\n",
       "  <thead>\n",
       "    <tr style=\"text-align: right;\">\n",
       "      <th></th>\n",
       "      <th>ACT_2017_participation</th>\n",
       "      <th>ACT_2018_participation</th>\n",
       "      <th>SAT_2017_participation</th>\n",
       "      <th>SAT_2018_participation</th>\n",
       "    </tr>\n",
       "  </thead>\n",
       "  <tbody>\n",
       "    <tr>\n",
       "      <td>Alabama</td>\n",
       "      <td>100.0</td>\n",
       "      <td>100.0</td>\n",
       "      <td>5.0</td>\n",
       "      <td>6.0</td>\n",
       "    </tr>\n",
       "    <tr>\n",
       "      <td>Arkansas</td>\n",
       "      <td>100.0</td>\n",
       "      <td>100.0</td>\n",
       "      <td>3.0</td>\n",
       "      <td>5.0</td>\n",
       "    </tr>\n",
       "    <tr>\n",
       "      <td>Colorado</td>\n",
       "      <td>100.0</td>\n",
       "      <td>30.0</td>\n",
       "      <td>11.0</td>\n",
       "      <td>100.0</td>\n",
       "    </tr>\n",
       "    <tr>\n",
       "      <td>Kentucky</td>\n",
       "      <td>100.0</td>\n",
       "      <td>100.0</td>\n",
       "      <td>4.0</td>\n",
       "      <td>4.0</td>\n",
       "    </tr>\n",
       "    <tr>\n",
       "      <td>Louisiana</td>\n",
       "      <td>100.0</td>\n",
       "      <td>100.0</td>\n",
       "      <td>4.0</td>\n",
       "      <td>4.0</td>\n",
       "    </tr>\n",
       "    <tr>\n",
       "      <td>Minnesota</td>\n",
       "      <td>100.0</td>\n",
       "      <td>99.0</td>\n",
       "      <td>3.0</td>\n",
       "      <td>4.0</td>\n",
       "    </tr>\n",
       "    <tr>\n",
       "      <td>Mississippi</td>\n",
       "      <td>100.0</td>\n",
       "      <td>100.0</td>\n",
       "      <td>2.0</td>\n",
       "      <td>3.0</td>\n",
       "    </tr>\n",
       "    <tr>\n",
       "      <td>Missouri</td>\n",
       "      <td>100.0</td>\n",
       "      <td>100.0</td>\n",
       "      <td>3.0</td>\n",
       "      <td>4.0</td>\n",
       "    </tr>\n",
       "    <tr>\n",
       "      <td>Montana</td>\n",
       "      <td>100.0</td>\n",
       "      <td>100.0</td>\n",
       "      <td>10.0</td>\n",
       "      <td>10.0</td>\n",
       "    </tr>\n",
       "    <tr>\n",
       "      <td>Nevada</td>\n",
       "      <td>100.0</td>\n",
       "      <td>100.0</td>\n",
       "      <td>26.0</td>\n",
       "      <td>23.0</td>\n",
       "    </tr>\n",
       "    <tr>\n",
       "      <td>North Carolina</td>\n",
       "      <td>100.0</td>\n",
       "      <td>100.0</td>\n",
       "      <td>49.0</td>\n",
       "      <td>52.0</td>\n",
       "    </tr>\n",
       "    <tr>\n",
       "      <td>Oklahoma</td>\n",
       "      <td>100.0</td>\n",
       "      <td>100.0</td>\n",
       "      <td>7.0</td>\n",
       "      <td>8.0</td>\n",
       "    </tr>\n",
       "    <tr>\n",
       "      <td>South Carolina</td>\n",
       "      <td>100.0</td>\n",
       "      <td>100.0</td>\n",
       "      <td>50.0</td>\n",
       "      <td>55.0</td>\n",
       "    </tr>\n",
       "    <tr>\n",
       "      <td>Tennessee</td>\n",
       "      <td>100.0</td>\n",
       "      <td>100.0</td>\n",
       "      <td>5.0</td>\n",
       "      <td>6.0</td>\n",
       "    </tr>\n",
       "    <tr>\n",
       "      <td>Utah</td>\n",
       "      <td>100.0</td>\n",
       "      <td>100.0</td>\n",
       "      <td>3.0</td>\n",
       "      <td>4.0</td>\n",
       "    </tr>\n",
       "    <tr>\n",
       "      <td>Wisconsin</td>\n",
       "      <td>100.0</td>\n",
       "      <td>100.0</td>\n",
       "      <td>3.0</td>\n",
       "      <td>3.0</td>\n",
       "    </tr>\n",
       "    <tr>\n",
       "      <td>Wyoming</td>\n",
       "      <td>100.0</td>\n",
       "      <td>100.0</td>\n",
       "      <td>3.0</td>\n",
       "      <td>3.0</td>\n",
       "    </tr>\n",
       "  </tbody>\n",
       "</table>\n",
       "</div>"
      ],
      "text/plain": [
       "                ACT_2017_participation  ACT_2018_participation  \\\n",
       "Alabama                          100.0                   100.0   \n",
       "Arkansas                         100.0                   100.0   \n",
       "Colorado                         100.0                    30.0   \n",
       "Kentucky                         100.0                   100.0   \n",
       "Louisiana                        100.0                   100.0   \n",
       "Minnesota                        100.0                    99.0   \n",
       "Mississippi                      100.0                   100.0   \n",
       "Missouri                         100.0                   100.0   \n",
       "Montana                          100.0                   100.0   \n",
       "Nevada                           100.0                   100.0   \n",
       "North Carolina                   100.0                   100.0   \n",
       "Oklahoma                         100.0                   100.0   \n",
       "South Carolina                   100.0                   100.0   \n",
       "Tennessee                        100.0                   100.0   \n",
       "Utah                             100.0                   100.0   \n",
       "Wisconsin                        100.0                   100.0   \n",
       "Wyoming                          100.0                   100.0   \n",
       "\n",
       "                SAT_2017_participation  SAT_2018_participation  \n",
       "Alabama                            5.0                     6.0  \n",
       "Arkansas                           3.0                     5.0  \n",
       "Colorado                          11.0                   100.0  \n",
       "Kentucky                           4.0                     4.0  \n",
       "Louisiana                          4.0                     4.0  \n",
       "Minnesota                          3.0                     4.0  \n",
       "Mississippi                        2.0                     3.0  \n",
       "Missouri                           3.0                     4.0  \n",
       "Montana                           10.0                    10.0  \n",
       "Nevada                            26.0                    23.0  \n",
       "North Carolina                    49.0                    52.0  \n",
       "Oklahoma                           7.0                     8.0  \n",
       "South Carolina                    50.0                    55.0  \n",
       "Tennessee                          5.0                     6.0  \n",
       "Utah                               3.0                     4.0  \n",
       "Wisconsin                          3.0                     3.0  \n",
       "Wyoming                            3.0                     3.0  "
      ]
     },
     "execution_count": 62,
     "metadata": {},
     "output_type": "execute_result"
    }
   ],
   "source": [
    "part_100_ACT = (scores['ACT_2017_participation']==100) \n",
    "scores.loc[part_100_ACT,['ACT_2017_participation','ACT_2018_participation','SAT_2017_participation','SAT_2018_participation']]"
   ]
  },
  {
   "cell_type": "markdown",
   "metadata": {},
   "source": [
    "> **_Significant Changes:_** \n",
    "-  Colorado has a drastic 70% drop in participation in the ACT from 2017 to 2018.\n",
    "    - Colorado had a significant 88% increase in participation in the SAT."
   ]
  },
  {
   "cell_type": "code",
   "execution_count": 63,
   "metadata": {
    "scrolled": true
   },
   "outputs": [
    {
     "data": {
      "text/html": [
       "<div>\n",
       "<style scoped>\n",
       "    .dataframe tbody tr th:only-of-type {\n",
       "        vertical-align: middle;\n",
       "    }\n",
       "\n",
       "    .dataframe tbody tr th {\n",
       "        vertical-align: top;\n",
       "    }\n",
       "\n",
       "    .dataframe thead th {\n",
       "        text-align: right;\n",
       "    }\n",
       "</style>\n",
       "<table border=\"1\" class=\"dataframe\">\n",
       "  <thead>\n",
       "    <tr style=\"text-align: right;\">\n",
       "      <th></th>\n",
       "      <th>SAT_2017_participation</th>\n",
       "      <th>SAT_2018_participation</th>\n",
       "      <th>ACT_2017_participation</th>\n",
       "      <th>ACT_2018_participation</th>\n",
       "    </tr>\n",
       "  </thead>\n",
       "  <tbody>\n",
       "    <tr>\n",
       "      <td>Connecticut</td>\n",
       "      <td>100.0</td>\n",
       "      <td>100.0</td>\n",
       "      <td>31.0</td>\n",
       "      <td>26.0</td>\n",
       "    </tr>\n",
       "    <tr>\n",
       "      <td>Delaware</td>\n",
       "      <td>100.0</td>\n",
       "      <td>100.0</td>\n",
       "      <td>18.0</td>\n",
       "      <td>17.0</td>\n",
       "    </tr>\n",
       "    <tr>\n",
       "      <td>District Of Columbia</td>\n",
       "      <td>100.0</td>\n",
       "      <td>92.0</td>\n",
       "      <td>32.0</td>\n",
       "      <td>32.0</td>\n",
       "    </tr>\n",
       "    <tr>\n",
       "      <td>Michigan</td>\n",
       "      <td>100.0</td>\n",
       "      <td>100.0</td>\n",
       "      <td>29.0</td>\n",
       "      <td>22.0</td>\n",
       "    </tr>\n",
       "  </tbody>\n",
       "</table>\n",
       "</div>"
      ],
      "text/plain": [
       "                      SAT_2017_participation  SAT_2018_participation  \\\n",
       "Connecticut                            100.0                   100.0   \n",
       "Delaware                               100.0                   100.0   \n",
       "District Of Columbia                   100.0                    92.0   \n",
       "Michigan                               100.0                   100.0   \n",
       "\n",
       "                      ACT_2017_participation  ACT_2018_participation  \n",
       "Connecticut                             31.0                    26.0  \n",
       "Delaware                                18.0                    17.0  \n",
       "District Of Columbia                    32.0                    32.0  \n",
       "Michigan                                29.0                    22.0  "
      ]
     },
     "execution_count": 63,
     "metadata": {},
     "output_type": "execute_result"
    }
   ],
   "source": [
    "part_100_SAT = (scores['SAT_2017_participation']==100) \n",
    "scores.loc[part_100_SAT,['SAT_2017_participation','SAT_2018_participation','ACT_2017_participation','ACT_2018_participation']]"
   ]
  },
  {
   "cell_type": "markdown",
   "metadata": {},
   "source": [
    "> **_No Significant Changes:_** There doesn't seem to be any significant drop in SAT participation from 2017 to 2018 amongst full participation states."
   ]
  },
  {
   "cell_type": "code",
   "execution_count": 64,
   "metadata": {},
   "outputs": [
    {
     "data": {
      "text/html": [
       "<div>\n",
       "<style scoped>\n",
       "    .dataframe tbody tr th:only-of-type {\n",
       "        vertical-align: middle;\n",
       "    }\n",
       "\n",
       "    .dataframe tbody tr th {\n",
       "        vertical-align: top;\n",
       "    }\n",
       "\n",
       "    .dataframe thead th {\n",
       "        text-align: right;\n",
       "    }\n",
       "</style>\n",
       "<table border=\"1\" class=\"dataframe\">\n",
       "  <thead>\n",
       "    <tr style=\"text-align: right;\">\n",
       "      <th></th>\n",
       "      <th>act_growth</th>\n",
       "      <th>sat_growth</th>\n",
       "    </tr>\n",
       "  </thead>\n",
       "  <tbody>\n",
       "    <tr>\n",
       "      <td>Florida</td>\n",
       "      <td>-9.589041</td>\n",
       "      <td>-32.530120</td>\n",
       "    </tr>\n",
       "    <tr>\n",
       "      <td>Nevada</td>\n",
       "      <td>0.000000</td>\n",
       "      <td>-11.538462</td>\n",
       "    </tr>\n",
       "    <tr>\n",
       "      <td>District Of Columbia</td>\n",
       "      <td>0.000000</td>\n",
       "      <td>-8.000000</td>\n",
       "    </tr>\n",
       "    <tr>\n",
       "      <td>Arizona</td>\n",
       "      <td>6.451613</td>\n",
       "      <td>-3.333333</td>\n",
       "    </tr>\n",
       "    <tr>\n",
       "      <td>Wyoming</td>\n",
       "      <td>0.000000</td>\n",
       "      <td>0.000000</td>\n",
       "    </tr>\n",
       "    <tr>\n",
       "      <td>North Dakota</td>\n",
       "      <td>0.000000</td>\n",
       "      <td>0.000000</td>\n",
       "    </tr>\n",
       "    <tr>\n",
       "      <td>New Hampshire</td>\n",
       "      <td>-11.111111</td>\n",
       "      <td>0.000000</td>\n",
       "    </tr>\n",
       "    <tr>\n",
       "      <td>Nebraska</td>\n",
       "      <td>19.047619</td>\n",
       "      <td>0.000000</td>\n",
       "    </tr>\n",
       "    <tr>\n",
       "      <td>Montana</td>\n",
       "      <td>0.000000</td>\n",
       "      <td>0.000000</td>\n",
       "    </tr>\n",
       "    <tr>\n",
       "      <td>Wisconsin</td>\n",
       "      <td>0.000000</td>\n",
       "      <td>0.000000</td>\n",
       "    </tr>\n",
       "    <tr>\n",
       "      <td>South Dakota</td>\n",
       "      <td>-3.750000</td>\n",
       "      <td>0.000000</td>\n",
       "    </tr>\n",
       "    <tr>\n",
       "      <td>Michigan</td>\n",
       "      <td>-24.137931</td>\n",
       "      <td>0.000000</td>\n",
       "    </tr>\n",
       "    <tr>\n",
       "      <td>Kentucky</td>\n",
       "      <td>0.000000</td>\n",
       "      <td>0.000000</td>\n",
       "    </tr>\n",
       "    <tr>\n",
       "      <td>Kansas</td>\n",
       "      <td>-2.739726</td>\n",
       "      <td>0.000000</td>\n",
       "    </tr>\n",
       "    <tr>\n",
       "      <td>Louisiana</td>\n",
       "      <td>0.000000</td>\n",
       "      <td>0.000000</td>\n",
       "    </tr>\n",
       "    <tr>\n",
       "      <td>Connecticut</td>\n",
       "      <td>-16.129032</td>\n",
       "      <td>0.000000</td>\n",
       "    </tr>\n",
       "    <tr>\n",
       "      <td>Indiana</td>\n",
       "      <td>-8.571429</td>\n",
       "      <td>0.000000</td>\n",
       "    </tr>\n",
       "    <tr>\n",
       "      <td>Delaware</td>\n",
       "      <td>-5.555556</td>\n",
       "      <td>0.000000</td>\n",
       "    </tr>\n",
       "    <tr>\n",
       "      <td>Hawaii</td>\n",
       "      <td>-1.111111</td>\n",
       "      <td>1.818182</td>\n",
       "    </tr>\n",
       "    <tr>\n",
       "      <td>Maine</td>\n",
       "      <td>-12.500000</td>\n",
       "      <td>4.210526</td>\n",
       "    </tr>\n",
       "    <tr>\n",
       "      <td>Virginia</td>\n",
       "      <td>-17.241379</td>\n",
       "      <td>4.615385</td>\n",
       "    </tr>\n",
       "    <tr>\n",
       "      <td>Massachusetts</td>\n",
       "      <td>-13.793103</td>\n",
       "      <td>5.263158</td>\n",
       "    </tr>\n",
       "    <tr>\n",
       "      <td>North Carolina</td>\n",
       "      <td>0.000000</td>\n",
       "      <td>6.122449</td>\n",
       "    </tr>\n",
       "    <tr>\n",
       "      <td>Texas</td>\n",
       "      <td>0.000000</td>\n",
       "      <td>6.451613</td>\n",
       "    </tr>\n",
       "    <tr>\n",
       "      <td>Vermont</td>\n",
       "      <td>-17.241379</td>\n",
       "      <td>6.666667</td>\n",
       "    </tr>\n",
       "    <tr>\n",
       "      <td>Idaho</td>\n",
       "      <td>-5.263158</td>\n",
       "      <td>7.526882</td>\n",
       "    </tr>\n",
       "    <tr>\n",
       "      <td>Pennsylvania</td>\n",
       "      <td>-13.043478</td>\n",
       "      <td>7.692308</td>\n",
       "    </tr>\n",
       "    <tr>\n",
       "      <td>Washington</td>\n",
       "      <td>-17.241379</td>\n",
       "      <td>7.812500</td>\n",
       "    </tr>\n",
       "    <tr>\n",
       "      <td>South Carolina</td>\n",
       "      <td>0.000000</td>\n",
       "      <td>10.000000</td>\n",
       "    </tr>\n",
       "    <tr>\n",
       "      <td>Maryland</td>\n",
       "      <td>10.714286</td>\n",
       "      <td>10.144928</td>\n",
       "    </tr>\n",
       "    <tr>\n",
       "      <td>Oregon</td>\n",
       "      <td>5.000000</td>\n",
       "      <td>11.627907</td>\n",
       "    </tr>\n",
       "    <tr>\n",
       "      <td>Alaska</td>\n",
       "      <td>-49.230769</td>\n",
       "      <td>13.157895</td>\n",
       "    </tr>\n",
       "    <tr>\n",
       "      <td>California</td>\n",
       "      <td>-12.903226</td>\n",
       "      <td>13.207547</td>\n",
       "    </tr>\n",
       "    <tr>\n",
       "      <td>Oklahoma</td>\n",
       "      <td>0.000000</td>\n",
       "      <td>14.285714</td>\n",
       "    </tr>\n",
       "    <tr>\n",
       "      <td>Georgia</td>\n",
       "      <td>-3.636364</td>\n",
       "      <td>14.754098</td>\n",
       "    </tr>\n",
       "    <tr>\n",
       "      <td>New Jersey</td>\n",
       "      <td>-8.823529</td>\n",
       "      <td>17.142857</td>\n",
       "    </tr>\n",
       "    <tr>\n",
       "      <td>New York</td>\n",
       "      <td>-12.903226</td>\n",
       "      <td>17.910448</td>\n",
       "    </tr>\n",
       "    <tr>\n",
       "      <td>Tennessee</td>\n",
       "      <td>0.000000</td>\n",
       "      <td>20.000000</td>\n",
       "    </tr>\n",
       "    <tr>\n",
       "      <td>Alabama</td>\n",
       "      <td>0.000000</td>\n",
       "      <td>20.000000</td>\n",
       "    </tr>\n",
       "    <tr>\n",
       "      <td>Minnesota</td>\n",
       "      <td>-1.000000</td>\n",
       "      <td>33.333333</td>\n",
       "    </tr>\n",
       "    <tr>\n",
       "      <td>Utah</td>\n",
       "      <td>0.000000</td>\n",
       "      <td>33.333333</td>\n",
       "    </tr>\n",
       "    <tr>\n",
       "      <td>Missouri</td>\n",
       "      <td>0.000000</td>\n",
       "      <td>33.333333</td>\n",
       "    </tr>\n",
       "    <tr>\n",
       "      <td>Rhode Island</td>\n",
       "      <td>-28.571429</td>\n",
       "      <td>36.619718</td>\n",
       "    </tr>\n",
       "    <tr>\n",
       "      <td>New Mexico</td>\n",
       "      <td>1.515152</td>\n",
       "      <td>45.454545</td>\n",
       "    </tr>\n",
       "    <tr>\n",
       "      <td>Mississippi</td>\n",
       "      <td>0.000000</td>\n",
       "      <td>50.000000</td>\n",
       "    </tr>\n",
       "    <tr>\n",
       "      <td>Iowa</td>\n",
       "      <td>1.492537</td>\n",
       "      <td>50.000000</td>\n",
       "    </tr>\n",
       "    <tr>\n",
       "      <td>Ohio</td>\n",
       "      <td>33.333333</td>\n",
       "      <td>50.000000</td>\n",
       "    </tr>\n",
       "    <tr>\n",
       "      <td>Arkansas</td>\n",
       "      <td>0.000000</td>\n",
       "      <td>66.666667</td>\n",
       "    </tr>\n",
       "    <tr>\n",
       "      <td>West Virginia</td>\n",
       "      <td>-5.797101</td>\n",
       "      <td>100.000000</td>\n",
       "    </tr>\n",
       "    <tr>\n",
       "      <td>Colorado</td>\n",
       "      <td>-70.000000</td>\n",
       "      <td>809.090909</td>\n",
       "    </tr>\n",
       "    <tr>\n",
       "      <td>Illinois</td>\n",
       "      <td>-53.763441</td>\n",
       "      <td>1000.000000</td>\n",
       "    </tr>\n",
       "  </tbody>\n",
       "</table>\n",
       "</div>"
      ],
      "text/plain": [
       "                      act_growth   sat_growth\n",
       "Florida                -9.589041   -32.530120\n",
       "Nevada                  0.000000   -11.538462\n",
       "District Of Columbia    0.000000    -8.000000\n",
       "Arizona                 6.451613    -3.333333\n",
       "Wyoming                 0.000000     0.000000\n",
       "North Dakota            0.000000     0.000000\n",
       "New Hampshire         -11.111111     0.000000\n",
       "Nebraska               19.047619     0.000000\n",
       "Montana                 0.000000     0.000000\n",
       "Wisconsin               0.000000     0.000000\n",
       "South Dakota           -3.750000     0.000000\n",
       "Michigan              -24.137931     0.000000\n",
       "Kentucky                0.000000     0.000000\n",
       "Kansas                 -2.739726     0.000000\n",
       "Louisiana               0.000000     0.000000\n",
       "Connecticut           -16.129032     0.000000\n",
       "Indiana                -8.571429     0.000000\n",
       "Delaware               -5.555556     0.000000\n",
       "Hawaii                 -1.111111     1.818182\n",
       "Maine                 -12.500000     4.210526\n",
       "Virginia              -17.241379     4.615385\n",
       "Massachusetts         -13.793103     5.263158\n",
       "North Carolina          0.000000     6.122449\n",
       "Texas                   0.000000     6.451613\n",
       "Vermont               -17.241379     6.666667\n",
       "Idaho                  -5.263158     7.526882\n",
       "Pennsylvania          -13.043478     7.692308\n",
       "Washington            -17.241379     7.812500\n",
       "South Carolina          0.000000    10.000000\n",
       "Maryland               10.714286    10.144928\n",
       "Oregon                  5.000000    11.627907\n",
       "Alaska                -49.230769    13.157895\n",
       "California            -12.903226    13.207547\n",
       "Oklahoma                0.000000    14.285714\n",
       "Georgia                -3.636364    14.754098\n",
       "New Jersey             -8.823529    17.142857\n",
       "New York              -12.903226    17.910448\n",
       "Tennessee               0.000000    20.000000\n",
       "Alabama                 0.000000    20.000000\n",
       "Minnesota              -1.000000    33.333333\n",
       "Utah                    0.000000    33.333333\n",
       "Missouri                0.000000    33.333333\n",
       "Rhode Island          -28.571429    36.619718\n",
       "New Mexico              1.515152    45.454545\n",
       "Mississippi             0.000000    50.000000\n",
       "Iowa                    1.492537    50.000000\n",
       "Ohio                   33.333333    50.000000\n",
       "Arkansas                0.000000    66.666667\n",
       "West Virginia          -5.797101   100.000000\n",
       "Colorado              -70.000000   809.090909\n",
       "Illinois              -53.763441  1000.000000"
      ]
     },
     "execution_count": 64,
     "metadata": {},
     "output_type": "execute_result"
    }
   ],
   "source": [
    "scores['sat_growth'] = 100*(scores['SAT_2018_participation'] - scores['SAT_2017_participation'])/scores['SAT_2017_participation'].astype(int)\n",
    "scores['act_growth'] = 100*(scores['ACT_2018_participation'] - scores['ACT_2017_participation'])/scores['ACT_2017_participation'].astype(int)\n",
    "scores[['act_growth','sat_growth']].sort_values(by='sat_growth')"
   ]
  },
  {
   "cell_type": "markdown",
   "metadata": {},
   "source": [
    "- Do any states show have >50% participation on *both* tests either year?"
   ]
  },
  {
   "cell_type": "code",
   "execution_count": 65,
   "metadata": {},
   "outputs": [
    {
     "data": {
      "text/html": [
       "<div>\n",
       "<style scoped>\n",
       "    .dataframe tbody tr th:only-of-type {\n",
       "        vertical-align: middle;\n",
       "    }\n",
       "\n",
       "    .dataframe tbody tr th {\n",
       "        vertical-align: top;\n",
       "    }\n",
       "\n",
       "    .dataframe thead th {\n",
       "        text-align: right;\n",
       "    }\n",
       "</style>\n",
       "<table border=\"1\" class=\"dataframe\">\n",
       "  <thead>\n",
       "    <tr style=\"text-align: right;\">\n",
       "      <th></th>\n",
       "      <th>ACT_2017_participation</th>\n",
       "      <th>SAT_2017_participation</th>\n",
       "    </tr>\n",
       "  </thead>\n",
       "  <tbody>\n",
       "    <tr>\n",
       "      <td>Florida</td>\n",
       "      <td>73.0</td>\n",
       "      <td>83.0</td>\n",
       "    </tr>\n",
       "    <tr>\n",
       "      <td>Georgia</td>\n",
       "      <td>55.0</td>\n",
       "      <td>61.0</td>\n",
       "    </tr>\n",
       "    <tr>\n",
       "      <td>Hawaii</td>\n",
       "      <td>90.0</td>\n",
       "      <td>55.0</td>\n",
       "    </tr>\n",
       "  </tbody>\n",
       "</table>\n",
       "</div>"
      ],
      "text/plain": [
       "         ACT_2017_participation  SAT_2017_participation\n",
       "Florida                    73.0                    83.0\n",
       "Georgia                    55.0                    61.0\n",
       "Hawaii                     90.0                    55.0"
      ]
     },
     "execution_count": 65,
     "metadata": {},
     "output_type": "execute_result"
    }
   ],
   "source": [
    "part_2017 = ['ACT_2017_participation','SAT_2017_participation']\n",
    "scores[(scores[part_2017[0]] > 50) & (scores[part_2017[1]] > 50)][part_2017]"
   ]
  },
  {
   "cell_type": "code",
   "execution_count": 66,
   "metadata": {},
   "outputs": [
    {
     "data": {
      "text/html": [
       "<div>\n",
       "<style scoped>\n",
       "    .dataframe tbody tr th:only-of-type {\n",
       "        vertical-align: middle;\n",
       "    }\n",
       "\n",
       "    .dataframe tbody tr th {\n",
       "        vertical-align: top;\n",
       "    }\n",
       "\n",
       "    .dataframe thead th {\n",
       "        text-align: right;\n",
       "    }\n",
       "</style>\n",
       "<table border=\"1\" class=\"dataframe\">\n",
       "  <thead>\n",
       "    <tr style=\"text-align: right;\">\n",
       "      <th></th>\n",
       "      <th>ACT_2018_participation</th>\n",
       "      <th>SAT_2018_participation</th>\n",
       "    </tr>\n",
       "  </thead>\n",
       "  <tbody>\n",
       "    <tr>\n",
       "      <td>Florida</td>\n",
       "      <td>66.0</td>\n",
       "      <td>56.0</td>\n",
       "    </tr>\n",
       "    <tr>\n",
       "      <td>Georgia</td>\n",
       "      <td>53.0</td>\n",
       "      <td>70.0</td>\n",
       "    </tr>\n",
       "    <tr>\n",
       "      <td>Hawaii</td>\n",
       "      <td>89.0</td>\n",
       "      <td>56.0</td>\n",
       "    </tr>\n",
       "    <tr>\n",
       "      <td>North Carolina</td>\n",
       "      <td>100.0</td>\n",
       "      <td>52.0</td>\n",
       "    </tr>\n",
       "    <tr>\n",
       "      <td>South Carolina</td>\n",
       "      <td>100.0</td>\n",
       "      <td>55.0</td>\n",
       "    </tr>\n",
       "  </tbody>\n",
       "</table>\n",
       "</div>"
      ],
      "text/plain": [
       "                ACT_2018_participation  SAT_2018_participation\n",
       "Florida                           66.0                    56.0\n",
       "Georgia                           53.0                    70.0\n",
       "Hawaii                            89.0                    56.0\n",
       "North Carolina                   100.0                    52.0\n",
       "South Carolina                   100.0                    55.0"
      ]
     },
     "execution_count": 66,
     "metadata": {},
     "output_type": "execute_result"
    }
   ],
   "source": [
    "part_2018 = ['ACT_2018_participation','SAT_2018_participation']\n",
    "scores[(scores[part_2018[0]] > 50) & (scores[part_2018[1]] > 50)][part_2018]"
   ]
  },
  {
   "cell_type": "markdown",
   "metadata": {},
   "source": [
    "Based on what you've just observed, have you identified any states that you're especially interested in? **Make a note of these and state *why* you think they're interesting**."
   ]
  },
  {
   "cell_type": "markdown",
   "metadata": {},
   "source": [
    "> **_States of Interest:_** \n",
    "- **Colorado** had a significant swing from the ACT to the SAT.\n",
    "- **Illinois** also had a significant swing to the SAT.\n",
    "- **Florida** has a high participation in both ACT and SAT (73% and 83% respectively) and had a negative growth in participation for both tests."
   ]
  },
  {
   "cell_type": "markdown",
   "metadata": {},
   "source": [
    "**You should comment on your findings at each step in a markdown cell below your code block**. Make sure you include at least one example of sorting your dataframe by a column, and one example of using boolean filtering (i.e., masking) to select a subset of the dataframe."
   ]
  },
  {
   "cell_type": "markdown",
   "metadata": {},
   "source": [
    "## Visualize the data\n",
    "\n",
    "There's not a magic bullet recommendation for the right number of plots to understand a given dataset, but visualizing your data is *always* a good idea. Not only does it allow you to quickly convey your findings (even if you have a non-technical audience), it will often reveal trends in your data that escaped you when you were looking only at numbers.\n",
    "\n",
    "Some recommendations on plotting:\n",
    "- Plots have titles\n",
    "- Plots have axis labels\n",
    "- Plots have appropriate tick labels\n",
    "- All text is legible in a plot\n",
    "- Plots demonstrate meaningful and valid relationships\n",
    "- Plots are interpreted to aid understanding\n",
    "\n",
    "There is such a thing as too many plots, and there are a *lot* of bad plots. You might make some! (But hopefully not with the guided prompts below)."
   ]
  },
  {
   "cell_type": "markdown",
   "metadata": {},
   "source": [
    "#### Use Seaborn's heatmap with pandas `.corr()` to visualize correlations between all numeric features\n",
    "\n",
    "Heatmaps are generally not appropriate for presentations, and should often be excluded from reports as they can be visually overwhelming. **However**, they can be extremely useful in identify relationships of potential interest (as well as identifying potential collinearity before modeling).\n",
    "\n",
    "*example*:\n",
    "```python\n",
    "sns.heatmap(df.corr())\n",
    "```\n",
    "\n",
    "Please take time to format your output, adding a title. Look through some of the additional arguments and options. (Axis labels aren't really necessary, as long as the title is informative)."
   ]
  },
  {
   "cell_type": "code",
   "execution_count": 67,
   "metadata": {},
   "outputs": [],
   "source": [
    "sort_cols = scores.columns.sort_values()"
   ]
  },
  {
   "cell_type": "code",
   "execution_count": 70,
   "metadata": {},
   "outputs": [
    {
     "data": {
      "image/png": "[encoded data removed]",
      "text/plain": [
       "<Figure size 1440x1440 with 2 Axes>"
      ]
     },
     "metadata": {
      "needs_background": "light"
     },
     "output_type": "display_data"
    }
   ],
   "source": [
    "mask = np.zeros_like(scores.corr(), dtype=np.bool);\n",
    "mask[np.triu_indices_from(mask)] = True;\n",
    "plt.figure(figsize=(20,20));\n",
    "sns.heatmap(scores[sort_cols].corr(),\n",
    "            mask=mask,\n",
    "            annot=True,\n",
    "            annot_kws={\n",
    "                \"fontsize\":16\n",
    "            },\n",
    "            cmap='viridis',\n",
    "            center=0\n",
    "           );\n",
    "plt.title(\"Column Correlations for ACT and SAT Data\",size=32);\n",
    "plt.yticks(size=18);\n",
    "plt.xticks(size=18);\n",
    "plt.tight_layout();"
   ]
  },
  {
   "cell_type": "code",
   "execution_count": 71,
   "metadata": {},
   "outputs": [
    {
     "data": {
      "text/html": [
       "<div>\n",
       "<style scoped>\n",
       "    .dataframe tbody tr th:only-of-type {\n",
       "        vertical-align: middle;\n",
       "    }\n",
       "\n",
       "    .dataframe tbody tr th {\n",
       "        vertical-align: top;\n",
       "    }\n",
       "\n",
       "    .dataframe thead th {\n",
       "        text-align: right;\n",
       "    }\n",
       "</style>\n",
       "<table border=\"1\" class=\"dataframe\">\n",
       "  <thead>\n",
       "    <tr style=\"text-align: right;\">\n",
       "      <th></th>\n",
       "      <th>act_growth</th>\n",
       "      <th>sat_growth</th>\n",
       "      <th>ACT_2017_participation</th>\n",
       "      <th>ACT_2018_participation</th>\n",
       "      <th>SAT_2017_participation</th>\n",
       "      <th>SAT_2018_participation</th>\n",
       "    </tr>\n",
       "  </thead>\n",
       "  <tbody>\n",
       "    <tr>\n",
       "      <td>Colorado</td>\n",
       "      <td>-70.000000</td>\n",
       "      <td>809.090909</td>\n",
       "      <td>100.0</td>\n",
       "      <td>30.0</td>\n",
       "      <td>11.0</td>\n",
       "      <td>100.0</td>\n",
       "    </tr>\n",
       "    <tr>\n",
       "      <td>Illinois</td>\n",
       "      <td>-53.763441</td>\n",
       "      <td>1000.000000</td>\n",
       "      <td>93.0</td>\n",
       "      <td>43.0</td>\n",
       "      <td>9.0</td>\n",
       "      <td>99.0</td>\n",
       "    </tr>\n",
       "    <tr>\n",
       "      <td>West Virginia</td>\n",
       "      <td>-5.797101</td>\n",
       "      <td>100.000000</td>\n",
       "      <td>69.0</td>\n",
       "      <td>65.0</td>\n",
       "      <td>14.0</td>\n",
       "      <td>28.0</td>\n",
       "    </tr>\n",
       "    <tr>\n",
       "      <td>Arkansas</td>\n",
       "      <td>0.000000</td>\n",
       "      <td>66.666667</td>\n",
       "      <td>100.0</td>\n",
       "      <td>100.0</td>\n",
       "      <td>3.0</td>\n",
       "      <td>5.0</td>\n",
       "    </tr>\n",
       "  </tbody>\n",
       "</table>\n",
       "</div>"
      ],
      "text/plain": [
       "               act_growth   sat_growth  ACT_2017_participation  \\\n",
       "Colorado       -70.000000   809.090909                   100.0   \n",
       "Illinois       -53.763441  1000.000000                    93.0   \n",
       "West Virginia   -5.797101   100.000000                    69.0   \n",
       "Arkansas         0.000000    66.666667                   100.0   \n",
       "\n",
       "               ACT_2018_participation  SAT_2017_participation  \\\n",
       "Colorado                         30.0                    11.0   \n",
       "Illinois                         43.0                     9.0   \n",
       "West Virginia                    65.0                    14.0   \n",
       "Arkansas                        100.0                     3.0   \n",
       "\n",
       "               SAT_2018_participation  \n",
       "Colorado                        100.0  \n",
       "Illinois                         99.0  \n",
       "West Virginia                    28.0  \n",
       "Arkansas                          5.0  "
      ]
     },
     "execution_count": 71,
     "metadata": {},
     "output_type": "execute_result"
    }
   ],
   "source": [
    "scores[scores['sat_growth'] > 50][['act_growth','sat_growth','ACT_2017_participation','ACT_2018_participation','SAT_2017_participation','SAT_2018_participation']].sort_values(by='SAT_2018_participation',ascending=False).head(15)#.index"
   ]
  },
  {
   "cell_type": "code",
   "execution_count": 72,
   "metadata": {
    "scrolled": true
   },
   "outputs": [
    {
     "name": "stderr",
     "output_type": "stream",
     "text": [
      "/anaconda3/lib/python3.7/site-packages/matplotlib/tight_layout.py:176: UserWarning: Tight layout not applied. The left and right margins cannot be made large enough to accommodate all axes decorations. \n",
      "  warnings.warn('Tight layout not applied. The left and right margins '\n"
     ]
    },
    {
     "data": {
      "image/png": "[encoded data removed]",
      "text/plain": [
       "<Figure size 360x720 with 2 Axes>"
      ]
     },
     "metadata": {
      "needs_background": "light"
     },
     "output_type": "display_data"
    }
   ],
   "source": [
    "# mask = np.zeros_like(scores.corr(), dtype=np.bool);\n",
    "states = ['Illinois', 'Colorado', 'West Virginia', 'Arkansas', 'Ohio','Mississippi', 'Iowa']\n",
    "# mask[np.triu_indices_from(mask)] = True;\n",
    "plt.figure(figsize=(5,10));\n",
    "sns.heatmap(scores[sort_cols].loc[states,:].corr()[['sat_growth']].sort_values(by='sat_growth',ascending=False),\n",
    "#             mask=mask,\n",
    "            annot=True,\n",
    "            annot_kws={\n",
    "                \"fontsize\":12\n",
    "            },\n",
    "            cmap='viridis',\n",
    "            center=0,\n",
    "           );\n",
    "plt.title(\"Column Correlations for ACT and SAT Data for States with >= 50% SAT Growth\",size=18);\n",
    "plt.yticks(size=12);\n",
    "plt.xticks(size=12);\n",
    "plt.tight_layout();"
   ]
  },
  {
   "cell_type": "code",
   "execution_count": 74,
   "metadata": {
    "scrolled": true
   },
   "outputs": [
    {
     "name": "stderr",
     "output_type": "stream",
     "text": [
      "/anaconda3/lib/python3.7/site-packages/matplotlib/tight_layout.py:176: UserWarning: Tight layout not applied. The left and right margins cannot be made large enough to accommodate all axes decorations. \n",
      "  warnings.warn('Tight layout not applied. The left and right margins '\n"
     ]
    },
    {
     "data": {
      "image/png": "[encoded data removed]",
      "text/plain": [
       "<Figure size 360x720 with 2 Axes>"
      ]
     },
     "metadata": {
      "needs_background": "light"
     },
     "output_type": "display_data"
    }
   ],
   "source": [
    "# mask = np.zeros_like(scores.corr(), dtype=np.bool);\n",
    "states = ['Illinois', \n",
    "          'Colorado', \n",
    "          'West Virginia', \n",
    "          'Arkansas'#, \n",
    "#           'Ohio',\n",
    "#           'Mississippi', \n",
    "#           'Iowa'\n",
    "         ]\n",
    "# states = scores.index.values\n",
    "# mask[np.triu_indices_from(mask)] = True;\n",
    "plt.figure(figsize=(5,10));\n",
    "sns.heatmap(scores[sort_cols].loc[states,:].corr()[['sat_growth']].sort_values(by='sat_growth',ascending=False),\n",
    "#             mask=mask,\n",
    "            annot=True,\n",
    "            annot_kws={\n",
    "                \"fontsize\":12\n",
    "            },\n",
    "            cmap='viridis',\n",
    "            center=0,\n",
    "           );\n",
    "plt.title(\"Column Correlations for ACT and SAT Data for States with over 50% SAT Growth\",size=18);\n",
    "plt.yticks(size=12);\n",
    "plt.xticks(size=12);\n",
    "plt.tight_layout();"
   ]
  },
  {
   "cell_type": "code",
   "execution_count": 76,
   "metadata": {
    "scrolled": true
   },
   "outputs": [
    {
     "data": {
      "image/png": "[encoded data removed]",
      "text/plain": [
       "<Figure size 1080x576 with 2 Axes>"
      ]
     },
     "metadata": {
      "needs_background": "light"
     },
     "output_type": "display_data"
    }
   ],
   "source": [
    "fig, ax = plt.subplots(nrows=1,ncols=2,sharey=True,figsize=(15,8))\n",
    "# fig.figure(figsize=(10,8))\n",
    "ax.ravel()    \n",
    "for cols in [['ACT_2017_composite','ACT_2017_participation'],['ACT_2018_composite','ACT_2018_participation']]:\n",
    "    df=scores\n",
    "    x_col = cols[0]\n",
    "    y_col = cols[1]\n",
    "    sns.regplot(x=df[x_col],\n",
    "                y=df[y_col],\n",
    "                ax=ax[0]\n",
    "    )\n",
    "    ax[0].set_ylim(0,100)\n",
    "    ax[0].set_xlabel('Composite Score',size=18)\n",
    "    ax[0].set_ylabel('Participation',size=18)\n",
    "    ax[0].set_title('SAT Participation vs Total Score',size=24)\n",
    "    ax[0].legend(['ACT 2017','ACT 2018'])\n",
    "for cols in [['SAT_2017_total','SAT_2017_participation'],['SAT_2018_total','SAT_2018_participation']]:\n",
    "    df=scores\n",
    "    x_col = cols[0]\n",
    "    y_col = cols[1]\n",
    "    sns.regplot(x=df[x_col],\n",
    "                y=df[y_col],\n",
    "                ax=ax[1]\n",
    "    )\n",
    "    ax[1].set_xlim(800,1400)\n",
    "    ax[1].set_xlabel('Total Score',size=18)\n",
    "    ax[1].set_ylabel('Participation',size=18)\n",
    "    ax[1].set_title('SAT Participation vs Total Score',size=24)\n",
    "    ax[1].legend(['SAT 2017','SAT 2018'])\n",
    "plt.tight_layout()"
   ]
  },
  {
   "cell_type": "markdown",
   "metadata": {},
   "source": [
    "#### Define a custom function to subplot histograms\n",
    "\n",
    "We have data for two tests for two years. We only have composite (and not subtest scores) for the 2018 ACT. We should write a function that will take the names of 2+ columns and subplot histograms. While you can use pandas plotting or Seaborn here, matplotlib gives you greater control over all aspects of your plots.\n",
    "\n",
    "[Helpful Link for Plotting Multiple Figures](https://matplotlib.org/users/pyplot_tutorial.html#working-with-multiple-figures-and-axes)\n",
    "\n",
    "Here's some starter code:"
   ]
  },
  {
   "cell_type": "code",
   "execution_count": 80,
   "metadata": {},
   "outputs": [],
   "source": [
    "def subplot_histograms(dataframe, list_of_columns, list_of_titles, list_of_xlabels):\n",
    "    plt.figure(figsize=(20,8))\n",
    "    colors = ['red','orange','blue','green']\n",
    "    nrows = int(np.ceil(len(list_of_columns)/2))             # Makes sure you have enough rows\n",
    "    fig, ax = plt.subplots(nrows=nrows, ncols=2, figsize=(10,8))             # You'll want to specify your figsize\n",
    "    ax = ax.ravel()                                          # Ravel turns a matrix into a vector, which is easier to iterate\n",
    "    for i, column in enumerate(list_of_columns):             # Gives us an index value to get into all our lists\n",
    "        ax_mean = round(dataframe[column].mean(),1)\n",
    "        ax[i].hist(dataframe[column],color=colors[i])                        # feel free to add more settings\n",
    "        ax[i].set_title(list_of_titles[i])\n",
    "        ax[i].set_xlabel(list_of_xlabels[i])\n",
    "        ax[i].axvline(x=ax_mean\n",
    "                      ,color=colors[i])\n",
    "        ax[i].text(x=ax_mean*0.50,\n",
    "                   y=ax[i].get_ylim()[1]*0.9,\n",
    "                   s=f\"mean: {ax_mean}\"#,\n",
    "#                    rotation=90,\n",
    "#                    color=colors[i]\n",
    "                  )\n",
    "    plt.tight_layout()                                       # Set titles, labels, etc here for each subplot\n"
   ]
  },
  {
   "cell_type": "code",
   "execution_count": 81,
   "metadata": {},
   "outputs": [],
   "source": [
    "# def subplot_scatter(dataframe, list_of_columns, list_of_titles, list_of_xlabels):\n",
    "#     plt.figure(figsize=(20,8))\n",
    "#     colors = ['red','orange','blue','green']\n",
    "#     nrows = int(np.ceil(len(list_of_columns)/2))             # Makes sure you have enough rows\n",
    "#     fig, ax = plt.subplots(nrows=nrows, ncols=2, figsize=(10,8))             # You'll want to specify your figsize\n",
    "#     ax = ax.ravel()                                          # Ravel turns a matrix into a vector, which is easier to iterate\n",
    "#     for i, column in enumerate(list_of_columns):             # Gives us an index value to get into all our lists\n",
    "#         ax_mean = round(dataframe[column].mean(),1)\n",
    "#         ax[i].scatter(dataframe[column],color=colors[i])                        # feel free to add more settings\n",
    "#         ax[i].set_title(list_of_titles[i])\n",
    "#         ax[i].set_xlabel(list_of_xlabels[i])\n",
    "#         ax[i].axvline(x=ax_mean\n",
    "#                       ,color=colors[i])\n",
    "#         ax[i].text(x=ax_mean*0.50,\n",
    "#                    y=ax[i].get_ylim()[1]*0.9,\n",
    "#                    s=f\"mean: {ax_mean}\"#,\n",
    "# #                    rotation=90,\n",
    "# #                    color=colors[i]\n",
    "#                   )\n",
    "#     plt.tight_layout()                                       # Set titles, labels, etc here for each subplot\n"
   ]
  },
  {
   "cell_type": "markdown",
   "metadata": {},
   "source": [
    "#### Plot and interpret histograms \n",
    "For each of the following:\n",
    "- Participation rates for SAT & ACT\n",
    "- Math scores for SAT & ACT\n",
    "- Reading/verbal scores for SAT & ACT"
   ]
  },
  {
   "cell_type": "code",
   "execution_count": 83,
   "metadata": {},
   "outputs": [
    {
     "data": {
      "text/plain": [
       "<Figure size 1440x576 with 0 Axes>"
      ]
     },
     "metadata": {},
     "output_type": "display_data"
    },
    {
     "data": {
      "image/png": "[encoded data removed]",
      "text/plain": [
       "<Figure size 720x576 with 4 Axes>"
      ]
     },
     "metadata": {
      "needs_background": "light"
     },
     "output_type": "display_data"
    }
   ],
   "source": [
    "# Participation rates for SAT & ACT\n",
    "col_list = sorted([col for col in scores.columns if 'participation' in col])\n",
    "subplot_histograms(scores, col_list, col_list, col_list);"
   ]
  },
  {
   "cell_type": "code",
   "execution_count": 85,
   "metadata": {},
   "outputs": [
    {
     "data": {
      "text/plain": [
       "<Figure size 1440x576 with 0 Axes>"
      ]
     },
     "metadata": {},
     "output_type": "display_data"
    },
    {
     "data": {
      "image/png": "[encoded data removed]",
      "text/plain": [
       "<Figure size 720x576 with 4 Axes>"
      ]
     },
     "metadata": {
      "needs_background": "light"
     },
     "output_type": "display_data"
    }
   ],
   "source": [
    "# Math scores for SAT & ACT\n",
    "col_list = sorted([col for col in scores.columns if ('math' in col) or ('science' in col)])\n",
    "subplot_histograms(scores, col_list, col_list, col_list);"
   ]
  },
  {
   "cell_type": "code",
   "execution_count": 86,
   "metadata": {},
   "outputs": [
    {
     "data": {
      "text/plain": [
       "<Figure size 1440x576 with 0 Axes>"
      ]
     },
     "metadata": {},
     "output_type": "display_data"
    },
    {
     "data": {
      "image/png": "[encoded data removed]",
      "text/plain": [
       "<Figure size 720x576 with 4 Axes>"
      ]
     },
     "metadata": {
      "needs_background": "light"
     },
     "output_type": "display_data"
    }
   ],
   "source": [
    "# Reading/verbal scores for SAT & ACT\n",
    "col_list = sorted([col for col in scores.columns if ('read' in col) or ('english' in col)])\n",
    "subplot_histograms(scores, col_list, col_list, col_list);"
   ]
  },
  {
   "cell_type": "markdown",
   "metadata": {},
   "source": [
    "#### Plot and interpret scatter plots\n",
    "\n",
    "For each of the following:\n",
    "- SAT vs. ACT math scores for 2017\n",
    "- SAT vs. ACT verbal/reading scores for 2017\n",
    "- SAT vs. ACT total/composite scores for 2017\n",
    "- Total scores for SAT 2017 vs. 2018\n",
    "- Composite scores for ACT 2017 vs. 2018\n",
    "\n",
    "Plot the two variables against each other using matplotlib or Seaborn\n",
    "\n",
    "Your plots should show:\n",
    "- Two clearly labeled axes\n",
    "- A proper title\n",
    "- Using colors and symbols that are clear and unmistakable\n",
    "\n",
    "**Feel free to write a custom function, and subplot if you'd like.** Functions save both time and space.\n"
   ]
  },
  {
   "cell_type": "code",
   "execution_count": 103,
   "metadata": {},
   "outputs": [],
   "source": [
    "def create_scatter(cols,df=scores):\n",
    "    plt.figure(figsize=(10,8))\n",
    "    x_lbl= ' '.join([' '.join(col.split('_')[:2]) + ' ' + ' '.join([subj.title() for subj in col.split('_')[2:]]) for col in cols])\n",
    "    y_lbl= ' '.join([' '.join(col.split('_')[:2]) + ' ' + ' '.join([subj.title() for subj in col.split('_')[2:]]) for col in cols])\n",
    "    plt.title(f\"{y_lbl} vs. {x_lbl}\")\n",
    "    print(x_lbl+' Scores')\n",
    "    plt.xlabel(x_lbl+' Scores')\n",
    "    plt.ylabel(y_lbl+' Scores')\n",
    "    sns.regplot(x=cols[1],\n",
    "                y=cols[0],\n",
    "                data=df\n",
    "               )\n",
    "    plt.legend([x_lbl.split(' ')[1] for _ in range(2)])\n",
    "    print(f\"Correlation between {x_lbl} and {y_lbl} is: {df[cols].corr().values[0][1]}\")\n",
    "#     plt.title(list_of_cols[1].replace(\"_\",\" \").title() + \" vs. \" + list_of_cols[0].replace(\"_\",\" \").title())\n"
   ]
  },
  {
   "cell_type": "code",
   "execution_count": 104,
   "metadata": {},
   "outputs": [],
   "source": [
    "sorted(scores.columns);"
   ]
  },
  {
   "cell_type": "code",
   "execution_count": 105,
   "metadata": {},
   "outputs": [
    {
     "name": "stdout",
     "output_type": "stream",
     "text": [
      "SAT 2017 Math ACT 2017 Math Scores\n",
      "Correlation between SAT 2017 Math ACT 2017 Math and SAT 2017 Math ACT 2017 Math is: -0.42045603931931763\n"
     ]
    },
    {
     "data": {
      "text/plain": [
       "('SAT 2017 Math', 'ACT 2017 Math')"
      ]
     },
     "execution_count": 105,
     "metadata": {},
     "output_type": "execute_result"
    },
    {
     "data": {
      "image/png": "[encoded data removed]",
      "text/plain": [
       "<Figure size 720x576 with 1 Axes>"
      ]
     },
     "metadata": {
      "needs_background": "light"
     },
     "output_type": "display_data"
    }
   ],
   "source": [
    "col_list = [['SAT_2017_math','ACT_2017_math'],\n",
    "            ['SAT_2017_reading_writing','ACT_2017_reading'],\n",
    "            ['SAT_2017_total','ACT_2017_composite'],\n",
    "            ['SAT_2018_total','SAT_2017_total'],\n",
    "            ['ACT_2018_composite','ACT_2017_composite'],\n",
    "            ['sat_growth','act_growth']]\n",
    "x,y = [' '.join(col.split('_')[:2]) + ' ' + ' '.join([subj.title() for subj in col.split('_')[2:]]) for col in col_list[0]]\n",
    "create_scatter(col_list[0]);\n",
    "x,y"
   ]
  },
  {
   "cell_type": "markdown",
   "metadata": {},
   "source": [
    "> **_Analysis:_** Oddly enough, there doesn't seem to be a strong correlation between performance on the SAT and the  ACT  math sections. The correlation value is -0.42. "
   ]
  },
  {
   "cell_type": "code",
   "execution_count": 90,
   "metadata": {
    "scrolled": true
   },
   "outputs": [
    {
     "name": "stdout",
     "output_type": "stream",
     "text": [
      "SAT 2017 Math Scores\n",
      "Correlation between SAT 2017 Math and ACT 2017 Math is: -0.4884406005231993\n"
     ]
    },
    {
     "data": {
      "image/png": "[encoded data removed]",
      "text/plain": [
       "<Figure size 720x576 with 1 Axes>"
      ]
     },
     "metadata": {
      "needs_background": "light"
     },
     "output_type": "display_data"
    }
   ],
   "source": [
    "create_scatter(col_list[1]);"
   ]
  },
  {
   "cell_type": "markdown",
   "metadata": {},
   "source": [
    "> **_Analysis:_** There is also weak negative correlation between the ACT's Reading subtest and the SAT's Reading and Writing section. Corr = -0.48"
   ]
  },
  {
   "cell_type": "code",
   "execution_count": 91,
   "metadata": {},
   "outputs": [
    {
     "name": "stdout",
     "output_type": "stream",
     "text": [
      "SAT 2017 Math Scores\n",
      "Correlation between SAT 2017 Math and ACT 2017 Math is: -0.44502018509994357\n"
     ]
    },
    {
     "data": {
      "image/png": "[encoded data removed]",
      "text/plain": [
       "<Figure size 720x576 with 1 Axes>"
      ]
     },
     "metadata": {
      "needs_background": "light"
     },
     "output_type": "display_data"
    }
   ],
   "source": [
    "create_scatter(col_list[2]);"
   ]
  },
  {
   "cell_type": "markdown",
   "metadata": {},
   "source": [
    "> **_Analysis:_** There is also weak negative correlation between the ACT's Reading subtest and the SAT's Reading and Writing section. Corr = -0.48"
   ]
  },
  {
   "cell_type": "code",
   "execution_count": 92,
   "metadata": {},
   "outputs": [
    {
     "name": "stdout",
     "output_type": "stream",
     "text": [
      "SAT 2017 Math Scores\n",
      "Correlation between SAT 2017 Math and ACT 2017 Math is: 0.85272709563914\n"
     ]
    },
    {
     "data": {
      "image/png": "[encoded data removed]",
      "text/plain": [
       "<Figure size 720x576 with 1 Axes>"
      ]
     },
     "metadata": {
      "needs_background": "light"
     },
     "output_type": "display_data"
    }
   ],
   "source": [
    "create_scatter(col_list[3]);"
   ]
  },
  {
   "cell_type": "markdown",
   "metadata": {},
   "source": [
    "> **_Analysis:_** There is also weak negative correlation between the ACT's Reading subtest and the SAT's Reading and Writing section. Corr = -0.48"
   ]
  },
  {
   "cell_type": "code",
   "execution_count": null,
   "metadata": {},
   "outputs": [],
   "source": [
    "create_scatter(col_list[4]);"
   ]
  },
  {
   "cell_type": "markdown",
   "metadata": {},
   "source": [
    "> **_Analysis:_** There is also weak negative correlation between the ACT's Reading subtest and the SAT's Reading and Writing section. Corr = -0.48"
   ]
  },
  {
   "cell_type": "code",
   "execution_count": null,
   "metadata": {},
   "outputs": [],
   "source": [
    "create_scatter(col_list[5]);"
   ]
  },
  {
   "cell_type": "markdown",
   "metadata": {},
   "source": [
    "#### Plot and interpret boxplots\n",
    "\n",
    "For each numeric variable in the dataframe create a boxplot using Seaborn. Boxplots demonstrate central tendency and spread in variables. In a certain sense, these are somewhat redundant with histograms, but you may be better able to identify clear outliers or differences in IQR, etc.\n",
    "\n",
    "Multiple values can be plotted to a single boxplot as long as they are of the same relative scale (meaning they have similar min/max values).\n",
    "\n",
    "Each boxplot should:\n",
    "- Only include variables of a similar scale\n",
    "- Have clear labels for each variable\n",
    "- Have appropriate titles and labels"
   ]
  },
  {
   "cell_type": "code",
   "execution_count": null,
   "metadata": {},
   "outputs": [],
   "source": [
    "scores.columns.sort_values()"
   ]
  },
  {
   "cell_type": "code",
   "execution_count": null,
   "metadata": {},
   "outputs": [],
   "source": [
    "sns.boxplot(\n",
    "    data=scores[['SAT_2017_math','SAT_2017_reading_writing','SAT_2018_math', 'SAT_2018_reading_writing']],\n",
    "    orient='h')\n",
    "plt.tight_layout()"
   ]
  },
  {
   "cell_type": "code",
   "execution_count": null,
   "metadata": {},
   "outputs": [],
   "source": [
    "sns.boxplot(data=scores[['SAT_2017_total', 'SAT_2018_total']],orient='h')\n",
    "plt.tight_layout()"
   ]
  },
  {
   "cell_type": "code",
   "execution_count": null,
   "metadata": {},
   "outputs": [],
   "source": [
    "sns.boxplot(data=scores[['ACT_2017_composite', 'ACT_2018_composite']],orient='h')\n",
    "plt.tight_layout()"
   ]
  },
  {
   "cell_type": "code",
   "execution_count": null,
   "metadata": {},
   "outputs": [],
   "source": [
    "sns.boxplot(data=scores[['ACT_2017_composite', 'ACT_2017_english', 'ACT_2017_math',\n",
    "       'ACT_2017_reading', 'ACT_2017_science',\n",
    "       'ACT_2018_composite']],orient='h')\n",
    "plt.tight_layout()"
   ]
  },
  {
   "cell_type": "code",
   "execution_count": null,
   "metadata": {},
   "outputs": [],
   "source": [
    "scores['ACT_2017_science'].sort_values()\n",
    "scores.loc['Maryland','ACT_2017_science'] = 23.2\n",
    "\n",
    "# Correction from website https://blog.prepscholar.com/act-scores-by-state-averages-highs-and-lows. "
   ]
  },
  {
   "cell_type": "code",
   "execution_count": null,
   "metadata": {},
   "outputs": [],
   "source": [
    "sns.boxplot(data=scores[['ACT_2017_composite', 'ACT_2017_english', 'ACT_2017_math',\n",
    "       'ACT_2017_reading', 'ACT_2017_science',\n",
    "       'ACT_2018_composite']],orient='h')\n",
    "plt.tight_layout()"
   ]
  },
  {
   "cell_type": "code",
   "execution_count": null,
   "metadata": {},
   "outputs": [],
   "source": [
    "# Code\n",
    "sns.boxplot(data=scores[['ACT_2017_participation',\n",
    " 'ACT_2018_participation',\n",
    " 'SAT_2017_participation',\n",
    " 'SAT_2018_participation']],orient='h')\n",
    "plt.tight_layout()"
   ]
  },
  {
   "cell_type": "markdown",
   "metadata": {},
   "source": [
    "#### Feel free to do additional plots below\n",
    "*(do research and choose your own chart types & variables)*\n",
    "\n",
    "Are there any additional trends or relationships you haven't explored? Was there something interesting you saw that you'd like to dive further into? It's likely that there are a few more plots you might want to generate to support your narrative and recommendations that you are building toward. **As always, make sure you're interpreting your plots as you go**."
   ]
  },
  {
   "cell_type": "code",
   "execution_count": null,
   "metadata": {},
   "outputs": [],
   "source": [
    "sns.pairplot(scores);"
   ]
  },
  {
   "cell_type": "code",
   "execution_count": null,
   "metadata": {
    "scrolled": true
   },
   "outputs": [],
   "source": [
    "sns.regplot(x=scores['ACT_2018_participation'],\n",
    "                y=scores['SAT_2018_participation'])\n",
    "sns.regplot(x=scores['ACT_2017_participation'],\n",
    "                y=scores['SAT_2017_participation'],\n",
    "               color='orange');"
   ]
  },
  {
   "cell_type": "code",
   "execution_count": null,
   "metadata": {},
   "outputs": [],
   "source": [
    "# sns.regplot(x=scores['ACT_2017_participation'],\n",
    "#                 y=scores['ACT_2017_composite']);\n",
    "create_scatter(['ACT_2017_participation','ACT_2017_composite']);\n",
    "\n",
    "create_scatter(['ACT_2018_participation','ACT_2018_composite']);"
   ]
  },
  {
   "cell_type": "code",
   "execution_count": null,
   "metadata": {},
   "outputs": [],
   "source": [
    "create_scatter(['SAT_2017_participation','SAT_2017_total']);\n",
    "create_scatter(['SAT_2018_participation','SAT_2018_total']);"
   ]
  },
  {
   "cell_type": "markdown",
   "metadata": {},
   "source": [
    "#### (Optional): Using Tableau, create a choropleth map for each variable using a map of the US. \n",
    "\n",
    "Save this plot as an image file in an images directory, provide a relative path, and insert the image into notebook in markdown."
   ]
  },
  {
   "cell_type": "code",
   "execution_count": null,
   "metadata": {},
   "outputs": [],
   "source": []
  },
  {
   "cell_type": "markdown",
   "metadata": {},
   "source": [
    "## Descriptive and Inferential Statistics"
   ]
  },
  {
   "cell_type": "markdown",
   "metadata": {},
   "source": [
    "#### Summarizing Distributions\n",
    "\n",
    "Above, we used pandas `describe` to provide quick summary statistics of our numeric columns. We also demonstrated many visual relationships.\n",
    "\n",
    "As data scientists, having a complete understanding of data is imperative prior to modeling.\n",
    "\n",
    "While we will continue to build our analytic tools, we know that measures of *central tendency*, *spread*, and *shape/skewness* provide a quick summary of distributions.\n",
    "\n",
    "For each variable in your data, summarize the underlying distributions (in words & statistics)\n",
    " - Be thorough in your verbal description of these distributions.\n",
    " - Be sure to back up these summaries with statistics."
   ]
  },
  {
   "cell_type": "code",
   "execution_count": null,
   "metadata": {},
   "outputs": [],
   "source": [
    "def subplot_histograms(dataframe, list_of_columns, list_of_titles, list_of_xlabels):\n",
    "    nrows = int(np.ceil(len(list_of_columns)/2))             # Makes sure you have enough rows\n",
    "    fig, ax = plt.subplots(nrows=nrows, ncols=2)             # You'll want to specify your figsize\n",
    "    ax = ax.ravel()                                          # Ravel turns a matrix into a vector, which is easier to iterate\n",
    "    for i, column in enumerate(list_of_columns):             # Gives us an index value to get into all our lists\n",
    "        ax[i].hist(dataframe[column])                        # feel free to add more settings\n",
    "        ax[i].set_title(list_of_titles[i])\n",
    "        ax[i].set_xlabel(list_of_xlabels[i])\n",
    "    plt.tight_layout()"
   ]
  },
  {
   "cell_type": "markdown",
   "metadata": {},
   "source": [
    "Answers:"
   ]
  },
  {
   "cell_type": "markdown",
   "metadata": {},
   "source": [
    "#### We generally assuming that data we sample from a population will be normally distributed. Do we observe this trend?"
   ]
  },
  {
   "cell_type": "markdown",
   "metadata": {},
   "source": [
    "Answer:"
   ]
  },
  {
   "cell_type": "markdown",
   "metadata": {},
   "source": [
    "Does This Assumption Hold for:\n",
    "    - Math\n",
    "    - Reading\n",
    "    - Rates\n",
    "Explain your answers for each distribution and how you think this will affect estimates made from these data."
   ]
  },
  {
   "cell_type": "markdown",
   "metadata": {},
   "source": [
    "Answer:"
   ]
  },
  {
   "cell_type": "markdown",
   "metadata": {},
   "source": [
    "#### Estimate Limits of Data\n",
    "\n",
    "Suppose we only seek to understand the relationship between SAT and ACT participation rates in 2017. \n",
    "\n",
    "##### Does it make sense to conduct statistical inference given these data specifically? \n",
    "\n",
    "Why or why not?\n",
    "\n",
    "*(think about granularity, aggregation, the relationships between populations size & rates...consider the actually populations these data describe in answering this question)*"
   ]
  },
  {
   "cell_type": "markdown",
   "metadata": {},
   "source": [
    "Answer:"
   ]
  },
  {
   "cell_type": "markdown",
   "metadata": {},
   "source": [
    "##### Is it appropriate to compare *these* specific SAT and ACT math scores? \n",
    "\n",
    "Why or why not?"
   ]
  },
  {
   "cell_type": "markdown",
   "metadata": {},
   "source": [
    "Answer:"
   ]
  },
  {
   "cell_type": "markdown",
   "metadata": {},
   "source": [
    "#### Statistical Evaluation of Distributions \n",
    "\n",
    "**If you feel it's appropriate**, using methods we discussed in class, run hypothesis tests to compare variables of interest in our dataset. "
   ]
  },
  {
   "cell_type": "code",
   "execution_count": null,
   "metadata": {},
   "outputs": [],
   "source": [
    "# Code:"
   ]
  },
  {
   "cell_type": "markdown",
   "metadata": {},
   "source": [
    "## Outside Research"
   ]
  },
  {
   "cell_type": "markdown",
   "metadata": {},
   "source": [
    "Based upon your observations, choose **three** states that demonstrate interesting trends in their SAT and/or ACT participation rates. Spend some time doing outside research on state policies that might influence these rates, and summarize your findings below. **Feel free to go back and create new plots that highlight these states of interest**. If you bring in any outside tables or charts, make sure you are explicit about having borrowed them. If you quote any text, make sure that it renders as being quoted. (Make sure that you cite your sources -- check with you local instructor for citation preferences)."
   ]
  },
  {
   "cell_type": "markdown",
   "metadata": {},
   "source": [
    "> **Colorado** had a massive swing from the ACT to the SAT. This is due to a [vie for Colorado testing](https://www.chalkbeat.org/posts/co/2015/12/15/testing-giants-vie-to-provide-colorado-high-school-exams/#.Vnsoy5MrL-Y) between the SAT and the ACT.\n",
    "- The ACT pretests (PARCC) take around 11 hours while PSATs take around 3 according to [this article.](https://www.chalkbeat.org/posts/co/2015/12/23/goodbye-act-hello-sat-a-significant-change-for-colorado-high-schoolers/) School leaders say the decision was in part to gain back class time.\n",
    "- The decision was also motivated by low participation rates in rural areas  of the state according to [this article.](https://www.chalkbeat.org/posts/co/2015/12/11/students-in-pockets-of-rural-suburban-colorado-drove-down-parcc-participation/#.VnsPlZMrKu4)\n",
    "\n",
    "> **_Illinois:_** The school board in Illinois accepted a bid from the College Board to make the SAT the official  college prep assessment according to [this Chicago Tribue article.](https://www.chicagotribune.com/news/ct-illinois-chooses-sat-met-20160211-story.html)\n",
    "- Test will be given free of  charge to all students in Illinois.\n",
    "-  \"We are delighted that, with this decision, more Illinois students will benefit not only from an assessment that provides more information than ever before about a student's readiness, but directly links to resources that offer distinct opportunities to students, such as free, personalized online test practice through Khan Academy and college application fee waivers.\" - The  College Board.\n",
    "- \"Fewer than 6,000 high school graduates in 2015 took the SAT in Illinois, compared with about 157,000 who took the ACT.\""
   ]
  },
  {
   "cell_type": "markdown",
   "metadata": {},
   "source": [
    "## Conclusions and Recommendations"
   ]
  },
  {
   "cell_type": "markdown",
   "metadata": {},
   "source": [
    "Pseudo-interestingly, there is a strong positive correlation between `sat_growth` and `ACT_2018_composite` and `ACT_2018_participation` scores as well as a strong negative correlation between `sat_growth` and  `ACT_2018_participation` and `act_growth`. These correlations are all pointing to the same fact. According to [CollegeVine blog post](https://blog.collegevine.com/here-are-the-average-sat-scores-by-state/), where we initially got out data, \"higher scoring states having lower participation rates\" for the SAT. This is supported by the data as shown in the scatter plots below:\n",
    "\n",
    "![Total Scores v Participation](./images/total_score_vs_participation.png).\n",
    "\n",
    "Therefore we look to the next strongest correlations wich are the negative correlations with `SAT_2018_total`, `SAT_2018_math` and `SAT_2018_reading_writing` scores. This is still related to our findings above. When students are forced to take the SAT, the overall average score of the state decreases.\n",
    "\n",
    "Since all of our strong correlations are eliminated, let's restrict our states of interest to those that increased their `sat_growth` by over 50%. \n",
    "\n",
    "![](./images/heatmap_sat_growth_50_perc.png)\n",
    "\n",
    "We see here that, strangely enough, scores in the ACT 2017 test:`ACT_2017_participation`,`ACT_2017_english`,`ACT_2017_math`,`ACT_2017_reading`,`ACT_2017_science`,`ACT_2017_composite` have a strong correlation with `sat_growth`. This is perhaps surprising, but students and parents who are most likely to find fault with their test of choice are those that score well but are unsatisfied with its outcomes. i.e. Students that score well on the ACT and don't get into the college of their choice.\n",
    "\n",
    "Therefore, the data would suggest that states with high ACT partipation rates are the most likely ones to turn into SAT states.\n",
    "\n",
    "**_It should be noted that states rates of student metriculation into universities would be a very important data point here._**\n",
    "\n",
    "As well as college matriculation, according to [this article](https://www.chalkbeat.org/posts/co/2015/12/23/goodbye-act-hello-sat-a-significant-change-for-colorado-high-schoolers/), political leanings and demographic/urban make-up can affect a states desire for change. In Colorado, the strongest motivator for change was dissatisfaction with the ACT that had been  [required since 2001](https://www.chalkbeat.org/posts/co/2015/12/15/testing-giants-vie-to-provide-colorado-high-school-exams/#.Vnsoy5MrL-Y).\n",
    "\n",
    "Therefore, we will look at states with high ACT scores and participation as the most likely recruits for state-wide SAT adoption.\n"
   ]
  },
  {
   "cell_type": "code",
   "execution_count": null,
   "metadata": {},
   "outputs": [],
   "source": [
    "scores[['ACT_2018_participation','ACT_2018_composite','SAT_2018_participation']].loc[scores['SAT_2018_participation']<50,:].sort_values(by=['ACT_2018_composite','SAT_2018_participation',],ascending=[False,True]).head(7)"
   ]
  },
  {
   "cell_type": "markdown",
   "metadata": {},
   "source": [
    "> **_Recommendations:_** The most likely states to transfer loyalties from the ACT to the SAT are those with high participation rates and high scores. This is because these states are most likely to be disillusioned by their given college entrance exam (the ACT) and the promises it provides of getting into a good university.\n",
    ">\n",
    "> In another iteration of this analysis, I would like to collect data on state matriculation rates. Students and parents are more likely to be dissatisfied with the ACT if they are getting high scores, and they are unable to get into college or the college of their choosing.\n",
    ">\n",
    ">  That being said, an analysis on participation retention should also be done, as states are  likely to become dissatisfied with the  SAT for the same reasons.\n",
    ">\n",
    "> **_In conclusion:_** I would focus research on the 7 states above pending further analysis on matriculation rates. They likely have mandated ACT exams and parents and school board members who are not seeing the results they want are likely in the mood to switch for a test that demands less, practice time, has more history and hasn't failed them (at least recently) in getting their kids into college."
   ]
  },
  {
   "cell_type": "code",
   "execution_count": null,
   "metadata": {},
   "outputs": [],
   "source": [
    "scores[['SAT_2017_participation','SAT_2018_participation','sat_growth']].sort_values(by='sat_growth',ascending=False).head(2).T"
   ]
  },
  {
   "cell_type": "code",
   "execution_count": null,
   "metadata": {},
   "outputs": [],
   "source": []
  }
 ],
 "metadata": {
  "anaconda-cloud": {},
  "kernelspec": {
   "display_name": "Python 3",
   "language": "python",
   "name": "python3"
  },
  "language_info": {
   "codemirror_mode": {
    "name": "ipython",
    "version": 3
   },
   "file_extension": ".py",
   "mimetype": "text/x-python",
   "name": "python",
   "nbconvert_exporter": "python",
   "pygments_lexer": "ipython3",
   "version": "3.7.1"
  }
 },
 "nbformat": 4,
 "nbformat_minor": 2
}
