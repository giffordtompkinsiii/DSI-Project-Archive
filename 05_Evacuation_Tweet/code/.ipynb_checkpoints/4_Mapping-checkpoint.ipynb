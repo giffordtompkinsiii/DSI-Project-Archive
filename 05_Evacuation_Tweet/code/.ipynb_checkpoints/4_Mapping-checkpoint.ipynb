{
 "cells": [
  {
   "cell_type": "markdown",
   "metadata": {},
   "source": [
    "# Mapping of Road Closure Tweets"
   ]
  },
  {
   "cell_type": "code",
   "execution_count": 3,
   "metadata": {},
   "outputs": [],
   "source": [
    "#Imports needed to run the notebook\n",
    "\n",
    "import pandas as pd\n",
    "import numpy as np\n",
    "import matplotlib.pyplot as plt\n",
    "import json\n",
    "\n",
    "%matplotlib inline"
   ]
  },
  {
   "cell_type": "code",
   "execution_count": 4,
   "metadata": {},
   "outputs": [],
   "source": [
    "# Get HERE API keys\n",
    "with open('../here_credentials.json') as cred_data:\n",
    "    info = json.load(cred_data)\n",
    "    app_id = info['APP_ID']\n",
    "    app_code = info['APP_CODE']"
   ]
  },
  {
   "cell_type": "code",
   "execution_count": 5,
   "metadata": {},
   "outputs": [],
   "source": [
    "#Import herepy to work with the Here API using personal credentials and initiate\n",
    "import herepy\n",
    "\n",
    "geocoderApi = herepy.GeocoderApi(app_id, app_code) #APP ID, APP CODE"
   ]
  },
  {
   "cell_type": "markdown",
   "metadata": {},
   "source": [
    "## Mapping"
   ]
  },
  {
   "cell_type": "code",
   "execution_count": 3,
   "metadata": {},
   "outputs": [],
   "source": [
    "#!conda install -c conda-forge gmaps\n",
    "#!pip install -U gmaps"
   ]
  },
  {
   "cell_type": "code",
   "execution_count": 6,
   "metadata": {},
   "outputs": [],
   "source": [
    "#Read in your personal gmaps API key from file\n",
    "\n",
    "with open('../gmaps_credentials.txt') as g:\n",
    "    api_key = g.readline()\n",
    "    g.close"
   ]
  },
  {
   "cell_type": "code",
   "execution_count": 7,
   "metadata": {},
   "outputs": [],
   "source": [
    "#Import gmaps to work with the Google Maps API in python and configure with personal key\n",
    "\n",
    "import gmaps\n",
    "gmaps.configure(api_key=api_key)"
   ]
  },
  {
   "cell_type": "markdown",
   "metadata": {},
   "source": [
    "### Find Coordinates through HereAPI Search"
   ]
  },
  {
   "cell_type": "code",
   "execution_count": 8,
   "metadata": {},
   "outputs": [],
   "source": [
    "#This function is needed for final dataframe to map function\n",
    "\n",
    "def query_to_coordinates(search_string):\n",
    "    \n",
    "    try:\n",
    "        #Get response from geocoderAPI via Herepy\n",
    "        response = geocoderApi.free_form(search_string)\n",
    "        here_dict = response.Response['View']\n",
    "        lat = here_dict[0]['Result'][0]['Location']['DisplayPosition']['Latitude']\n",
    "        long = here_dict[0]['Result'][0]['Location']['DisplayPosition']['Longitude']\n",
    "        coordinates = lat, long\n",
    "        return coordinates\n",
    "    except IndexError:\n",
    "        pass"
   ]
  },
  {
   "cell_type": "markdown",
   "metadata": {},
   "source": [
    "#### Read in DataFrame"
   ]
  },
  {
   "cell_type": "code",
   "execution_count": 9,
   "metadata": {},
   "outputs": [],
   "source": [
    "df_i = pd.read_csv('../data/Loc_Extracted/rt_locations_extract_08022019.csv')"
   ]
  },
  {
   "cell_type": "markdown",
   "metadata": {},
   "source": [
    "## DataFrame to Map\n",
    "If row in DataFrame contains coordinates, map coordinates,  \n",
    "If row does not contain coordinates, map using Here API"
   ]
  },
  {
   "cell_type": "code",
   "execution_count": 10,
   "metadata": {},
   "outputs": [],
   "source": [
    "#Takes list of queries, runs it through Here API to pull out coordinates and plots them on google map.\n",
    "\n",
    "def df_to_map(df, region=None, map_type='ROADMAP',zoom_level=10):\n",
    "    i=0\n",
    "    queries_list = []\n",
    "    \n",
    "    #Adds a dictionary item to queries_list with the time of tweet, latitude/longitude, and the original tweet text\n",
    "    for row in range(len(df)):\n",
    "        if df['lat'].notnull().loc[row] == True:\n",
    "            lat = df['lat'].loc[row]\n",
    "            long =  df['long'].loc[row]\n",
    "            coordinate = lat, long       \n",
    "        \n",
    "        else:     \n",
    "            #Pulls the latitude and longitude\n",
    "            coordinate = query_to_coordinates(df.loc[row]['location'])\n",
    "        \n",
    "        if coordinate != None:\n",
    "            query_dict = {\n",
    "                'time':df.loc[row]['date'],\n",
    "                'location' : coordinate,\n",
    "                'tweet' : df.loc[row]['tweet']\n",
    "            }\n",
    "            #print(query_dict)   \n",
    "            i+=1\n",
    "            queries_list.append(query_dict)\n",
    "    \n",
    "    print(i)\n",
    "    #Save Queries for outside use\n",
    "    model_df = pd.DataFrame(queries_list)\n",
    "    model_df.to_csv('../data/model_df.csv', index = False)\n",
    "    \n",
    "    \n",
    "    #Create a list of only the coordinates for each search \n",
    "    coordinates = [tweet['location'] for tweet in queries_list] # if tweet['location'] != None\n",
    "    \n",
    "    #Creates a template for the info box\n",
    "    info_box_template = \"\"\"\n",
    "    <dl>\n",
    "    <dt>Time Posted:</dt><dd>{time}</dd>\n",
    "    <dt>Tweet:</dt><dd>{tweet}</dd>\n",
    "    </dl>\n",
    "    \"\"\"\n",
    "    \n",
    "    tweet_info = [info_box_template.format(**tweet) for tweet in queries_list]\n",
    "    marker_layer = gmaps.marker_layer(coordinates, info_box_content=tweet_info)\n",
    "    \n",
    "    \n",
    "    fig = gmaps.figure(center=(query_to_coordinates(region)), \n",
    "                       zoom_level=zoom_level,\n",
    "                       map_type=map_type)\n",
    "\n",
    "\n",
    "    \n",
    "    \n",
    "    fig.add_layer(marker_layer)\n",
    "    return fig"
   ]
  },
  {
   "cell_type": "markdown",
   "metadata": {},
   "source": [
    "### Run Model for Case Study"
   ]
  },
  {
   "cell_type": "code",
   "execution_count": 11,
   "metadata": {
    "scrolled": false
   },
   "outputs": [
    {
     "name": "stdout",
     "output_type": "stream",
     "text": [
      "69\n"
     ]
    },
    {
     "data": {
      "application/vnd.jupyter.widget-view+json": {
       "model_id": "b91654e1a4de4c088d7a2683a9aa506e",
       "version_major": 2,
       "version_minor": 0
      },
      "text/plain": [
       "Figure(layout=FigureLayout(height='420px'))"
      ]
     },
     "metadata": {},
     "output_type": "display_data"
    }
   ],
   "source": [
    "#Second argument centers the map on a region\n",
    "\n",
    "df_to_map(df_i, \"Jacksonville, FL\",map_type='HYBRID')"
   ]
  },
  {
   "cell_type": "code",
   "execution_count": 12,
   "metadata": {
    "scrolled": false
   },
   "outputs": [
    {
     "data": {
      "text/html": [
       "<div>\n",
       "<style scoped>\n",
       "    .dataframe tbody tr th:only-of-type {\n",
       "        vertical-align: middle;\n",
       "    }\n",
       "\n",
       "    .dataframe tbody tr th {\n",
       "        vertical-align: top;\n",
       "    }\n",
       "\n",
       "    .dataframe thead th {\n",
       "        text-align: right;\n",
       "    }\n",
       "</style>\n",
       "<table border=\"1\" class=\"dataframe\">\n",
       "  <thead>\n",
       "    <tr style=\"text-align: right;\">\n",
       "      <th></th>\n",
       "      <th>location</th>\n",
       "      <th>time</th>\n",
       "      <th>tweet</th>\n",
       "    </tr>\n",
       "  </thead>\n",
       "  <tbody>\n",
       "    <tr>\n",
       "      <th>0</th>\n",
       "      <td>(49.93767, -97.19947)</td>\n",
       "      <td>2019-08-02 13:12:24</td>\n",
       "      <td>Updated  Crash in Duval on SR-202   Butler Blv...</td>\n",
       "    </tr>\n",
       "    <tr>\n",
       "      <th>1</th>\n",
       "      <td>(30.33938, -81.67218)</td>\n",
       "      <td>2019-08-02 11:48:59</td>\n",
       "      <td>Jacksonville   There will be lane closure on N...</td>\n",
       "    </tr>\n",
       "    <tr>\n",
       "      <th>2</th>\n",
       "      <td>(41.53582, -8.25791)</td>\n",
       "      <td>2019-08-02 11:12:34</td>\n",
       "      <td>New  Disabled vehicle in Duval on I-295 E sout...</td>\n",
       "    </tr>\n",
       "    <tr>\n",
       "      <th>3</th>\n",
       "      <td>(18.79319, 100.7798)</td>\n",
       "      <td>2019-08-02 10:45:18</td>\n",
       "      <td>New  Planned construction in Clay on SR-21   B...</td>\n",
       "    </tr>\n",
       "    <tr>\n",
       "      <th>4</th>\n",
       "      <td>(18.79319, 100.7798)</td>\n",
       "      <td>2019-08-02 10:34:38</td>\n",
       "      <td>635a- BIG 3 travel times     no problems on th...</td>\n",
       "    </tr>\n",
       "  </tbody>\n",
       "</table>\n",
       "</div>"
      ],
      "text/plain": [
       "                location                 time  \\\n",
       "0  (49.93767, -97.19947)  2019-08-02 13:12:24   \n",
       "1  (30.33938, -81.67218)  2019-08-02 11:48:59   \n",
       "2   (41.53582, -8.25791)  2019-08-02 11:12:34   \n",
       "3   (18.79319, 100.7798)  2019-08-02 10:45:18   \n",
       "4   (18.79319, 100.7798)  2019-08-02 10:34:38   \n",
       "\n",
       "                                               tweet  \n",
       "0  Updated  Crash in Duval on SR-202   Butler Blv...  \n",
       "1  Jacksonville   There will be lane closure on N...  \n",
       "2  New  Disabled vehicle in Duval on I-295 E sout...  \n",
       "3  New  Planned construction in Clay on SR-21   B...  \n",
       "4  635a- BIG 3 travel times     no problems on th...  "
      ]
     },
     "execution_count": 12,
     "metadata": {},
     "output_type": "execute_result"
    }
   ],
   "source": [
    "#Output csv generated from the mapping function\n",
    "\n",
    "model_df = pd.read_csv('../data/model_df.csv')\n",
    "model_df.head()"
   ]
  },
  {
   "cell_type": "code",
   "execution_count": null,
   "metadata": {},
   "outputs": [],
   "source": []
  },
  {
   "cell_type": "code",
   "execution_count": null,
   "metadata": {},
   "outputs": [],
   "source": []
  }
 ],
 "metadata": {
  "kernelspec": {
   "display_name": "Python 3",
   "language": "python",
   "name": "python3"
  },
  "language_info": {
   "codemirror_mode": {
    "name": "ipython",
    "version": 3
   },
   "file_extension": ".py",
   "mimetype": "text/x-python",
   "name": "python",
   "nbconvert_exporter": "python",
   "pygments_lexer": "ipython3",
   "version": "3.7.1"
  },
  "toc": {
   "base_numbering": 1,
   "nav_menu": {},
   "number_sections": false,
   "sideBar": true,
   "skip_h1_title": false,
   "title_cell": "Table of Contents",
   "title_sidebar": "Contents",
   "toc_cell": false,
   "toc_position": {},
   "toc_section_display": true,
   "toc_window_display": true
  }
 },
 "nbformat": 4,
 "nbformat_minor": 2
}
