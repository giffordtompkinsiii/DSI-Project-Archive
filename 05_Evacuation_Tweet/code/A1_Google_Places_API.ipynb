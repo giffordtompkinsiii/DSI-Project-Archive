{
 "cells": [
  {
   "cell_type": "markdown",
   "metadata": {},
   "source": [
    "# Google API Explorations  \n",
    "---\n",
    "\n",
    "## Objective\n",
    "This notebook will use the Google API to generate directions that avoid a current closure.\n",
    "\n",
    "This method may be viable, but requires more data and more tweaking. \n",
    "\n",
    "We would need to know whether or not Google is already taking twitter-reported closures into account while routing, and we need to test whether a working location extraction technique would work.\n",
    "\n",
    "This notebook shows an example of a how we could use Google APIs to convert closures into polyline codes and test whether generated routes include those polyline encodings.\n",
    "\n",
    "---"
   ]
  },
  {
   "cell_type": "code",
   "execution_count": 1,
   "metadata": {},
   "outputs": [],
   "source": [
    "import requests\n",
    "import json\n",
    "import csv\n",
    "import polyline"
   ]
  },
  {
   "cell_type": "code",
   "execution_count": 2,
   "metadata": {},
   "outputs": [],
   "source": [
    "credential_file = '../creds/google-maps-api.json'\n",
    "\n",
    "with open(credential_file, 'r') as f:\n",
    "    credentials = json.load(f)\n",
    "    API_KEY = credentials['API_KEY']"
   ]
  },
  {
   "cell_type": "markdown",
   "metadata": {},
   "source": [
    "# Google Places API\n",
    "The Google Places API can take a string and return a specified location json for its most likely match."
   ]
  },
  {
   "cell_type": "code",
   "execution_count": 3,
   "metadata": {},
   "outputs": [],
   "source": [
    "def generate_place(location,key=credentials['API_KEY']):\n",
    "    '''\n",
    "    Returns a Google Places json object based on the input `location`.\n",
    "    \n",
    "    Parameters\n",
    "    ----------\n",
    "    location (str): location of place as a string. The Maps API uses Google Search to find the location.\n",
    "    \n",
    "    key (str): credentials['API_KEY']\n",
    "    \n",
    "    Returns\n",
    "    -------\n",
    "    place (json): Returns a json object with place information.\n",
    "    '''\n",
    "    # Format the location objeect to pass into the API request.\n",
    "    location = location.lower().replace(' ','+')\n",
    "    url = f\"https://maps.googleapis.com/maps/api/place/textsearch/json?query={location}&key={key}\"\n",
    "    res = requests.get(url)\n",
    "    return res.json()"
   ]
  },
  {
   "cell_type": "code",
   "execution_count": 7,
   "metadata": {},
   "outputs": [
    {
     "data": {
      "text/plain": [
       "{'error_message': 'The provided API key is invalid.',\n",
       " 'html_attributions': [],\n",
       " 'results': [],\n",
       " 'status': 'REQUEST_DENIED'}"
      ]
     },
     "execution_count": 7,
     "metadata": {},
     "output_type": "execute_result"
    }
   ],
   "source": [
    "generate_place('Pepperdine University')"
   ]
  },
  {
   "cell_type": "markdown",
   "metadata": {},
   "source": [
    "# Google Directions API\n",
    "The Directions API can take origins and destinations and give you routes between them, including alternate routes. The json includes the steps for each route as well."
   ]
  },
  {
   "cell_type": "code",
   "execution_count": 94,
   "metadata": {},
   "outputs": [],
   "source": [
    "def generate_directions(origin,destination,key=credentials['API_KEY']):\n",
    "#     orig = origin['results']['name'].lower().replace(' ','+')\n",
    "#     dest = destination['results']['name'].lower().replace(' ','+')\n",
    "    url = f\"https://maps.googleapis.com/maps/api/directions/json?\" \\\n",
    "            f\"origin={origin.lower().replace(' ','+')}&\" \\\n",
    "            f\"destination={destination.lower().replace(' ','+')}&\" \\\n",
    "            f\"alternatives=true&\" \\\n",
    "            f\"key={key}\"\n",
    "    return requests.get(url).json()"
   ]
  },
  {
   "cell_type": "code",
   "execution_count": 101,
   "metadata": {},
   "outputs": [
    {
     "data": {
      "text/plain": [
       "{'geocoded_waypoints': [{'geocoder_status': 'OK',\n",
       "   'place_id': 'ChIJp1Mqvq8f6IARk9BdNpkiaO4',\n",
       "   'types': ['establishment', 'point_of_interest', 'school', 'university']},\n",
       "  {'geocoder_status': 'OK',\n",
       "   'place_id': 'ChIJbzYnQte8woARJaqqFVpKeNo',\n",
       "   'types': ['establishment',\n",
       "    'museum',\n",
       "    'point_of_interest',\n",
       "    'tourist_attraction']}],\n",
       " 'routes': [{'bounds': {'northeast': {'lat': 34.08872540000001,\n",
       "     'lng': -118.4357197},\n",
       "    'southwest': {'lat': 34.0113659, 'lng': -118.7035686}},\n",
       "   'copyrights': 'Map data ©2019',\n",
       "   'legs': [{'distance': {'text': '21.8 mi', 'value': 35162},\n",
       "     'duration': {'text': '36 mins', 'value': 2146},\n",
       "     'end_address': '1200 Getty Center Dr, Los Angeles, CA 90049, USA',\n",
       "     'end_location': {'lat': 34.0882892, 'lng': -118.4763226},\n",
       "     'start_address': '24255 Pacific Coast Hwy, Malibu, CA 90263, USA',\n",
       "     'start_location': {'lat': 34.0393452, 'lng': -118.7020505},\n",
       "     'steps': [{'distance': {'text': '174 ft', 'value': 53},\n",
       "       'duration': {'text': '1 min', 'value': 13},\n",
       "       'end_location': {'lat': 34.0396966, 'lng': -118.7024444},\n",
       "       'html_instructions': 'Head <b>northwest</b> on <b>Seaver Dr</b>',\n",
       "       'polyline': {'points': '}hwnEx~nsUOTSXIHWR'},\n",
       "       'start_location': {'lat': 34.0393452, 'lng': -118.7020505},\n",
       "       'travel_mode': 'DRIVING'},\n",
       "      {'distance': {'text': '194 ft', 'value': 59},\n",
       "       'duration': {'text': '1 min', 'value': 20},\n",
       "       'end_location': {'lat': 34.0393176, 'lng': -118.702167},\n",
       "       'html_instructions': 'Make a <b>U-turn</b>',\n",
       "       'maneuver': 'uturn-left',\n",
       "       'polyline': {'points': 'ckwnEfaosUHPJIZ[@CV]'},\n",
       "       'start_location': {'lat': 34.0396966, 'lng': -118.7024444},\n",
       "       'travel_mode': 'DRIVING'},\n",
       "      {'distance': {'text': '0.3 mi', 'value': 546},\n",
       "       'duration': {'text': '1 min', 'value': 64},\n",
       "       'end_location': {'lat': 34.0347766, 'lng': -118.7034357},\n",
       "       'html_instructions': 'Turn <b>right</b> onto <b>Malibu Canyon Rd</b>',\n",
       "       'maneuver': 'turn-right',\n",
       "       'polyline': {'points': 'whwnEp_osUJGHEHA@?HAH@L@NRPR\\\\b@XVPPPLXTBBZRZP@@XNj@Vt@RFBVFb@H`@Df@DF?l@Br@Ar@Ch@ChBKt@E'},\n",
       "       'start_location': {'lat': 34.0393176, 'lng': -118.702167},\n",
       "       'travel_mode': 'DRIVING'},\n",
       "      {'distance': {'text': '7.5 mi', 'value': 12107},\n",
       "       'duration': {'text': '13 mins', 'value': 782},\n",
       "       'end_location': {'lat': 34.0399098, 'lng': -118.5763164},\n",
       "       'html_instructions': 'Turn <b>left</b> onto <b>CA-1 S</b><div style=\"font-size:0.9em\">Pass by Jack in the Box (on the left in 1.6&nbsp;mi)</div>',\n",
       "       'maneuver': 'turn-left',\n",
       "       'polyline': {'points': 'klvnEngosUXGAWMyCOmDC[IoCCg@E}Ai@}OAw@CmA?s@?c@BaA@a@Bq@HcBJiBReE@QHqARaDFiALmCJgBB_@^eH?GRqDB_@Bs@@g@@q@BaA?i@Co@?ECcAKsCASASCe@MqCG_BG{ACi@EwAKwBEq@?CCUAQCWIi@Ii@KGGUEWI[Ss@Cc@AA[{@MWO]MWMSS[OUSYGIMOa@i@c@i@IK]e@WYSKIKc@k@i@w@Yg@?A]o@IYWo@Ma@ISMc@Oe@Ka@Ma@a@wAoAqEMi@K]]uAMm@Kg@Kk@Km@CYIi@Gk@Gg@Ei@Ec@Ci@?EEy@EgAAg@AS?CAi@?MAa@?S?c@?GEs@A[QuH?IA]Ae@E_B?SEaBA}@A[?_@?EAO?y@Ay@?c@@k@?c@?O@m@@WBeABu@By@Bc@@]LsCJeC@I@[Bs@@QB]@S@UBi@@I@a@@KNiDPcENmD@]HgBDeAFeADeAB[Bg@Dg@B_@Ba@LsALmADk@H{@Fm@J_Ah@eGLsANiB@c@Be@?o@AE@m@Cm@Ce@Ik@EYAMMe@EQCMEKIe@Kg@O}@CYEYEo@C]CY?_@C[?[A_@?[?W@Y@k@@[@OBU@_@BS@OBOFs@D]BQDWZgCHy@Hm@J}@TiBDWBWJ_AHo@Hw@D[D[D_@DWJk@?EN{@?CRkABUJm@TuAPiAD_@@WDe@Dq@@_@Ba@Fo@BU?ABc@D]?]?K?E?GAU?q@Es@AWCME[YwAGc@CKE[C]C[Em@M}AC]ImAG}@Ca@Ce@Go@Ci@AKA]A_@?[?S?Y@o@@W@_@@EDo@Be@@CBc@B]@O@SBW?EB[@YBY@WBg@@c@?_@@g@?E@Y?Y?UAe@?KA[AUAWGi@CWE_@EYIo@GYI_@K]Og@Oe@IYI_@G]G[CYEa@ASAOAYAYAYAu@Ag@?WAg@?a@?i@@c@Bi@Dk@Bg@HwAP{CL{BBSLkCLsBL}BZqGDk@\\\\cHDg@FeADyAFKBSBmA?iB?cB@]B_@Fq@VgBXkB?IESBYBy@@u@E{@K}@QaAOm@Wu@[o@e@u@sBwC[i@m@gBOo@eByG_@yAWsAOeAEe@A_@A]?E@M@k@J_D@kA?s@?aBEgCEoBMcGGoBEmCCq@AKEs@Gc@Ke@WqACKGe@Gc@E{@A[AY@q@@g@@WBc@F}@B}@A[?KAc@?GEy@AaA@y@@]Hy@D_@Fc@?E\\\\gCJs@L{@Fk@Fu@DkA@O?g@@m@?c@DcA@Q@Q@OBK?CDQDWl@_ENy@Lm@Fc@?CD]De@B_@?E@e@?K?]?e@AQAYCQ?GCUUqAMs@Ia@_@kBEOCKEOIc@ACSaAEWOu@AC]aBG[EWEU?AIYCMKi@CGCSEUE_@?ACQAMCYAS?SAOJe@As@?_C@w@?[@g@B[@YDe@Fi@@SB]B[?M?W?_@AI'},\n",
       "       'start_location': {'lat': 34.0347766, 'lng': -118.7034357},\n",
       "       'travel_mode': 'DRIVING'},\n",
       "      {'distance': {'text': '5.7 mi', 'value': 9121},\n",
       "       'duration': {'text': '10 mins', 'value': 581},\n",
       "       'end_location': {'lat': 34.0124762, 'lng': -118.4907351},\n",
       "       'html_instructions': 'Slight <b>left</b> to stay on <b>CA-1 S</b>',\n",
       "       'maneuver': 'turn-slight-left',\n",
       "       'polyline': {'points': 'mlwnE~lvrUCOGI?KAA?GCQCQAECSEQGSGSISKUKSa@w@c@u@MUWg@IQOYGOIQ[y@GOQg@IWGWGOEOi@uBGUEOI_@COCKE[G[CYCQASAQCOAQAYASAW?O?QAU?]?_@@c@@_@@[@S@Q@ODG@A@C?AB]B_@?C?K?C?E^_FFu@F_ANsADk@D]D]Hc@RwAD[?AB_@@a@@}@?A?]@a@@U?IB[B_@BO@KFa@DYJa@J_@HUJ[DIVm@LYJ[L[H]J[FYF]H_@DQ?I@E@E`@oBPw@h@{BNs@J_@Nk@@ABMBILa@HWL_@@AFUFOFOHUZy@^eANe@FOFUJ]DWBO@E@GPgADw@@_A?k@?O@s@AoACe@MwAGm@Iq@Ea@E[Ku@AMWeB]qB?CKe@UmAUwAG_@AMCQCUCc@ASAYAK?[?[?W@_@@W@]@_@Ds@Bw@@u@?c@Ac@A]CUEk@AOCYIaACg@AUCi@?ICs@?AAk@Bi@?[B[@QBg@?AH{@Fg@Hi@Jg@Lo@Po@Hc@Ha@Hi@@IXsBJu@Z}AZyA\\\\gAFSTk@JYJWf@gAt@}AJYDEx@mBFOHU\\\\{@t@oBFOl@_BdAmCr@iBFMBELWHKFKFQDGHKHMX_@V_@@CNSFKLSRa@P]JS?AFOHSBGFODOf@cBVu@Ne@~BwHtAsEx@iCr@{BLc@Rs@FQDSH]DY@IDWHi@Fq@Fa@Ho@Hg@BI?ADQHYH[FQTw@j@cBDOHWPk@Na@Pg@LWDMFOHODKLW^y@vA_Df@gAf@gARc@h@mALWBEDIFMDIJSLW?A@AZk@HMJQP]LSNYFOHUL]DKFSDQTu@HSLYR[HMLSf@y@HSDMPY@C?A@C?A?CACACAAb@}@`@y@L_@JUHSb@iALYfAsChAwCr@aBHWFM`@cAPa@?CN]Tk@Pc@j@sARe@FM`@aAR_@Vi@Tc@Rc@Ve@Ve@Xi@R]d@u@^k@T[f@u@`@k@Zc@vByCl@{@l@y@NQj@{@RWTY^i@Zc@pCyDn@}@f@q@HMRW|AuBJO`AsAV]PYbAsAFKlAaBPCJQLOl@y@hA}AjAaBp@}@h@s@PUz@gA~AoBZ_@VYbCsCxAaBhAoA`@g@PQt@{@X[X]LMpA_BTWRWRUFKFIHKFKFIDIDIDIBIDKBGBILo@DSD]De@?A@SBY?O?e@?A?Q?[?]ASE[G]GSI]GOGQMYOYa@s@S_@KS?ACEQa@CMIUI]AGGWE_@CQC[AO?UAQ?c@A{B?Y'},\n",
       "       'start_location': {'lat': 34.0399098, 'lng': -118.5763164},\n",
       "       'travel_mode': 'DRIVING'},\n",
       "      {'distance': {'text': '3.1 mi', 'value': 5023},\n",
       "       'duration': {'text': '4 mins', 'value': 217},\n",
       "       'end_location': {'lat': 34.029948, 'lng': -118.4420782},\n",
       "       'html_instructions': 'Continue onto <b>I-10 E</b>',\n",
       "       'polyline': {'points': '_arnEbverU?SCk@AOAQAWE[AGE_@G[G]I]Ka@KYQc@GSMWO[ACs@sAm@gAa@w@m@iAo@mAOYUc@EIc@y@Q]s@sA_@u@CEAGqBwDg@aAq@mA[i@Ye@g@u@q@cA}AqBQUsAgBm@y@}@iA_AoA_BwB_BqBkDsE_BuBoA_B[c@Ya@UYOWYa@MUKQQYMYSa@IQIQKUKYMYGQACMa@AAMc@K]K_@I[I[GYI_@GYaAsFm@iDUsAk@gDY}AGa@Mo@?AEWO{@c@_Cs@aEKi@O}@[iBUoAi@eDcBsJCOIk@Q}@c@mCc@_D_@uC[iCOkAAGa@iD_@yCc@sDMeAAKC]CSC]Aa@Ci@Ag@?c@A[?I@}@By@DoABqAB_A@c@@w@?S?I?_@Ac@Aa@?WCa@Cc@C[E]A[G]EWEa@GYIi@EOKo@Kq@Kg@Kq@Mq@E]G]i@mCE[_@}BcB{JKg@i@eDAEO_AEYESE]Ii@Gk@AAIy@Ge@AK?CIo@Is@'},\n",
       "       'start_location': {'lat': 34.0124762, 'lng': -118.4907351},\n",
       "       'travel_mode': 'DRIVING'},\n",
       "      {'distance': {'text': '4.0 mi', 'value': 6441},\n",
       "       'duration': {'text': '5 mins', 'value': 276},\n",
       "       'end_location': {'lat': 34.0756547, 'lng': -118.468636},\n",
       "       'html_instructions': 'Take exit <b>3A</b> to merge onto <b>I-405 N</b> toward <b>Sacramento</b>',\n",
       "       'maneuver': 'ramp-right',\n",
       "       'polyline': {'points': 'enunE~e|qUBGBG@G?A?AGo@CUAQ?CCa@AMCSAa@C[Ac@C]Ag@Ag@Ce@C[G_BEmAAo@Ce@?WASAIA_@AMCS?AEWCQCKCMEMGYEMIWIQEICIEGIOCEIMGKACMQGIAAMMIKAAIIQOA?GGKGGGCAGCIGIEA?KGMEECCAWIEAQEA?MCICKAMCYCG?IAG?Q?G?M?C@I?W@KBM@G@MBC?ODE@GBODC@MDE@WLA@C@SJUPUNUVWRCDGFSREDKJk@j@OLCDA@c@`@UPOJSL_@TOJYNSJMDQHKFUH?@_@NA@_@NQJMFW^uAf@u@Xw@Xy@\\\\A?w@^c@TKDy@d@_@VOJMHOJSLKHURq@h@k@d@q@h@c@Z_Ax@i@b@c@\\\\IFWT_@Za@Zk@d@c@^kA~@GDuAjASNaAx@iBxAMLwAjAUR}AnA]XwC`CoB~A_Av@wAjAA?wAlAu@l@oAbA[V}@l@c@Xs@`@u@`@cBr@_AZmA\\\\}Dz@e@Lq@Po@Pg@PMDSFC@{@^IB_@Pk@XC@_@RE@YPA?i@^OJ_@Tg@^_At@MJ]V]X[XEBqAdAWRuAhAy@r@_@XOLmBxAu@h@c@ZWR]TyAfAgAv@eAr@_Ap@mAz@c@ZMJMH{BdBk@d@e@^c@\\\\i@b@oAdAYT{@p@]XgA|@iBzA}BjBoB|AgA~@m@h@aBvAc@\\\\oExDq@h@q@j@kEvDqAhAeAz@q@l@eCtB]XWRuAjA_Av@QLKHuAhA_Ar@iAx@o@f@uA`A_@Vw@l@g@^mBrAuDjCg@`@i@^UR'},\n",
       "       'start_location': {'lat': 34.029948, 'lng': -118.4420782},\n",
       "       'travel_mode': 'DRIVING'},\n",
       "      {'distance': {'text': '0.2 mi', 'value': 248},\n",
       "       'duration': {'text': '1 min', 'value': 35},\n",
       "       'end_location': {'lat': 34.077639, 'lng': -118.469297},\n",
       "       'html_instructions': 'Take exit <b>57B</b> for <b>Moraga Dr</b>',\n",
       "       'maneuver': 'ramp-right',\n",
       "       'polyline': {'points': 'yk~nE~karUYEC?C?A?A?EBc@VC@SJ_Af@OHYNKFQJKFo@^OHG@E?C?G?A?EAEAEACCCCKKECIK'},\n",
       "       'start_location': {'lat': 34.0756547, 'lng': -118.468636},\n",
       "       'travel_mode': 'DRIVING'},\n",
       "      {'distance': {'text': '0.9 mi', 'value': 1377},\n",
       "       'duration': {'text': '2 mins', 'value': 107},\n",
       "       'end_location': {'lat': 34.0886673, 'lng': -118.4748566},\n",
       "       'html_instructions': 'Turn <b>left</b> onto <b>N Sepulveda Blvd</b>',\n",
       "       'maneuver': 'turn-left',\n",
       "       'polyline': {'points': 'gx~nEbparU_@j@]f@W^OVSXKNU\\\\]b@OPUXy@|@QRk@j@MLq@l@}@t@aAv@WP]T}@j@C@[Ro@b@qAr@e@Xk@ZYNIDIDIBIDG@EBOBIBUFu@PA?o@Lu@Nm@LE@QDSDYFI@ODUBWBC@S@K@G@O?s@Da@Bm@Dk@DSBgBLmBNi@Be@DE@e@DkBLkAHy@H'},\n",
       "       'start_location': {'lat': 34.077639, 'lng': -118.469297},\n",
       "       'travel_mode': 'DRIVING'},\n",
       "      {'distance': {'text': '0.1 mi', 'value': 187},\n",
       "       'duration': {'text': '1 min', 'value': 51},\n",
       "       'end_location': {'lat': 34.0882892, 'lng': -118.4763226},\n",
       "       'html_instructions': 'Turn <b>left</b> onto <b>Getty Center Dr</b><div style=\"font-size:0.9em\">Destination will be on the left</div>',\n",
       "       'maneuver': 'turn-left',\n",
       "       'polyline': {'points': 'e}`oEzrbrUBl@Dt@Bh@B`@?J?B?BABAB?BKNABCDEL?D?BAB?B@FBF@DBDDB@BD@D@B?D?H?B?HCHC@ABABA@?'},\n",
       "       'start_location': {'lat': 34.0886673, 'lng': -118.4748566},\n",
       "       'travel_mode': 'DRIVING'}],\n",
       "     'traffic_speed_entry': [],\n",
       "     'via_waypoint': []}],\n",
       "   'overview_polyline': {'points': '}hwnEx~nsUeAlAHPJI\\\\_@b@e@RGb@@xAbB`Ax@rAv@`Bj@^JtBT`B@|AG~CQXGAW]gIMkDu@{U?gFZaHr@kM|A_ZJoEGcDu@yQWeGSiBIi@KGMm@]oAEe@gAiCeA_B{AmBg@q@k@e@wAoBaAsB}@iCkAaEgCoJq@oD]wCO}BS{Gm@iZ?uHLmE^{IT}EbAyUh@_KvBqUPmCBuAGgC_@yBYqAe@yCMgCEsBB}AZiE`B_Nz@oHdAyGn@wELwBNiBHkBAuAQuBk@cD[eEk@wICmBDaCXeETqE@iEMsBYaCyA}FSkBG}AE}CDyCrAwUlA_VLmBDyAFKFaB?mED}@^yCXuBESBYBy@CqB]_Cg@cBaAeBoCaE}@wCeCsJg@yCGeA@}AL_HEiFSsJS{HMwAc@wBKq@M_B?oCPwDCsAG{BBwAVcC~@cHNyDHgDpAuIZsBJqBAaBIiAgBcJgCiMKaAGqAJe@As@@wDFyBNcBF_BAi@KYEg@O}@e@qAyC{F_AcC_@oAaA{DUsAUaD?qEFqAHOn@mJb@}Eh@uDJyEJuAZiBf@{A~@_Cd@qBPaAlCkL~@yClAeDj@iBLu@V_C@kBCyDe@yEk@eE_AiFc@wCKgBA{AFuBJeEMcC]qG@sBHwAPcBTqAr@eDp@}Ev@wDd@{AtAeD`CkFtGyPbAiBvBgD`A_C`Lu^j@wBVeBb@kDRw@dC_IjBkE|FiMnAaCz@}Ad@oAl@oBx@wAlAaCEM~AmDrGkPjDqInDmHrBiDzBaDxIyLlKyNnD_FtAmBPCJQz@iAtC_EhDoEnNiPfGiHz@uAPg@^gCDuCAq@My@a@sAsAgCa@}@YiAUeBIqHKuAWaBs@}Bg@kAmGsLiHiNoCsEuFsHgUgZ{AwBeAcBcB{DkAaEiJuh@iFwZu@kEcAuHoAgKsA_LMqBGqCJqEJmFAaBI_CSsBgAwGg@_DsDcTcBiKq@aGHYMyAUgE_@uKQqCi@yBy@}A}@gAeAu@mAe@k@M{@I_B@qAVyAl@yAlAe@f@gC`CaCvAcCdAQJe@f@}FxBiBz@wBrAyFlEyTzQiSnP_F~DqD`CyCtAmCx@eIlBmA`@qCnA_DjBeHvFgEjDwElDoMfJgKhI{QdOaf@pa@kF`E}EnDsJ`H_Ar@]EMB{BlAsC~AY@SESSOO}@rAgA`ByAlBeCjCqDzCwBtAcEdCyAv@a@N{FlAmCd@qQpAwDVy@HBl@H~ABl@CNQ\\\\GZFXPNX@b@M'},\n",
       "   'summary': 'CA-1 S',\n",
       "   'warnings': [],\n",
       "   'waypoint_order': []},\n",
       "  {'bounds': {'northeast': {'lat': 34.1735662, 'lng': -118.4681991},\n",
       "    'southwest': {'lat': 34.0391017, 'lng': -118.7118196}},\n",
       "   'copyrights': 'Map data ©2019',\n",
       "   'legs': [{'distance': {'text': '28.6 mi', 'value': 46041},\n",
       "     'duration': {'text': '37 mins', 'value': 2201},\n",
       "     'end_address': '1200 Getty Center Dr, Los Angeles, CA 90049, USA',\n",
       "     'end_location': {'lat': 34.0882892, 'lng': -118.4763226},\n",
       "     'start_address': '24255 Pacific Coast Hwy, Malibu, CA 90263, USA',\n",
       "     'start_location': {'lat': 34.0393452, 'lng': -118.7020505},\n",
       "     'steps': [{'distance': {'text': '174 ft', 'value': 53},\n",
       "       'duration': {'text': '1 min', 'value': 13},\n",
       "       'end_location': {'lat': 34.0396966, 'lng': -118.7024444},\n",
       "       'html_instructions': 'Head <b>northwest</b> on <b>Seaver Dr</b>',\n",
       "       'polyline': {'points': '}hwnEx~nsUOTSXIHWR'},\n",
       "       'start_location': {'lat': 34.0393452, 'lng': -118.7020505},\n",
       "       'travel_mode': 'DRIVING'},\n",
       "      {'distance': {'text': '302 ft', 'value': 92},\n",
       "       'duration': {'text': '1 min', 'value': 31},\n",
       "       'end_location': {'lat': 34.0391149, 'lng': -118.7019067},\n",
       "       'html_instructions': 'Make a <b>U-turn</b>',\n",
       "       'maneuver': 'uturn-left',\n",
       "       'polyline': {'points': 'ckwnEfaosUHPJIZ[@CV]h@s@'},\n",
       "       'start_location': {'lat': 34.0396966, 'lng': -118.7024444},\n",
       "       'travel_mode': 'DRIVING'},\n",
       "      {'distance': {'text': '4.3 mi', 'value': 6921},\n",
       "       'duration': {'text': '7 mins', 'value': 400},\n",
       "       'end_location': {'lat': 34.0821444, 'lng': -118.704519},\n",
       "       'html_instructions': 'Turn <b>left</b> onto <b>Malibu Canyon Rd</b>',\n",
       "       'maneuver': 'turn-left',\n",
       "       'polyline': {'points': 'mgwnE|}nsUHOGMKSO_@Uk@KY[gAUy@GUIe@Gc@Ko@Ec@Is@OmAKm@I_@Uy@IW]kAa@_BMi@Oe@aAqCIW]kACEOi@GOEGW_BEUGk@?GUuC?KAGCWCQEWIUO[IMCEEGEGMOOMMIEE_@Qa@OICYGIAIAE?E@K@A@CBm@Bg@B]B_AF]?[AIAe@EQC_AO_ASSGo@QQE[G[EWEWCC?SCYASAYAQ@K?C?S@M@WDa@Hc@LKDk@RyAj@G@y@\\\\A@cCfAaBv@{@f@u@^k@XEBQHWNSJULSLYTMLKJWVIJSVKPOVSXe@z@i@dAQ\\\\UZMPKHOLKHSL_@PYNQF]FYF[@M@W?g@AWCKCMCMCQGQG[OOIKGKIUSMOKMCCOSOUOUWc@KSWe@AEO[Wg@OYIKQUKKMMOMWSUMQGQEUCOCO?M?K?K?SBa@Dc@FmAN{ARg@FSDC?]Dg@Bo@@c@A[C{@IiAOg@C_@C_@AQ@W@SBc@FUDODSFULk@b@IFOJc@Xe@b@OLKJGFMPOPOXQXgA~BQ^K^G\\\\A@CZCd@Ah@@R?JB\\\\Hf@Jj@@FXrAVlAJb@DZBZ@\\\\?VCN?@CTEVIVOb@Ur@GPGTE\\\\C^?\\\\A`@?JCXCXCRABI`@If@ADEVAPAH?V?X@\\\\F^H^J`@FVDTDV@`@Bh@Bf@Bd@D\\\\Fh@F`@DX@V@R?XCPCRERERIRKTQXGLGLIZIZIXI\\\\K`@KZMT?@KPQRQNCB[T_@XUPGF]V]VQJUPULWL[JWDYBA?U@S?QAWCg@GiBSsBUYCi@Cw@CWCa@AYCKASAWG]K]OYQw@e@cBgAGEUQoAaAMIa@Y_@UMGa@S{@_@k@UYKMESIe@S[MGCo@[y@e@k@]}@k@_Ak@]UYQWQYUUUSUCCc@m@a@i@SWQSOOMIOMMIMGAAKGQGKEOEICcA[A?eA]{@Wi@SQGWMWMQMIEMGECGCA?EAICEAEAE?A?C?G?E?C?E@G@A?QDMDOFOH_@RA?m@^]Rk@^a@VuAx@_B~@cAd@WHg@Rm@NmBt@E?A?A?MBWHSFQD'},\n",
       "       'start_location': {'lat': 34.0391149, 'lng': -118.7019067},\n",
       "       'travel_mode': 'DRIVING'},\n",
       "      {'distance': {'text': '4.8 mi', 'value': 7671},\n",
       "       'duration': {'text': '8 mins', 'value': 452},\n",
       "       'end_location': {'lat': 34.1461406, 'lng': -118.6978853},\n",
       "       'html_instructions': 'Continue onto <b>Las Virgenes Rd</b>',\n",
       "       'polyline': {'points': 'kt_oEfnosUgA\\\\A?m@NODE@OBUB_@DSBW?Q?Y?q@EC?a@ESC[Iy@Uc@MYIu@WyAc@_EmAWG[Ic@G]AMAI?E?Q@K@O@QBKBOBQDMDSHWJSLOJGDGFGFGFKLOPkAzAw@`Aq@x@yA~A]^{@`A}AbBeBlBsAzAcAhAu@x@GFQROP[ZKHCB_@\\\\UPA@YRYTEBWN[RULiB`A_@TSJYRWNSNKFsA~@WPYRSNg@^_@V[JA?UHOF[FGBQBYDWDW@Q@W@Y?YAQAQCMCYEUGYGUI]KEAYKu@WWGKEKASEWEOCUCUAA?O?W?w@@wB@eB?iA?kB?S?SIiA?Q?Q?I?K?M@[Bg@FQDeAZ{@^g@Tk@R]HC@E@A@A@CBM@QBU@O?I?S?SAUAIAGASCEAKCUE]KEAUGKESGQEQCUESCSCQAQ?O?E?S?O?e@@kADaAB}AB_@@Y?SAOAWAUCi@Ii@IsASq@Km@My@SqA_@_@Kc@OoBk@y@WaAYgBg@eA]cBg@yAc@yC}@qH{BA?q@Qq@OoCe@sEs@wEw@kEs@_@G_G_AmEs@aAQc@Og@OUKICWMWKUKUM[S_@[g@i@EQ{AaCWMKQUYKOQQMOKKKIIIUOg@YYMWKSGSE]Go@GUA}AIcGYgAGUAgBOkBOeAIw@IaBQKC[CwBYc@Gg@IYEm@IaAOyASkAOq@MEAm@My@U]KCCYKu@YQGKMACECECSGYMi@]YSWSOOQOWYGGWSYU]YGCOASIIEICKEQIIEOGSGg@MICSEGCg@Mm@OE?[CgBWA?wAKUI_@KYKGAQGUI]OMGQKOICCOK[Sm@e@m@e@[YQEGGGEQOUOSIEA_@Kw@Ss@YUGOAMCGAQCA?W?IAg@AW?KAO?q@AO?OMUAc@EUCGAQCMA'},\n",
       "       'start_location': {'lat': 34.0821444, 'lng': -118.704519},\n",
       "       'travel_mode': 'DRIVING'},\n",
       "      {'distance': {'text': '13.8 mi', 'value': 22179},\n",
       "       'duration': {'text': '14 mins', 'value': 839},\n",
       "       'end_location': {'lat': 34.1629196, 'lng': -118.4721421},\n",
       "       'html_instructions': 'Merge onto <b>US-101 S</b> via the ramp to <b>Los Angeles</b>',\n",
       "       'maneuver': 'ramp-right',\n",
       "       'polyline': {'points': 'kdloExdnsU_@SEAgA_@WGg@O]ISEMCIAMAK?A?a@@WBK?q@BSA[AIAAAQCWGOEYQQMKGKKAAUQECCAE?M?iAkAU[U[MQEIUc@g@cAc@eAUq@Ma@WcAWuAIq@Ec@Gi@AGG}@Ck@Ay@Aa@@u@@o@@YBk@Fu@JcANaAf@qDDWJ{@Fu@D]Bi@B_@Dy@?mAAqA?MAO?UACEeAKiAMqAOcAKcAE_@AEGc@KaAI_ACe@?ACi@AGA{@AaB@{@@wH?[?aB?W@mA@Q@_@@KD}@F}@Hw@F_@F]Ny@H]BONo@hBiHLg@Je@@A^{Ad@mBZqA@ILs@Jm@Hw@Fk@B]B[Bg@@s@@U?W?}@C_BCmAEkCKoE?MA[EaCGaC?KA_@EwAAi@Cq@Ae@Ci@Aa@AICi@AYE{@Ek@?GEa@Ek@E]OiBUuBOcA]yBc@{BQ{@u@yDKi@{@kEa@}Bk@sCq@oD_AcF_@iBy@gEa@}BQw@YoAW_A_@sAKWOi@m@iBK]cCqHSg@o@oBs@sBGQk@eBm@gB_@mAu@uBc@qAK[gAeD}@oCq@qBEMIWe@uAK[u@yB]gAM_@I[g@aBU_Ae@eBg@mBI[Oe@GWa@{AUy@Uy@GUU}@GQg@kB}@aD_@qAWcAiAeEk@{B}@gD]oAy@_Di@oBgB{GOg@Mg@}A_Gy@_Dk@sBYgAi@sBESkAkEc@kBAGa@cB]_BOu@I]?AAAI]Mq@yA{GKi@qBcJUcAUiAUgAAICKSy@q@aD]yAUeAYcAGSM_@EKa@iAa@}@KUCG_@s@We@U]CGWa@EG[g@EGEIe@s@wA{Bg@{@GKOSWc@KOe@{@EIMWEGGOa@_AUk@Sk@Sq@Qo@[sAQ{@Km@M}@?CMaAC_@Ea@?AIqAAe@Ci@A{A?aA@e@@a@BaA?Q@QD_@D]B]^wDDk@VsCLqATuCJoADe@@IRsCXcDd@}FDk@RaCDi@JiAJiAF{@XeDf@gGFg@Dk@`AiL`@aFp@}HNmBDc@Do@@OBg@?CDw@D}@BkABk@@aB@qA?}@AgAC{AAq@GwAI}AAYCc@OeBIcAI{@M_AKu@?CIi@E_@SeAMy@AEKg@?AMi@WiAKe@AGK_@AG]oAMg@A?i@qBy@uCCKMg@g@eBu@qCeAuDm@yB]oAOi@I[YgAQk@YeAMe@ACk@sBSw@IY[kASaAUgAWuAMs@My@Io@QqAGm@Gu@K_AEg@Es@KsAEiAG_BIcBa@wKGuAM}C?GIkBCy@OsD?GCk@Ck@?MEiAAeAAs@AaA?a@@c@?k@?G?i@@}C@s@@cCB}C?iABiE@aD@_A@aB@kD@mAB}F@uF@wB@oC@qCByCBwE@u@@cD?k@?Q@oB?k@?k@@i@?uABgF@]@eC?uA@uA@_B?c@@iCBoE?e@?EB{@Bi@Ds@HcALcAJs@BKR_A@EJc@T{@X{@\\\\gARm@j@gBDI?A@CBKBG@A`@qA\\\\mAXqAJi@@GN_AJu@NuADi@Ds@@YBu@Bq@@i@?sB?e@?yA?eC?oC?yA?{I?i@?aI?}A?oG?cE?eB?C?{@?cG?uD@}@AeA?gF?uX?u@?C@sB?aU?A?A?u@?aCBqA?U@g@JkBLsAHw@PkA@EFa@Lm@VkA@CVaAL]@CTo@Pg@JWN]HQFMFMLW\\\\q@\\\\m@j@gA|@}A~@aB^q@lAwBBEVg@pBqDPYR_@Vc@Ve@Ve@T_@Ra@@CVa@NWBENYDGFMNWJSJURg@LYJYFQFODMBGHYHYHYBODOP{@Jk@?AJi@Hq@BSBUBSB[@Y@YBY@S?Q@[@i@?i@A_@?K?[?q@AW?e@AcD?gDC_FAk@AeHAk@?[?}@A_@?}AGuPAaCCoKC}E?a@?E@W?]@]@G@W@a@Be@Hw@Da@Fa@D_@DWBOF]FWFUJWNi@L[L]FMDIDKVe@R]d@m@V]LKd@g@TUPMXSROTOp@_@'},\n",
       "       'start_location': {'lat': 34.1461406, 'lng': -118.6978853},\n",
       "       'travel_mode': 'DRIVING'},\n",
       "      {'distance': {'text': '4.6 mi', 'value': 7450},\n",
       "       'duration': {'text': '5 mins', 'value': 299},\n",
       "       'end_location': {'lat': 34.1003049, 'lng': -118.4781026},\n",
       "       'html_instructions': 'Take exit <b>19A</b> to merge onto <b>I-405 S</b>/<wbr/><b>San Diego Fwy</b>',\n",
       "       'maneuver': 'ramp-right',\n",
       "       'polyline': {'points': 'gmooEzabrUB@FDF@D?FABAJETM~Au@VMFCNIVMTMVMVOTOZSNMPMBCNMl@i@RQRSPOJIJMNKVWHGHGHEBC@?FCJGNEHCHCDARCDALAB?DARCD?@ARADAFAd@ELAf@Gz@KRCVCTEBAREFAPEDAPELENCXK|Ae@VGTIRG^MPENGPELEDC@A?A@E?C?EbCk@\\\\IXEp@K`@Ez@IFA|@EB?t@Cv@CZA|@@r@@h@Bb@BXBp@F`BRz@J`@F`ARz@Rp@PD@|@VFBj@Tl@Rh@Rp@XdDtA`Ab@^RpB~@tAn@TFd@Pp@RVH\\\\Jn@PhAVd@Jb@HRBF@NBpBT`AJvCJT@fA@P?D?Z?RAtAC^A|@E|D[bCKx@AvACtAD~AHdC\\\\pAVhIhBxEfAn@NPDVFhE~@~A^f@LbBZjAVJBpBd@dAT`@JPBjAXdAVPFTFB@VHHBTHt@ZTHXLZNJFRJl@\\\\RJZR^V`@Xd@\\\\tCxBn@f@n@f@l@f@tB~Av@j@`ChBz@r@jA|@LJrA|@TNTPVPp@b@|@p@TN~@n@fAv@VRLJ`@Xb@Zp@h@f@^d@XXP`@TRHVLXJd@RFBPD\\\\Lf@Jp@Jd@Fd@DX@Z@j@BjDJh@@nADtBFt@BtFPhBDN@\\\\B^@X@X?^AXAl@Eb@E^Gj@I|Bi@NIPGXKr@]\\\\SVQ~DkC\\\\WjBmAl@a@^UtE_D\\\\U^U\\\\W\\\\UpA{@HG^UDCTMBATMHERKZO^MRGHCVIZIVE\\\\Gj@KZETAZCF?RAZAT?\\\\?V@Z@X@VBJ@NBRB\\\\Dp@LnAXrAXn@Lf@Jr@J'},\n",
       "       'start_location': {'lat': 34.1629196, 'lng': -118.4721421},\n",
       "       'travel_mode': 'DRIVING'},\n",
       "      {'distance': {'text': '0.2 mi', 'value': 353},\n",
       "       'duration': {'text': '1 min', 'value': 27},\n",
       "       'end_location': {'lat': 34.097206, 'lng': -118.4779963},\n",
       "       'html_instructions': 'Take exit <b>59</b> toward <b>Getty Center Dr</b>',\n",
       "       'maneuver': 'ramp-right',\n",
       "       'polyline': {'points': '{ecoEbgcrUTV@@@?LBVBf@F\\\\B^BB?V@T?X@D?X?d@Cb@A\\\\C`@E\\\\C\\\\E^Ej@MVIXIPG@?'},\n",
       "       'start_location': {'lat': 34.1003049, 'lng': -118.4781026},\n",
       "       'travel_mode': 'DRIVING'},\n",
       "      {'distance': {'text': '180 ft', 'value': 55},\n",
       "       'duration': {'text': '1 min', 'value': 14},\n",
       "       'end_location': {'lat': 34.0967529, 'lng': -118.4777526},\n",
       "       'html_instructions': 'Keep <b>left</b> to continue toward <b>N Sepulveda Blvd</b>',\n",
       "       'maneuver': 'keep-left',\n",
       "       'polyline': {'points': 'qrboEnfcrUBE@?DAFC@A`@OHEXM'},\n",
       "       'start_location': {'lat': 34.097206, 'lng': -118.4779963},\n",
       "       'travel_mode': 'DRIVING'},\n",
       "      {'distance': {'text': '0.7 mi', 'value': 1080},\n",
       "       'duration': {'text': '1 min', 'value': 79},\n",
       "       'end_location': {'lat': 34.0886673, 'lng': -118.4748566},\n",
       "       'html_instructions': 'Turn <b>left</b> onto <b>N Sepulveda Blvd</b>',\n",
       "       'maneuver': 'turn-left',\n",
       "       'polyline': {'points': 'uoboE|dcrUDSBUd@sDPgBFa@D[FQHUHSLQLOHKJILKJGHEHC@ARELCLAPAP?N?N@JBPD`@Jb@N^J`@Jb@H`@Hd@FB@b@DD?ZB@?b@BD?\\\\@J?h@?PA\\\\A\\\\Cf@Ez@KPA\\\\E`AMj@IjBShBUTCZCDA`@Ct@EzBQ'},\n",
       "       'start_location': {'lat': 34.0967529, 'lng': -118.4777526},\n",
       "       'travel_mode': 'DRIVING'},\n",
       "      {'distance': {'text': '0.1 mi', 'value': 187},\n",
       "       'duration': {'text': '1 min', 'value': 47},\n",
       "       'end_location': {'lat': 34.0882892, 'lng': -118.4763226},\n",
       "       'html_instructions': 'Turn <b>right</b> onto <b>Getty Center Dr</b><div style=\"font-size:0.9em\">Destination will be on the left</div>',\n",
       "       'maneuver': 'turn-right',\n",
       "       'polyline': {'points': 'e}`oEzrbrUBl@Dt@Bh@B`@?J?B?BABAB?BKNABCDEL?D?BAB?B@FBF@DBDDB@BD@D@B?D?H?B?HCHC@ABABA@?'},\n",
       "       'start_location': {'lat': 34.0886673, 'lng': -118.4748566},\n",
       "       'travel_mode': 'DRIVING'}],\n",
       "     'traffic_speed_entry': [],\n",
       "     'via_waypoint': []}],\n",
       "   'overview_polyline': {'points': '}hwnEx~nsUeAlAHPJI\\\\_@`AqA@]}@yBcA}Dc@kD{@uEwAmF{CcJaAkJc@{AYc@k@g@qAk@s@KWHsDRiBI_HuAaDQq@BiBb@gE~AcHhDoE~BeCtCuBxD_AdAyAx@eBXeBCy@SiAi@{@{@qBgDaAiB{@}@qAo@cAGcI|@}ANkDMqDY}@F}AZ{AdAeBvAu@dAwBxEQ`BBfBp@nDl@hDAfAoAbFSvD[fBClAt@fFh@rGErAa@pAuAfEe@dAcA|@wDnCeBb@}@?qLeA{AImBu@yIaGyFaCuI_FaBoA}AqBqBgBoEyAqEkBq@Qe@BcBp@yCjBqGhD{E|AkElAyAPuBEuASmDeAmIcCyAKsBVuBjAqI~JgNnOmC`CgGnDkFpDeBbAiA\\\\{AP}A@oDu@qDaAuGEoH?aCI_ADy@LaCz@uBt@MHwBDaCa@iCk@wCCaJH}Dk@kFmAaQgFgP}EgM{BcUsD{IeBoAi@gBiAaFyGo@o@oBcAuB]_Mm@qNoAsNoB_Ds@qBu@cCuAeDsC{BcAcD_AgImAwCmAaEwCcAo@qC{@qBU{ACaAAe@OsAO{Bw@cDo@sDB{@ScAs@a@YS?_BgB_A{AoB}E_AoFU{C?aEX_E~AeNBgFIoBeAmJYiDIoEHiSX_Eh@uC~EcSv@}DX}CFiCMwJc@aSU{GcA{LcGc\\\\eI_b@eHwT_IyUeG{QwFsRgN}g@_Lkb@iGgVeKwe@_CeK}@iC{C}FwIwN_BiEkAmFq@_IBuJpB{TvF_r@vDce@VcNOmH_@aGqAiKoAkGcDsLwLoc@}AkHw@oFaA}N_Bqa@SsJXin@Ziw@JqWDeKV}Ep@cE|@aDlBaGzAsFh@gD\\\\mEHeG?uZ?y_@DovAd@_Hh@aDtBcHjPoZxFgKpAmDfAgF`@yEB}E]yhAByJl@kGvAuEv@yApB_CtAgAfAo@JFXAxCwAfDkBjC}BnBaBbA_@zGu@vBa@vFcBhAa@@IbCq@jCa@dCQfEGzCLpFn@tDz@~CdA`QrHpIzB|C^vHZfAApJg@|DMlD@dFf@zK`CrHdBtLhCtMxCnDnArEfCh]nWtIfGbD~BfB~@xAh@|Cl@bPh@vOd@jCOxEeA~Aq@rGiEhO_KzDaCxDoAnEc@tDNrKpBf@\\\\|BRtDAzBS|Bg@jAe@b@SHi@dAyIh@mAp@q@pA_@bA?~@TxFjA`DHbHo@pKgAzBQBl@H~ABt@[x@Nj@n@BTI'},\n",
       "   'summary': 'US-101 S',\n",
       "   'warnings': [],\n",
       "   'waypoint_order': []},\n",
       "  {'bounds': {'northeast': {'lat': 34.0887252, 'lng': -118.4653215},\n",
       "    'southwest': {'lat': 34.0282806, 'lng': -118.7035686}},\n",
       "   'copyrights': 'Map data ©2019',\n",
       "   'legs': [{'distance': {'text': '18.3 mi', 'value': 29452},\n",
       "     'duration': {'text': '41 mins', 'value': 2451},\n",
       "     'end_address': '1200 Getty Center Dr, Los Angeles, CA 90049, USA',\n",
       "     'end_location': {'lat': 34.0882892, 'lng': -118.4763226},\n",
       "     'start_address': '24255 Pacific Coast Hwy, Malibu, CA 90263, USA',\n",
       "     'start_location': {'lat': 34.0393452, 'lng': -118.7020505},\n",
       "     'steps': [{'distance': {'text': '174 ft', 'value': 53},\n",
       "       'duration': {'text': '1 min', 'value': 13},\n",
       "       'end_location': {'lat': 34.0396966, 'lng': -118.7024444},\n",
       "       'html_instructions': 'Head <b>northwest</b> on <b>Seaver Dr</b>',\n",
       "       'polyline': {'points': '}hwnEx~nsUOTSXIHWR'},\n",
       "       'start_location': {'lat': 34.0393452, 'lng': -118.7020505},\n",
       "       'travel_mode': 'DRIVING'},\n",
       "      {'distance': {'text': '194 ft', 'value': 59},\n",
       "       'duration': {'text': '1 min', 'value': 20},\n",
       "       'end_location': {'lat': 34.0393176, 'lng': -118.702167},\n",
       "       'html_instructions': 'Make a <b>U-turn</b>',\n",
       "       'maneuver': 'uturn-left',\n",
       "       'polyline': {'points': 'ckwnEfaosUHPJIZ[@CV]'},\n",
       "       'start_location': {'lat': 34.0396966, 'lng': -118.7024444},\n",
       "       'travel_mode': 'DRIVING'},\n",
       "      {'distance': {'text': '0.3 mi', 'value': 546},\n",
       "       'duration': {'text': '1 min', 'value': 64},\n",
       "       'end_location': {'lat': 34.0347766, 'lng': -118.7034357},\n",
       "       'html_instructions': 'Turn <b>right</b> onto <b>Malibu Canyon Rd</b>',\n",
       "       'maneuver': 'turn-right',\n",
       "       'polyline': {'points': 'whwnEp_osUJGHEHA@?HAH@L@NRPR\\\\b@XVPPPLXTBBZRZP@@XNj@Vt@RFBVFb@H`@Df@DF?l@Br@Ar@Ch@ChBKt@E'},\n",
       "       'start_location': {'lat': 34.0393176, 'lng': -118.702167},\n",
       "       'travel_mode': 'DRIVING'},\n",
       "      {'distance': {'text': '7.5 mi', 'value': 12107},\n",
       "       'duration': {'text': '13 mins', 'value': 782},\n",
       "       'end_location': {'lat': 34.0399098, 'lng': -118.5763164},\n",
       "       'html_instructions': 'Turn <b>left</b> onto <b>CA-1 S</b><div style=\"font-size:0.9em\">Pass by Jack in the Box (on the left in 1.6&nbsp;mi)</div>',\n",
       "       'maneuver': 'turn-left',\n",
       "       'polyline': {'points': 'klvnEngosUXGAWMyCOmDC[IoCCg@E}Ai@}OAw@CmA?s@?c@BaA@a@Bq@HcBJiBReE@QHqARaDFiALmCJgBB_@^eH?GRqDB_@Bs@@g@@q@BaA?i@Co@?ECcAKsCASASCe@MqCG_BG{ACi@EwAKwBEq@?CCUAQCWIi@Ii@KGGUEWI[Ss@Cc@AA[{@MWO]MWMSS[OUSYGIMOa@i@c@i@IK]e@WYSKIKc@k@i@w@Yg@?A]o@IYWo@Ma@ISMc@Oe@Ka@Ma@a@wAoAqEMi@K]]uAMm@Kg@Kk@Km@CYIi@Gk@Gg@Ei@Ec@Ci@?EEy@EgAAg@AS?CAi@?MAa@?S?c@?GEs@A[QuH?IA]Ae@E_B?SEaBA}@A[?_@?EAO?y@Ay@?c@@k@?c@?O@m@@WBeABu@By@Bc@@]LsCJeC@I@[Bs@@QB]@S@UBi@@I@a@@KNiDPcENmD@]HgBDeAFeADeAB[Bg@Dg@B_@Ba@LsALmADk@H{@Fm@J_Ah@eGLsANiB@c@Be@?o@AE@m@Cm@Ce@Ik@EYAMMe@EQCMEKIe@Kg@O}@CYEYEo@C]CY?_@C[?[A_@?[?W@Y@k@@[@OBU@_@BS@OBOFs@D]BQDWZgCHy@Hm@J}@TiBDWBWJ_AHo@Hw@D[D[D_@DWJk@?EN{@?CRkABUJm@TuAPiAD_@@WDe@Dq@@_@Ba@Fo@BU?ABc@D]?]?K?E?GAU?q@Es@AWCME[YwAGc@CKE[C]C[Em@M}AC]ImAG}@Ca@Ce@Go@Ci@AKA]A_@?[?S?Y@o@@W@_@@EDo@Be@@CBc@B]@O@SBW?EB[@YBY@WBg@@c@?_@@g@?E@Y?Y?UAe@?KA[AUAWGi@CWE_@EYIo@GYI_@K]Og@Oe@IYI_@G]G[CYEa@ASAOAYAYAYAu@Ag@?WAg@?a@?i@@c@Bi@Dk@Bg@HwAP{CL{BBSLkCLsBL}BZqGDk@\\\\cHDg@FeADyAFKBSBmA?iB?cB@]B_@Fq@VgBXkB?IESBYBy@@u@E{@K}@QaAOm@Wu@[o@e@u@sBwC[i@m@gBOo@eByG_@yAWsAOeAEe@A_@A]?E@M@k@J_D@kA?s@?aBEgCEoBMcGGoBEmCCq@AKEs@Gc@Ke@WqACKGe@Gc@E{@A[AY@q@@g@@WBc@F}@B}@A[?KAc@?GEy@AaA@y@@]Hy@D_@Fc@?E\\\\gCJs@L{@Fk@Fu@DkA@O?g@@m@?c@DcA@Q@Q@OBK?CDQDWl@_ENy@Lm@Fc@?CD]De@B_@?E@e@?K?]?e@AQAYCQ?GCUUqAMs@Ia@_@kBEOCKEOIc@ACSaAEWOu@AC]aBG[EWEU?AIYCMKi@CGCSEUE_@?ACQAMCYAS?SAOJe@As@?_C@w@?[@g@B[@YDe@Fi@@SB]B[?M?W?_@AI'},\n",
       "       'start_location': {'lat': 34.0347766, 'lng': -118.7034357},\n",
       "       'travel_mode': 'DRIVING'},\n",
       "      {'distance': {'text': '3.5 mi', 'value': 5710},\n",
       "       'duration': {'text': '6 mins', 'value': 363},\n",
       "       'end_location': {'lat': 34.0282806, 'lng': -118.5196555},\n",
       "       'html_instructions': 'Slight <b>left</b> to stay on <b>CA-1 S</b>',\n",
       "       'maneuver': 'turn-slight-left',\n",
       "       'polyline': {'points': 'mlwnE~lvrUCOGI?KAA?GCQCQAECSEQGSGSISKUKSa@w@c@u@MUWg@IQOYGOIQ[y@GOQg@IWGWGOEOi@uBGUEOI_@COCKE[G[CYCQASAQCOAQAYASAW?O?QAU?]?_@@c@@_@@[@S@Q@ODG@A@C?AB]B_@?C?K?C?E^_FFu@F_ANsADk@D]D]Hc@RwAD[?AB_@@a@@}@?A?]@a@@U?IB[B_@BO@KFa@DYJa@J_@HUJ[DIVm@LYJ[L[H]J[FYF]H_@DQ?I@E@E`@oBPw@h@{BNs@J_@Nk@@ABMBILa@HWL_@@AFUFOFOHUZy@^eANe@FOFUJ]DWBO@E@GPgADw@@_A?k@?O@s@AoACe@MwAGm@Iq@Ea@E[Ku@AMWeB]qB?CKe@UmAUwAG_@AMCQCUCc@ASAYAK?[?[?W@_@@W@]@_@Ds@Bw@@u@?c@Ac@A]CUEk@AOCYIaACg@AUCi@?ICs@?AAk@Bi@?[B[@QBg@?AH{@Fg@Hi@Jg@Lo@Po@Hc@Ha@Hi@@IXsBJu@Z}AZyA\\\\gAFSTk@JYJWf@gAt@}AJYDEx@mBFOHU\\\\{@t@oBFOl@_BdAmCr@iBFMBELWHKFKFQDGHKHMX_@V_@@CNSFKLSRa@P]JS?AFOHSBGFODOf@cBVu@Ne@~BwHtAsEx@iCr@{BLc@Rs@FQDSH]DY@IDWHi@Fq@Fa@Ho@Hg@BI?ADQHYH[FQTw@j@cBDOHWPk@Na@Pg@LWDMFOHODKLW^y@vA_Df@gAf@gARc@h@mALWBEDIFMDIJSLW?A@AZk@HMJQP]LSNYFOHUL]DKFSDQTu@HS'},\n",
       "       'start_location': {'lat': 34.0399098, 'lng': -118.5763164},\n",
       "       'travel_mode': 'DRIVING'},\n",
       "      {'distance': {'text': '0.3 mi', 'value': 478},\n",
       "       'duration': {'text': '2 mins', 'value': 118},\n",
       "       'end_location': {'lat': 34.0301712, 'lng': -118.5153066},\n",
       "       'html_instructions': 'Slight <b>left</b> onto <b>W Channel Rd</b>',\n",
       "       'maneuver': 'turn-slight-left',\n",
       "       'polyline': {'points': 'wcunEzjkrUGm@G[K[KWQ]Ue@Sa@EGOYIQ]q@Yg@EIEESWe@o@e@i@QUW]IIGKEGCGCGCGCICMCKCMAOAG?G?S?M@QFI@C?C@A?C?I?U@w@?G?I'},\n",
       "       'start_location': {'lat': 34.0282806, 'lng': -118.5196555},\n",
       "       'travel_mode': 'DRIVING'},\n",
       "      {'distance': {'text': '0.6 mi', 'value': 975},\n",
       "       'duration': {'text': '2 mins', 'value': 115},\n",
       "       'end_location': {'lat': 34.0329111, 'lng': -118.5086432},\n",
       "       'html_instructions': 'Continue onto <b>Entrada Dr</b>',\n",
       "       'polyline': {'points': 'qounEtojrUCc@AWAICOGy@E]Y}BCOEWEUOg@ECEKEKCKWo@EMCGACSUM[[c@g@k@s@y@{@eA?A[]AAKKGGEEQMECUOGCA?_@S_@Q_Ac@A?w@]g@UKGGCGEECGEKM]a@GIMOGKCECGEKGQ?AGUCGCQAIAC?A?G?M?E@C@G@CBIFIDC@ABCFABABAH?L@\\\\DXFN@HBJ@J?H?F?NCFAFALEHG`@UPK'},\n",
       "       'start_location': {'lat': 34.0301712, 'lng': -118.5153066},\n",
       "       'travel_mode': 'DRIVING'},\n",
       "      {'distance': {'text': '364 ft', 'value': 111},\n",
       "       'duration': {'text': '1 min', 'value': 29},\n",
       "       'end_location': {'lat': 34.0320822, 'lng': -118.5079668},\n",
       "       'html_instructions': 'Continue onto <b>7th St</b>',\n",
       "       'polyline': {'points': 'u`vnE~eirULI\\\\WRQHEJIJG`@[`@]'},\n",
       "       'start_location': {'lat': 34.0329111, 'lng': -118.5086432},\n",
       "       'travel_mode': 'DRIVING'},\n",
       "      {'distance': {'text': '2.5 mi', 'value': 3977},\n",
       "       'duration': {'text': '5 mins', 'value': 324},\n",
       "       'end_location': {'lat': 34.05155540000001, 'lng': -118.4756271},\n",
       "       'html_instructions': 'Turn <b>left</b> onto <b>San Vicente Blvd</b>',\n",
       "       'maneuver': 'turn-left',\n",
       "       'polyline': {'points': 'o{unExairUT[}@s@cAq@UMg@Y]Oa@Oi@Qc@OICsAYc@KaB]mBc@wFmAsAY}@S[Ia@MEAe@O_@Om@Y_@SYOYQo@g@o@i@_@][]SU_@e@yB{CW_@yCcEiBeCk@y@kCqDgCkDeCiDeCmD]c@iBgCSYs@cAeA}AU[q@}@KOq@}@IKQWW_@]e@KOMSQWKQMSISKSg@gAQe@GUCGCGGQK_@WkAGYKo@GWMcAQ}ACWWyBM_AMkAa@iD[gC[qC]wCOgAc@qDESu@mGQ}AGg@CSg@iEa@iDUoB_@{CW}Ba@iDOsAIg@?A]sC]{CIs@QqA'},\n",
       "       'start_location': {'lat': 34.0320822, 'lng': -118.5079668},\n",
       "       'travel_mode': 'DRIVING'},\n",
       "      {'distance': {'text': '0.5 mi', 'value': 825},\n",
       "       'duration': {'text': '2 mins', 'value': 106},\n",
       "       'end_location': {'lat': 34.0582106, 'lng': -118.479338},\n",
       "       'html_instructions': 'Turn <b>left</b> onto <b>S Gretna Green Way</b>',\n",
       "       'maneuver': 'turn-left',\n",
       "       'polyline': {'points': 'guynEtwbrUa@Fm@NiCp@qD~@{Cv@[Fu@Rs@R]NYNSLOJk@b@k@b@q@h@KHWRm@d@]XwB`BQNwAfAMH[Ta@N'},\n",
       "       'start_location': {'lat': 34.05155540000001, 'lng': -118.4756271},\n",
       "       'travel_mode': 'DRIVING'},\n",
       "      {'distance': {'text': '1.4 mi', 'value': 2192},\n",
       "       'duration': {'text': '5 mins', 'value': 276},\n",
       "       'end_location': {'lat': 34.0730249, 'lng': -118.4660534},\n",
       "       'html_instructions': 'Turn <b>right</b> onto <b>Sunset Blvd</b>',\n",
       "       'maneuver': 'turn-right',\n",
       "       'polyline': {'points': 'y~znEzncrUQgAIc@CKEUMi@GYS_@IO]i@eAwAOQ]c@U[EGq@{@mAcB]e@q@_Aq@}@kA}AIKEIIIi@w@SWa@e@m@q@e@m@s@}@qAeBoAcBOQm@w@IMU[sAiBSUa@k@QU]c@CEOOSMQMECICOGQKKCA?EAOAC?E?C?C?G?C@E?E@C?A?E@G?E@G@UDWDC@K@C?_ANOBOBQBU@Q?O?SCSCKACAUCGCIAYG_@IA?w@O_@IQCi@M[Go@MyBc@}@Qc@KQGWIOG[MSMYQUOQKg@Y}@m@MIy@i@WQQQEGMSGIIQIO_@}@Bg@KSUk@a@y@EKCGAAAEM[AAACAAAECE?ACGO]O_@'},\n",
       "       'start_location': {'lat': 34.0582106, 'lng': -118.479338},\n",
       "       'travel_mode': 'DRIVING'},\n",
       "      {'distance': {'text': '0.4 mi', 'value': 607},\n",
       "       'duration': {'text': '1 min', 'value': 48},\n",
       "       'end_location': {'lat': 34.0756547, 'lng': -118.468636},\n",
       "       'html_instructions': 'Slight <b>right</b> to merge onto <b>I-405 N</b>',\n",
       "       'maneuver': 'ramp-right',\n",
       "       'polyline': {'points': 'k{}nEx{`rUAk@?M?I@E@IBIBC?ADGBAJGHILGJGBAD?D?D?F@@?HB@BFD@@BF@@@@BJ?@@J?BAJ?BAHABCFABYV}@r@]VURsAfAy@p@]VSNCFCBWh@uDjCg@`@i@^UR'},\n",
       "       'start_location': {'lat': 34.0730249, 'lng': -118.4660534},\n",
       "       'travel_mode': 'DRIVING'},\n",
       "      {'distance': {'text': '0.2 mi', 'value': 248},\n",
       "       'duration': {'text': '1 min', 'value': 35},\n",
       "       'end_location': {'lat': 34.077639, 'lng': -118.469297},\n",
       "       'html_instructions': 'Take exit <b>57B</b> for <b>Moraga Dr</b>',\n",
       "       'maneuver': 'ramp-right',\n",
       "       'polyline': {'points': 'yk~nE~karUYEC?C?A?A?EBc@VC@SJ_Af@OHYNKFQJKFo@^OHG@E?C?G?A?EAEAEACCCCKKECIK'},\n",
       "       'start_location': {'lat': 34.0756547, 'lng': -118.468636},\n",
       "       'travel_mode': 'DRIVING'},\n",
       "      {'distance': {'text': '0.9 mi', 'value': 1377},\n",
       "       'duration': {'text': '2 mins', 'value': 107},\n",
       "       'end_location': {'lat': 34.0886673, 'lng': -118.4748566},\n",
       "       'html_instructions': 'Turn <b>left</b> onto <b>N Sepulveda Blvd</b>',\n",
       "       'maneuver': 'turn-left',\n",
       "       'polyline': {'points': 'gx~nEbparU_@j@]f@W^OVSXKNU\\\\]b@OPUXy@|@QRk@j@MLq@l@}@t@aAv@WP]T}@j@C@[Ro@b@qAr@e@Xk@ZYNIDIDIBIDG@EBOBIBUFu@PA?o@Lu@Nm@LE@QDSDYFI@ODUBWBC@S@K@G@O?s@Da@Bm@Dk@DSBgBLmBNi@Be@DE@e@DkBLkAHy@H'},\n",
       "       'start_location': {'lat': 34.077639, 'lng': -118.469297},\n",
       "       'travel_mode': 'DRIVING'},\n",
       "      {'distance': {'text': '0.1 mi', 'value': 187},\n",
       "       'duration': {'text': '1 min', 'value': 51},\n",
       "       'end_location': {'lat': 34.0882892, 'lng': -118.4763226},\n",
       "       'html_instructions': 'Turn <b>left</b> onto <b>Getty Center Dr</b><div style=\"font-size:0.9em\">Destination will be on the left</div>',\n",
       "       'maneuver': 'turn-left',\n",
       "       'polyline': {'points': 'e}`oEzrbrUBl@Dt@Bh@B`@?J?B?BABAB?BKNABCDEL?D?BAB?B@FBF@DBDDB@BD@D@B?D?H?B?HCHC@ABABA@?'},\n",
       "       'start_location': {'lat': 34.0886673, 'lng': -118.4748566},\n",
       "       'travel_mode': 'DRIVING'}],\n",
       "     'traffic_speed_entry': [],\n",
       "     'via_waypoint': []}],\n",
       "   'overview_polyline': {'points': '}hwnEx~nsUeAlAHPJI\\\\_@b@e@RGb@@xAbB`Ax@rAv@`Bj@^JtBT`B@|AG~CQXGAW]gIMkDu@{U?gFZaHr@kM|A_ZJoEGcDu@yQWeGSiBIi@KGMm@]oAEe@gAiCeA_B{AmBg@q@k@e@wAoBaAsB}@iCkAaEgCoJq@oD]wCO}BS{Gm@iZ?uHLmE^{IT}EbAyUh@_KvBqUPmCBuAGgC_@yBYqAe@yCMgCEsBB}AZiE`B_Nz@oHdAyGn@wELwBNiBHkBAuAQuBk@cD[eEk@wICmBDaCXeETqE@iEMsBYaCyA}FSkBG}AE}CDyCrAwUlA_VLmBDyAFKFaB?mED}@^yCXuBESBYBy@CqB]_Cg@cBaAeBoCaE}@wCeCsJg@yCGeA@}AL_HEiFSsJS{HMwAc@wBKq@M_B?oCPwDCsAG{BBwAVcC~@cHNyDHgDpAuIZsBJqBAaBIiAgBcJgCiMKaAGqAJe@As@@wDFyBNcBF_BAi@KYEg@O}@e@qAyC{F_AcC_@oAaA{DUsAUaD?qEFqAHOn@mJb@}Eh@uDJyEJuAZiBf@{A~@_Cd@qBPaAlCkL~@yClAeDj@iBLu@V_C@kBCyDe@yEk@eE_AiFc@wCKgBA{AFuBJeEMcC]qG@sBHwAPcBTqAr@eDp@}Ev@wDd@{AtAeD`CkFtGyPbAiBvBgD`A_C`Lu^j@wBVeBb@kDRw@dC_IjBkE|FiMnAaCz@}Ad@oAl@oBOiAWs@aAmBqAeC_D_EUc@Ok@Gm@?a@H[BM@_BGoAk@eF_@eBUg@c@iAa@q@cAoAkC_D[[u@e@aCiAkCoA_AiAUe@[sA@_@N_@RK^ApARh@@l@MjAs@fAy@l@c@v@y@aCeB}@g@mCaA{UgFiBi@gCmAiAy@oAgAo@s@yCaEgIcL_PuTiJqMoDcFo@mAeAkCo@eCi@eDcD_YkDmYsEc`@eAeJQqAa@FwD`A_LrCqAb@m@\\\\yC|BoB|AoFbE}@d@[kB_@eB]o@cBaCiAyAoEeGmCqDiB_CyEcGwC{DcFwGu@c@o@Ws@Am@FaDf@iADw@K{Du@uJqBwAm@iBgA}CsBm@w@Sa@_@}@Bg@a@_Ag@eAGOO]]y@O_@Ak@?WJ]TSf@[X@TLHLD\\\\E\\\\EJwAjAaEdDy@r@Wh@uDjCqA`AURYEG?m@ZgB~@kCvAS?UIUSIK_@j@u@fAeA~A}BlC}BzBwC~B{BvAsElC_Bn@qFjAkCd@yT|AeCRHbBFzACNWf@APJZRJV?^M'},\n",
       "   'summary': 'CA-1 S and San Vicente Blvd',\n",
       "   'warnings': [],\n",
       "   'waypoint_order': []}],\n",
       " 'status': 'OK'}"
      ]
     },
     "execution_count": 101,
     "metadata": {},
     "output_type": "execute_result"
    }
   ],
   "source": [
    "directions = generate_directions('Pepperdine University','The Getty Museum')\n",
    "directions"
   ]
  },
  {
   "cell_type": "code",
   "execution_count": 113,
   "metadata": {},
   "outputs": [
    {
     "data": {
      "text/plain": [
       "'CA-1 S'"
      ]
     },
     "execution_count": 113,
     "metadata": {},
     "output_type": "execute_result"
    }
   ],
   "source": [
    "directions['routes'][0]['summary']"
   ]
  },
  {
   "cell_type": "markdown",
   "metadata": {},
   "source": [
    "# Polyline Encoder/Decoder\n",
    "Google returns lists of longitude and latitude coordinates encoded as a polyline. Using the `polyline` package in python, one can decode a list of points along a given route. We will use these points to check if a route is passing through a \"closed polyline\"."
   ]
  },
  {
   "cell_type": "code",
   "execution_count": 96,
   "metadata": {},
   "outputs": [
    {
     "data": {
      "text/plain": [
       "'_p~iF~ps|U_ulL~ugC_hgN~eq`@'"
      ]
     },
     "execution_count": 96,
     "metadata": {},
     "output_type": "execute_result"
    }
   ],
   "source": [
    "# An example of Polyline Encoding\n",
    "polyline.encode([(38.5, -120.2), (40.7, -120.9), (43.2, -126.4)], 5)"
   ]
  },
  {
   "cell_type": "code",
   "execution_count": 97,
   "metadata": {},
   "outputs": [
    {
     "data": {
      "text/plain": [
       "[(38.5, -120.2), (40.7, -120.9), (43.2, -126.4)]"
      ]
     },
     "execution_count": 97,
     "metadata": {},
     "output_type": "execute_result"
    }
   ],
   "source": [
    "# An Example of polyline decoding.\n",
    "polyline.decode('_p~iF~ps|U_ulL~ugC_hgN~eq`@')"
   ]
  },
  {
   "cell_type": "code",
   "execution_count": 100,
   "metadata": {},
   "outputs": [],
   "source": [
    "# We can generate a list of longitude and latitude strings \n",
    "# by extracting each polyline string from each step of the route.\n",
    "def get_lat_long(route):\n",
    "    lat_long = []\n",
    "    for step in route['legs'][0]['steps']:\n",
    "        lat_long += polyline.decode(step['polyline']['points'])\n",
    "    return lat_long\n",
    "    "
   ]
  },
  {
   "cell_type": "markdown",
   "metadata": {},
   "source": [
    "# Avoiding Road Closures\n",
    "We need to get a road closure longitude and latitude start and end point.\n",
    "Steps:\n",
    "1. Convert closure to a passable bit of data.\n",
    "    - Create route and collect `lat_long points`\n",
    "2. Check if the closure is included in the given routes.\n",
    "    - **If not:** Give the shortest and best route.\n",
    "    - **If so:** Continue with algorithm.\n",
    "3. Check alternate routes to see if they go through the road closure and select one if it does not.\n",
    "4. If there are no alternate routes, create a series of way points in a Fibonacci spiral radiating out from the beginning of the closure (or maybe the starting point) until a suitable alternate route is found.\n",
    "\n",
    "## Example of Rerouting \n",
    "Suppose there is a patch of road on our route between Pepperdine Univeristy and the Getty Museum that is closed. Let's specify it as the route between the [McDonald's](google.com/maps/place/McDonald's/@34.1481745,-118.683656,15z/data=!4m5!3m4!1s0x80e820c71a80784b:0xe24965b370f8c77f!8m2!3d34.144303!4d-118.6986145) and a nearby [Mercedes Benz dealership](https://www.google.com/maps/place/Mercedes-Benz+of+Calabasas/@34.1481745,-118.683656,15z/data=!4m5!3m4!1s0x80c29e14231e2b99:0x1352a76899a3293e!8m2!3d34.1521366!4d-118.6537653). \n",
    "\n",
    "  \n",
    "![malibu_route](../images/malibu_route.png)"
   ]
  },
  {
   "cell_type": "code",
   "execution_count": 103,
   "metadata": {},
   "outputs": [
    {
     "data": {
      "text/plain": [
       "[(34.03935, -118.70205),\n",
       " (34.03943, -118.70216),\n",
       " (34.03953, -118.70229),\n",
       " (34.03958, -118.70234),\n",
       " (34.0397, -118.70244),\n",
       " (34.0397, -118.70244),\n",
       " (34.03965, -118.70253),\n",
       " (34.03959, -118.70248),\n",
       " (34.03945, -118.70234),\n",
       " (34.03944, -118.70232)]"
      ]
     },
     "execution_count": 103,
     "metadata": {},
     "output_type": "execute_result"
    }
   ],
   "source": [
    "get_lat_long(directions['routes'][0])[:10]"
   ]
  },
  {
   "cell_type": "code",
   "execution_count": 107,
   "metadata": {
    "scrolled": true
   },
   "outputs": [
    {
     "data": {
      "text/plain": [
       "[(34.14417, -118.6985),\n",
       " (34.14418, -118.69848),\n",
       " (34.14419, -118.69847),\n",
       " (34.1442, -118.69845),\n",
       " (34.1442, -118.69843),\n",
       " (34.14421, -118.69839),\n",
       " (34.14421, -118.69838),\n",
       " (34.14421, -118.69816),\n",
       " (34.14421, -118.69816),\n",
       " (34.14429, -118.69815)]"
      ]
     },
     "execution_count": 107,
     "metadata": {},
     "output_type": "execute_result"
    }
   ],
   "source": [
    "closure = generate_directions(\"McDonald's, 4785 Las Virgenes Rd, Calabasas, CA 91302\",\"Mercedes-Benz of Calabasas, 24181 Calabasas Rd, Calabasas, CA 91302\")\n",
    "lat_long_closure = get_lat_long(closure['routes'][0])\n",
    "lat_long_closure[:10]"
   ]
  },
  {
   "cell_type": "code",
   "execution_count": 120,
   "metadata": {},
   "outputs": [],
   "source": [
    "def check_routes(routes):\n",
    "    good_routes = []\n",
    "    for route in routes:\n",
    "        route_good = True\n",
    "        for point in lat_long_closure:\n",
    "            if point in get_lat_long(route):\n",
    "                route_good = False\n",
    "        if route_good:\n",
    "            good_routes.append(route)\n",
    "            print(f\"OK to use {route['summary']} route\")\n",
    "        else:\n",
    "            print(f\"Avoid {route['summary']} Route.\")\n",
    "    return good_routes"
   ]
  },
  {
   "cell_type": "code",
   "execution_count": 122,
   "metadata": {},
   "outputs": [
    {
     "name": "stdout",
     "output_type": "stream",
     "text": [
      "OK to use CA-1 S route\n",
      "Avoid US-101 S Route.\n",
      "OK to use CA-1 S and San Vicente Blvd route\n"
     ]
    }
   ],
   "source": [
    "check_routes(directions['routes']);"
   ]
  },
  {
   "cell_type": "markdown",
   "metadata": {},
   "source": [
    "> Notice that our rerouter tells us to take the coastal route, rather than trying to take the US-101 Route. It works!"
   ]
  },
  {
   "cell_type": "markdown",
   "metadata": {},
   "source": [
    "# Summary\n",
    "As you can see, this algorithm works in checking if routes are passing through known closures. If we could compile a list of \"no pass waypoints\" from our tweets, and if we could check if the closure was already being accounted for by Google, this might be a viable option.\n",
    "\n",
    "Iterations would also need to include a method for \"forcing\" Google Directions to generate more alternatives. One method would be to introduce waypoints to the API request in a spiral pattern with increasing distance to make the Directions API generate routes that take the user away from the closed area."
   ]
  }
 ],
 "metadata": {
  "kernelspec": {
   "display_name": "Python 3",
   "language": "python",
   "name": "python3"
  },
  "language_info": {
   "codemirror_mode": {
    "name": "ipython",
    "version": 3
   },
   "file_extension": ".py",
   "mimetype": "text/x-python",
   "name": "python",
   "nbconvert_exporter": "python",
   "pygments_lexer": "ipython3",
   "version": "3.7.1"
  },
  "toc": {
   "base_numbering": 1,
   "nav_menu": {},
   "number_sections": false,
   "sideBar": true,
   "skip_h1_title": false,
   "title_cell": "Table of Contents",
   "title_sidebar": "Contents",
   "toc_cell": false,
   "toc_position": {},
   "toc_section_display": true,
   "toc_window_display": true
  }
 },
 "nbformat": 4,
 "nbformat_minor": 2
}
