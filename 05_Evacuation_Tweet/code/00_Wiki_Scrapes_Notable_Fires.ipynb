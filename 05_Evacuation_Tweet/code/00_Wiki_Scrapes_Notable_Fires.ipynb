{
 "cells": [
  {
   "cell_type": "markdown",
   "metadata": {},
   "source": [
    "# Notable Fires Web Scrape"
   ]
  },
  {
   "cell_type": "markdown",
   "metadata": {},
   "source": [
    "### OBJECTIVE"
   ]
  },
  {
   "cell_type": "markdown",
   "metadata": {},
   "source": [
    "- This notebook will scrape California fire information from the wikipedia url listed below."
   ]
  },
  {
   "cell_type": "code",
   "execution_count": 18,
   "metadata": {},
   "outputs": [],
   "source": [
    "import pandas as pd\n",
    "import numpy as np\n",
    "import matplotlib.pyplot as plt\n",
    "import seaborn as sns\n",
    "\n",
    "import requests\n",
    "from bs4 import BeautifulSoup\n",
    "\n",
    "import selenium\n",
    "import regex as re"
   ]
  },
  {
   "cell_type": "code",
   "execution_count": 2,
   "metadata": {},
   "outputs": [],
   "source": [
    "url = 'https://en.wikipedia.org/wiki/List_of_California_wildfires'"
   ]
  },
  {
   "cell_type": "code",
   "execution_count": 3,
   "metadata": {},
   "outputs": [],
   "source": [
    "res = requests.get(url)"
   ]
  },
  {
   "cell_type": "code",
   "execution_count": 4,
   "metadata": {},
   "outputs": [],
   "source": [
    "soup = BeautifulSoup(res.content)"
   ]
  },
  {
   "cell_type": "code",
   "execution_count": 5,
   "metadata": {},
   "outputs": [],
   "source": [
    "tables = soup.find_all('table', class_= 'wikitable')"
   ]
  },
  {
   "cell_type": "code",
   "execution_count": 6,
   "metadata": {},
   "outputs": [
    {
     "data": {
      "text/plain": [
       "['name',\n",
       " 'county',\n",
       " 'acres',\n",
       " 'hectares',\n",
       " 'start',\n",
       " 'contained',\n",
       " 'notes',\n",
       " 'ref',\n",
       " 'table']"
      ]
     },
     "execution_count": 6,
     "metadata": {},
     "output_type": "execute_result"
    }
   ],
   "source": [
    "main_header = [th.text.lower().strip().replace(' ','_') for th in tables[4].find_all('th')]\n",
    "main_header.append('table')\n",
    "main_header"
   ]
  },
  {
   "cell_type": "code",
   "execution_count": 7,
   "metadata": {},
   "outputs": [],
   "source": [
    "notable_fires = []\n",
    "for i, table in enumerate(tables):\n",
    "    table_df = {}\n",
    "    headers = {th.text.lower().strip().replace(' ','_'):index for index,th in enumerate(tables[4].find_all('th'))}\n",
    "\n",
    "    for row in table.find_all('tr')[1:]:\n",
    "        notable_f = {}\n",
    "\n",
    "        for j,feature in enumerate(main_header):\n",
    "            try:\n",
    "                notable_f[feature] = row.find_all('td')[headers[feature]].text.strip()\n",
    "            except:\n",
    "                notable_f[feature] = np.nan\n",
    "                \n",
    "        notable_f['table'] = i\n",
    "        notable_fires.append(notable_f)\n",
    "pd.DataFrame(notable_fires).to_csv('./Data/notable_fires_data.csv',index=False)"
   ]
  },
  {
   "cell_type": "code",
   "execution_count": 8,
   "metadata": {},
   "outputs": [],
   "source": [
    "df = pd.read_csv('./Data/notable_fires_data.csv')"
   ]
  },
  {
   "cell_type": "code",
   "execution_count": 9,
   "metadata": {},
   "outputs": [],
   "source": [
    "notable_fires = df.loc[df['table'] == 4]"
   ]
  },
  {
   "cell_type": "code",
   "execution_count": 10,
   "metadata": {},
   "outputs": [
    {
     "data": {
      "text/html": [
       "<div>\n",
       "<style scoped>\n",
       "    .dataframe tbody tr th:only-of-type {\n",
       "        vertical-align: middle;\n",
       "    }\n",
       "\n",
       "    .dataframe tbody tr th {\n",
       "        vertical-align: top;\n",
       "    }\n",
       "\n",
       "    .dataframe thead th {\n",
       "        text-align: right;\n",
       "    }\n",
       "</style>\n",
       "<table border=\"1\" class=\"dataframe\">\n",
       "  <thead>\n",
       "    <tr style=\"text-align: right;\">\n",
       "      <th></th>\n",
       "      <th>name</th>\n",
       "      <th>county</th>\n",
       "      <th>acres</th>\n",
       "      <th>hectares</th>\n",
       "      <th>start</th>\n",
       "      <th>contained</th>\n",
       "      <th>notes</th>\n",
       "      <th>ref</th>\n",
       "      <th>table</th>\n",
       "    </tr>\n",
       "  </thead>\n",
       "  <tbody>\n",
       "    <tr>\n",
       "      <td>80</td>\n",
       "      <td>Rumsey</td>\n",
       "      <td>Yolo</td>\n",
       "      <td>39,138</td>\n",
       "      <td>15,838.6</td>\n",
       "      <td>October 10, 2004</td>\n",
       "      <td>October 16, 2004</td>\n",
       "      <td>5 structures destroyed</td>\n",
       "      <td>[49]</td>\n",
       "      <td>4</td>\n",
       "    </tr>\n",
       "    <tr>\n",
       "      <td>81</td>\n",
       "      <td>Old</td>\n",
       "      <td>San Bernardino</td>\n",
       "      <td>91,281</td>\n",
       "      <td>36,940.1</td>\n",
       "      <td>October 21, 2003</td>\n",
       "      <td>November 25, 2003</td>\n",
       "      <td>975 structures destroyed</td>\n",
       "      <td>[50]</td>\n",
       "      <td>4</td>\n",
       "    </tr>\n",
       "    <tr>\n",
       "      <td>82</td>\n",
       "      <td>Simi</td>\n",
       "      <td>Ventura</td>\n",
       "      <td>108,204</td>\n",
       "      <td>43,788.6</td>\n",
       "      <td>October 25, 2003</td>\n",
       "      <td>November 5, 2003</td>\n",
       "      <td>315 structures destroyed</td>\n",
       "      <td>[51]</td>\n",
       "      <td>4</td>\n",
       "    </tr>\n",
       "    <tr>\n",
       "      <td>83</td>\n",
       "      <td>Topanga</td>\n",
       "      <td>Los Angeles</td>\n",
       "      <td>24,175</td>\n",
       "      <td>9,783.3</td>\n",
       "      <td>September 28, 2005</td>\n",
       "      <td>October 6, 2005</td>\n",
       "      <td>NaN</td>\n",
       "      <td>[52]</td>\n",
       "      <td>4</td>\n",
       "    </tr>\n",
       "    <tr>\n",
       "      <td>84</td>\n",
       "      <td>Esperanza</td>\n",
       "      <td>Riverside</td>\n",
       "      <td>41,173</td>\n",
       "      <td>16,662.1</td>\n",
       "      <td>October 26, 2006</td>\n",
       "      <td>November 1, 2006</td>\n",
       "      <td>5 fatalities, 54 structures destroyed</td>\n",
       "      <td>[53][circular reference]</td>\n",
       "      <td>4</td>\n",
       "    </tr>\n",
       "  </tbody>\n",
       "</table>\n",
       "</div>"
      ],
      "text/plain": [
       "         name          county    acres  hectares               start  \\\n",
       "80     Rumsey            Yolo   39,138  15,838.6    October 10, 2004   \n",
       "81        Old  San Bernardino   91,281  36,940.1    October 21, 2003   \n",
       "82       Simi         Ventura  108,204  43,788.6    October 25, 2003   \n",
       "83    Topanga     Los Angeles   24,175   9,783.3  September 28, 2005   \n",
       "84  Esperanza       Riverside   41,173  16,662.1    October 26, 2006   \n",
       "\n",
       "            contained                                  notes  \\\n",
       "80   October 16, 2004                 5 structures destroyed   \n",
       "81  November 25, 2003               975 structures destroyed   \n",
       "82   November 5, 2003               315 structures destroyed   \n",
       "83    October 6, 2005                                    NaN   \n",
       "84   November 1, 2006  5 fatalities, 54 structures destroyed   \n",
       "\n",
       "                         ref  table  \n",
       "80                      [49]      4  \n",
       "81                      [50]      4  \n",
       "82                      [51]      4  \n",
       "83                      [52]      4  \n",
       "84  [53][circular reference]      4  "
      ]
     },
     "execution_count": 10,
     "metadata": {},
     "output_type": "execute_result"
    }
   ],
   "source": [
    "notable_fires.head()"
   ]
  },
  {
   "cell_type": "code",
   "execution_count": 19,
   "metadata": {},
   "outputs": [
    {
     "name": "stdout",
     "output_type": "stream",
     "text": [
      "name\n",
      "county\n",
      "acres\n",
      "hectares\n",
      "start\n",
      "contained\n",
      "notes\n"
     ]
    }
   ],
   "source": [
    "for col in notable_fires.columns:\n",
    "    print(col)\n",
    "    notable_fires[col] = notable_fires[col].map(lambda x: re.sub(pattern='(\\[\\d+\\])+$',repl='',string=x))"
   ]
  },
  {
   "cell_type": "code",
   "execution_count": 15,
   "metadata": {},
   "outputs": [],
   "source": [
    "notable_fires['hectares'] = notable_fires['hectares'].str.replace(\",\",\"\")\n",
    "notable_fires['start'] = notable_fires['start'].str.replace(\",\",\"\")\n",
    "notable_fires['contained'] = notable_fires['contained'].str.replace(\",\",\"\")\n",
    "notable_fires['acres'] = notable_fires['acres'].str.replace(\",\",\"\")\n",
    "notable_fires['county'] = notable_fires['county'].str.replace(\",\",\"\")\n",
    "notable_fires = notable_fires.replace(np.nan, '', regex=True)\n",
    "notable_fires = notable_fires.drop(['table'], axis = 1)\n",
    "notable_fires = notable_fires.drop(['ref'], axis = 1)"
   ]
  },
  {
   "cell_type": "code",
   "execution_count": 20,
   "metadata": {},
   "outputs": [
    {
     "data": {
      "text/html": [
       "<div>\n",
       "<style scoped>\n",
       "    .dataframe tbody tr th:only-of-type {\n",
       "        vertical-align: middle;\n",
       "    }\n",
       "\n",
       "    .dataframe tbody tr th {\n",
       "        vertical-align: top;\n",
       "    }\n",
       "\n",
       "    .dataframe thead th {\n",
       "        text-align: right;\n",
       "    }\n",
       "</style>\n",
       "<table border=\"1\" class=\"dataframe\">\n",
       "  <thead>\n",
       "    <tr style=\"text-align: right;\">\n",
       "      <th></th>\n",
       "      <th>name</th>\n",
       "      <th>county</th>\n",
       "      <th>acres</th>\n",
       "      <th>hectares</th>\n",
       "      <th>start</th>\n",
       "      <th>contained</th>\n",
       "      <th>notes</th>\n",
       "    </tr>\n",
       "  </thead>\n",
       "  <tbody>\n",
       "    <tr>\n",
       "      <td>80</td>\n",
       "      <td>Rumsey</td>\n",
       "      <td>Yolo</td>\n",
       "      <td>39138</td>\n",
       "      <td>15838.6</td>\n",
       "      <td>October 10 2004</td>\n",
       "      <td>October 16 2004</td>\n",
       "      <td>5 structures destroyed</td>\n",
       "    </tr>\n",
       "    <tr>\n",
       "      <td>81</td>\n",
       "      <td>Old</td>\n",
       "      <td>San Bernardino</td>\n",
       "      <td>91281</td>\n",
       "      <td>36940.1</td>\n",
       "      <td>October 21 2003</td>\n",
       "      <td>November 25 2003</td>\n",
       "      <td>975 structures destroyed</td>\n",
       "    </tr>\n",
       "    <tr>\n",
       "      <td>82</td>\n",
       "      <td>Simi</td>\n",
       "      <td>Ventura</td>\n",
       "      <td>108204</td>\n",
       "      <td>43788.6</td>\n",
       "      <td>October 25 2003</td>\n",
       "      <td>November 5 2003</td>\n",
       "      <td>315 structures destroyed</td>\n",
       "    </tr>\n",
       "    <tr>\n",
       "      <td>83</td>\n",
       "      <td>Topanga</td>\n",
       "      <td>Los Angeles</td>\n",
       "      <td>24175</td>\n",
       "      <td>9783.3</td>\n",
       "      <td>September 28 2005</td>\n",
       "      <td>October 6 2005</td>\n",
       "      <td></td>\n",
       "    </tr>\n",
       "    <tr>\n",
       "      <td>84</td>\n",
       "      <td>Esperanza</td>\n",
       "      <td>Riverside</td>\n",
       "      <td>41173</td>\n",
       "      <td>16662.1</td>\n",
       "      <td>October 26 2006</td>\n",
       "      <td>November 1 2006</td>\n",
       "      <td>5 fatalities, 54 structures destroyed</td>\n",
       "    </tr>\n",
       "  </tbody>\n",
       "</table>\n",
       "</div>"
      ],
      "text/plain": [
       "         name          county   acres hectares              start  \\\n",
       "80     Rumsey            Yolo   39138  15838.6    October 10 2004   \n",
       "81        Old  San Bernardino   91281  36940.1    October 21 2003   \n",
       "82       Simi         Ventura  108204  43788.6    October 25 2003   \n",
       "83    Topanga     Los Angeles   24175   9783.3  September 28 2005   \n",
       "84  Esperanza       Riverside   41173  16662.1    October 26 2006   \n",
       "\n",
       "           contained                                  notes  \n",
       "80   October 16 2004                 5 structures destroyed  \n",
       "81  November 25 2003               975 structures destroyed  \n",
       "82   November 5 2003               315 structures destroyed  \n",
       "83    October 6 2005                                         \n",
       "84   November 1 2006  5 fatalities, 54 structures destroyed  "
      ]
     },
     "execution_count": 20,
     "metadata": {},
     "output_type": "execute_result"
    }
   ],
   "source": [
    "notable_fires.head()"
   ]
  },
  {
   "cell_type": "code",
   "execution_count": 17,
   "metadata": {},
   "outputs": [],
   "source": [
    "notable_fires.to_csv('../data/notable_fires_data.csv',index=False)"
   ]
  },
  {
   "cell_type": "markdown",
   "metadata": {},
   "source": [
    "### SUMMARY"
   ]
  },
  {
   "cell_type": "markdown",
   "metadata": {},
   "source": [
    "- This notebook scrapes notable California fire information from a wikipedia page. The columns include the name of the fire, county, acres, hectares, start, contained, and any notes relative to the fire."
   ]
  }
 ],
 "metadata": {
  "kernelspec": {
   "display_name": "Python 3",
   "language": "python",
   "name": "python3"
  },
  "language_info": {
   "codemirror_mode": {
    "name": "ipython",
    "version": 3
   },
   "file_extension": ".py",
   "mimetype": "text/x-python",
   "name": "python",
   "nbconvert_exporter": "python",
   "pygments_lexer": "ipython3",
   "version": "3.6.8"
  },
  "toc": {
   "base_numbering": 1,
   "nav_menu": {},
   "number_sections": false,
   "sideBar": true,
   "skip_h1_title": false,
   "title_cell": "Table of Contents",
   "title_sidebar": "Contents",
   "toc_cell": false,
   "toc_position": {},
   "toc_section_display": true,
   "toc_window_display": true
  }
 },
 "nbformat": 4,
 "nbformat_minor": 2
}
