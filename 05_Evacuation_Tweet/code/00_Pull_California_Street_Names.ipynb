{
 "cells": [
  {
   "cell_type": "markdown",
   "metadata": {},
   "source": [
    "# Pull California Street Names\n",
    "This notebook uses BeautifulSoup to scrape street names from [Geographic.org](https://geographic.org/streetview/usa/ca/). This data could be used for training a spaCy NLP function, but we did not get to it during our process."
   ]
  },
  {
   "cell_type": "code",
   "execution_count": 72,
   "metadata": {},
   "outputs": [],
   "source": [
    "from bs4 import BeautifulSoup\n",
    "import requests\n",
    "import pandas as pd\n",
    "import time"
   ]
  },
  {
   "cell_type": "code",
   "execution_count": 78,
   "metadata": {},
   "outputs": [],
   "source": [
    "url = 'https://geographic.org/streetview/usa/ca/'\n",
    "tag = 'index2.html'"
   ]
  },
  {
   "cell_type": "code",
   "execution_count": 79,
   "metadata": {},
   "outputs": [],
   "source": [
    "res = requests.get(url + tag)"
   ]
  },
  {
   "cell_type": "code",
   "execution_count": null,
   "metadata": {},
   "outputs": [],
   "source": [
    "soup = BeautifulSoup(res.content)"
   ]
  },
  {
   "cell_type": "markdown",
   "metadata": {},
   "source": [
    "## Webscrape\n",
    "Loop through each county and city to scrape the county, city, street name and zip code for each street."
   ]
  },
  {
   "cell_type": "code",
   "execution_count": 122,
   "metadata": {},
   "outputs": [
    {
     "name": "stdout",
     "output_type": "stream",
     "text": [
      "[                                                          ] Placer 0.0\n",
      "[#                                                         ] Plumas 0.017241379310344827\n",
      "[##                                                        ] Riverside 0.034482758620689655\n",
      "[###                                                       ] Sacramento 0.05172413793103448\n",
      "[####                                                      ] San Benito 0.06896551724137931\n",
      "[#####                                                     ] San Bernardino 0.08620689655172414\n",
      "[######                                                    ] San Diego 0.10344827586206896\n",
      "[#######                                                   ] San Francisco 0.1206896551724138\n",
      "[########                                                  ] San Joaquin 0.13793103448275862\n",
      "[#########                                                 ] San Luis Obispo 0.15517241379310345\n",
      "[##########                                                ] San Mateo 0.1724137931034483\n",
      "[###########                                               ] Santa Barbara 0.1896551724137931\n",
      "[############                                              ] Santa Clara 0.20689655172413793\n",
      "[#############                                             ] Santa Cruz 0.22413793103448276\n",
      "[##############                                            ] Shasta 0.2413793103448276\n",
      "[###############                                           ] Sierra 0.25862068965517243\n",
      "[################                                          ] Siskiyou 0.27586206896551724\n",
      "[#################                                         ] Solano 0.29310344827586204\n",
      "[##################                                        ] Sonoma 0.3103448275862069\n",
      "[###################                                       ] Stanislaus 0.3275862068965517\n",
      "[####################                                      ] Sutter 0.3448275862068966\n",
      "[#####################                                     ] Tehama 0.3620689655172414\n",
      "[######################                                    ] Trinity 0.3793103448275862\n",
      "[#######################                                   ] Tulare 0.39655172413793105\n",
      "[########################                                  ] Tuolumne 0.41379310344827586\n",
      "[#########################                                 ] Ventura 0.43103448275862066\n",
      "[##########################                                ] Yolo 0.4482758620689655\n",
      "[###########################                               ] Yuba 0.46551724137931033\n",
      "1669.4125049114227\n"
     ]
    },
    {
     "data": {
      "text/html": [
       "<div>\n",
       "<style scoped>\n",
       "    .dataframe tbody tr th:only-of-type {\n",
       "        vertical-align: middle;\n",
       "    }\n",
       "\n",
       "    .dataframe tbody tr th {\n",
       "        vertical-align: top;\n",
       "    }\n",
       "\n",
       "    .dataframe thead th {\n",
       "        text-align: right;\n",
       "    }\n",
       "</style>\n",
       "<table border=\"1\" class=\"dataframe\">\n",
       "  <thead>\n",
       "    <tr style=\"text-align: right;\">\n",
       "      <th></th>\n",
       "      <th>county</th>\n",
       "      <th>city</th>\n",
       "      <th>street</th>\n",
       "      <th>zip_code</th>\n",
       "    </tr>\n",
       "  </thead>\n",
       "  <tbody>\n",
       "    <tr>\n",
       "      <td>0</td>\n",
       "      <td>Alameda</td>\n",
       "      <td>Alameda</td>\n",
       "      <td>1st Street</td>\n",
       "      <td>94501</td>\n",
       "    </tr>\n",
       "    <tr>\n",
       "      <td>1</td>\n",
       "      <td>Alameda</td>\n",
       "      <td>Alameda</td>\n",
       "      <td>2nd Street</td>\n",
       "      <td>94501</td>\n",
       "    </tr>\n",
       "    <tr>\n",
       "      <td>2</td>\n",
       "      <td>Alameda</td>\n",
       "      <td>Alameda</td>\n",
       "      <td>3rd Street</td>\n",
       "      <td>94501</td>\n",
       "    </tr>\n",
       "    <tr>\n",
       "      <td>3</td>\n",
       "      <td>Alameda</td>\n",
       "      <td>Alameda</td>\n",
       "      <td>4th Street</td>\n",
       "      <td>94501</td>\n",
       "    </tr>\n",
       "    <tr>\n",
       "      <td>4</td>\n",
       "      <td>Alameda</td>\n",
       "      <td>Alameda</td>\n",
       "      <td>5th Street</td>\n",
       "      <td>94501</td>\n",
       "    </tr>\n",
       "    <tr>\n",
       "      <td>...</td>\n",
       "      <td>...</td>\n",
       "      <td>...</td>\n",
       "      <td>...</td>\n",
       "      <td>...</td>\n",
       "    </tr>\n",
       "    <tr>\n",
       "      <td>268855</td>\n",
       "      <td>Yuba</td>\n",
       "      <td>Wheatland</td>\n",
       "      <td>Wheatland Road</td>\n",
       "      <td>95692</td>\n",
       "    </tr>\n",
       "    <tr>\n",
       "      <td>268856</td>\n",
       "      <td>Yuba</td>\n",
       "      <td>Wheatland</td>\n",
       "      <td>Wichita Way</td>\n",
       "      <td>95692</td>\n",
       "    </tr>\n",
       "    <tr>\n",
       "      <td>268857</td>\n",
       "      <td>Yuba</td>\n",
       "      <td>Wheatland</td>\n",
       "      <td>Wintun Way</td>\n",
       "      <td>95692</td>\n",
       "    </tr>\n",
       "    <tr>\n",
       "      <td>268858</td>\n",
       "      <td>Yuba</td>\n",
       "      <td>Wheatland</td>\n",
       "      <td>Witchita Way</td>\n",
       "      <td>95692</td>\n",
       "    </tr>\n",
       "    <tr>\n",
       "      <td>268859</td>\n",
       "      <td>Yuba</td>\n",
       "      <td>Wheatland</td>\n",
       "      <td>Wolf</td>\n",
       "      <td>95692</td>\n",
       "    </tr>\n",
       "  </tbody>\n",
       "</table>\n",
       "<p>268860 rows × 4 columns</p>\n",
       "</div>"
      ],
      "text/plain": [
       "         county       city          street zip_code\n",
       "0       Alameda    Alameda      1st Street    94501\n",
       "1       Alameda    Alameda      2nd Street    94501\n",
       "2       Alameda    Alameda      3rd Street    94501\n",
       "3       Alameda    Alameda      4th Street    94501\n",
       "4       Alameda    Alameda      5th Street    94501\n",
       "...         ...        ...             ...      ...\n",
       "268855     Yuba  Wheatland  Wheatland Road    95692\n",
       "268856     Yuba  Wheatland     Wichita Way    95692\n",
       "268857     Yuba  Wheatland      Wintun Way    95692\n",
       "268858     Yuba  Wheatland    Witchita Way    95692\n",
       "268859     Yuba  Wheatland            Wolf    95692\n",
       "\n",
       "[268860 rows x 4 columns]"
      ]
     },
     "execution_count": 122,
     "metadata": {},
     "output_type": "execute_result"
    }
   ],
   "source": [
    "t_0 = time.time()\n",
    "\n",
    "counties_ul = soup.find('ul')\n",
    "counties = counties_ul.find_all('li')\n",
    "\n",
    "for i, county in enumerate(counties[30:]):\n",
    "    county_anchor = county.find('a')\n",
    "    county_tag = county_anchor.attrs['alt'].lower().replace(' ','_')\n",
    "    county_name = county_anchor.text\n",
    "    county_url = url + county_tag + '/index.html'\n",
    "    county_res = requests.get(county_url)\n",
    "    time.sleep(2)\n",
    "    county_soup = BeautifulSoup(county_res.content)\n",
    "    cities = county_soup.find('ul')\n",
    "    for city in cities.find_all('li'):\n",
    "        city_anchor = city.find('a')\n",
    "        city_tag = city_anchor.attrs['href']\n",
    "        city_name = city_anchor.attrs['alt']\n",
    "        city_url = county_url.replace('index',city_name.lower())\n",
    "        city_res = requests.get(city_url)\n",
    "        time.sleep(2)\n",
    "        city_soup = BeautifulSoup(city_res.content)\n",
    "        streets = city_soup.find('ul')\n",
    "        for street in streets.find_all('li'):\n",
    "            road = {}\n",
    "            road['county'] = county_name\n",
    "            road['city'] = city_name\n",
    "            road['street'] = street.find('a').attrs['alt']\n",
    "            road['zip_code'] = street.text[-5:]\n",
    "            roads.append(road)\n",
    "    print(f\"[{'#' * i}{' ' * (len(counties) - i)}] {county_name} {i/len(counties)}\")\n",
    "print(time.time() - t_0)\n",
    "pd.DataFrame(roads)"
   ]
  },
  {
   "cell_type": "code",
   "execution_count": 125,
   "metadata": {},
   "outputs": [],
   "source": [
    "pd.DataFrame(roads).to_csv('../data/california_street_names.csv', index=False)"
   ]
  },
  {
   "cell_type": "markdown",
   "metadata": {},
   "source": [
    "# Summary\n",
    "We scrapped all 268,000 California street names from [Geographic.org](https://geographic.org/streetview/usa/ca/)."
   ]
  },
  {
   "cell_type": "code",
   "execution_count": null,
   "metadata": {},
   "outputs": [],
   "source": []
  }
 ],
 "metadata": {
  "kernelspec": {
   "display_name": "Python 3",
   "language": "python",
   "name": "python3"
  },
  "language_info": {
   "codemirror_mode": {
    "name": "ipython",
    "version": 3
   },
   "file_extension": ".py",
   "mimetype": "text/x-python",
   "name": "python",
   "nbconvert_exporter": "python",
   "pygments_lexer": "ipython3",
   "version": "3.7.1"
  },
  "toc": {
   "base_numbering": 1,
   "nav_menu": {},
   "number_sections": false,
   "sideBar": true,
   "skip_h1_title": false,
   "title_cell": "Table of Contents",
   "title_sidebar": "Contents",
   "toc_cell": false,
   "toc_position": {},
   "toc_section_display": true,
   "toc_window_display": false
  }
 },
 "nbformat": 4,
 "nbformat_minor": 2
}
